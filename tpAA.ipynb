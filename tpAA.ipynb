{
 "cells": [
  {
   "cell_type": "code",
   "execution_count": 7,
   "id": "63b08288-48db-46bd-a93d-1ef87ba86e16",
   "metadata": {},
   "outputs": [],
   "source": [
    "import pandas as pd\n",
    "\n",
    "df = pd.read_csv('./data/cabaventa.csv')\n",
    "df = df[[x for x in df.columns if \"Unnamed\" not in x]] #saco una columnas que están mal. "
   ]
  },
  {
   "cell_type": "markdown",
   "id": "ba61953b-b706-44a8-8c84-9574ffe009e9",
   "metadata": {},
   "source": [
    "1) Son todas operaciones de venta (columna sin sentido)"
   ]
  },
  {
   "cell_type": "code",
   "execution_count": 4,
   "id": "a603d634-b3d4-4469-ba91-0a572579db6b",
   "metadata": {},
   "outputs": [
    {
     "data": {
      "text/plain": [
       "Venta    183810\n",
       "Name: operation_type, dtype: int64"
      ]
     },
     "execution_count": 4,
     "metadata": {},
     "output_type": "execute_result"
    }
   ],
   "source": [
    "df.operation_type.value_counts()"
   ]
  },
  {
   "cell_type": "markdown",
   "id": "49f0e9fa-6005-4d32-84f9-82bfb25bac45",
   "metadata": {},
   "source": [
    "2) Las columnas **l1** y **l2** no tiene sentido mantenerlas"
   ]
  },
  {
   "cell_type": "code",
   "execution_count": 4,
   "id": "081fe268-17df-44fe-8b57-88f3e361ed8b",
   "metadata": {},
   "outputs": [
    {
     "name": "stdout",
     "output_type": "stream",
     "text": [
      "Países incluidos en la muestra: \n",
      " Argentina    183810\n",
      "Name: l1, dtype: int64\n",
      "\n",
      "Distritos incluidos en la muestra: \n",
      " Capital Federal    183810\n",
      "Name: l2, dtype: int64\n"
     ]
    }
   ],
   "source": [
    "print(\"Países incluidos en la muestra: \\n\", df.l1.value_counts())\n",
    "print()\n",
    "print(\"Distritos incluidos en la muestra: \\n\", df.l2.value_counts())"
   ]
  },
  {
   "cell_type": "markdown",
   "id": "753553d6-a791-472b-b781-0156f70d46b1",
   "metadata": {},
   "source": [
    "3) Hay que pasar todo a dólares usando tipo de cambio de la fecha. "
   ]
  },
  {
   "cell_type": "code",
   "execution_count": 5,
   "id": "fc09e0d5-e95c-481b-b974-ea5bd00fab15",
   "metadata": {},
   "outputs": [
    {
     "data": {
      "text/plain": [
       "USD    179806\n",
       "ARS       330\n",
       "Name: currency, dtype: int64"
      ]
     },
     "execution_count": 5,
     "metadata": {},
     "output_type": "execute_result"
    }
   ],
   "source": [
    "df.currency.value_counts()"
   ]
  },
  {
   "cell_type": "markdown",
   "id": "2c29316f-a2d2-4b8c-b91f-90f5967fb3cd",
   "metadata": {},
   "source": [
    "4. La columna price_period tampoco tiene sentido???? (verrrrrr tema nulos)"
   ]
  },
  {
   "cell_type": "code",
   "execution_count": 9,
   "id": "7007e40b-c848-4132-8cd8-ee8bae239f03",
   "metadata": {},
   "outputs": [
    {
     "data": {
      "text/plain": [
       "Mensual    88720\n",
       "Name: price_period, dtype: int64"
      ]
     },
     "execution_count": 9,
     "metadata": {},
     "output_type": "execute_result"
    }
   ],
   "source": [
    "df.price_period.value_counts()"
   ]
  },
  {
   "cell_type": "markdown",
   "id": "94aa7a1e-e9b3-4828-a979-6ba164dbca55",
   "metadata": {},
   "source": [
    "5. La columna ad_type tampoco tiene sentido"
   ]
  },
  {
   "cell_type": "code",
   "execution_count": 11,
   "id": "c6389375-3c30-44e9-980a-838bd34d79a9",
   "metadata": {},
   "outputs": [
    {
     "data": {
      "text/plain": [
       "Propiedad    183810\n",
       "Name: ad_type, dtype: int64"
      ]
     },
     "execution_count": 11,
     "metadata": {},
     "output_type": "execute_result"
    }
   ],
   "source": [
    "df.ad_type.value_counts()"
   ]
  },
  {
   "cell_type": "markdown",
   "id": "ae65676f-42a5-400e-bb40-60f40baa18e7",
   "metadata": {},
   "source": [
    "6. La columna operation_type tampoco"
   ]
  },
  {
   "cell_type": "code",
   "execution_count": 13,
   "id": "8db68eb2-79d9-4140-a645-bc584c753772",
   "metadata": {},
   "outputs": [
    {
     "data": {
      "text/plain": [
       "Venta    183810\n",
       "Name: operation_type, dtype: int64"
      ]
     },
     "execution_count": 13,
     "metadata": {},
     "output_type": "execute_result"
    }
   ],
   "source": [
    "df.operation_type.value_counts()"
   ]
  },
  {
   "cell_type": "markdown",
   "id": "58de1f3d-29e3-497e-a0fc-937edb9c63e1",
   "metadata": {},
   "source": [
    "7. Ver qué hacer con los casos cuyo valor en property_type == \"Casa de campo\"\n",
    "\n",
    "Hay casos de viviendas que aparecen en capital pero corresponden a publicaciones fake o casos en los que es incorrecto el valor que tiene y hay que re-imputarlo. "
   ]
  },
  {
   "cell_type": "code",
   "execution_count": 21,
   "id": "aaf42db8-996c-4d24-b543-347d4651c8d6",
   "metadata": {},
   "outputs": [
    {
     "name": "stdout",
     "output_type": "stream",
     "text": [
      "Venta de Quinta 2 DORMITORIOS, baño, living, cocina comedor, parrilla, sobre lote de 10 mts de frente por 35 mts de fondo, a una cuadra laguna en Barrio Parque Chascomús. \n",
      "\n",
      " XINTEL(STA-STA-84) \n",
      " *************************\n",
      "Corredor Responsable: Luis Varela - CSI 5527 / CUCICBA 3872Contacto: Eduardo Wain - MLS ID # 361135-194En el corazón de Floresta a pasos de múltiples líneas de colectivos  y de la estación Floresta del Tren Sarmiento, nos encontramos con este confortable y luminoso departamento de 3 ambientes con balcón francés y lavadero independiente. En excelente estado de conservación y ubicado en el quinto piso, posee un Living comedor, cuenta con dos dormitorios con muy buena luz y placards. cocina con muebles alto y bajo mesada y lavadero independiente. Baño completo. Pisos en excelentes condiciones.Expensas Enero 2021$ 5.000.-Colectivos: 1, 2, 5, 8, 25, 36, 49, 55, 63, 85, 86, 88, 92, 96, 99, 104, 113, 114, 136, 163, 172Trenes:Floresta (SARMIENTO)Las medidas son estimativas, las reales saldrán de la escritura traslativa de dominio.\"En cumplimiento de la Ley 2340 CUCICBA, Ley 10.973 de la Prov. Bs.As., Ley Nacional 25.028, Ley 22.802 de Lealtad Comercial, Ley 24.240 de Defensa al Consumidor, las normas del Código Civil y Comercial de la Nación y Constitucionales, los agentes NO ejercen el corretaje inmobiliario. Todas las operaciones inmobiliarias son objeto de intermediación y conclusión por parte de los martilleros y corredores colegiados, cuyos datos se exhiben debajo del nombre de la inmobiliaria.\" Corredor matriculado LUIS MARÍA VARELA  CUCICBA 3872 / CSI 5527. \\n\\n Comprá la casa que querés! No la que podés. Accedé a un préstamo por hasta el 30% del valor de esta propiedad. Simulá tu cuota en Lendar  \n",
      " *************************\n",
      "Corredor Responsable: Juan Francisco Carattino - CPI 5457Contacto: Agustina Scalese - MLS ID # 421331022-121Todas las propiedades que figuran en mi perfil se encuentran a cargo del profesional matriculado de la oficina, la intermediación y la conclusión de las operaciones serán llevadas exclusivamente por él.Martillero: Miriam Corrado CMCPDJQ 1042CASA QUINTA | LA REJA , MORENO | 467mts2? 167mts2 Cubiertos .? Excelente Ubicación.? Sobre calle Bustamante, rápida salida Ruta 7? A 100 mtrs de parada de Colectivos?2 dormitorios?Pileta?Jardin?Cochera para 3 autosSe escuchan ofertas!#quinta #venta #lareja #puertomadero #remaxpuerto #MUDATEALAVIDAQUEQUERESLa descripción del inmueble, expensas, impuestos, servicios y medidas han sido proporcionados por el propietario. Pueden no ajustarse a sus características y medidas reales y/o actuales. Los datos brindados pueden no estar actualizados a la hora de la visualización del aviso. Pueden existir inexactitudes, producto del paso del tiempo. Previo a la realización de cualquier operación, el interesado deberá verificar la veracidad de la información, requiriendo las copias necesarias de la documentación. \\n\\n Comprá la casa que querés! No la que podés. Accedé a un préstamo por hasta el 30% del valor de esta propiedad. Simulá tu cuota en Lendar  \n",
      " *************************\n",
      "Corredor Responsable: Viviana Uzcudun - CSI 5858Contacto: Ana Otero - MLS ID # 420591063-78CASAQUINTA CON PILETA Y PARQUE ,  UNICA EN SU ESTILO<br><br>EXCELENTE PROPIEDAD DE 5600 M2, APROXIMADAMENTE 480 M2 CUBIERTOS ENTRE AREAS CUBIERTAS Y SEMICUBIERTAS.<br><br>MARAVILLOSO PARQUE CON AÑOSA VEGETACION, VARIEDAD DE FRUTALES, DIVERSIDAD EN SU ARBOLEDA DE PALMERAS, PINOS,ROBLES, JAZMINES Y OTRAS ESPECIES. RIEGO POR ASPERSION<br><br>CASA PRINCIPAL: CUENTA CON UNA HERMOSA GALERÌA , UN AMPLIO LIVING COMEDOR CON HOGAR A LEÑA, TECHOS ALTOS Y AMPLIOS VENTANALES CON VISTA AL PARQUE, 1 BAÑO COMPLETO, COCINA CON MESADAS DE MARMOL, Y SOTANO QUE SE UTILIZA COMO DEPÒSITO, PASILLO DISTRIBUIDOR Y 2 COMODOS DORMITORIOS CON PLACARES Y PRECIOSAS VISTAS AL PARQUE .<br><br>AMPLIO QUINCHO CONSTRUIDO CON LADRILLOS A LA VISTA, TECHO DE TEJAS Y VENTANALES AL JARDIN, GRAN PARRILLA Y BACHA DE LAVADO.<br><br>VESTUARIOS: 2  DUCHAS Y 1 BAÑO DETRAS DEL QUINCHO CERCANO A LA PILETA.<br><br>COCHERA CUBIERTA: CAPACIDAD PARA 3 AUTOS MEDIANOS <br><br>CASA DE CASEROS: COCINA COMEDOR 1 BAÑO 1 DORMITORIO Y 1 LIVING<br><br>CUENTA ADEMAS CON CORRIENTE TRIFASICA, PARA ABASTECER EL ALUMBRADO DE PARQUE , LA CASA PRINCIPAL Y LA DE HUESPEDES,GARAGE Y PILETA<br><br>PILETA DE NATACION: DE 14X7 MTS CON UNA PROFUNDIDAD DE 1 METRO A 2.80 MTS CON EQUIPO DE BOMBA Y FILTRO. <br><br>CAMINO DE LAJAS A SU ALREDEDOR CONFORMANDO EL SOLARIUM RODEADO DE PALMERAS Y UNA VISTA INCREIBLE AL PARQUE<br><br>SALA DE MAQUINAS: DONDE FUNCIONA TABLERO GENERAL DE ELECTRICIDAD Y LA BOMBA DE AGUA<br><br>SERVICIOS: AGUA CORRIENTE , GAS NATURAL , CLOACAS<br><br>VIVIR EN ESTE LUGAR ES COMO ESTAR UN RATO EN EL PARAISO. <br><br>EXCELENTE UBICACION EN LA ZONA MAS SEGURA DE GRAL RODRIGUEZ. A POCO DEL CENTRO COMERCIAL, DE LA ESTACION DEL FFCC , CON FACIL ACCESO A ACCESO OESTE Y CONEXION HACIA ZONA NORTE Y ZONA SUR . A MENOS DE 1 HORA DE CAPITAL FEDERAL.<br><br>NO DUDES EN PEDIR TU RECORRIDO VIRTUAL Y UNA ENTREVISTA PROGRAMADA PARA VISITARLA. <br><br>MUDATE A LA VIDA QUE QUERES, MUDATE CON NOSOTROS<br>Si estàs necesitando algo màs para llegar a la casa de tus sueños los clientes ReMax pueden acceder a un prèstamo  Lendar de hasta el 30% del valor de tu propiedad. Consultà con el simulador accediendo a su pàgina en  <br><br>Consultànos!<br><br>REMAX , MUCHO MAS QUE MUDARTE. \\n\\n Comprá la casa que querés! No la que podés. Accedé a un préstamo por hasta el 30% del valor de esta propiedad. Simulá tu cuota en Lendar  \n",
      " *************************\n",
      "Venta DE PH \"UNA QUINTA EN CAPITAL\" DE  7 AMBIENTES O MAS en Boedo, Capital Federal.\n",
      "Hermoso oasis en medio de Boedo 170 metros cuadrados con césped, parral, higuera, limonero y paltas, espacio para huerta y zona de compost.\n",
      "\n",
      "PH de 7 ambientes repartidos en 2 plantas, ideal proyecto multifamiliar. Son 2 plantas, planta baja 2 habitaciones, living, baño, cocina, hall y quincho, parque.                   Planta alta: 2 habitaciones, living, cocina y baño.\n",
      "\n",
      "Sin Expensas.\n",
      "\n",
      "a tres cuadras de Garay y Boedo.\n",
      "\n",
      "Martillero responsable: Marcelo Pérez, Matricula Nº6644\n",
      "\n",
      "CUCICBA. \n",
      " *************************\n",
      "Corredor Responsable: Daniel Acosta - CUCICBA 2406Contacto: Valeria Cuda - MLS ID # 420151109-69VENTA QUINTA EN EL BARRIO  DE RICARDO ROJAS  LOCALIDAD \"EL TALAR\" PARTIDO DE TIGRE.TERRENO DE 30 METROS DE FRENTE POR 80 METROS DE FONDO, LO QUE HACE UN TOTAL DE  2400 METROS CUADRADOS CON 2 CASAS, UNA DE ELLAS CON 1 DORMITORIO 1 BAÑO  COCINA , LIVING  COMEDOR AMPLIO , GALERIA Y QUINCHO CON  PARILLA Y HORNO DE BARRO.LA OTRA  CASA CUENTA CON 2 DORMITORIOS 1 BAÑO, COCINA Y LINVING COMEDOR. PILETA Y HERMOSO ESPACIO VERDEDANIEL ACOSTA CUCICBA 2406 / CSI 5953\"En cumplimiento de la Ley 2340 CUCICBA, Ley 10.973 de la Prov.Bs.As., Ley Nacional 25.028, Ley 22.802 de Lealtad Comercial, Ley 24.240 de Defensa al Consumidor, las normas del Código Civil y Comercial de la Nación y Constitucionales, los agentes NO ejercen el corretaje inmobiliario. Todas las operaciones inmobiliarias son objeto de intermediacion y conclusión por parte de los martilleros y corredores colegiados, cuyos datos se exhiben debajo del nombre de la inmobiliaria. \\n\\n Comprá la casa que querés! No la que podés. Accedé a un préstamo por hasta el 30% del valor de esta propiedad. Simulá tu cuota en Lendar  \n",
      " *************************\n",
      "Excelente chalet, 5 ambientes, 3 baños, gge, fondo libre .\n",
      "\n",
      "FEDELE INMOBILIARIA DESDE 1946\n",
      "\n",
      "4686-2800 AV JUAN BAUTISTA ALBERDI 7215\n",
      "\n",
      " XINTEL(FDE-FDE-240) \n",
      " *************************\n",
      "Corredor Responsable: Daniel Aibe - CMCPD 1155Contacto: Jorge Muñiz - MLS ID # 420351024-294MARTILLERO:<br>Daniel Aibé CMCPD 1155<br><br><br><br>Excelente fracción. El Sauquito, 47 Ha, uso de suelo agropecuario, actualmente siembra con renta en una superficie de 37 ha aproximadamente. Tanque australiano y molino. Entre sus arboles esta emplazada la vivienda principal, separado de la misma un departamento para el casero, un gran deposito para guardar maquinas de corte y herramientas y una caballeriza para tres equinos. La construcción es de buena calidad y esta lista para realizar las terminaciones y decoraciones a gusto del comprador.<br>Ubicado en General Madariaga. sobre camino a la Laguna Salada Grande a 5.8 km de la ruta 74<br>.<br>NOMENCLATURA CATASTRAL:<br>Circunscripción IV<br>Parcela 202 A<br>Partida inmobiliaria: 39-10275-5<br>Matricula 23.409<br>Posee alambrado completo, molino de viento con tanque australiano. Casco estilo campo revestido en su exterior con piedra. 2 habitaciones y un baño. Casa de casero, un dormitorio, baño, comedor. Tres caballerizas y un deposito.<br><br>General Madariaga está ubicado al sudeste de la provincia de Buenos Aires, pegado a Pinamar, muy cerca de Villa Gesell y La Costa y a solo 3 horas de la Capital Federal. Es conocido por ser el pago Gaucho por excelencia donde se mantienen las tradiciones criollas y la cultura gauchesca se manifiesta en todo tipo de actividades y celebraciones.<br><br>La centenaria ciudad fundada en 1907 tiene una población de 25 mil habitantes y aún mantiene la paz de un pueblo tranquilo y amigable; ofreciendouna interesante propuesta turística basada en su patrimonio cultural ynatural, exhibiendo su arraigada tradición y el espíritu hospitalario de su gente.<br><br>Madariaga invita a deleitarse con la simplicidad de un pago gaucho, donde la cultura y tradición convocan a descubrirla, la sencillez seduce y la hospitalidad tiende una mano. \n",
      " *************************\n"
     ]
    }
   ],
   "source": [
    "pd.set_option('display.max_colwidth', None)\n",
    "for text in df[df.property_type==\"Casa de campo\"]['description']: \n",
    "    print(text,\"\\n\",\"*\"*25)"
   ]
  },
  {
   "cell_type": "markdown",
   "id": "405ecadb-3238-4245-9a5d-3f05c5335f60",
   "metadata": {},
   "source": [
    "8. Log del Precio\n",
    "\n",
    "Hay que ver los que no tienen precio y los que tienen precios cualca. Pero QUE LINDA que queda la variable cuando le hacés el logaritmo. "
   ]
  },
  {
   "cell_type": "code",
   "execution_count": 51,
   "id": "cbe7f84c-3acb-4a6f-a320-626e68794b2f",
   "metadata": {},
   "outputs": [
    {
     "data": {
      "image/png": "[encoded data removed]",
      "text/plain": [
       "<Figure size 432x288 with 1 Axes>"
      ]
     },
     "metadata": {
      "needs_background": "light"
     },
     "output_type": "display_data"
    }
   ],
   "source": [
    "import matplotlib.pyplot as plt\n",
    "import numpy as np\n",
    "log_price = np.log10(df[df.price>10]['price']) \n",
    "plt.hist(log_price, bins=20)\n",
    "plt.title(\"Log price\")\n",
    "plt.show()"
   ]
  },
  {
   "cell_type": "markdown",
   "id": "d533f9c8-7238-4be3-bed5-6728907f536b",
   "metadata": {},
   "source": [
    "9. Quizás title y description se pueden usar para completar los nulos de rooms, bedrooms, bathrooms, etc. "
   ]
  },
  {
   "cell_type": "code",
   "execution_count": 52,
   "id": "6704fce0-0bae-4d3e-a9bd-7f503376b181",
   "metadata": {},
   "outputs": [
    {
     "data": {
      "text/plain": [
       "0                                                               Exclente lote !! \n",
       "1         Excelente cochera fija y cubierta en edificio de cocheras !! impecable \n",
       "2                                           Oficina comercial · 265m² · 2 Cochera\n",
       "3                                   Importante Oficina en Micro centro de 150 m2.\n",
       "4                                                           Oficina - San Nicolas\n",
       "                                           ...                                   \n",
       "183805                         PH 6 Ambientes c/cochera y terraza en Monte Castro\n",
       "183806                  Casa impecable en venta en la mejor zona de  - Belgrano R\n",
       "183807                         Impactante vista a los parques. 420 m2 con cochera\n",
       "183808                                                    Departamento - Belgrano\n",
       "183809      Edificio Comercial  en excelente zona de Palermo - 615 Metros Totales\n",
       "Name: title, Length: 183810, dtype: object"
      ]
     },
     "execution_count": 52,
     "metadata": {},
     "output_type": "execute_result"
    }
   ],
   "source": [
    "df.title"
   ]
  },
  {
   "cell_type": "code",
   "execution_count": 53,
   "id": "12673f25-ac48-4ee6-891c-23293aa4692a",
   "metadata": {},
   "outputs": [
    {
     "data": {
      "text/plain": [
       "0                                                                                                                                                                                                                                                                                                                                                                                                                                                                                                                                                                                                                                                                                                                                                                                                                                                                                                                                                                                                                                                                                                                                                                                                                                                                                                                                                                                                                                                                                                                                                                                                                                                                                                                                                                                                                                                                                                                                                                                                                                                                                                                                                                                                                                                                                                                                                          Lote 365 mts 8,90 x 43 mts C3 II.. FOT 3.6 PARA CONSTRUIR 1400M2. \\n<br>DUEñO TOMA METROS CONSTRUIDOS. \n",
       "1                                                                                                                                                                                                                                                                                                                                                                                                                                                                                                                                                                                                                                                                                                                                                                                                                                                                                                                                                                                                                                                                                                                                                                                                                                                                                                                                                                                                                                                                                                                                                                                                                                                                                                                                                                                                                                                                                                                                                                                                                                                                                                                                                                                                                                                                                                                                                                     Muy buena cochera, en el 4to piso en excelente edificio de cocheras !!! impecablee!!! \\n<br>\n",
       "2                                                                                                                                                                                                                                                                                                                                                                                                                                                                                                                                                                                                                                                                                                                                                                                                                                                                                                                                                                                                                                                                                                                                                                                                                                                                                                                                                                                                                                                                                                                                                                                                                                                                                                                                                                                                                                                                                                                                                                                                                                                                                                                    Gran Oportunidad! Unica piso de oficinas de 265mts propios con dos cocheras cubiertas. 8 ambientes, mas recepcion , balcon perimetral, luminosidad excelente, vestuario con baños, baño para discapacitado, 2 toilettes.  Excelente zona frente al Hospital de Clinicas. Vista panoramica, apto profesional para cualquier rubro. Piso alto. \n",
       "3                                                                                                                                                                                                                                                                                                                                                                                                                                                                                                                                                                                                                                                                                                                                                                                                                                                                                                                                                                                                                                                                                                                                                                                                                                                                                                                                                                                                                     Importante  Oficina de de 150 m2 con palier privado (una oficina por piso). En Excelente Estado .-<br><br>Consta de una recepción de 4.55 x 3.80, oficina principal privada con puerta corredizas y sala de reunión de 7 x 6,  mas  Oficina de 4.50 x  3 y un área de trabajo amplia.- Todos los espacios  poseen luz y ventilación natural.  Cuenta con  Oficcie  y Baño.- Ingreso a la oficina de Doble entrada, principal y secundaria. En el palier de servicio se encuentran dos baños amplios adicionales de uso  exclusivo.<br><br>Edificio de notable entrada. Dos asesores. <br><br>Excelente Ubicación Todas las Líneas de Subtes AV. DE MAYO (Línea C), BELGRANO (Línea E), CATEDRAL (Línea D), DIAGONAL NORTE (Línea C), LIMA (Línea A), MORENO (Línea C), PERU (Línea A), PIEDRAS (Línea A). Líneas de Colectivo.-<br><br><br>Oficina virtual. Atendemos y coordinamos visitas al 1154290502/04 <br> / <br><br><br>Para más información, comuníquese al 011  de lunes a viernes de 10 a 19 hs.\\n<br>\\n<br>BRUNI PROPIEDADES SRL\n",
       "4                                                                                                                                                                                                                                                                                                                                                                                                                                                                                                                                                                                                                                                                                                                                                                                                                                   VENTA DE OFICINA A METROS DEL PALACIO DE TRIBUNALES<br><br>LA PROPIEDAD<br><br>Cómoda oficina ubicada en primer piso en excelente estado con baño privado.<br>Ubicada en edificio de oficinas a metros del Palacio de Tribunales y de la Av. Corrientes. Con fácil acceso a Estación de Subtes de líneas B y D. A escasos metros del Obelisco.<br><br>ORIENTACION<br><br>Frente al Este<br><br>UBICACION<br><br>Talcahuano 3161 entre Av. Corrientes y calle Lavalle, CABA.<br><br><br>© 2020 Coldwell Banker. Todos los derechos reservados. Coldwell Banker y los logotipos de Coldwell Banker son marcas de servicio de propiedad de Coldwell Banker Real Estate LLC. El sistema Coldwell Banker® está compuesto por oficinas propias de propiedad de una subsidiaria de Realogy Brokerage Group LLC y por oficinas adheridas al Sistema Coldwell Banker que son de propiedad y operación independientes.IVÁN KAHANOFF, C.U.C.I.C.B.A. número 7538, Tomo 1, Folio 281, C.S.I. número 6644, Tomo 10, Folio 87, C.U.I.T. 20322678518, Manuel Obarrio 2986 1er Piso Barrio Parque CABA<br><br>Nota: La información gráfica y escrita contenida en el presente aviso es meramente a titulo estimativo y no forma parte de ningún tipo de documentación contractual. Las medidas y superficies definitivas surgirán del título de propiedad del inmueble referido. Asimismo los importes de tasas, servicios y expensas indicados están sujetos a verificación. El valor del inmueble indicado en el presente puede ser modificado sin previo aviso. Operación supeditada a que el propietario cumplimente con la Reg.2371 COTI.\n",
       "                                                                                                                                                                                                                                                                                                                                                                                                                                                                                                                                                                                                                                                                                                                                                                                                                                                                                                                                                                                                                                                                                                                                                                                                                                    ...                                                                                                                                                                                                                                                                                                                                                                                                                                                                                                                                                                                                                                                                                                                                                                                                                                                                                                                                                                                                                                                                                                                                                                                                                           \n",
       "183805                                                                                                                                                                                       Corredor Responsable: Rene Vera - CUCICBA 6778 - CSI 5848Contacto: Federico Segovia - MLS ID # 421341008-25PH de 6 ambientes con cochera en Monte Castro.<br><br>En una ubicacion tranquila, un PH tipo casa que cuenta con solo dos unidades.<br>Cuenta con entrada independiente y cochera cubierta.<br>En Planta baja, como vemos en los planos y el tour virtual se encuentran:<br>- Cochera cubierta<br>- Living comedor<br>- Cocina comedor<br>- Patio techado con escalera que lleva a la segunda planta.<br>- Habitacion principal con placard<br>- Dos habitaciones mas pequeñas.<br>- Baño completo<br>- Toilette<br><br>En la planta alta tenemos :<br>- Sala tipo estar/living ni bien se ingresa a la PA que tiene parrilla y placard empotrado.<br>- Habitacion con baño completo.<br>- Quincho<br>- Terraza propia libre.<br><br>Esta propiedad tenia ingreso por el pasillo comun al patio, pero fue tapada. Puede volver a realizarse un ingreso por el patio, dandonos la posibilidad de cerrar la escalera y en la PA hacer una segunda vivienda mas pequeña.<br><br>Informacion del barrio:<br><br>Monte Castro es uno de los barrios en los que se encuentra dividida la Ciudad Autónoma de Buenos Aires. Está delimitado por las calles Baigorria, Joaquín V. González, Juan Agustín García, Lope de Vega, Av. Álvarez Jonte e Irigoyen. Limita con los barrios de Villa Devoto al norte, Villa del Parque y Villa Santa Rita al este, Floresta, Vélez Sársfield y Villa Luro al sur, y Versalles y Villa Real al oeste.<br><br>En este barrio se extiende por la Avenida Álvarez Jonte el Centro Comercial a Cielo Abierto Monte Castro. <br><br>Cuenta con dos hospitales :<br>Hospital de Rehabilitación Manuel Rocca (Av. Segurola 1949)<br>Hospital General de Agudos Dalmacio Vélez Sarsfield (Calderón de la Barca 1550)<br><br>Transportes Cercanos<br>Colectivos: 53, 85, 106, 109, 114, 124, 135<br><br>Comisaría Comunal: 10<br>Comisaría Vecinal: 10A<br>Distrito Escolar:  Distrito Escolar XVIII<br><br>El presente inmueble es accesible para personas con discapacidades físicas \\n\\n Comprá la casa que querés! No la que podés. Accedé a un préstamo por hasta el 30% del valor de esta propiedad. Simulá tu cuota en Lendar \n",
       "183806                                                                                                                                                                                                                                                                                                                                                                                                                                                                                                                                                                                                                                                                                                                                                                                                                                                                                                                                                                                                                                 Casa en pleno Belgrano R reciclada con excelente gusto y terminaciones<br>Amplio frente de 9.99m con entrada principal y de servicio, cochera cubierta para dos autos amplios con portón eléctrico<br>En el Sub suelo amplia bodega de estilo rustico y cálido, muy bien ambientada, sala de maquinas <br>En plata baja , gran recepción , toilette y escritorio al frente <br>Doble  living uno mas formal y otro mas intimo <br>Comedor principal<br>playroom<br>cocina con comedor diario, <br>toda la planta baja con salida a Jardín con galería , sector parrilla,  pileta climatizada y toilette<br><br>Primer piso, máster suite al frente con amplio vestidor y placares, baño completo y salida a balcón<br>Segundo dormitorio al frente en suite también con salida a balcón<br>Tercer y cuarto dormitorios al contrafrente abierto y luminoso con amplio baño en un sector mas privado<br>dormitorio de huéspedes o escritorio<br>En Segundo piso<br>Lavadero y salida a amplia terraza hoy descubierta con posibilidad de hacer cerramiento , puertas blindadas<br>Grupo electrógeno y sistema de cámaras ,toldos y  persianas  eléctricas<br>Toda la casa es muy luminosa y con espacios muy bien pensados, los materiales de reciclado son excelentes<br><br>Medidas<br>Superficie Cubierta : 421.00 m2<br>Superficie Total: 641.00 m2<br><br>Frente : 10.06<br>Fondo: 35<br>Superficie Terreno : 353,10<br>\n",
       "183807                                                                                                                                                                                                                                                                                                                                                                                                                                                                                                                                                                                                                                                                                                                                                                                                                                                                                                                                                                                                                                                                                                                                                                                                                                                                                                 Piso de 419 m2 en un emblemático edificio modernista del Arq Dubourg. La recepción, las áreas de estar y la master suite se desarrollan sobre la Av. del Libertador, con vistas impactantes a los parques que se aprecian desde los 30 m de frente del área social compuesta por living, comedor y escritorio. Tiene cinco dormitorios, dentro de los cuales se encuentra la suite doble.  Playroom. Dos baños completos adicionales y toilette de recepción. Cocina, comedor y office. En el área de servicio, tiene dos dependencias con dos baños, lavadero y una despensa. Cocina y baños de época en excelente estado. Cochera. Baulera amplia de 16,83 m2.<br><br>- Seguridad 24 hs.<br>- Servicios centrales<br><br><br><br>CODIGO DEL INMUEBLE: IAP3422145<br>--<br>» Contactanos por Whatsapp agregando a tu móvil +5 1001<br>» Continuá tu búsqueda en nuestro sitio web. <br>» Contamos con sucursales en Recoleta, Barrio Norte, Nordelta y Pilar.<br>» Tasamos en 24 hs bajo normas ISO 9001.<br>» Llamanos al  o escribinos a <br>--<br>Jorge Izrastzoff: Mat. CPI 1354<br>Mariano Geminiani: Mat. CSI 6579<br>-- <br>#DondeVivenLasHistorias\n",
       "183808                                                                                                                                                                                                                                                                                                                                                                                                                                                                                                                                                                                                                                                                                                                                                                                                                                                                                                                                                                                                                                                                                                                                                                                                                                                                                                                                                                                                                                                                                                                                                                                                                                                                                                Piso de 285mts, en la mejor zona de Belgrano.<br><br>Consta de 5 dormitorios, de los cuales 3 de ellos son en suite y un baño compartimentado para los 2 dormitorios restantes. Suite principal con vestidor y baño completo con hidromasaje. Amplio living comedor en L con frente a la calle Arribeños.<br>Cocina de gran tamaño con doble circulación, lavadero y dependencia de servicio. Toilette de recepción.<br><br>Piso completo con vista al frente y al contrafrente, totalmente externo y luminoso.<br><br>Pisos de porchelanato, puertas blindadas.<br><br>El edificio cuenta con pileta, quincho, gim, salon de reuniones y seguridad 24 hs.<br><br>Tres cocheras fijas y espaciosas<br><br>EAP3422281<br><br>Ezequiel<br>Grow personal Broker\n",
       "183809    Edificio Comercial CON ENTRADA INDEPENDIENTE Sobre Av Santa Fe en Palermo - Distrito Audiovisual <br>PH 1° piso con entrada independiente EN EXCELENTE UBICACIÓN!!! <br>En el corazón de Palermo, dentro del DISTRITO AUDIOVISUAL  y cerca de todos los medios de Transporte. <br>VARIOS DESTINOS (FUNCIONO COMO EMPRESA DE INFORMATICA Y JARDIN DE INFANTES). <br>El inmueble consta de varias salas, de distintas dimensiones, locales sanitarios para ambos sexos. <br>Las instalaciones eléctricas, de gas y agua fueron renovadas en el 2012 cuenta con Termotanque e Instalación contra incendio.<br><br>¡Es una excelente propiedad - Con enormes oportunidades! <br><br><br>Para mayor información, comunícate con nosotros o dejanos tu teléfono y nos contactaremos a la brevedad. <br><br>AVISO LEGAL: Las medidas, superficies y datos consignados son aproximados, sujetos a verificación por el interesado en adquirir. Los datos exactos constan en los correspondientes documentos legales, los cuales se encuentran disponibles. El precio del Inmueble puede ser modificado sin previo aviso. Fotos de carácter no contractual. Aviso en preparación. <br>En cumplimiento de la leyes provinciales vigentes que regulan el corretaje inmobiliario, Ley Nacional 25.028, Ley 22.802 de Lealtad Comercial, Ley 24.240 de Defensa al Consumidor, las normas del Código Civil y Comercial de la Nación y Constitucionales, los agentes/gestores NO ejercen el corretaje inmobiliario. Todas las operaciones inmobiliarias son objeto de intermediación y conclusión por parte de los martilleros y corredores colegiados, cuyos datos se exhiben debajo del nombre de la inmobiliaria.<br>Venta supeditada al cumplimiento por parte del propietario de los requisitos de la resolución general Nº 2371 de la AFIP (pedido de COTI).<br> “Para los casos de alquiler de vivienda, el monto máximo de comisión que se le puede requerir a los propietarios será el equivalente al cuatro con quince centésimos por ciento (4,15%) del valor total del respectivo contrato. Art. 5°, Ley 5859 (inc.9 del art. 10, Ley 2340). Se encuentra prohibido cobrar a los inquilinos que sean personas físicas comisiones inmobiliarias y gastos de gestoría de informes”. Art. 4°, Ley 5859 ( inc. 8, art.10, Ley 2340). <br>Conforme Ley 2340 subsiguientes y concordantes se hace saber debida inscripción POHULANIK PROPIEDADES -  CUCICBA  7656.\n",
       "Name: description, Length: 183810, dtype: object"
      ]
     },
     "execution_count": 53,
     "metadata": {},
     "output_type": "execute_result"
    }
   ],
   "source": [
    "df.description"
   ]
  },
  {
   "cell_type": "markdown",
   "id": "7ab9e188-ae54-4cbb-811d-7512a75bda4f",
   "metadata": {},
   "source": [
    "**NULOS**"
   ]
  },
  {
   "cell_type": "code",
   "execution_count": 11,
   "id": "19f74508-3847-4e45-82f9-88b19e632732",
   "metadata": {},
   "outputs": [
    {
     "data": {
      "text/plain": [
       "id                   0.000000\n",
       "ad_type              0.000000\n",
       "start_date           0.000000\n",
       "end_date             0.000000\n",
       "created_on           0.000000\n",
       "lat                  6.228170\n",
       "lon                  6.228170\n",
       "l1                   0.000000\n",
       "l2                   0.000000\n",
       "l3                   1.004842\n",
       "l4                  96.048637\n",
       "l5                 100.000000\n",
       "l6                 100.000000\n",
       "rooms               15.303846\n",
       "bedrooms            27.188945\n",
       "bathrooms           13.556390\n",
       "surface_total       33.133127\n",
       "surface_covered     34.017736\n",
       "price                1.845384\n",
       "currency             1.998803\n",
       "price_period        51.732768\n",
       "title                0.000000\n",
       "description          0.000000\n",
       "property_type        0.000000\n",
       "operation_type       0.000000\n",
       "dtype: float64"
      ]
     },
     "execution_count": 11,
     "metadata": {},
     "output_type": "execute_result"
    }
   ],
   "source": [
    "100*df.isna().sum()/len(df)"
   ]
  },
  {
   "cell_type": "markdown",
   "id": "7e93f779-717b-48a1-ae41-3a80709bd816",
   "metadata": {},
   "source": [
    "**BARRIOS**"
   ]
  },
  {
   "cell_type": "code",
   "execution_count": 15,
   "id": "d791d4e1-d603-43c3-8583-1e3b3ec8dceb",
   "metadata": {},
   "outputs": [
    {
     "data": {
      "text/plain": [
       "Palermo                 25169\n",
       "Belgrano                21369\n",
       "Caballito               11090\n",
       "Recoleta                10382\n",
       "Villa Urquiza            8373\n",
       "Almagro                  8272\n",
       "Villa Crespo             8211\n",
       "Barrio Norte             5259\n",
       "Flores                   5199\n",
       "Nuñez                    5153\n",
       "Balvanera                4805\n",
       "Colegiales               3854\n",
       "San Nicolás              3607\n",
       "San Cristobal            3451\n",
       "Villa Devoto             3228\n",
       "Saavedra                 3121\n",
       "Puerto Madero            3075\n",
       "San Telmo                2766\n",
       "Villa del Parque         2702\n",
       "Floresta                 2462\n",
       "Boedo                    2448\n",
       "Monserrat                2378\n",
       "Retiro                   2361\n",
       "Mataderos                2273\n",
       "Barracas                 2254\n",
       "Liniers                  2078\n",
       "Parque Chacabuco         1804\n",
       "Villa Pueyrredón         1700\n",
       "Coghlan                  1681\n",
       "Villa Luro               1677\n",
       "Congreso                 1385\n",
       "Parque Patricios         1311\n",
       "Chacarita                1308\n",
       "Villa Lugano             1235\n",
       "Paternal                 1156\n",
       "Constitución             1117\n",
       "Tribunales               1031\n",
       "Villa Ortuzar            1002\n",
       "Once                     1000\n",
       "Centro / Microcentro      939\n",
       "Villa General Mitre       757\n",
       "Monte Castro              745\n",
       "Boca                      739\n",
       "Villa Santa Rita          687\n",
       "Las Cañitas               640\n",
       "Parque Avellaneda         637\n",
       "Parque Centenario         615\n",
       "Abasto                    578\n",
       "Pompeya                   567\n",
       "Velez Sarsfield           494\n",
       "Versalles                 470\n",
       "Parque Chas               425\n",
       "Agronomía                 373\n",
       "Villa Real                238\n",
       "Villa Soldati             171\n",
       "Catalinas                  96\n",
       "Villa Riachuelo            45\n",
       "Name: l3, dtype: int64"
      ]
     },
     "execution_count": 15,
     "metadata": {},
     "output_type": "execute_result"
    }
   ],
   "source": [
    "df.l3.value_counts() #hay que completar nulos en esta columna. "
   ]
  },
  {
   "cell_type": "code",
   "execution_count": 17,
   "id": "6d28beec-0b63-483d-bde2-3181a811020a",
   "metadata": {},
   "outputs": [
    {
     "data": {
      "text/plain": [
       "USD    179806\n",
       "ARS       330\n",
       "Name: currency, dtype: int64"
      ]
     },
     "execution_count": 17,
     "metadata": {},
     "output_type": "execute_result"
    }
   ],
   "source": [
    "df.currency.value_counts()"
   ]
  },
  {
   "cell_type": "code",
   "execution_count": 19,
   "id": "4f51786c-9350-4689-b946-b62f628e668c",
   "metadata": {},
   "outputs": [
    {
     "data": {
      "text/plain": [
       "Index(['id', 'ad_type', 'start_date', 'end_date', 'created_on', 'lat', 'lon',\n",
       "       'l1', 'l2', 'l3', 'l4', 'l5', 'l6', 'rooms', 'bedrooms', 'bathrooms',\n",
       "       'surface_total', 'surface_covered', 'price', 'currency', 'price_period',\n",
       "       'title', 'description', 'property_type', 'operation_type'],\n",
       "      dtype='object')"
      ]
     },
     "execution_count": 19,
     "metadata": {},
     "output_type": "execute_result"
    }
   ],
   "source": [
    "df.columns"
   ]
  },
  {
   "cell_type": "code",
   "execution_count": 22,
   "id": "b9abf250-1484-4099-93c2-a9a94afc304c",
   "metadata": {},
   "outputs": [
    {
     "data": {
      "text/plain": [
       "0         Lote 365 mts 8,90 x 43 mts C3 II.. FOT 3.6 PAR...\n",
       "1         Muy buena cochera, en el 4to piso en excelente...\n",
       "2         Gran Oportunidad! Unica piso de oficinas de 26...\n",
       "3         Importante  Oficina de de 150 m2 con palier pr...\n",
       "4         VENTA DE OFICINA A METROS DEL PALACIO DE TRIBU...\n",
       "                                ...                        \n",
       "183805    Corredor Responsable: Rene Vera - CUCICBA 6778...\n",
       "183806    Casa en pleno Belgrano R reciclada con excelen...\n",
       "183807    Piso de 419 m2 en un emblemático edificio mode...\n",
       "183808    Piso de 285mts, en la mejor zona de Belgrano.<...\n",
       "183809    Edificio Comercial CON ENTRADA INDEPENDIENTE S...\n",
       "Name: description, Length: 183810, dtype: object"
      ]
     },
     "execution_count": 22,
     "metadata": {},
     "output_type": "execute_result"
    }
   ],
   "source": [
    "df.description"
   ]
  }
 ],
 "metadata": {
  "kernelspec": {
   "display_name": "Python 3 (ipykernel)",
   "language": "python",
   "name": "python3"
  },
  "language_info": {
   "codemirror_mode": {
    "name": "ipython",
    "version": 3
   },
   "file_extension": ".py",
   "mimetype": "text/x-python",
   "name": "python",
   "nbconvert_exporter": "python",
   "pygments_lexer": "ipython3",
   "version": "3.9.7"
  }
 },
 "nbformat": 4,
 "nbformat_minor": 5
}
