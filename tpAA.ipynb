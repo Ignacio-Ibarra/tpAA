{
 "cells": [
  {
   "cell_type": "code",
   "execution_count": 1,
   "id": "63b08288-48db-46bd-a93d-1ef87ba86e16",
   "metadata": {},
   "outputs": [],
   "source": [
    "import pandas as pd\n",
    "\n",
    "df = pd.read_csv('cabaventa.csv')"
   ]
  },
  {
   "cell_type": "code",
   "execution_count": 4,
   "id": "a603d634-b3d4-4469-ba91-0a572579db6b",
   "metadata": {},
   "outputs": [
    {
     "data": {
      "text/plain": [
       "Venta    183810\n",
       "Name: operation_type, dtype: int64"
      ]
     },
     "execution_count": 4,
     "metadata": {},
     "output_type": "execute_result"
    }
   ],
   "source": [
    "df.operation_type.value_counts()"
   ]
  },
  {
   "cell_type": "code",
   "execution_count": 7,
   "id": "2ab3881a-db18-4c44-98ee-72d86585c9ae",
   "metadata": {},
   "outputs": [],
   "source": [
    "df = df[[x for x in df.columns if \"Unnamed\" not in x]]"
   ]
  },
  {
   "cell_type": "code",
   "execution_count": 11,
   "id": "19f74508-3847-4e45-82f9-88b19e632732",
   "metadata": {},
   "outputs": [
    {
     "data": {
      "text/plain": [
       "id                   0.000000\n",
       "ad_type              0.000000\n",
       "start_date           0.000000\n",
       "end_date             0.000000\n",
       "created_on           0.000000\n",
       "lat                  6.228170\n",
       "lon                  6.228170\n",
       "l1                   0.000000\n",
       "l2                   0.000000\n",
       "l3                   1.004842\n",
       "l4                  96.048637\n",
       "l5                 100.000000\n",
       "l6                 100.000000\n",
       "rooms               15.303846\n",
       "bedrooms            27.188945\n",
       "bathrooms           13.556390\n",
       "surface_total       33.133127\n",
       "surface_covered     34.017736\n",
       "price                1.845384\n",
       "currency             1.998803\n",
       "price_period        51.732768\n",
       "title                0.000000\n",
       "description          0.000000\n",
       "property_type        0.000000\n",
       "operation_type       0.000000\n",
       "dtype: float64"
      ]
     },
     "execution_count": 11,
     "metadata": {},
     "output_type": "execute_result"
    }
   ],
   "source": [
    "100*df.isna().sum()/len(df)"
   ]
  },
  {
   "cell_type": "code",
   "execution_count": 12,
   "id": "3b74e5cb-682b-41fa-b7a3-be0fd160f6fb",
   "metadata": {},
   "outputs": [
    {
     "data": {
      "text/html": [
       "<div>\n",
       "<style scoped>\n",
       "    .dataframe tbody tr th:only-of-type {\n",
       "        vertical-align: middle;\n",
       "    }\n",
       "\n",
       "    .dataframe tbody tr th {\n",
       "        vertical-align: top;\n",
       "    }\n",
       "\n",
       "    .dataframe thead th {\n",
       "        text-align: right;\n",
       "    }\n",
       "</style>\n",
       "<table border=\"1\" class=\"dataframe\">\n",
       "  <thead>\n",
       "    <tr style=\"text-align: right;\">\n",
       "      <th></th>\n",
       "      <th>l1</th>\n",
       "      <th>l2</th>\n",
       "      <th>l3</th>\n",
       "      <th>l4</th>\n",
       "      <th>l5</th>\n",
       "      <th>l6</th>\n",
       "    </tr>\n",
       "  </thead>\n",
       "  <tbody>\n",
       "    <tr>\n",
       "      <th>0</th>\n",
       "      <td>Argentina</td>\n",
       "      <td>Capital Federal</td>\n",
       "      <td>Floresta</td>\n",
       "      <td>NaN</td>\n",
       "      <td>NaN</td>\n",
       "      <td>NaN</td>\n",
       "    </tr>\n",
       "    <tr>\n",
       "      <th>1</th>\n",
       "      <td>Argentina</td>\n",
       "      <td>Capital Federal</td>\n",
       "      <td>Belgrano</td>\n",
       "      <td>NaN</td>\n",
       "      <td>NaN</td>\n",
       "      <td>NaN</td>\n",
       "    </tr>\n",
       "    <tr>\n",
       "      <th>2</th>\n",
       "      <td>Argentina</td>\n",
       "      <td>Capital Federal</td>\n",
       "      <td>Recoleta</td>\n",
       "      <td>NaN</td>\n",
       "      <td>NaN</td>\n",
       "      <td>NaN</td>\n",
       "    </tr>\n",
       "    <tr>\n",
       "      <th>3</th>\n",
       "      <td>Argentina</td>\n",
       "      <td>Capital Federal</td>\n",
       "      <td>Monserrat</td>\n",
       "      <td>NaN</td>\n",
       "      <td>NaN</td>\n",
       "      <td>NaN</td>\n",
       "    </tr>\n",
       "    <tr>\n",
       "      <th>4</th>\n",
       "      <td>Argentina</td>\n",
       "      <td>Capital Federal</td>\n",
       "      <td>San Nicolás</td>\n",
       "      <td>NaN</td>\n",
       "      <td>NaN</td>\n",
       "      <td>NaN</td>\n",
       "    </tr>\n",
       "    <tr>\n",
       "      <th>...</th>\n",
       "      <td>...</td>\n",
       "      <td>...</td>\n",
       "      <td>...</td>\n",
       "      <td>...</td>\n",
       "      <td>...</td>\n",
       "      <td>...</td>\n",
       "    </tr>\n",
       "    <tr>\n",
       "      <th>183805</th>\n",
       "      <td>Argentina</td>\n",
       "      <td>Capital Federal</td>\n",
       "      <td>Monte Castro</td>\n",
       "      <td>NaN</td>\n",
       "      <td>NaN</td>\n",
       "      <td>NaN</td>\n",
       "    </tr>\n",
       "    <tr>\n",
       "      <th>183806</th>\n",
       "      <td>Argentina</td>\n",
       "      <td>Capital Federal</td>\n",
       "      <td>Belgrano</td>\n",
       "      <td>NaN</td>\n",
       "      <td>NaN</td>\n",
       "      <td>NaN</td>\n",
       "    </tr>\n",
       "    <tr>\n",
       "      <th>183807</th>\n",
       "      <td>Argentina</td>\n",
       "      <td>Capital Federal</td>\n",
       "      <td>Palermo</td>\n",
       "      <td>NaN</td>\n",
       "      <td>NaN</td>\n",
       "      <td>NaN</td>\n",
       "    </tr>\n",
       "    <tr>\n",
       "      <th>183808</th>\n",
       "      <td>Argentina</td>\n",
       "      <td>Capital Federal</td>\n",
       "      <td>Belgrano</td>\n",
       "      <td>NaN</td>\n",
       "      <td>NaN</td>\n",
       "      <td>NaN</td>\n",
       "    </tr>\n",
       "    <tr>\n",
       "      <th>183809</th>\n",
       "      <td>Argentina</td>\n",
       "      <td>Capital Federal</td>\n",
       "      <td>Palermo</td>\n",
       "      <td>NaN</td>\n",
       "      <td>NaN</td>\n",
       "      <td>NaN</td>\n",
       "    </tr>\n",
       "  </tbody>\n",
       "</table>\n",
       "<p>183810 rows × 6 columns</p>\n",
       "</div>"
      ],
      "text/plain": [
       "               l1               l2            l3   l4  l5  l6\n",
       "0       Argentina  Capital Federal      Floresta  NaN NaN NaN\n",
       "1       Argentina  Capital Federal      Belgrano  NaN NaN NaN\n",
       "2       Argentina  Capital Federal      Recoleta  NaN NaN NaN\n",
       "3       Argentina  Capital Federal     Monserrat  NaN NaN NaN\n",
       "4       Argentina  Capital Federal   San Nicolás  NaN NaN NaN\n",
       "...           ...              ...           ...  ...  ..  ..\n",
       "183805  Argentina  Capital Federal  Monte Castro  NaN NaN NaN\n",
       "183806  Argentina  Capital Federal      Belgrano  NaN NaN NaN\n",
       "183807  Argentina  Capital Federal       Palermo  NaN NaN NaN\n",
       "183808  Argentina  Capital Federal      Belgrano  NaN NaN NaN\n",
       "183809  Argentina  Capital Federal       Palermo  NaN NaN NaN\n",
       "\n",
       "[183810 rows x 6 columns]"
      ]
     },
     "execution_count": 12,
     "metadata": {},
     "output_type": "execute_result"
    }
   ],
   "source": [
    "df[[\"l\"+str(i) for i in range(1,7)]]"
   ]
  },
  {
   "cell_type": "code",
   "execution_count": 15,
   "id": "d791d4e1-d603-43c3-8583-1e3b3ec8dceb",
   "metadata": {},
   "outputs": [
    {
     "data": {
      "text/plain": [
       "Palermo                 25169\n",
       "Belgrano                21369\n",
       "Caballito               11090\n",
       "Recoleta                10382\n",
       "Villa Urquiza            8373\n",
       "Almagro                  8272\n",
       "Villa Crespo             8211\n",
       "Barrio Norte             5259\n",
       "Flores                   5199\n",
       "Nuñez                    5153\n",
       "Balvanera                4805\n",
       "Colegiales               3854\n",
       "San Nicolás              3607\n",
       "San Cristobal            3451\n",
       "Villa Devoto             3228\n",
       "Saavedra                 3121\n",
       "Puerto Madero            3075\n",
       "San Telmo                2766\n",
       "Villa del Parque         2702\n",
       "Floresta                 2462\n",
       "Boedo                    2448\n",
       "Monserrat                2378\n",
       "Retiro                   2361\n",
       "Mataderos                2273\n",
       "Barracas                 2254\n",
       "Liniers                  2078\n",
       "Parque Chacabuco         1804\n",
       "Villa Pueyrredón         1700\n",
       "Coghlan                  1681\n",
       "Villa Luro               1677\n",
       "Congreso                 1385\n",
       "Parque Patricios         1311\n",
       "Chacarita                1308\n",
       "Villa Lugano             1235\n",
       "Paternal                 1156\n",
       "Constitución             1117\n",
       "Tribunales               1031\n",
       "Villa Ortuzar            1002\n",
       "Once                     1000\n",
       "Centro / Microcentro      939\n",
       "Villa General Mitre       757\n",
       "Monte Castro              745\n",
       "Boca                      739\n",
       "Villa Santa Rita          687\n",
       "Las Cañitas               640\n",
       "Parque Avellaneda         637\n",
       "Parque Centenario         615\n",
       "Abasto                    578\n",
       "Pompeya                   567\n",
       "Velez Sarsfield           494\n",
       "Versalles                 470\n",
       "Parque Chas               425\n",
       "Agronomía                 373\n",
       "Villa Real                238\n",
       "Villa Soldati             171\n",
       "Catalinas                  96\n",
       "Villa Riachuelo            45\n",
       "Name: l3, dtype: int64"
      ]
     },
     "execution_count": 15,
     "metadata": {},
     "output_type": "execute_result"
    }
   ],
   "source": [
    "df.l3.value_counts()"
   ]
  },
  {
   "cell_type": "code",
   "execution_count": 17,
   "id": "6d28beec-0b63-483d-bde2-3181a811020a",
   "metadata": {},
   "outputs": [
    {
     "data": {
      "text/plain": [
       "USD    179806\n",
       "ARS       330\n",
       "Name: currency, dtype: int64"
      ]
     },
     "execution_count": 17,
     "metadata": {},
     "output_type": "execute_result"
    }
   ],
   "source": [
    "df.currency.value_counts()"
   ]
  },
  {
   "cell_type": "code",
   "execution_count": 19,
   "id": "4f51786c-9350-4689-b946-b62f628e668c",
   "metadata": {},
   "outputs": [
    {
     "data": {
      "text/plain": [
       "Index(['id', 'ad_type', 'start_date', 'end_date', 'created_on', 'lat', 'lon',\n",
       "       'l1', 'l2', 'l3', 'l4', 'l5', 'l6', 'rooms', 'bedrooms', 'bathrooms',\n",
       "       'surface_total', 'surface_covered', 'price', 'currency', 'price_period',\n",
       "       'title', 'description', 'property_type', 'operation_type'],\n",
       "      dtype='object')"
      ]
     },
     "execution_count": 19,
     "metadata": {},
     "output_type": "execute_result"
    }
   ],
   "source": [
    "df.columns"
   ]
  },
  {
   "cell_type": "code",
   "execution_count": 22,
   "id": "b9abf250-1484-4099-93c2-a9a94afc304c",
   "metadata": {},
   "outputs": [
    {
     "data": {
      "text/plain": [
       "0         Lote 365 mts 8,90 x 43 mts C3 II.. FOT 3.6 PAR...\n",
       "1         Muy buena cochera, en el 4to piso en excelente...\n",
       "2         Gran Oportunidad! Unica piso de oficinas de 26...\n",
       "3         Importante  Oficina de de 150 m2 con palier pr...\n",
       "4         VENTA DE OFICINA A METROS DEL PALACIO DE TRIBU...\n",
       "                                ...                        \n",
       "183805    Corredor Responsable: Rene Vera - CUCICBA 6778...\n",
       "183806    Casa en pleno Belgrano R reciclada con excelen...\n",
       "183807    Piso de 419 m2 en un emblemático edificio mode...\n",
       "183808    Piso de 285mts, en la mejor zona de Belgrano.<...\n",
       "183809    Edificio Comercial CON ENTRADA INDEPENDIENTE S...\n",
       "Name: description, Length: 183810, dtype: object"
      ]
     },
     "execution_count": 22,
     "metadata": {},
     "output_type": "execute_result"
    }
   ],
   "source": [
    "df.description"
   ]
  }
 ],
 "metadata": {
  "kernelspec": {
   "display_name": "Python 3 (ipykernel)",
   "language": "python",
   "name": "python3"
  },
  "language_info": {
   "codemirror_mode": {
    "name": "ipython",
    "version": 3
   },
   "file_extension": ".py",
   "mimetype": "text/x-python",
   "name": "python",
   "nbconvert_exporter": "python",
   "pygments_lexer": "ipython3",
   "version": "3.9.7"
  }
 },
 "nbformat": 4,
 "nbformat_minor": 5
}
