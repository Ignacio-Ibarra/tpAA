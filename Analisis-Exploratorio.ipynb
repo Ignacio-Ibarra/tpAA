{
 "cells": [
  {
   "cell_type": "code",
   "execution_count": 15,
   "id": "9102400e",
   "metadata": {},
   "outputs": [],
   "source": [
    "import pandas as pd\n",
    "import numpy as np\n",
    "\n",
    "df = pd.read_csv('./data/cabaventa.csv')\n",
    "df = df[[x for x in df.columns if \"Unnamed\" not in x]] #saco una columnas que están mal. "
   ]
  },
  {
   "cell_type": "markdown",
   "id": "d97ef66c",
   "metadata": {},
   "source": [
    "1) Son todas operaciones de venta (columna sin sentido)"
   ]
  },
  {
   "cell_type": "code",
   "execution_count": 2,
   "id": "f9cf55cd",
   "metadata": {},
   "outputs": [
    {
     "data": {
      "text/plain": [
       "Venta    183810\n",
       "Name: operation_type, dtype: int64"
      ]
     },
     "execution_count": 2,
     "metadata": {},
     "output_type": "execute_result"
    }
   ],
   "source": [
    "df.operation_type.value_counts()"
   ]
  },
  {
   "cell_type": "markdown",
   "id": "5ab700f1",
   "metadata": {},
   "source": [
    "2) Las columnas **l1** y **l2** no tiene sentido mantenerlas"
   ]
  },
  {
   "cell_type": "code",
   "execution_count": 3,
   "id": "bfee4a56",
   "metadata": {},
   "outputs": [
    {
     "name": "stdout",
     "output_type": "stream",
     "text": [
      "Países incluidos en la muestra: \n",
      " Argentina    183810\n",
      "Name: l1, dtype: int64\n",
      "\n",
      "Distritos incluidos en la muestra: \n",
      " Capital Federal    183810\n",
      "Name: l2, dtype: int64\n"
     ]
    }
   ],
   "source": [
    "print(\"Países incluidos en la muestra: \\n\", df.l1.value_counts())\n",
    "print()\n",
    "print(\"Distritos incluidos en la muestra: \\n\", df.l2.value_counts())"
   ]
  },
  {
   "cell_type": "markdown",
   "id": "93c537f3",
   "metadata": {},
   "source": [
    "3) Hay que pasar todo a dólares usando tipo de cambio de la fecha. "
   ]
  },
  {
   "cell_type": "code",
   "execution_count": 4,
   "id": "eb63c439",
   "metadata": {},
   "outputs": [
    {
     "data": {
      "text/plain": [
       "USD    179806\n",
       "ARS       330\n",
       "Name: currency, dtype: int64"
      ]
     },
     "execution_count": 4,
     "metadata": {},
     "output_type": "execute_result"
    }
   ],
   "source": [
    "df.currency.value_counts()"
   ]
  },
  {
   "cell_type": "markdown",
   "id": "949626b6",
   "metadata": {},
   "source": [
    "Antes de cualquier conversión evaluaría si los datos de precio en pesos no estan muy sucios (y si son realmente necesarios). A primera vista hay errores claros en varios registros (precio, property type)"
   ]
  },
  {
   "cell_type": "code",
   "execution_count": 5,
   "id": "c4d4965e",
   "metadata": {},
   "outputs": [
    {
     "data": {
      "text/html": [
       "<div>\n",
       "<style scoped>\n",
       "    .dataframe tbody tr th:only-of-type {\n",
       "        vertical-align: middle;\n",
       "    }\n",
       "\n",
       "    .dataframe tbody tr th {\n",
       "        vertical-align: top;\n",
       "    }\n",
       "\n",
       "    .dataframe thead th {\n",
       "        text-align: right;\n",
       "    }\n",
       "</style>\n",
       "<table border=\"1\" class=\"dataframe\">\n",
       "  <thead>\n",
       "    <tr style=\"text-align: right;\">\n",
       "      <th></th>\n",
       "      <th>id</th>\n",
       "      <th>ad_type</th>\n",
       "      <th>start_date</th>\n",
       "      <th>end_date</th>\n",
       "      <th>created_on</th>\n",
       "      <th>lat</th>\n",
       "      <th>lon</th>\n",
       "      <th>l1</th>\n",
       "      <th>l2</th>\n",
       "      <th>l3</th>\n",
       "      <th>...</th>\n",
       "      <th>bathrooms</th>\n",
       "      <th>surface_total</th>\n",
       "      <th>surface_covered</th>\n",
       "      <th>price</th>\n",
       "      <th>currency</th>\n",
       "      <th>price_period</th>\n",
       "      <th>title</th>\n",
       "      <th>description</th>\n",
       "      <th>property_type</th>\n",
       "      <th>operation_type</th>\n",
       "    </tr>\n",
       "  </thead>\n",
       "  <tbody>\n",
       "    <tr>\n",
       "      <th>120</th>\n",
       "      <td>vbQ7BfTEPrIput6buZchUA==</td>\n",
       "      <td>Propiedad</td>\n",
       "      <td>2021-03-21</td>\n",
       "      <td>2021-03-25</td>\n",
       "      <td>2021-03-21</td>\n",
       "      <td>-34.630149</td>\n",
       "      <td>-58.408166</td>\n",
       "      <td>Argentina</td>\n",
       "      <td>Capital Federal</td>\n",
       "      <td>NaN</td>\n",
       "      <td>...</td>\n",
       "      <td>NaN</td>\n",
       "      <td>37.0</td>\n",
       "      <td>32.0</td>\n",
       "      <td>111000000.0</td>\n",
       "      <td>ARS</td>\n",
       "      <td>Mensual</td>\n",
       "      <td>Departamento venta</td>\n",
       "      <td>EDIFICIO MODERNO A ESTRENAR EN PARQUE PATRICIO...</td>\n",
       "      <td>Departamento</td>\n",
       "      <td>Venta</td>\n",
       "    </tr>\n",
       "    <tr>\n",
       "      <th>334</th>\n",
       "      <td>T1oZNK16P6mez/weEDYqgw==</td>\n",
       "      <td>Propiedad</td>\n",
       "      <td>2020-06-09</td>\n",
       "      <td>2020-10-26</td>\n",
       "      <td>2020-06-09</td>\n",
       "      <td>NaN</td>\n",
       "      <td>NaN</td>\n",
       "      <td>Argentina</td>\n",
       "      <td>Capital Federal</td>\n",
       "      <td>Palermo</td>\n",
       "      <td>...</td>\n",
       "      <td>NaN</td>\n",
       "      <td>300.0</td>\n",
       "      <td>280.0</td>\n",
       "      <td>700000.0</td>\n",
       "      <td>ARS</td>\n",
       "      <td>NaN</td>\n",
       "      <td>VENDO FONDO DE COMERCIO -SALON DE EVENTOS -PAL...</td>\n",
       "      <td>EXCELENTE LOCAL 2 PLANTAS EN ESQUINA -PERFECTA...</td>\n",
       "      <td>Otro</td>\n",
       "      <td>Venta</td>\n",
       "    </tr>\n",
       "    <tr>\n",
       "      <th>335</th>\n",
       "      <td>Ug4iPfizKVjIiNXV97f26Q==</td>\n",
       "      <td>Propiedad</td>\n",
       "      <td>2020-06-09</td>\n",
       "      <td>2020-09-05</td>\n",
       "      <td>2020-06-09</td>\n",
       "      <td>-34.590858</td>\n",
       "      <td>-58.399459</td>\n",
       "      <td>Argentina</td>\n",
       "      <td>Capital Federal</td>\n",
       "      <td>Recoleta</td>\n",
       "      <td>...</td>\n",
       "      <td>2.0</td>\n",
       "      <td>NaN</td>\n",
       "      <td>NaN</td>\n",
       "      <td>350000.0</td>\n",
       "      <td>ARS</td>\n",
       "      <td>NaN</td>\n",
       "      <td>Departamento · 114m² · 5 Ambientes</td>\n",
       "      <td>Larrea y French. Impecable. Todo reciclado a n...</td>\n",
       "      <td>Departamento</td>\n",
       "      <td>Venta</td>\n",
       "    </tr>\n",
       "    <tr>\n",
       "      <th>336</th>\n",
       "      <td>gRPv2W6czbVyK4VbgA1i+A==</td>\n",
       "      <td>Propiedad</td>\n",
       "      <td>2020-06-09</td>\n",
       "      <td>2020-06-15</td>\n",
       "      <td>2020-06-09</td>\n",
       "      <td>-34.619669</td>\n",
       "      <td>-58.372651</td>\n",
       "      <td>Argentina</td>\n",
       "      <td>Capital Federal</td>\n",
       "      <td>San Telmo</td>\n",
       "      <td>...</td>\n",
       "      <td>NaN</td>\n",
       "      <td>60.0</td>\n",
       "      <td>60.0</td>\n",
       "      <td>700000.0</td>\n",
       "      <td>ARS</td>\n",
       "      <td>Mensual</td>\n",
       "      <td>Fondo de Comercio - Restaurante - San Telmo</td>\n",
       "      <td>NEGOZONA&lt;br&gt;&lt;br&gt;Compra, venta y valuación de f...</td>\n",
       "      <td>Local comercial</td>\n",
       "      <td>Venta</td>\n",
       "    </tr>\n",
       "    <tr>\n",
       "      <th>900</th>\n",
       "      <td>1OzAcIdwe1hU2fg6NABdTw==</td>\n",
       "      <td>Propiedad</td>\n",
       "      <td>2020-06-20</td>\n",
       "      <td>2020-08-21</td>\n",
       "      <td>2020-06-20</td>\n",
       "      <td>-34.559541</td>\n",
       "      <td>-58.465854</td>\n",
       "      <td>Argentina</td>\n",
       "      <td>Capital Federal</td>\n",
       "      <td>Belgrano</td>\n",
       "      <td>...</td>\n",
       "      <td>NaN</td>\n",
       "      <td>NaN</td>\n",
       "      <td>NaN</td>\n",
       "      <td>1800000.0</td>\n",
       "      <td>ARS</td>\n",
       "      <td>NaN</td>\n",
       "      <td>vendo fondo de comercio gastronomico PARRILLA ...</td>\n",
       "      <td>EXCELENTE OPORTUNIDAD, LOCAL SOBRE LOTE PROPIO...</td>\n",
       "      <td>Otro</td>\n",
       "      <td>Venta</td>\n",
       "    </tr>\n",
       "    <tr>\n",
       "      <th>...</th>\n",
       "      <td>...</td>\n",
       "      <td>...</td>\n",
       "      <td>...</td>\n",
       "      <td>...</td>\n",
       "      <td>...</td>\n",
       "      <td>...</td>\n",
       "      <td>...</td>\n",
       "      <td>...</td>\n",
       "      <td>...</td>\n",
       "      <td>...</td>\n",
       "      <td>...</td>\n",
       "      <td>...</td>\n",
       "      <td>...</td>\n",
       "      <td>...</td>\n",
       "      <td>...</td>\n",
       "      <td>...</td>\n",
       "      <td>...</td>\n",
       "      <td>...</td>\n",
       "      <td>...</td>\n",
       "      <td>...</td>\n",
       "      <td>...</td>\n",
       "    </tr>\n",
       "    <tr>\n",
       "      <th>176529</th>\n",
       "      <td>oFuWfG6vSi3hlpfW8lqTRw==</td>\n",
       "      <td>Propiedad</td>\n",
       "      <td>2021-02-08</td>\n",
       "      <td>9999-12-31</td>\n",
       "      <td>2021-02-08</td>\n",
       "      <td>-32.456247</td>\n",
       "      <td>-60.884202</td>\n",
       "      <td>Argentina</td>\n",
       "      <td>Capital Federal</td>\n",
       "      <td>NaN</td>\n",
       "      <td>...</td>\n",
       "      <td>NaN</td>\n",
       "      <td>230.0</td>\n",
       "      <td>NaN</td>\n",
       "      <td>450000.0</td>\n",
       "      <td>ARS</td>\n",
       "      <td>Mensual</td>\n",
       "      <td>Dos lotes en Maciel</td>\n",
       "      <td>Ubicado en la esquina de corrientes y tucuman....</td>\n",
       "      <td>Lote</td>\n",
       "      <td>Venta</td>\n",
       "    </tr>\n",
       "    <tr>\n",
       "      <th>176530</th>\n",
       "      <td>3Dp04I2v+r0aarZAet8Rww==</td>\n",
       "      <td>Propiedad</td>\n",
       "      <td>2021-02-08</td>\n",
       "      <td>2021-02-08</td>\n",
       "      <td>2021-02-08</td>\n",
       "      <td>-34.620311</td>\n",
       "      <td>-58.429704</td>\n",
       "      <td>Argentina</td>\n",
       "      <td>Capital Federal</td>\n",
       "      <td>Caballito</td>\n",
       "      <td>...</td>\n",
       "      <td>1.0</td>\n",
       "      <td>NaN</td>\n",
       "      <td>NaN</td>\n",
       "      <td>19120000.0</td>\n",
       "      <td>ARS</td>\n",
       "      <td>Mensual</td>\n",
       "      <td>Departamento en Venta en Caballito, Capital fe...</td>\n",
       "      <td>VENTA DEPARTAMENTO 2 AMBIENTES CABALLITO\\nUnid...</td>\n",
       "      <td>Departamento</td>\n",
       "      <td>Venta</td>\n",
       "    </tr>\n",
       "    <tr>\n",
       "      <th>176531</th>\n",
       "      <td>LtDIBw20FvqH0Qs/a2epYQ==</td>\n",
       "      <td>Propiedad</td>\n",
       "      <td>2021-02-08</td>\n",
       "      <td>9999-12-31</td>\n",
       "      <td>2021-02-08</td>\n",
       "      <td>-34.620311</td>\n",
       "      <td>-58.429704</td>\n",
       "      <td>Argentina</td>\n",
       "      <td>Capital Federal</td>\n",
       "      <td>Caballito</td>\n",
       "      <td>...</td>\n",
       "      <td>1.0</td>\n",
       "      <td>NaN</td>\n",
       "      <td>NaN</td>\n",
       "      <td>19120000.0</td>\n",
       "      <td>ARS</td>\n",
       "      <td>NaN</td>\n",
       "      <td>Departamento en Venta en Caballito, Capital fe...</td>\n",
       "      <td>VENTA DEPARTAMENTO 2 AMBIENTES CABALLITO\\nUnid...</td>\n",
       "      <td>Departamento</td>\n",
       "      <td>Venta</td>\n",
       "    </tr>\n",
       "    <tr>\n",
       "      <th>183308</th>\n",
       "      <td>wo4n8IL8/ZpDyryH031quQ==</td>\n",
       "      <td>Propiedad</td>\n",
       "      <td>2020-12-04</td>\n",
       "      <td>9999-12-31</td>\n",
       "      <td>2020-12-04</td>\n",
       "      <td>-34.561137</td>\n",
       "      <td>-58.473743</td>\n",
       "      <td>Argentina</td>\n",
       "      <td>Capital Federal</td>\n",
       "      <td>Coghlan</td>\n",
       "      <td>...</td>\n",
       "      <td>1.0</td>\n",
       "      <td>70.0</td>\n",
       "      <td>70.0</td>\n",
       "      <td>25000000.0</td>\n",
       "      <td>ARS</td>\n",
       "      <td>Mensual</td>\n",
       "      <td>VENTA EMPRESA / FONDO DE COMERCIO LOCAL / TIEN...</td>\n",
       "      <td>Se vende exitosa empresa de venta de instrumen...</td>\n",
       "      <td>Local comercial</td>\n",
       "      <td>Venta</td>\n",
       "    </tr>\n",
       "    <tr>\n",
       "      <th>183309</th>\n",
       "      <td>QUL8fCX4zcDpfi3lxtRoPw==</td>\n",
       "      <td>Propiedad</td>\n",
       "      <td>2020-12-04</td>\n",
       "      <td>2020-12-11</td>\n",
       "      <td>2020-12-04</td>\n",
       "      <td>-34.647063</td>\n",
       "      <td>-58.484833</td>\n",
       "      <td>Argentina</td>\n",
       "      <td>Capital Federal</td>\n",
       "      <td>Parque Avellaneda</td>\n",
       "      <td>...</td>\n",
       "      <td>2.0</td>\n",
       "      <td>290.0</td>\n",
       "      <td>260.0</td>\n",
       "      <td>450000.0</td>\n",
       "      <td>ARS</td>\n",
       "      <td>Mensual</td>\n",
       "      <td>Casa - Parque Avellaneda</td>\n",
       "      <td>Vendemos Hermosa Casa de 6 Ambientes &lt;br&gt;&lt;br&gt;C...</td>\n",
       "      <td>Casa</td>\n",
       "      <td>Venta</td>\n",
       "    </tr>\n",
       "  </tbody>\n",
       "</table>\n",
       "<p>330 rows × 25 columns</p>\n",
       "</div>"
      ],
      "text/plain": [
       "                              id    ad_type  start_date    end_date  \\\n",
       "120     vbQ7BfTEPrIput6buZchUA==  Propiedad  2021-03-21  2021-03-25   \n",
       "334     T1oZNK16P6mez/weEDYqgw==  Propiedad  2020-06-09  2020-10-26   \n",
       "335     Ug4iPfizKVjIiNXV97f26Q==  Propiedad  2020-06-09  2020-09-05   \n",
       "336     gRPv2W6czbVyK4VbgA1i+A==  Propiedad  2020-06-09  2020-06-15   \n",
       "900     1OzAcIdwe1hU2fg6NABdTw==  Propiedad  2020-06-20  2020-08-21   \n",
       "...                          ...        ...         ...         ...   \n",
       "176529  oFuWfG6vSi3hlpfW8lqTRw==  Propiedad  2021-02-08  9999-12-31   \n",
       "176530  3Dp04I2v+r0aarZAet8Rww==  Propiedad  2021-02-08  2021-02-08   \n",
       "176531  LtDIBw20FvqH0Qs/a2epYQ==  Propiedad  2021-02-08  9999-12-31   \n",
       "183308  wo4n8IL8/ZpDyryH031quQ==  Propiedad  2020-12-04  9999-12-31   \n",
       "183309  QUL8fCX4zcDpfi3lxtRoPw==  Propiedad  2020-12-04  2020-12-11   \n",
       "\n",
       "        created_on        lat        lon         l1               l2  \\\n",
       "120     2021-03-21 -34.630149 -58.408166  Argentina  Capital Federal   \n",
       "334     2020-06-09        NaN        NaN  Argentina  Capital Federal   \n",
       "335     2020-06-09 -34.590858 -58.399459  Argentina  Capital Federal   \n",
       "336     2020-06-09 -34.619669 -58.372651  Argentina  Capital Federal   \n",
       "900     2020-06-20 -34.559541 -58.465854  Argentina  Capital Federal   \n",
       "...            ...        ...        ...        ...              ...   \n",
       "176529  2021-02-08 -32.456247 -60.884202  Argentina  Capital Federal   \n",
       "176530  2021-02-08 -34.620311 -58.429704  Argentina  Capital Federal   \n",
       "176531  2021-02-08 -34.620311 -58.429704  Argentina  Capital Federal   \n",
       "183308  2020-12-04 -34.561137 -58.473743  Argentina  Capital Federal   \n",
       "183309  2020-12-04 -34.647063 -58.484833  Argentina  Capital Federal   \n",
       "\n",
       "                       l3  ... bathrooms  surface_total  surface_covered  \\\n",
       "120                   NaN  ...       NaN           37.0             32.0   \n",
       "334               Palermo  ...       NaN          300.0            280.0   \n",
       "335              Recoleta  ...       2.0            NaN              NaN   \n",
       "336             San Telmo  ...       NaN           60.0             60.0   \n",
       "900              Belgrano  ...       NaN            NaN              NaN   \n",
       "...                   ...  ...       ...            ...              ...   \n",
       "176529                NaN  ...       NaN          230.0              NaN   \n",
       "176530          Caballito  ...       1.0            NaN              NaN   \n",
       "176531          Caballito  ...       1.0            NaN              NaN   \n",
       "183308            Coghlan  ...       1.0           70.0             70.0   \n",
       "183309  Parque Avellaneda  ...       2.0          290.0            260.0   \n",
       "\n",
       "              price  currency  price_period  \\\n",
       "120     111000000.0       ARS       Mensual   \n",
       "334        700000.0       ARS           NaN   \n",
       "335        350000.0       ARS           NaN   \n",
       "336        700000.0       ARS       Mensual   \n",
       "900       1800000.0       ARS           NaN   \n",
       "...             ...       ...           ...   \n",
       "176529     450000.0       ARS       Mensual   \n",
       "176530   19120000.0       ARS       Mensual   \n",
       "176531   19120000.0       ARS           NaN   \n",
       "183308   25000000.0       ARS       Mensual   \n",
       "183309     450000.0       ARS       Mensual   \n",
       "\n",
       "                                                    title  \\\n",
       "120                                    Departamento venta   \n",
       "334     VENDO FONDO DE COMERCIO -SALON DE EVENTOS -PAL...   \n",
       "335                    Departamento · 114m² · 5 Ambientes   \n",
       "336           Fondo de Comercio - Restaurante - San Telmo   \n",
       "900     vendo fondo de comercio gastronomico PARRILLA ...   \n",
       "...                                                   ...   \n",
       "176529                               Dos lotes en Maciel    \n",
       "176530  Departamento en Venta en Caballito, Capital fe...   \n",
       "176531  Departamento en Venta en Caballito, Capital fe...   \n",
       "183308  VENTA EMPRESA / FONDO DE COMERCIO LOCAL / TIEN...   \n",
       "183309                           Casa - Parque Avellaneda   \n",
       "\n",
       "                                              description    property_type  \\\n",
       "120     EDIFICIO MODERNO A ESTRENAR EN PARQUE PATRICIO...     Departamento   \n",
       "334     EXCELENTE LOCAL 2 PLANTAS EN ESQUINA -PERFECTA...             Otro   \n",
       "335     Larrea y French. Impecable. Todo reciclado a n...     Departamento   \n",
       "336     NEGOZONA<br><br>Compra, venta y valuación de f...  Local comercial   \n",
       "900     EXCELENTE OPORTUNIDAD, LOCAL SOBRE LOTE PROPIO...             Otro   \n",
       "...                                                   ...              ...   \n",
       "176529  Ubicado en la esquina de corrientes y tucuman....             Lote   \n",
       "176530  VENTA DEPARTAMENTO 2 AMBIENTES CABALLITO\\nUnid...     Departamento   \n",
       "176531  VENTA DEPARTAMENTO 2 AMBIENTES CABALLITO\\nUnid...     Departamento   \n",
       "183308  Se vende exitosa empresa de venta de instrumen...  Local comercial   \n",
       "183309  Vendemos Hermosa Casa de 6 Ambientes <br><br>C...             Casa   \n",
       "\n",
       "       operation_type  \n",
       "120             Venta  \n",
       "334             Venta  \n",
       "335             Venta  \n",
       "336             Venta  \n",
       "900             Venta  \n",
       "...               ...  \n",
       "176529          Venta  \n",
       "176530          Venta  \n",
       "176531          Venta  \n",
       "183308          Venta  \n",
       "183309          Venta  \n",
       "\n",
       "[330 rows x 25 columns]"
      ]
     },
     "execution_count": 5,
     "metadata": {},
     "output_type": "execute_result"
    }
   ],
   "source": [
    "df[df.currency==\"ARS\"]"
   ]
  },
  {
   "cell_type": "code",
   "execution_count": 6,
   "id": "48eaff5d",
   "metadata": {},
   "outputs": [
    {
     "data": {
      "text/html": [
       "<div>\n",
       "<style scoped>\n",
       "    .dataframe tbody tr th:only-of-type {\n",
       "        vertical-align: middle;\n",
       "    }\n",
       "\n",
       "    .dataframe tbody tr th {\n",
       "        vertical-align: top;\n",
       "    }\n",
       "\n",
       "    .dataframe thead th {\n",
       "        text-align: right;\n",
       "    }\n",
       "</style>\n",
       "<table border=\"1\" class=\"dataframe\">\n",
       "  <thead>\n",
       "    <tr style=\"text-align: right;\">\n",
       "      <th></th>\n",
       "      <th>price</th>\n",
       "      <th>property_type</th>\n",
       "      <th>title</th>\n",
       "      <th>description</th>\n",
       "      <th>property_type</th>\n",
       "      <th>operation_type</th>\n",
       "    </tr>\n",
       "  </thead>\n",
       "  <tbody>\n",
       "    <tr>\n",
       "      <th>120</th>\n",
       "      <td>111000000.0</td>\n",
       "      <td>Departamento</td>\n",
       "      <td>Departamento venta</td>\n",
       "      <td>EDIFICIO MODERNO A ESTRENAR EN PARQUE PATRICIO...</td>\n",
       "      <td>Departamento</td>\n",
       "      <td>Venta</td>\n",
       "    </tr>\n",
       "    <tr>\n",
       "      <th>334</th>\n",
       "      <td>700000.0</td>\n",
       "      <td>Otro</td>\n",
       "      <td>VENDO FONDO DE COMERCIO -SALON DE EVENTOS -PAL...</td>\n",
       "      <td>EXCELENTE LOCAL 2 PLANTAS EN ESQUINA -PERFECTA...</td>\n",
       "      <td>Otro</td>\n",
       "      <td>Venta</td>\n",
       "    </tr>\n",
       "    <tr>\n",
       "      <th>335</th>\n",
       "      <td>350000.0</td>\n",
       "      <td>Departamento</td>\n",
       "      <td>Departamento · 114m² · 5 Ambientes</td>\n",
       "      <td>Larrea y French. Impecable. Todo reciclado a n...</td>\n",
       "      <td>Departamento</td>\n",
       "      <td>Venta</td>\n",
       "    </tr>\n",
       "    <tr>\n",
       "      <th>336</th>\n",
       "      <td>700000.0</td>\n",
       "      <td>Local comercial</td>\n",
       "      <td>Fondo de Comercio - Restaurante - San Telmo</td>\n",
       "      <td>NEGOZONA&lt;br&gt;&lt;br&gt;Compra, venta y valuación de f...</td>\n",
       "      <td>Local comercial</td>\n",
       "      <td>Venta</td>\n",
       "    </tr>\n",
       "    <tr>\n",
       "      <th>900</th>\n",
       "      <td>1800000.0</td>\n",
       "      <td>Otro</td>\n",
       "      <td>vendo fondo de comercio gastronomico PARRILLA ...</td>\n",
       "      <td>EXCELENTE OPORTUNIDAD, LOCAL SOBRE LOTE PROPIO...</td>\n",
       "      <td>Otro</td>\n",
       "      <td>Venta</td>\n",
       "    </tr>\n",
       "  </tbody>\n",
       "</table>\n",
       "</div>"
      ],
      "text/plain": [
       "           price    property_type  \\\n",
       "120  111000000.0     Departamento   \n",
       "334     700000.0             Otro   \n",
       "335     350000.0     Departamento   \n",
       "336     700000.0  Local comercial   \n",
       "900    1800000.0             Otro   \n",
       "\n",
       "                                                 title  \\\n",
       "120                                 Departamento venta   \n",
       "334  VENDO FONDO DE COMERCIO -SALON DE EVENTOS -PAL...   \n",
       "335                 Departamento · 114m² · 5 Ambientes   \n",
       "336        Fondo de Comercio - Restaurante - San Telmo   \n",
       "900  vendo fondo de comercio gastronomico PARRILLA ...   \n",
       "\n",
       "                                           description    property_type  \\\n",
       "120  EDIFICIO MODERNO A ESTRENAR EN PARQUE PATRICIO...     Departamento   \n",
       "334  EXCELENTE LOCAL 2 PLANTAS EN ESQUINA -PERFECTA...             Otro   \n",
       "335  Larrea y French. Impecable. Todo reciclado a n...     Departamento   \n",
       "336  NEGOZONA<br><br>Compra, venta y valuación de f...  Local comercial   \n",
       "900  EXCELENTE OPORTUNIDAD, LOCAL SOBRE LOTE PROPIO...             Otro   \n",
       "\n",
       "    operation_type  \n",
       "120          Venta  \n",
       "334          Venta  \n",
       "335          Venta  \n",
       "336          Venta  \n",
       "900          Venta  "
      ]
     },
     "execution_count": 6,
     "metadata": {},
     "output_type": "execute_result"
    }
   ],
   "source": [
    "df[['price', 'property_type', 'title', 'description', 'property_type', 'operation_type']][df[\"currency\"]==\"ARS\"].head()"
   ]
  },
  {
   "cell_type": "markdown",
   "id": "6c2ad6b3",
   "metadata": {},
   "source": [
    "4. La columna price_period tampoco tiene sentido???? (verrrrrr tema nulos)"
   ]
  },
  {
   "cell_type": "code",
   "execution_count": 7,
   "id": "34ad05e7",
   "metadata": {},
   "outputs": [
    {
     "data": {
      "text/plain": [
       "Mensual    88720\n",
       "Name: price_period, dtype: int64"
      ]
     },
     "execution_count": 7,
     "metadata": {},
     "output_type": "execute_result"
    }
   ],
   "source": [
    "df.price_period.value_counts()"
   ]
  },
  {
   "cell_type": "markdown",
   "id": "d1bea94c",
   "metadata": {},
   "source": [
    "5. La columna ad_type tampoco tiene sentido"
   ]
  },
  {
   "cell_type": "code",
   "execution_count": 8,
   "id": "b104acb7",
   "metadata": {},
   "outputs": [
    {
     "data": {
      "text/plain": [
       "Propiedad    183810\n",
       "Name: ad_type, dtype: int64"
      ]
     },
     "execution_count": 8,
     "metadata": {},
     "output_type": "execute_result"
    }
   ],
   "source": [
    "df.ad_type.value_counts()"
   ]
  },
  {
   "cell_type": "markdown",
   "id": "db2fbd41",
   "metadata": {},
   "source": [
    "6. La columna operation_type tampoco"
   ]
  },
  {
   "cell_type": "code",
   "execution_count": 9,
   "id": "adafeaa6",
   "metadata": {},
   "outputs": [
    {
     "data": {
      "text/plain": [
       "Venta    183810\n",
       "Name: operation_type, dtype: int64"
      ]
     },
     "execution_count": 9,
     "metadata": {},
     "output_type": "execute_result"
    }
   ],
   "source": [
    "df.operation_type.value_counts()"
   ]
  },
  {
   "cell_type": "markdown",
   "id": "7df942b8",
   "metadata": {},
   "source": [
    "7. Ver qué hacer con los casos cuyo valor en property_type == \"Casa de campo\"\n",
    "\n",
    "Hay casos de viviendas que aparecen en capital pero corresponden a publicaciones fake o casos en los que es incorrecto el valor que tiene y hay que re-imputarlo. "
   ]
  },
  {
   "cell_type": "code",
   "execution_count": 10,
   "id": "9b75a664",
   "metadata": {},
   "outputs": [
    {
     "data": {
      "text/plain": [
       "Departamento       134044\n",
       "PH                  13581\n",
       "Casa                 8743\n",
       "Lote                 7324\n",
       "Local comercial      6745\n",
       "Oficina              5886\n",
       "Cochera              5188\n",
       "Otro                 1546\n",
       "Depósito              745\n",
       "Casa de campo           8\n",
       "Name: property_type, dtype: int64"
      ]
     },
     "execution_count": 10,
     "metadata": {},
     "output_type": "execute_result"
    }
   ],
   "source": [
    "df.property_type.value_counts()"
   ]
  },
  {
   "cell_type": "code",
   "execution_count": 11,
   "id": "4dcfcc24",
   "metadata": {},
   "outputs": [
    {
     "name": "stdout",
     "output_type": "stream",
     "text": [
      "Venta de Quinta 2 DORMITORIOS, baño, living, cocina comedor, parrilla, sobre lote de 10 mts de frente por 35 mts de fondo, a una cuadra laguna en Barrio Parque Chascomús. \n",
      "\n",
      " XINTEL(STA-STA-84) \n",
      " *************************\n",
      "Corredor Responsable: Luis Varela - CSI 5527 / CUCICBA 3872Contacto: Eduardo Wain - MLS ID # 361135-194En el corazón de Floresta a pasos de múltiples líneas de colectivos  y de la estación Floresta del Tren Sarmiento, nos encontramos con este confortable y luminoso departamento de 3 ambientes con balcón francés y lavadero independiente. En excelente estado de conservación y ubicado en el quinto piso, posee un Living comedor, cuenta con dos dormitorios con muy buena luz y placards. cocina con muebles alto y bajo mesada y lavadero independiente. Baño completo. Pisos en excelentes condiciones.Expensas Enero 2021$ 5.000.-Colectivos: 1, 2, 5, 8, 25, 36, 49, 55, 63, 85, 86, 88, 92, 96, 99, 104, 113, 114, 136, 163, 172Trenes:Floresta (SARMIENTO)Las medidas son estimativas, las reales saldrán de la escritura traslativa de dominio.\"En cumplimiento de la Ley 2340 CUCICBA, Ley 10.973 de la Prov. Bs.As., Ley Nacional 25.028, Ley 22.802 de Lealtad Comercial, Ley 24.240 de Defensa al Consumidor, las normas del Código Civil y Comercial de la Nación y Constitucionales, los agentes NO ejercen el corretaje inmobiliario. Todas las operaciones inmobiliarias son objeto de intermediación y conclusión por parte de los martilleros y corredores colegiados, cuyos datos se exhiben debajo del nombre de la inmobiliaria.\" Corredor matriculado LUIS MARÍA VARELA  CUCICBA 3872 / CSI 5527. \\n\\n Comprá la casa que querés! No la que podés. Accedé a un préstamo por hasta el 30% del valor de esta propiedad. Simulá tu cuota en Lendar  \n",
      " *************************\n",
      "Corredor Responsable: Juan Francisco Carattino - CPI 5457Contacto: Agustina Scalese - MLS ID # 421331022-121Todas las propiedades que figuran en mi perfil se encuentran a cargo del profesional matriculado de la oficina, la intermediación y la conclusión de las operaciones serán llevadas exclusivamente por él.Martillero: Miriam Corrado CMCPDJQ 1042CASA QUINTA | LA REJA , MORENO | 467mts2? 167mts2 Cubiertos .? Excelente Ubicación.? Sobre calle Bustamante, rápida salida Ruta 7? A 100 mtrs de parada de Colectivos?2 dormitorios?Pileta?Jardin?Cochera para 3 autosSe escuchan ofertas!#quinta #venta #lareja #puertomadero #remaxpuerto #MUDATEALAVIDAQUEQUERESLa descripción del inmueble, expensas, impuestos, servicios y medidas han sido proporcionados por el propietario. Pueden no ajustarse a sus características y medidas reales y/o actuales. Los datos brindados pueden no estar actualizados a la hora de la visualización del aviso. Pueden existir inexactitudes, producto del paso del tiempo. Previo a la realización de cualquier operación, el interesado deberá verificar la veracidad de la información, requiriendo las copias necesarias de la documentación. \\n\\n Comprá la casa que querés! No la que podés. Accedé a un préstamo por hasta el 30% del valor de esta propiedad. Simulá tu cuota en Lendar  \n",
      " *************************\n",
      "Corredor Responsable: Viviana Uzcudun - CSI 5858Contacto: Ana Otero - MLS ID # 420591063-78CASAQUINTA CON PILETA Y PARQUE ,  UNICA EN SU ESTILO<br><br>EXCELENTE PROPIEDAD DE 5600 M2, APROXIMADAMENTE 480 M2 CUBIERTOS ENTRE AREAS CUBIERTAS Y SEMICUBIERTAS.<br><br>MARAVILLOSO PARQUE CON AÑOSA VEGETACION, VARIEDAD DE FRUTALES, DIVERSIDAD EN SU ARBOLEDA DE PALMERAS, PINOS,ROBLES, JAZMINES Y OTRAS ESPECIES. RIEGO POR ASPERSION<br><br>CASA PRINCIPAL: CUENTA CON UNA HERMOSA GALERÌA , UN AMPLIO LIVING COMEDOR CON HOGAR A LEÑA, TECHOS ALTOS Y AMPLIOS VENTANALES CON VISTA AL PARQUE, 1 BAÑO COMPLETO, COCINA CON MESADAS DE MARMOL, Y SOTANO QUE SE UTILIZA COMO DEPÒSITO, PASILLO DISTRIBUIDOR Y 2 COMODOS DORMITORIOS CON PLACARES Y PRECIOSAS VISTAS AL PARQUE .<br><br>AMPLIO QUINCHO CONSTRUIDO CON LADRILLOS A LA VISTA, TECHO DE TEJAS Y VENTANALES AL JARDIN, GRAN PARRILLA Y BACHA DE LAVADO.<br><br>VESTUARIOS: 2  DUCHAS Y 1 BAÑO DETRAS DEL QUINCHO CERCANO A LA PILETA.<br><br>COCHERA CUBIERTA: CAPACIDAD PARA 3 AUTOS MEDIANOS <br><br>CASA DE CASEROS: COCINA COMEDOR 1 BAÑO 1 DORMITORIO Y 1 LIVING<br><br>CUENTA ADEMAS CON CORRIENTE TRIFASICA, PARA ABASTECER EL ALUMBRADO DE PARQUE , LA CASA PRINCIPAL Y LA DE HUESPEDES,GARAGE Y PILETA<br><br>PILETA DE NATACION: DE 14X7 MTS CON UNA PROFUNDIDAD DE 1 METRO A 2.80 MTS CON EQUIPO DE BOMBA Y FILTRO. <br><br>CAMINO DE LAJAS A SU ALREDEDOR CONFORMANDO EL SOLARIUM RODEADO DE PALMERAS Y UNA VISTA INCREIBLE AL PARQUE<br><br>SALA DE MAQUINAS: DONDE FUNCIONA TABLERO GENERAL DE ELECTRICIDAD Y LA BOMBA DE AGUA<br><br>SERVICIOS: AGUA CORRIENTE , GAS NATURAL , CLOACAS<br><br>VIVIR EN ESTE LUGAR ES COMO ESTAR UN RATO EN EL PARAISO. <br><br>EXCELENTE UBICACION EN LA ZONA MAS SEGURA DE GRAL RODRIGUEZ. A POCO DEL CENTRO COMERCIAL, DE LA ESTACION DEL FFCC , CON FACIL ACCESO A ACCESO OESTE Y CONEXION HACIA ZONA NORTE Y ZONA SUR . A MENOS DE 1 HORA DE CAPITAL FEDERAL.<br><br>NO DUDES EN PEDIR TU RECORRIDO VIRTUAL Y UNA ENTREVISTA PROGRAMADA PARA VISITARLA. <br><br>MUDATE A LA VIDA QUE QUERES, MUDATE CON NOSOTROS<br>Si estàs necesitando algo màs para llegar a la casa de tus sueños los clientes ReMax pueden acceder a un prèstamo  Lendar de hasta el 30% del valor de tu propiedad. Consultà con el simulador accediendo a su pàgina en  <br><br>Consultànos!<br><br>REMAX , MUCHO MAS QUE MUDARTE. \\n\\n Comprá la casa que querés! No la que podés. Accedé a un préstamo por hasta el 30% del valor de esta propiedad. Simulá tu cuota en Lendar  \n",
      " *************************\n",
      "Venta DE PH \"UNA QUINTA EN CAPITAL\" DE  7 AMBIENTES O MAS en Boedo, Capital Federal.\n",
      "Hermoso oasis en medio de Boedo 170 metros cuadrados con césped, parral, higuera, limonero y paltas, espacio para huerta y zona de compost.\n",
      "\n",
      "PH de 7 ambientes repartidos en 2 plantas, ideal proyecto multifamiliar. Son 2 plantas, planta baja 2 habitaciones, living, baño, cocina, hall y quincho, parque.                   Planta alta: 2 habitaciones, living, cocina y baño.\n",
      "\n",
      "Sin Expensas.\n",
      "\n",
      "a tres cuadras de Garay y Boedo.\n",
      "\n",
      "Martillero responsable: Marcelo Pérez, Matricula Nº6644\n",
      "\n",
      "CUCICBA. \n",
      " *************************\n",
      "Corredor Responsable: Daniel Acosta - CUCICBA 2406Contacto: Valeria Cuda - MLS ID # 420151109-69VENTA QUINTA EN EL BARRIO  DE RICARDO ROJAS  LOCALIDAD \"EL TALAR\" PARTIDO DE TIGRE.TERRENO DE 30 METROS DE FRENTE POR 80 METROS DE FONDO, LO QUE HACE UN TOTAL DE  2400 METROS CUADRADOS CON 2 CASAS, UNA DE ELLAS CON 1 DORMITORIO 1 BAÑO  COCINA , LIVING  COMEDOR AMPLIO , GALERIA Y QUINCHO CON  PARILLA Y HORNO DE BARRO.LA OTRA  CASA CUENTA CON 2 DORMITORIOS 1 BAÑO, COCINA Y LINVING COMEDOR. PILETA Y HERMOSO ESPACIO VERDEDANIEL ACOSTA CUCICBA 2406 / CSI 5953\"En cumplimiento de la Ley 2340 CUCICBA, Ley 10.973 de la Prov.Bs.As., Ley Nacional 25.028, Ley 22.802 de Lealtad Comercial, Ley 24.240 de Defensa al Consumidor, las normas del Código Civil y Comercial de la Nación y Constitucionales, los agentes NO ejercen el corretaje inmobiliario. Todas las operaciones inmobiliarias son objeto de intermediacion y conclusión por parte de los martilleros y corredores colegiados, cuyos datos se exhiben debajo del nombre de la inmobiliaria. \\n\\n Comprá la casa que querés! No la que podés. Accedé a un préstamo por hasta el 30% del valor de esta propiedad. Simulá tu cuota en Lendar  \n",
      " *************************\n",
      "Excelente chalet, 5 ambientes, 3 baños, gge, fondo libre .\n",
      "\n",
      "FEDELE INMOBILIARIA DESDE 1946\n",
      "\n",
      "4686-2800 AV JUAN BAUTISTA ALBERDI 7215\n",
      "\n",
      " XINTEL(FDE-FDE-240) \n",
      " *************************\n",
      "Corredor Responsable: Daniel Aibe - CMCPD 1155Contacto: Jorge Muñiz - MLS ID # 420351024-294MARTILLERO:<br>Daniel Aibé CMCPD 1155<br><br><br><br>Excelente fracción. El Sauquito, 47 Ha, uso de suelo agropecuario, actualmente siembra con renta en una superficie de 37 ha aproximadamente. Tanque australiano y molino. Entre sus arboles esta emplazada la vivienda principal, separado de la misma un departamento para el casero, un gran deposito para guardar maquinas de corte y herramientas y una caballeriza para tres equinos. La construcción es de buena calidad y esta lista para realizar las terminaciones y decoraciones a gusto del comprador.<br>Ubicado en General Madariaga. sobre camino a la Laguna Salada Grande a 5.8 km de la ruta 74<br>.<br>NOMENCLATURA CATASTRAL:<br>Circunscripción IV<br>Parcela 202 A<br>Partida inmobiliaria: 39-10275-5<br>Matricula 23.409<br>Posee alambrado completo, molino de viento con tanque australiano. Casco estilo campo revestido en su exterior con piedra. 2 habitaciones y un baño. Casa de casero, un dormitorio, baño, comedor. Tres caballerizas y un deposito.<br><br>General Madariaga está ubicado al sudeste de la provincia de Buenos Aires, pegado a Pinamar, muy cerca de Villa Gesell y La Costa y a solo 3 horas de la Capital Federal. Es conocido por ser el pago Gaucho por excelencia donde se mantienen las tradiciones criollas y la cultura gauchesca se manifiesta en todo tipo de actividades y celebraciones.<br><br>La centenaria ciudad fundada en 1907 tiene una población de 25 mil habitantes y aún mantiene la paz de un pueblo tranquilo y amigable; ofreciendouna interesante propuesta turística basada en su patrimonio cultural ynatural, exhibiendo su arraigada tradición y el espíritu hospitalario de su gente.<br><br>Madariaga invita a deleitarse con la simplicidad de un pago gaucho, donde la cultura y tradición convocan a descubrirla, la sencillez seduce y la hospitalidad tiende una mano. \n",
      " *************************\n"
     ]
    }
   ],
   "source": [
    "for text in df[df.property_type==\"Casa de campo\"]['description']: \n",
    "    print(text,\"\\n\",\"*\"*25)"
   ]
  },
  {
   "cell_type": "markdown",
   "id": "2d1cfde2",
   "metadata": {},
   "source": [
    "8. Log del Precio\n",
    "\n",
    "Hay que ver los que no tienen precio y los que tienen precios cualca. Pero QUE LINDA que queda la variable cuando le hacés el logaritmo. "
   ]
  },
  {
   "cell_type": "code",
   "execution_count": 12,
   "id": "5aeb7cdb",
   "metadata": {},
   "outputs": [
    {
     "data": {
      "image/png": "[encoded data removed]",
      "text/plain": [
       "<Figure size 432x288 with 1 Axes>"
      ]
     },
     "metadata": {
      "needs_background": "light"
     },
     "output_type": "display_data"
    }
   ],
   "source": [
    "import matplotlib.pyplot as plt\n",
    "import numpy as np\n",
    "log_price = np.log10(df[df.price>10]['price']) \n",
    "plt.hist(log_price, bins=20)\n",
    "plt.title(\"Log price\")\n",
    "plt.show()"
   ]
  },
  {
   "cell_type": "markdown",
   "id": "a66e36a0",
   "metadata": {},
   "source": [
    "9. Quizás title y description se pueden usar para completar los nulos de rooms, bedrooms, bathrooms, etc. "
   ]
  },
  {
   "cell_type": "code",
   "execution_count": 13,
   "id": "8c6819d6",
   "metadata": {},
   "outputs": [
    {
     "data": {
      "text/plain": [
       "0                                         Exclente lote !! \n",
       "1         Excelente cochera fija y cubierta en edificio ...\n",
       "2                     Oficina comercial · 265m² · 2 Cochera\n",
       "3             Importante Oficina en Micro centro de 150 m2.\n",
       "4                                     Oficina - San Nicolas\n",
       "                                ...                        \n",
       "183805    PH 6 Ambientes c/cochera y terraza en Monte Ca...\n",
       "183806    Casa impecable en venta en la mejor zona de  -...\n",
       "183807    Impactante vista a los parques. 420 m2 con coc...\n",
       "183808                              Departamento - Belgrano\n",
       "183809    Edificio Comercial  en excelente zona de Paler...\n",
       "Name: title, Length: 183810, dtype: object"
      ]
     },
     "execution_count": 13,
     "metadata": {},
     "output_type": "execute_result"
    }
   ],
   "source": [
    "df.title"
   ]
  },
  {
   "cell_type": "code",
   "execution_count": 14,
   "id": "e160fc25",
   "metadata": {},
   "outputs": [
    {
     "data": {
      "text/plain": [
       "0         Lote 365 mts 8,90 x 43 mts C3 II.. FOT 3.6 PAR...\n",
       "1         Muy buena cochera, en el 4to piso en excelente...\n",
       "2         Gran Oportunidad! Unica piso de oficinas de 26...\n",
       "3         Importante  Oficina de de 150 m2 con palier pr...\n",
       "4         VENTA DE OFICINA A METROS DEL PALACIO DE TRIBU...\n",
       "                                ...                        \n",
       "183805    Corredor Responsable: Rene Vera - CUCICBA 6778...\n",
       "183806    Casa en pleno Belgrano R reciclada con excelen...\n",
       "183807    Piso de 419 m2 en un emblemático edificio mode...\n",
       "183808    Piso de 285mts, en la mejor zona de Belgrano.<...\n",
       "183809    Edificio Comercial CON ENTRADA INDEPENDIENTE S...\n",
       "Name: description, Length: 183810, dtype: object"
      ]
     },
     "execution_count": 14,
     "metadata": {},
     "output_type": "execute_result"
    }
   ],
   "source": [
    "df.description"
   ]
  },
  {
   "cell_type": "markdown",
   "id": "b0eda042",
   "metadata": {},
   "source": [
    "**NULOS**"
   ]
  },
  {
   "cell_type": "code",
   "execution_count": 15,
   "id": "ec642061",
   "metadata": {},
   "outputs": [
    {
     "data": {
      "text/plain": [
       "id                   0.000000\n",
       "ad_type              0.000000\n",
       "start_date           0.000000\n",
       "end_date             0.000000\n",
       "created_on           0.000000\n",
       "lat                  6.228170\n",
       "lon                  6.228170\n",
       "l1                   0.000000\n",
       "l2                   0.000000\n",
       "l3                   1.004842\n",
       "l4                  96.048637\n",
       "l5                 100.000000\n",
       "l6                 100.000000\n",
       "rooms               15.303846\n",
       "bedrooms            27.188945\n",
       "bathrooms           13.556390\n",
       "surface_total       33.133127\n",
       "surface_covered     34.017736\n",
       "price                1.845384\n",
       "currency             1.998803\n",
       "price_period        51.732768\n",
       "title                0.000000\n",
       "description          0.000000\n",
       "property_type        0.000000\n",
       "operation_type       0.000000\n",
       "dtype: float64"
      ]
     },
     "execution_count": 15,
     "metadata": {},
     "output_type": "execute_result"
    }
   ],
   "source": [
    "100*df.isna().sum()/len(df)"
   ]
  },
  {
   "cell_type": "markdown",
   "id": "eb86c29b",
   "metadata": {},
   "source": [
    "**BARRIOS**"
   ]
  },
  {
   "cell_type": "code",
   "execution_count": 16,
   "id": "bd204c63",
   "metadata": {},
   "outputs": [
    {
     "data": {
      "text/plain": [
       "Palermo                 25169\n",
       "Belgrano                21369\n",
       "Caballito               11090\n",
       "Recoleta                10382\n",
       "Villa Urquiza            8373\n",
       "Almagro                  8272\n",
       "Villa Crespo             8211\n",
       "Barrio Norte             5259\n",
       "Flores                   5199\n",
       "Nuñez                    5153\n",
       "Balvanera                4805\n",
       "Colegiales               3854\n",
       "San Nicolás              3607\n",
       "San Cristobal            3451\n",
       "Villa Devoto             3228\n",
       "Saavedra                 3121\n",
       "Puerto Madero            3075\n",
       "San Telmo                2766\n",
       "Villa del Parque         2702\n",
       "Floresta                 2462\n",
       "Boedo                    2448\n",
       "Monserrat                2378\n",
       "Retiro                   2361\n",
       "Mataderos                2273\n",
       "Barracas                 2254\n",
       "Liniers                  2078\n",
       "NaN                      1847\n",
       "Parque Chacabuco         1804\n",
       "Villa Pueyrredón         1700\n",
       "Coghlan                  1681\n",
       "Villa Luro               1677\n",
       "Congreso                 1385\n",
       "Parque Patricios         1311\n",
       "Chacarita                1308\n",
       "Villa Lugano             1235\n",
       "Paternal                 1156\n",
       "Constitución             1117\n",
       "Tribunales               1031\n",
       "Villa Ortuzar            1002\n",
       "Once                     1000\n",
       "Centro / Microcentro      939\n",
       "Villa General Mitre       757\n",
       "Monte Castro              745\n",
       "Boca                      739\n",
       "Villa Santa Rita          687\n",
       "Las Cañitas               640\n",
       "Parque Avellaneda         637\n",
       "Parque Centenario         615\n",
       "Abasto                    578\n",
       "Pompeya                   567\n",
       "Velez Sarsfield           494\n",
       "Versalles                 470\n",
       "Parque Chas               425\n",
       "Agronomía                 373\n",
       "Villa Real                238\n",
       "Villa Soldati             171\n",
       "Catalinas                  96\n",
       "Villa Riachuelo            45\n",
       "Name: l3, dtype: int64"
      ]
     },
     "execution_count": 16,
     "metadata": {},
     "output_type": "execute_result"
    }
   ],
   "source": [
    "df.l3.value_counts(dropna=False) #hay que completar nulos en esta columna y establecer criterios para normalizar (centro/microcentro, las cañitas, etc)"
   ]
  },
  {
   "cell_type": "markdown",
   "id": "d807a37c",
   "metadata": {},
   "source": [
    "Todas las start date son iguales a las created_on, alguna de las dos está al pedo. "
   ]
  },
  {
   "cell_type": "code",
   "execution_count": 17,
   "id": "15a22280",
   "metadata": {},
   "outputs": [
    {
     "data": {
      "text/plain": [
       "(183810, 25)"
      ]
     },
     "execution_count": 17,
     "metadata": {},
     "output_type": "execute_result"
    }
   ],
   "source": [
    "df[df.start_date == df.created_on].shape"
   ]
  },
  {
   "cell_type": "code",
   "execution_count": 18,
   "id": "5efe45c3",
   "metadata": {},
   "outputs": [
    {
     "data": {
      "text/plain": [
       "(3392, 25)"
      ]
     },
     "execution_count": 18,
     "metadata": {},
     "output_type": "execute_result"
    }
   ],
   "source": [
    "#993 casos en donde no tenemos superficie cubierta \n",
    "df[df.price.isna()].shape"
   ]
  },
  {
   "cell_type": "code",
   "execution_count": 19,
   "id": "e930fde0",
   "metadata": {},
   "outputs": [
    {
     "data": {
      "image/png": "[encoded data removed]",
      "text/plain": [
       "<Figure size 432x288 with 1 Axes>"
      ]
     },
     "metadata": {
      "needs_background": "light"
     },
     "output_type": "display_data"
    }
   ],
   "source": [
    "import matplotlib.pyplot as plt\n",
    "import numpy as np\n",
    "log_surface_cov = np.log10(df.surface_covered) \n",
    "plt.hist(log_surface_cov, bins=30)\n",
    "plt.title(\"Surface Covered Log\")\n",
    "plt.show()"
   ]
  },
  {
   "cell_type": "code",
   "execution_count": 20,
   "id": "9f1d6f74",
   "metadata": {},
   "outputs": [
    {
     "data": {
      "text/plain": [
       "count    121282.000000\n",
       "mean        148.706692\n",
       "std        3064.441474\n",
       "min           1.000000\n",
       "25%          41.000000\n",
       "50%          60.000000\n",
       "75%         103.000000\n",
       "max      950000.000000\n",
       "Name: surface_covered, dtype: float64"
      ]
     },
     "execution_count": 20,
     "metadata": {},
     "output_type": "execute_result"
    }
   ],
   "source": [
    "df.surface_covered.describe()"
   ]
  },
  {
   "cell_type": "code",
   "execution_count": 21,
   "id": "dcb966d1",
   "metadata": {},
   "outputs": [
    {
     "data": {
      "text/plain": [
       "count    122908.00000\n",
       "mean        174.63733\n",
       "std        1461.00811\n",
       "min          10.00000\n",
       "25%          45.00000\n",
       "50%          70.00000\n",
       "75%         127.00000\n",
       "max      140380.00000\n",
       "Name: surface_total, dtype: float64"
      ]
     },
     "execution_count": 21,
     "metadata": {},
     "output_type": "execute_result"
    }
   ],
   "source": [
    "df.surface_total.describe()"
   ]
  },
  {
   "cell_type": "code",
   "execution_count": 22,
   "id": "c529be30",
   "metadata": {},
   "outputs": [],
   "source": [
    "superficies = df.loc[df.surface_covered>df.surface_total, ['surface_covered','surface_total']]"
   ]
  },
  {
   "cell_type": "code",
   "execution_count": 23,
   "id": "1878bdcc",
   "metadata": {},
   "outputs": [],
   "source": [
    "superficies['dif'] = superficies.surface_covered - superficies.surface_total"
   ]
  },
  {
   "cell_type": "code",
   "execution_count": 24,
   "id": "c8b0080a",
   "metadata": {},
   "outputs": [
    {
     "data": {
      "text/plain": [
       "count       926.000000\n",
       "mean       1443.682505\n",
       "std       10151.407764\n",
       "min           1.000000\n",
       "25%           2.000000\n",
       "50%          12.000000\n",
       "75%          74.750000\n",
       "max      169800.000000\n",
       "Name: dif, dtype: float64"
      ]
     },
     "execution_count": 24,
     "metadata": {},
     "output_type": "execute_result"
    }
   ],
   "source": [
    "superficies.dif.describe()"
   ]
  },
  {
   "cell_type": "code",
   "execution_count": 25,
   "id": "29bc3fab",
   "metadata": {},
   "outputs": [
    {
     "data": {
      "text/html": [
       "<div>\n",
       "<style scoped>\n",
       "    .dataframe tbody tr th:only-of-type {\n",
       "        vertical-align: middle;\n",
       "    }\n",
       "\n",
       "    .dataframe tbody tr th {\n",
       "        vertical-align: top;\n",
       "    }\n",
       "\n",
       "    .dataframe thead th {\n",
       "        text-align: right;\n",
       "    }\n",
       "</style>\n",
       "<table border=\"1\" class=\"dataframe\">\n",
       "  <thead>\n",
       "    <tr style=\"text-align: right;\">\n",
       "      <th></th>\n",
       "      <th>id</th>\n",
       "      <th>ad_type</th>\n",
       "      <th>start_date</th>\n",
       "      <th>end_date</th>\n",
       "      <th>created_on</th>\n",
       "      <th>lat</th>\n",
       "      <th>lon</th>\n",
       "      <th>l1</th>\n",
       "      <th>l2</th>\n",
       "      <th>l3</th>\n",
       "      <th>...</th>\n",
       "      <th>bathrooms</th>\n",
       "      <th>surface_total</th>\n",
       "      <th>surface_covered</th>\n",
       "      <th>price</th>\n",
       "      <th>currency</th>\n",
       "      <th>price_period</th>\n",
       "      <th>title</th>\n",
       "      <th>description</th>\n",
       "      <th>property_type</th>\n",
       "      <th>operation_type</th>\n",
       "    </tr>\n",
       "  </thead>\n",
       "  <tbody>\n",
       "    <tr>\n",
       "      <th>8659</th>\n",
       "      <td>+N5Ww6XIQ7+HKJ5boLqE1w==</td>\n",
       "      <td>Propiedad</td>\n",
       "      <td>2020-06-14</td>\n",
       "      <td>2020-06-16</td>\n",
       "      <td>2020-06-14</td>\n",
       "      <td>-34.672580</td>\n",
       "      <td>-58.493400</td>\n",
       "      <td>Argentina</td>\n",
       "      <td>Capital Federal</td>\n",
       "      <td>Villa Lugano</td>\n",
       "      <td>...</td>\n",
       "      <td>NaN</td>\n",
       "      <td>244.0</td>\n",
       "      <td>63229.0</td>\n",
       "      <td>190000.0</td>\n",
       "      <td>USD</td>\n",
       "      <td>NaN</td>\n",
       "      <td>Galpon de 1 ambiente en Venta en Villa lugano</td>\n",
       "      <td>Galpon en esquina lote propio de 244 metros. -...</td>\n",
       "      <td>Depósito</td>\n",
       "      <td>Venta</td>\n",
       "    </tr>\n",
       "    <tr>\n",
       "      <th>8660</th>\n",
       "      <td>7mrPqGNQOt/Q3nlhuLaHdg==</td>\n",
       "      <td>Propiedad</td>\n",
       "      <td>2020-06-14</td>\n",
       "      <td>2020-06-16</td>\n",
       "      <td>2020-06-14</td>\n",
       "      <td>-34.630927</td>\n",
       "      <td>-58.404756</td>\n",
       "      <td>Argentina</td>\n",
       "      <td>Capital Federal</td>\n",
       "      <td>Parque Patricios</td>\n",
       "      <td>...</td>\n",
       "      <td>NaN</td>\n",
       "      <td>850.0</td>\n",
       "      <td>86664.0</td>\n",
       "      <td>750000.0</td>\n",
       "      <td>USD</td>\n",
       "      <td>NaN</td>\n",
       "      <td>Galpon de 1 ambiente en Venta en Parque patricios</td>\n",
       "      <td>Espectacular galpón sobre Terreno Propio cerca...</td>\n",
       "      <td>Depósito</td>\n",
       "      <td>Venta</td>\n",
       "    </tr>\n",
       "    <tr>\n",
       "      <th>9226</th>\n",
       "      <td>A/VDp8Xk5Hhpph4SKqLC+g==</td>\n",
       "      <td>Propiedad</td>\n",
       "      <td>2020-05-25</td>\n",
       "      <td>2020-06-10</td>\n",
       "      <td>2020-05-25</td>\n",
       "      <td>-34.582435</td>\n",
       "      <td>-58.414845</td>\n",
       "      <td>Argentina</td>\n",
       "      <td>Capital Federal</td>\n",
       "      <td>Palermo</td>\n",
       "      <td>...</td>\n",
       "      <td>2.0</td>\n",
       "      <td>194.0</td>\n",
       "      <td>1994.0</td>\n",
       "      <td>495000.0</td>\n",
       "      <td>USD</td>\n",
       "      <td>Mensual</td>\n",
       "      <td>Departamento - Botanico</td>\n",
       "      <td>Espectacular Vista Al Botánico - en Esquina, S...</td>\n",
       "      <td>Departamento</td>\n",
       "      <td>Venta</td>\n",
       "    </tr>\n",
       "    <tr>\n",
       "      <th>10626</th>\n",
       "      <td>oD9FsdrP2g/xGxUeEMx8Kw==</td>\n",
       "      <td>Propiedad</td>\n",
       "      <td>2020-07-01</td>\n",
       "      <td>2020-09-02</td>\n",
       "      <td>2020-07-01</td>\n",
       "      <td>-34.560649</td>\n",
       "      <td>-58.461678</td>\n",
       "      <td>Argentina</td>\n",
       "      <td>Capital Federal</td>\n",
       "      <td>Belgrano</td>\n",
       "      <td>...</td>\n",
       "      <td>NaN</td>\n",
       "      <td>37.0</td>\n",
       "      <td>3727.0</td>\n",
       "      <td>80000.0</td>\n",
       "      <td>USD</td>\n",
       "      <td>NaN</td>\n",
       "      <td>Venta-Local-Belgrano-Oportunidad</td>\n",
       "      <td>Corredor Responsable: Jorge Salafia - CUCICBA ...</td>\n",
       "      <td>Local comercial</td>\n",
       "      <td>Venta</td>\n",
       "    </tr>\n",
       "    <tr>\n",
       "      <th>13900</th>\n",
       "      <td>oJXjFIgMP0KzJDPDakU8Og==</td>\n",
       "      <td>Propiedad</td>\n",
       "      <td>2021-05-23</td>\n",
       "      <td>2021-06-04</td>\n",
       "      <td>2021-05-23</td>\n",
       "      <td>-34.632267</td>\n",
       "      <td>-58.479611</td>\n",
       "      <td>Argentina</td>\n",
       "      <td>Capital Federal</td>\n",
       "      <td>Floresta</td>\n",
       "      <td>...</td>\n",
       "      <td>NaN</td>\n",
       "      <td>1879.0</td>\n",
       "      <td>11796.0</td>\n",
       "      <td>1950000.0</td>\n",
       "      <td>USD</td>\n",
       "      <td>NaN</td>\n",
       "      <td>VENTA - LOTE NUEVA CONSTRUCCION - FLORESTA</td>\n",
       "      <td>Corredor Responsable: GABRIELA FERNANDEZ - CPI...</td>\n",
       "      <td>Lote</td>\n",
       "      <td>Venta</td>\n",
       "    </tr>\n",
       "    <tr>\n",
       "      <th>...</th>\n",
       "      <td>...</td>\n",
       "      <td>...</td>\n",
       "      <td>...</td>\n",
       "      <td>...</td>\n",
       "      <td>...</td>\n",
       "      <td>...</td>\n",
       "      <td>...</td>\n",
       "      <td>...</td>\n",
       "      <td>...</td>\n",
       "      <td>...</td>\n",
       "      <td>...</td>\n",
       "      <td>...</td>\n",
       "      <td>...</td>\n",
       "      <td>...</td>\n",
       "      <td>...</td>\n",
       "      <td>...</td>\n",
       "      <td>...</td>\n",
       "      <td>...</td>\n",
       "      <td>...</td>\n",
       "      <td>...</td>\n",
       "      <td>...</td>\n",
       "    </tr>\n",
       "    <tr>\n",
       "      <th>175491</th>\n",
       "      <td>eG2WBTO0kXK6EzXPcZzUyA==</td>\n",
       "      <td>Propiedad</td>\n",
       "      <td>2020-06-27</td>\n",
       "      <td>2020-07-02</td>\n",
       "      <td>2020-06-27</td>\n",
       "      <td>-34.608859</td>\n",
       "      <td>-58.402845</td>\n",
       "      <td>Argentina</td>\n",
       "      <td>Capital Federal</td>\n",
       "      <td>Balvanera</td>\n",
       "      <td>...</td>\n",
       "      <td>1.0</td>\n",
       "      <td>50.0</td>\n",
       "      <td>4694.0</td>\n",
       "      <td>68200.0</td>\n",
       "      <td>USD</td>\n",
       "      <td>NaN</td>\n",
       "      <td>Venta departamento 3 ambientes</td>\n",
       "      <td>Corredor Responsable: JUAN FRANCISCO CARATTINO...</td>\n",
       "      <td>Departamento</td>\n",
       "      <td>Venta</td>\n",
       "    </tr>\n",
       "    <tr>\n",
       "      <th>175747</th>\n",
       "      <td>DozO3UQUbuNbJKjr9mmF6A==</td>\n",
       "      <td>Propiedad</td>\n",
       "      <td>2020-06-27</td>\n",
       "      <td>2020-07-02</td>\n",
       "      <td>2020-06-27</td>\n",
       "      <td>-34.577518</td>\n",
       "      <td>-58.434342</td>\n",
       "      <td>Argentina</td>\n",
       "      <td>Capital Federal</td>\n",
       "      <td>Palermo</td>\n",
       "      <td>...</td>\n",
       "      <td>2.0</td>\n",
       "      <td>970.0</td>\n",
       "      <td>8711.0</td>\n",
       "      <td>299000.0</td>\n",
       "      <td>USD</td>\n",
       "      <td>NaN</td>\n",
       "      <td>VENTA DEPARTAMENTO 4 AMBIENTES PALERMO</td>\n",
       "      <td>Corredor Responsable: JUAN FRANCISCO CARATTINO...</td>\n",
       "      <td>Departamento</td>\n",
       "      <td>Venta</td>\n",
       "    </tr>\n",
       "    <tr>\n",
       "      <th>176602</th>\n",
       "      <td>2cEKPSS4XK/BwSml+OuP5Q==</td>\n",
       "      <td>Propiedad</td>\n",
       "      <td>2021-02-08</td>\n",
       "      <td>9999-12-31</td>\n",
       "      <td>2021-02-08</td>\n",
       "      <td>-34.602386</td>\n",
       "      <td>-58.389382</td>\n",
       "      <td>Argentina</td>\n",
       "      <td>Capital Federal</td>\n",
       "      <td>Congreso</td>\n",
       "      <td>...</td>\n",
       "      <td>2.0</td>\n",
       "      <td>971.0</td>\n",
       "      <td>97130.0</td>\n",
       "      <td>2500000.0</td>\n",
       "      <td>USD</td>\n",
       "      <td>Mensual</td>\n",
       "      <td>Local - Congreso</td>\n",
       "      <td>Frente : 15.00 m&lt;br&gt;&lt;br&gt;Fondo :   31.80 m &lt;br&gt;...</td>\n",
       "      <td>Local comercial</td>\n",
       "      <td>Venta</td>\n",
       "    </tr>\n",
       "    <tr>\n",
       "      <th>176692</th>\n",
       "      <td>KPC9D5IkuWdggIzFU4BmGQ==</td>\n",
       "      <td>Propiedad</td>\n",
       "      <td>2021-02-08</td>\n",
       "      <td>9999-12-31</td>\n",
       "      <td>2021-02-08</td>\n",
       "      <td>-34.604369</td>\n",
       "      <td>-58.378086</td>\n",
       "      <td>Argentina</td>\n",
       "      <td>Capital Federal</td>\n",
       "      <td>Centro / Microcentro</td>\n",
       "      <td>...</td>\n",
       "      <td>NaN</td>\n",
       "      <td>330.0</td>\n",
       "      <td>2500.0</td>\n",
       "      <td>1600000.0</td>\n",
       "      <td>USD</td>\n",
       "      <td>NaN</td>\n",
       "      <td>Terreno para inversión  en microcentro</td>\n",
       "      <td>Corredor Responsable: Lucrecia Saulle - CSI 55...</td>\n",
       "      <td>Lote</td>\n",
       "      <td>Venta</td>\n",
       "    </tr>\n",
       "    <tr>\n",
       "      <th>181269</th>\n",
       "      <td>YNoeIgjVc/D/p13bH/3tKQ==</td>\n",
       "      <td>Propiedad</td>\n",
       "      <td>2020-09-26</td>\n",
       "      <td>2020-09-30</td>\n",
       "      <td>2020-09-26</td>\n",
       "      <td>-34.613761</td>\n",
       "      <td>-58.406833</td>\n",
       "      <td>Argentina</td>\n",
       "      <td>Capital Federal</td>\n",
       "      <td>Balvanera</td>\n",
       "      <td>...</td>\n",
       "      <td>NaN</td>\n",
       "      <td>50.0</td>\n",
       "      <td>4980.0</td>\n",
       "      <td>69990.0</td>\n",
       "      <td>USD</td>\n",
       "      <td>NaN</td>\n",
       "      <td>LOCAL EN BALVANERA AL FRENTE CON SOTANO y BAÑO</td>\n",
       "      <td>Corredor Responsable: Mónica Silvia Martinuzzi...</td>\n",
       "      <td>Local comercial</td>\n",
       "      <td>Venta</td>\n",
       "    </tr>\n",
       "  </tbody>\n",
       "</table>\n",
       "<p>64 rows × 25 columns</p>\n",
       "</div>"
      ],
      "text/plain": [
       "                              id    ad_type  start_date    end_date  \\\n",
       "8659    +N5Ww6XIQ7+HKJ5boLqE1w==  Propiedad  2020-06-14  2020-06-16   \n",
       "8660    7mrPqGNQOt/Q3nlhuLaHdg==  Propiedad  2020-06-14  2020-06-16   \n",
       "9226    A/VDp8Xk5Hhpph4SKqLC+g==  Propiedad  2020-05-25  2020-06-10   \n",
       "10626   oD9FsdrP2g/xGxUeEMx8Kw==  Propiedad  2020-07-01  2020-09-02   \n",
       "13900   oJXjFIgMP0KzJDPDakU8Og==  Propiedad  2021-05-23  2021-06-04   \n",
       "...                          ...        ...         ...         ...   \n",
       "175491  eG2WBTO0kXK6EzXPcZzUyA==  Propiedad  2020-06-27  2020-07-02   \n",
       "175747  DozO3UQUbuNbJKjr9mmF6A==  Propiedad  2020-06-27  2020-07-02   \n",
       "176602  2cEKPSS4XK/BwSml+OuP5Q==  Propiedad  2021-02-08  9999-12-31   \n",
       "176692  KPC9D5IkuWdggIzFU4BmGQ==  Propiedad  2021-02-08  9999-12-31   \n",
       "181269  YNoeIgjVc/D/p13bH/3tKQ==  Propiedad  2020-09-26  2020-09-30   \n",
       "\n",
       "        created_on        lat        lon         l1               l2  \\\n",
       "8659    2020-06-14 -34.672580 -58.493400  Argentina  Capital Federal   \n",
       "8660    2020-06-14 -34.630927 -58.404756  Argentina  Capital Federal   \n",
       "9226    2020-05-25 -34.582435 -58.414845  Argentina  Capital Federal   \n",
       "10626   2020-07-01 -34.560649 -58.461678  Argentina  Capital Federal   \n",
       "13900   2021-05-23 -34.632267 -58.479611  Argentina  Capital Federal   \n",
       "...            ...        ...        ...        ...              ...   \n",
       "175491  2020-06-27 -34.608859 -58.402845  Argentina  Capital Federal   \n",
       "175747  2020-06-27 -34.577518 -58.434342  Argentina  Capital Federal   \n",
       "176602  2021-02-08 -34.602386 -58.389382  Argentina  Capital Federal   \n",
       "176692  2021-02-08 -34.604369 -58.378086  Argentina  Capital Federal   \n",
       "181269  2020-09-26 -34.613761 -58.406833  Argentina  Capital Federal   \n",
       "\n",
       "                          l3  ... bathrooms  surface_total  surface_covered  \\\n",
       "8659            Villa Lugano  ...       NaN          244.0          63229.0   \n",
       "8660        Parque Patricios  ...       NaN          850.0          86664.0   \n",
       "9226                 Palermo  ...       2.0          194.0           1994.0   \n",
       "10626               Belgrano  ...       NaN           37.0           3727.0   \n",
       "13900               Floresta  ...       NaN         1879.0          11796.0   \n",
       "...                      ...  ...       ...            ...              ...   \n",
       "175491             Balvanera  ...       1.0           50.0           4694.0   \n",
       "175747               Palermo  ...       2.0          970.0           8711.0   \n",
       "176602              Congreso  ...       2.0          971.0          97130.0   \n",
       "176692  Centro / Microcentro  ...       NaN          330.0           2500.0   \n",
       "181269             Balvanera  ...       NaN           50.0           4980.0   \n",
       "\n",
       "            price  currency  price_period  \\\n",
       "8659     190000.0       USD           NaN   \n",
       "8660     750000.0       USD           NaN   \n",
       "9226     495000.0       USD       Mensual   \n",
       "10626     80000.0       USD           NaN   \n",
       "13900   1950000.0       USD           NaN   \n",
       "...           ...       ...           ...   \n",
       "175491    68200.0       USD           NaN   \n",
       "175747   299000.0       USD           NaN   \n",
       "176602  2500000.0       USD       Mensual   \n",
       "176692  1600000.0       USD           NaN   \n",
       "181269    69990.0       USD           NaN   \n",
       "\n",
       "                                                    title  \\\n",
       "8659        Galpon de 1 ambiente en Venta en Villa lugano   \n",
       "8660    Galpon de 1 ambiente en Venta en Parque patricios   \n",
       "9226                              Departamento - Botanico   \n",
       "10626                    Venta-Local-Belgrano-Oportunidad   \n",
       "13900          VENTA - LOTE NUEVA CONSTRUCCION - FLORESTA   \n",
       "...                                                   ...   \n",
       "175491                     Venta departamento 3 ambientes   \n",
       "175747             VENTA DEPARTAMENTO 4 AMBIENTES PALERMO   \n",
       "176602                                   Local - Congreso   \n",
       "176692             Terreno para inversión  en microcentro   \n",
       "181269     LOCAL EN BALVANERA AL FRENTE CON SOTANO y BAÑO   \n",
       "\n",
       "                                              description    property_type  \\\n",
       "8659    Galpon en esquina lote propio de 244 metros. -...         Depósito   \n",
       "8660    Espectacular galpón sobre Terreno Propio cerca...         Depósito   \n",
       "9226    Espectacular Vista Al Botánico - en Esquina, S...     Departamento   \n",
       "10626   Corredor Responsable: Jorge Salafia - CUCICBA ...  Local comercial   \n",
       "13900   Corredor Responsable: GABRIELA FERNANDEZ - CPI...             Lote   \n",
       "...                                                   ...              ...   \n",
       "175491  Corredor Responsable: JUAN FRANCISCO CARATTINO...     Departamento   \n",
       "175747  Corredor Responsable: JUAN FRANCISCO CARATTINO...     Departamento   \n",
       "176602  Frente : 15.00 m<br><br>Fondo :   31.80 m <br>...  Local comercial   \n",
       "176692  Corredor Responsable: Lucrecia Saulle - CSI 55...             Lote   \n",
       "181269  Corredor Responsable: Mónica Silvia Martinuzzi...  Local comercial   \n",
       "\n",
       "       operation_type  \n",
       "8659            Venta  \n",
       "8660            Venta  \n",
       "9226            Venta  \n",
       "10626           Venta  \n",
       "13900           Venta  \n",
       "...               ...  \n",
       "175491          Venta  \n",
       "175747          Venta  \n",
       "176602          Venta  \n",
       "176692          Venta  \n",
       "181269          Venta  \n",
       "\n",
       "[64 rows x 25 columns]"
      ]
     },
     "execution_count": 25,
     "metadata": {},
     "output_type": "execute_result"
    }
   ],
   "source": [
    "df.loc[df.surface_covered - df.surface_total>1000, :]"
   ]
  },
  {
   "cell_type": "code",
   "execution_count": 26,
   "id": "6636441e",
   "metadata": {},
   "outputs": [
    {
     "data": {
      "text/plain": [
       "('2020-05-24', '2021-06-17')"
      ]
     },
     "execution_count": 26,
     "metadata": {},
     "output_type": "execute_result"
    }
   ],
   "source": [
    "df[\"created_on\"].min(), df[\"created_on\"].max()"
   ]
  },
  {
   "cell_type": "code",
   "execution_count": 18,
   "id": "2a26216c-05b0-4ac4-b217-c9cbee3bb38b",
   "metadata": {},
   "outputs": [],
   "source": []
  }
 ],
 "metadata": {
  "kernelspec": {
   "display_name": "Python 3 (ipykernel)",
   "language": "python",
   "name": "python3"
  },
  "language_info": {
   "codemirror_mode": {
    "name": "ipython",
    "version": 3
   },
   "file_extension": ".py",
   "mimetype": "text/x-python",
   "name": "python",
   "nbconvert_exporter": "python",
   "pygments_lexer": "ipython3",
   "version": "3.9.7"
  }
 },
 "nbformat": 4,
 "nbformat_minor": 5
}
