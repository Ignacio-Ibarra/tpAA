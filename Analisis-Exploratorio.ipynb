{
 "cells": [
  {
   "cell_type": "code",
   "execution_count": 1,
   "metadata": {},
   "outputs": [],
   "source": [
    "import pandas as pd\n",
    "\n",
    "df = pd.read_csv('./data/cabaventa.csv')\n",
    "df = df[[x for x in df.columns if \"Unnamed\" not in x]] #saco una columnas que están mal. "
   ]
  },
  {
   "cell_type": "markdown",
   "metadata": {},
   "source": [
    "1) Son todas operaciones de venta (columna sin sentido)"
   ]
  },
  {
   "cell_type": "code",
   "execution_count": 2,
   "metadata": {},
   "outputs": [
    {
     "data": {
      "text/plain": [
       "Venta    183810\n",
       "Name: operation_type, dtype: int64"
      ]
     },
     "execution_count": 2,
     "metadata": {},
     "output_type": "execute_result"
    }
   ],
   "source": [
    "df.operation_type.value_counts()"
   ]
  },
  {
   "cell_type": "markdown",
   "metadata": {},
   "source": [
    "2) Las columnas **l1** y **l2** no tiene sentido mantenerlas"
   ]
  },
  {
   "cell_type": "code",
   "execution_count": 3,
   "metadata": {},
   "outputs": [
    {
     "name": "stdout",
     "output_type": "stream",
     "text": [
      "Países incluidos en la muestra: \n",
      " Argentina    183810\n",
      "Name: l1, dtype: int64\n",
      "\n",
      "Distritos incluidos en la muestra: \n",
      " Capital Federal    183810\n",
      "Name: l2, dtype: int64\n"
     ]
    }
   ],
   "source": [
    "print(\"Países incluidos en la muestra: \\n\", df.l1.value_counts())\n",
    "print()\n",
    "print(\"Distritos incluidos en la muestra: \\n\", df.l2.value_counts())"
   ]
  },
  {
   "cell_type": "markdown",
   "metadata": {},
   "source": [
    "3) Hay que pasar todo a dólares usando tipo de cambio de la fecha. "
   ]
  },
  {
   "cell_type": "code",
   "execution_count": 4,
   "metadata": {},
   "outputs": [
    {
     "data": {
      "text/plain": [
       "USD    179806\n",
       "ARS       330\n",
       "Name: currency, dtype: int64"
      ]
     },
     "execution_count": 4,
     "metadata": {},
     "output_type": "execute_result"
    }
   ],
   "source": [
    "df.currency.value_counts()"
   ]
  },
  {
   "cell_type": "markdown",
   "metadata": {},
   "source": [
    "Antes de cualquier conversión evaluaría si los datos de precio en pesos no estan muy sucios (y si son realmente necesarios). A primera vista hay errores claros en varios registros (precio, property type)"
   ]
  },
  {
   "cell_type": "code",
   "execution_count": 6,
   "metadata": {},
   "outputs": [
    {
     "data": {
      "text/html": [
       "<div>\n",
       "<style scoped>\n",
       "    .dataframe tbody tr th:only-of-type {\n",
       "        vertical-align: middle;\n",
       "    }\n",
       "\n",
       "    .dataframe tbody tr th {\n",
       "        vertical-align: top;\n",
       "    }\n",
       "\n",
       "    .dataframe thead th {\n",
       "        text-align: right;\n",
       "    }\n",
       "</style>\n",
       "<table border=\"1\" class=\"dataframe\">\n",
       "  <thead>\n",
       "    <tr style=\"text-align: right;\">\n",
       "      <th></th>\n",
       "      <th>id</th>\n",
       "      <th>ad_type</th>\n",
       "      <th>start_date</th>\n",
       "      <th>end_date</th>\n",
       "      <th>created_on</th>\n",
       "      <th>lat</th>\n",
       "      <th>lon</th>\n",
       "      <th>l1</th>\n",
       "      <th>l2</th>\n",
       "      <th>l3</th>\n",
       "      <th>...</th>\n",
       "      <th>bathrooms</th>\n",
       "      <th>surface_total</th>\n",
       "      <th>surface_covered</th>\n",
       "      <th>price</th>\n",
       "      <th>currency</th>\n",
       "      <th>price_period</th>\n",
       "      <th>title</th>\n",
       "      <th>description</th>\n",
       "      <th>property_type</th>\n",
       "      <th>operation_type</th>\n",
       "    </tr>\n",
       "  </thead>\n",
       "  <tbody>\n",
       "    <tr>\n",
       "      <th>120</th>\n",
       "      <td>vbQ7BfTEPrIput6buZchUA==</td>\n",
       "      <td>Propiedad</td>\n",
       "      <td>2021-03-21</td>\n",
       "      <td>2021-03-25</td>\n",
       "      <td>2021-03-21</td>\n",
       "      <td>-34.630149</td>\n",
       "      <td>-58.408166</td>\n",
       "      <td>Argentina</td>\n",
       "      <td>Capital Federal</td>\n",
       "      <td>NaN</td>\n",
       "      <td>...</td>\n",
       "      <td>NaN</td>\n",
       "      <td>37.0</td>\n",
       "      <td>32.0</td>\n",
       "      <td>111000000.0</td>\n",
       "      <td>ARS</td>\n",
       "      <td>Mensual</td>\n",
       "      <td>Departamento venta</td>\n",
       "      <td>EDIFICIO MODERNO A ESTRENAR EN PARQUE PATRICIO...</td>\n",
       "      <td>Departamento</td>\n",
       "      <td>Venta</td>\n",
       "    </tr>\n",
       "    <tr>\n",
       "      <th>334</th>\n",
       "      <td>T1oZNK16P6mez/weEDYqgw==</td>\n",
       "      <td>Propiedad</td>\n",
       "      <td>2020-06-09</td>\n",
       "      <td>2020-10-26</td>\n",
       "      <td>2020-06-09</td>\n",
       "      <td>NaN</td>\n",
       "      <td>NaN</td>\n",
       "      <td>Argentina</td>\n",
       "      <td>Capital Federal</td>\n",
       "      <td>Palermo</td>\n",
       "      <td>...</td>\n",
       "      <td>NaN</td>\n",
       "      <td>300.0</td>\n",
       "      <td>280.0</td>\n",
       "      <td>700000.0</td>\n",
       "      <td>ARS</td>\n",
       "      <td>NaN</td>\n",
       "      <td>VENDO FONDO DE COMERCIO -SALON DE EVENTOS -PAL...</td>\n",
       "      <td>EXCELENTE LOCAL 2 PLANTAS EN ESQUINA -PERFECTA...</td>\n",
       "      <td>Otro</td>\n",
       "      <td>Venta</td>\n",
       "    </tr>\n",
       "    <tr>\n",
       "      <th>335</th>\n",
       "      <td>Ug4iPfizKVjIiNXV97f26Q==</td>\n",
       "      <td>Propiedad</td>\n",
       "      <td>2020-06-09</td>\n",
       "      <td>2020-09-05</td>\n",
       "      <td>2020-06-09</td>\n",
       "      <td>-34.590858</td>\n",
       "      <td>-58.399459</td>\n",
       "      <td>Argentina</td>\n",
       "      <td>Capital Federal</td>\n",
       "      <td>Recoleta</td>\n",
       "      <td>...</td>\n",
       "      <td>2.0</td>\n",
       "      <td>NaN</td>\n",
       "      <td>NaN</td>\n",
       "      <td>350000.0</td>\n",
       "      <td>ARS</td>\n",
       "      <td>NaN</td>\n",
       "      <td>Departamento · 114m² · 5 Ambientes</td>\n",
       "      <td>Larrea y French. Impecable. Todo reciclado a n...</td>\n",
       "      <td>Departamento</td>\n",
       "      <td>Venta</td>\n",
       "    </tr>\n",
       "    <tr>\n",
       "      <th>336</th>\n",
       "      <td>gRPv2W6czbVyK4VbgA1i+A==</td>\n",
       "      <td>Propiedad</td>\n",
       "      <td>2020-06-09</td>\n",
       "      <td>2020-06-15</td>\n",
       "      <td>2020-06-09</td>\n",
       "      <td>-34.619669</td>\n",
       "      <td>-58.372651</td>\n",
       "      <td>Argentina</td>\n",
       "      <td>Capital Federal</td>\n",
       "      <td>San Telmo</td>\n",
       "      <td>...</td>\n",
       "      <td>NaN</td>\n",
       "      <td>60.0</td>\n",
       "      <td>60.0</td>\n",
       "      <td>700000.0</td>\n",
       "      <td>ARS</td>\n",
       "      <td>Mensual</td>\n",
       "      <td>Fondo de Comercio - Restaurante - San Telmo</td>\n",
       "      <td>NEGOZONA&lt;br&gt;&lt;br&gt;Compra, venta y valuación de f...</td>\n",
       "      <td>Local comercial</td>\n",
       "      <td>Venta</td>\n",
       "    </tr>\n",
       "    <tr>\n",
       "      <th>900</th>\n",
       "      <td>1OzAcIdwe1hU2fg6NABdTw==</td>\n",
       "      <td>Propiedad</td>\n",
       "      <td>2020-06-20</td>\n",
       "      <td>2020-08-21</td>\n",
       "      <td>2020-06-20</td>\n",
       "      <td>-34.559541</td>\n",
       "      <td>-58.465854</td>\n",
       "      <td>Argentina</td>\n",
       "      <td>Capital Federal</td>\n",
       "      <td>Belgrano</td>\n",
       "      <td>...</td>\n",
       "      <td>NaN</td>\n",
       "      <td>NaN</td>\n",
       "      <td>NaN</td>\n",
       "      <td>1800000.0</td>\n",
       "      <td>ARS</td>\n",
       "      <td>NaN</td>\n",
       "      <td>vendo fondo de comercio gastronomico PARRILLA ...</td>\n",
       "      <td>EXCELENTE OPORTUNIDAD, LOCAL SOBRE LOTE PROPIO...</td>\n",
       "      <td>Otro</td>\n",
       "      <td>Venta</td>\n",
       "    </tr>\n",
       "    <tr>\n",
       "      <th>...</th>\n",
       "      <td>...</td>\n",
       "      <td>...</td>\n",
       "      <td>...</td>\n",
       "      <td>...</td>\n",
       "      <td>...</td>\n",
       "      <td>...</td>\n",
       "      <td>...</td>\n",
       "      <td>...</td>\n",
       "      <td>...</td>\n",
       "      <td>...</td>\n",
       "      <td>...</td>\n",
       "      <td>...</td>\n",
       "      <td>...</td>\n",
       "      <td>...</td>\n",
       "      <td>...</td>\n",
       "      <td>...</td>\n",
       "      <td>...</td>\n",
       "      <td>...</td>\n",
       "      <td>...</td>\n",
       "      <td>...</td>\n",
       "      <td>...</td>\n",
       "    </tr>\n",
       "    <tr>\n",
       "      <th>176529</th>\n",
       "      <td>oFuWfG6vSi3hlpfW8lqTRw==</td>\n",
       "      <td>Propiedad</td>\n",
       "      <td>2021-02-08</td>\n",
       "      <td>9999-12-31</td>\n",
       "      <td>2021-02-08</td>\n",
       "      <td>-32.456247</td>\n",
       "      <td>-60.884202</td>\n",
       "      <td>Argentina</td>\n",
       "      <td>Capital Federal</td>\n",
       "      <td>NaN</td>\n",
       "      <td>...</td>\n",
       "      <td>NaN</td>\n",
       "      <td>230.0</td>\n",
       "      <td>NaN</td>\n",
       "      <td>450000.0</td>\n",
       "      <td>ARS</td>\n",
       "      <td>Mensual</td>\n",
       "      <td>Dos lotes en Maciel</td>\n",
       "      <td>Ubicado en la esquina de corrientes y tucuman....</td>\n",
       "      <td>Lote</td>\n",
       "      <td>Venta</td>\n",
       "    </tr>\n",
       "    <tr>\n",
       "      <th>176530</th>\n",
       "      <td>3Dp04I2v+r0aarZAet8Rww==</td>\n",
       "      <td>Propiedad</td>\n",
       "      <td>2021-02-08</td>\n",
       "      <td>2021-02-08</td>\n",
       "      <td>2021-02-08</td>\n",
       "      <td>-34.620311</td>\n",
       "      <td>-58.429704</td>\n",
       "      <td>Argentina</td>\n",
       "      <td>Capital Federal</td>\n",
       "      <td>Caballito</td>\n",
       "      <td>...</td>\n",
       "      <td>1.0</td>\n",
       "      <td>NaN</td>\n",
       "      <td>NaN</td>\n",
       "      <td>19120000.0</td>\n",
       "      <td>ARS</td>\n",
       "      <td>Mensual</td>\n",
       "      <td>Departamento en Venta en Caballito, Capital fe...</td>\n",
       "      <td>VENTA DEPARTAMENTO 2 AMBIENTES CABALLITO\\nUnid...</td>\n",
       "      <td>Departamento</td>\n",
       "      <td>Venta</td>\n",
       "    </tr>\n",
       "    <tr>\n",
       "      <th>176531</th>\n",
       "      <td>LtDIBw20FvqH0Qs/a2epYQ==</td>\n",
       "      <td>Propiedad</td>\n",
       "      <td>2021-02-08</td>\n",
       "      <td>9999-12-31</td>\n",
       "      <td>2021-02-08</td>\n",
       "      <td>-34.620311</td>\n",
       "      <td>-58.429704</td>\n",
       "      <td>Argentina</td>\n",
       "      <td>Capital Federal</td>\n",
       "      <td>Caballito</td>\n",
       "      <td>...</td>\n",
       "      <td>1.0</td>\n",
       "      <td>NaN</td>\n",
       "      <td>NaN</td>\n",
       "      <td>19120000.0</td>\n",
       "      <td>ARS</td>\n",
       "      <td>NaN</td>\n",
       "      <td>Departamento en Venta en Caballito, Capital fe...</td>\n",
       "      <td>VENTA DEPARTAMENTO 2 AMBIENTES CABALLITO\\nUnid...</td>\n",
       "      <td>Departamento</td>\n",
       "      <td>Venta</td>\n",
       "    </tr>\n",
       "    <tr>\n",
       "      <th>183308</th>\n",
       "      <td>wo4n8IL8/ZpDyryH031quQ==</td>\n",
       "      <td>Propiedad</td>\n",
       "      <td>2020-12-04</td>\n",
       "      <td>9999-12-31</td>\n",
       "      <td>2020-12-04</td>\n",
       "      <td>-34.561137</td>\n",
       "      <td>-58.473743</td>\n",
       "      <td>Argentina</td>\n",
       "      <td>Capital Federal</td>\n",
       "      <td>Coghlan</td>\n",
       "      <td>...</td>\n",
       "      <td>1.0</td>\n",
       "      <td>70.0</td>\n",
       "      <td>70.0</td>\n",
       "      <td>25000000.0</td>\n",
       "      <td>ARS</td>\n",
       "      <td>Mensual</td>\n",
       "      <td>VENTA EMPRESA / FONDO DE COMERCIO LOCAL / TIEN...</td>\n",
       "      <td>Se vende exitosa empresa de venta de instrumen...</td>\n",
       "      <td>Local comercial</td>\n",
       "      <td>Venta</td>\n",
       "    </tr>\n",
       "    <tr>\n",
       "      <th>183309</th>\n",
       "      <td>QUL8fCX4zcDpfi3lxtRoPw==</td>\n",
       "      <td>Propiedad</td>\n",
       "      <td>2020-12-04</td>\n",
       "      <td>2020-12-11</td>\n",
       "      <td>2020-12-04</td>\n",
       "      <td>-34.647063</td>\n",
       "      <td>-58.484833</td>\n",
       "      <td>Argentina</td>\n",
       "      <td>Capital Federal</td>\n",
       "      <td>Parque Avellaneda</td>\n",
       "      <td>...</td>\n",
       "      <td>2.0</td>\n",
       "      <td>290.0</td>\n",
       "      <td>260.0</td>\n",
       "      <td>450000.0</td>\n",
       "      <td>ARS</td>\n",
       "      <td>Mensual</td>\n",
       "      <td>Casa - Parque Avellaneda</td>\n",
       "      <td>Vendemos Hermosa Casa de 6 Ambientes &lt;br&gt;&lt;br&gt;C...</td>\n",
       "      <td>Casa</td>\n",
       "      <td>Venta</td>\n",
       "    </tr>\n",
       "  </tbody>\n",
       "</table>\n",
       "<p>330 rows × 25 columns</p>\n",
       "</div>"
      ],
      "text/plain": [
       "                              id    ad_type  start_date    end_date  \\\n",
       "120     vbQ7BfTEPrIput6buZchUA==  Propiedad  2021-03-21  2021-03-25   \n",
       "334     T1oZNK16P6mez/weEDYqgw==  Propiedad  2020-06-09  2020-10-26   \n",
       "335     Ug4iPfizKVjIiNXV97f26Q==  Propiedad  2020-06-09  2020-09-05   \n",
       "336     gRPv2W6czbVyK4VbgA1i+A==  Propiedad  2020-06-09  2020-06-15   \n",
       "900     1OzAcIdwe1hU2fg6NABdTw==  Propiedad  2020-06-20  2020-08-21   \n",
       "...                          ...        ...         ...         ...   \n",
       "176529  oFuWfG6vSi3hlpfW8lqTRw==  Propiedad  2021-02-08  9999-12-31   \n",
       "176530  3Dp04I2v+r0aarZAet8Rww==  Propiedad  2021-02-08  2021-02-08   \n",
       "176531  LtDIBw20FvqH0Qs/a2epYQ==  Propiedad  2021-02-08  9999-12-31   \n",
       "183308  wo4n8IL8/ZpDyryH031quQ==  Propiedad  2020-12-04  9999-12-31   \n",
       "183309  QUL8fCX4zcDpfi3lxtRoPw==  Propiedad  2020-12-04  2020-12-11   \n",
       "\n",
       "        created_on        lat        lon         l1               l2  \\\n",
       "120     2021-03-21 -34.630149 -58.408166  Argentina  Capital Federal   \n",
       "334     2020-06-09        NaN        NaN  Argentina  Capital Federal   \n",
       "335     2020-06-09 -34.590858 -58.399459  Argentina  Capital Federal   \n",
       "336     2020-06-09 -34.619669 -58.372651  Argentina  Capital Federal   \n",
       "900     2020-06-20 -34.559541 -58.465854  Argentina  Capital Federal   \n",
       "...            ...        ...        ...        ...              ...   \n",
       "176529  2021-02-08 -32.456247 -60.884202  Argentina  Capital Federal   \n",
       "176530  2021-02-08 -34.620311 -58.429704  Argentina  Capital Federal   \n",
       "176531  2021-02-08 -34.620311 -58.429704  Argentina  Capital Federal   \n",
       "183308  2020-12-04 -34.561137 -58.473743  Argentina  Capital Federal   \n",
       "183309  2020-12-04 -34.647063 -58.484833  Argentina  Capital Federal   \n",
       "\n",
       "                       l3  ... bathrooms  surface_total  surface_covered  \\\n",
       "120                   NaN  ...       NaN           37.0             32.0   \n",
       "334               Palermo  ...       NaN          300.0            280.0   \n",
       "335              Recoleta  ...       2.0            NaN              NaN   \n",
       "336             San Telmo  ...       NaN           60.0             60.0   \n",
       "900              Belgrano  ...       NaN            NaN              NaN   \n",
       "...                   ...  ...       ...            ...              ...   \n",
       "176529                NaN  ...       NaN          230.0              NaN   \n",
       "176530          Caballito  ...       1.0            NaN              NaN   \n",
       "176531          Caballito  ...       1.0            NaN              NaN   \n",
       "183308            Coghlan  ...       1.0           70.0             70.0   \n",
       "183309  Parque Avellaneda  ...       2.0          290.0            260.0   \n",
       "\n",
       "              price  currency  price_period  \\\n",
       "120     111000000.0       ARS       Mensual   \n",
       "334        700000.0       ARS           NaN   \n",
       "335        350000.0       ARS           NaN   \n",
       "336        700000.0       ARS       Mensual   \n",
       "900       1800000.0       ARS           NaN   \n",
       "...             ...       ...           ...   \n",
       "176529     450000.0       ARS       Mensual   \n",
       "176530   19120000.0       ARS       Mensual   \n",
       "176531   19120000.0       ARS           NaN   \n",
       "183308   25000000.0       ARS       Mensual   \n",
       "183309     450000.0       ARS       Mensual   \n",
       "\n",
       "                                                    title  \\\n",
       "120                                    Departamento venta   \n",
       "334     VENDO FONDO DE COMERCIO -SALON DE EVENTOS -PAL...   \n",
       "335                    Departamento · 114m² · 5 Ambientes   \n",
       "336           Fondo de Comercio - Restaurante - San Telmo   \n",
       "900     vendo fondo de comercio gastronomico PARRILLA ...   \n",
       "...                                                   ...   \n",
       "176529                               Dos lotes en Maciel    \n",
       "176530  Departamento en Venta en Caballito, Capital fe...   \n",
       "176531  Departamento en Venta en Caballito, Capital fe...   \n",
       "183308  VENTA EMPRESA / FONDO DE COMERCIO LOCAL / TIEN...   \n",
       "183309                           Casa - Parque Avellaneda   \n",
       "\n",
       "                                              description    property_type  \\\n",
       "120     EDIFICIO MODERNO A ESTRENAR EN PARQUE PATRICIO...     Departamento   \n",
       "334     EXCELENTE LOCAL 2 PLANTAS EN ESQUINA -PERFECTA...             Otro   \n",
       "335     Larrea y French. Impecable. Todo reciclado a n...     Departamento   \n",
       "336     NEGOZONA<br><br>Compra, venta y valuación de f...  Local comercial   \n",
       "900     EXCELENTE OPORTUNIDAD, LOCAL SOBRE LOTE PROPIO...             Otro   \n",
       "...                                                   ...              ...   \n",
       "176529  Ubicado en la esquina de corrientes y tucuman....             Lote   \n",
       "176530  VENTA DEPARTAMENTO 2 AMBIENTES CABALLITO\\nUnid...     Departamento   \n",
       "176531  VENTA DEPARTAMENTO 2 AMBIENTES CABALLITO\\nUnid...     Departamento   \n",
       "183308  Se vende exitosa empresa de venta de instrumen...  Local comercial   \n",
       "183309  Vendemos Hermosa Casa de 6 Ambientes <br><br>C...             Casa   \n",
       "\n",
       "       operation_type  \n",
       "120             Venta  \n",
       "334             Venta  \n",
       "335             Venta  \n",
       "336             Venta  \n",
       "900             Venta  \n",
       "...               ...  \n",
       "176529          Venta  \n",
       "176530          Venta  \n",
       "176531          Venta  \n",
       "183308          Venta  \n",
       "183309          Venta  \n",
       "\n",
       "[330 rows x 25 columns]"
      ]
     },
     "execution_count": 6,
     "metadata": {},
     "output_type": "execute_result"
    }
   ],
   "source": [
    "df[df.currency==\"ARS\"]"
   ]
  },
  {
   "cell_type": "code",
   "execution_count": 18,
   "metadata": {},
   "outputs": [
    {
     "data": {
      "text/html": [
       "<div>\n",
       "<style scoped>\n",
       "    .dataframe tbody tr th:only-of-type {\n",
       "        vertical-align: middle;\n",
       "    }\n",
       "\n",
       "    .dataframe tbody tr th {\n",
       "        vertical-align: top;\n",
       "    }\n",
       "\n",
       "    .dataframe thead th {\n",
       "        text-align: right;\n",
       "    }\n",
       "</style>\n",
       "<table border=\"1\" class=\"dataframe\">\n",
       "  <thead>\n",
       "    <tr style=\"text-align: right;\">\n",
       "      <th></th>\n",
       "      <th>price</th>\n",
       "      <th>property_type</th>\n",
       "      <th>title</th>\n",
       "      <th>description</th>\n",
       "      <th>property_type</th>\n",
       "      <th>operation_type</th>\n",
       "    </tr>\n",
       "  </thead>\n",
       "  <tbody>\n",
       "    <tr>\n",
       "      <th>120</th>\n",
       "      <td>111000000.0</td>\n",
       "      <td>Departamento</td>\n",
       "      <td>Departamento venta</td>\n",
       "      <td>EDIFICIO MODERNO A ESTRENAR EN PARQUE PATRICIO...</td>\n",
       "      <td>Departamento</td>\n",
       "      <td>Venta</td>\n",
       "    </tr>\n",
       "    <tr>\n",
       "      <th>334</th>\n",
       "      <td>700000.0</td>\n",
       "      <td>Otro</td>\n",
       "      <td>VENDO FONDO DE COMERCIO -SALON DE EVENTOS -PAL...</td>\n",
       "      <td>EXCELENTE LOCAL 2 PLANTAS EN ESQUINA -PERFECTA...</td>\n",
       "      <td>Otro</td>\n",
       "      <td>Venta</td>\n",
       "    </tr>\n",
       "    <tr>\n",
       "      <th>335</th>\n",
       "      <td>350000.0</td>\n",
       "      <td>Departamento</td>\n",
       "      <td>Departamento · 114m² · 5 Ambientes</td>\n",
       "      <td>Larrea y French. Impecable. Todo reciclado a n...</td>\n",
       "      <td>Departamento</td>\n",
       "      <td>Venta</td>\n",
       "    </tr>\n",
       "    <tr>\n",
       "      <th>336</th>\n",
       "      <td>700000.0</td>\n",
       "      <td>Local comercial</td>\n",
       "      <td>Fondo de Comercio - Restaurante - San Telmo</td>\n",
       "      <td>NEGOZONA&lt;br&gt;&lt;br&gt;Compra, venta y valuación de f...</td>\n",
       "      <td>Local comercial</td>\n",
       "      <td>Venta</td>\n",
       "    </tr>\n",
       "    <tr>\n",
       "      <th>900</th>\n",
       "      <td>1800000.0</td>\n",
       "      <td>Otro</td>\n",
       "      <td>vendo fondo de comercio gastronomico PARRILLA ...</td>\n",
       "      <td>EXCELENTE OPORTUNIDAD, LOCAL SOBRE LOTE PROPIO...</td>\n",
       "      <td>Otro</td>\n",
       "      <td>Venta</td>\n",
       "    </tr>\n",
       "  </tbody>\n",
       "</table>\n",
       "</div>"
      ],
      "text/plain": [
       "           price    property_type  \\\n",
       "120  111000000.0     Departamento   \n",
       "334     700000.0             Otro   \n",
       "335     350000.0     Departamento   \n",
       "336     700000.0  Local comercial   \n",
       "900    1800000.0             Otro   \n",
       "\n",
       "                                                 title  \\\n",
       "120                                 Departamento venta   \n",
       "334  VENDO FONDO DE COMERCIO -SALON DE EVENTOS -PAL...   \n",
       "335                 Departamento · 114m² · 5 Ambientes   \n",
       "336        Fondo de Comercio - Restaurante - San Telmo   \n",
       "900  vendo fondo de comercio gastronomico PARRILLA ...   \n",
       "\n",
       "                                           description    property_type  \\\n",
       "120  EDIFICIO MODERNO A ESTRENAR EN PARQUE PATRICIO...     Departamento   \n",
       "334  EXCELENTE LOCAL 2 PLANTAS EN ESQUINA -PERFECTA...             Otro   \n",
       "335  Larrea y French. Impecable. Todo reciclado a n...     Departamento   \n",
       "336  NEGOZONA<br><br>Compra, venta y valuación de f...  Local comercial   \n",
       "900  EXCELENTE OPORTUNIDAD, LOCAL SOBRE LOTE PROPIO...             Otro   \n",
       "\n",
       "    operation_type  \n",
       "120          Venta  \n",
       "334          Venta  \n",
       "335          Venta  \n",
       "336          Venta  \n",
       "900          Venta  "
      ]
     },
     "execution_count": 18,
     "metadata": {},
     "output_type": "execute_result"
    }
   ],
   "source": [
    "df[['price', 'property_type', 'title', 'description', 'property_type', 'operation_type']][df[\"currency\"]==\"ARS\"].head()"
   ]
  },
  {
   "cell_type": "markdown",
   "metadata": {},
   "source": [
    "4. La columna price_period tampoco tiene sentido???? (verrrrrr tema nulos)"
   ]
  },
  {
   "cell_type": "code",
   "execution_count": 9,
   "metadata": {},
   "outputs": [
    {
     "data": {
      "text/plain": [
       "Mensual    88720\n",
       "Name: price_period, dtype: int64"
      ]
     },
     "execution_count": 9,
     "metadata": {},
     "output_type": "execute_result"
    }
   ],
   "source": [
    "df.price_period.value_counts()"
   ]
  },
  {
   "cell_type": "markdown",
   "metadata": {},
   "source": [
    "5. La columna ad_type tampoco tiene sentido"
   ]
  },
  {
   "cell_type": "code",
   "execution_count": 11,
   "metadata": {},
   "outputs": [
    {
     "data": {
      "text/plain": [
       "Propiedad    183810\n",
       "Name: ad_type, dtype: int64"
      ]
     },
     "execution_count": 11,
     "metadata": {},
     "output_type": "execute_result"
    }
   ],
   "source": [
    "df.ad_type.value_counts()"
   ]
  },
  {
   "cell_type": "markdown",
   "metadata": {},
   "source": [
    "6. La columna operation_type tampoco"
   ]
  },
  {
   "cell_type": "code",
   "execution_count": 13,
   "metadata": {},
   "outputs": [
    {
     "data": {
      "text/plain": [
       "Venta    183810\n",
       "Name: operation_type, dtype: int64"
      ]
     },
     "execution_count": 13,
     "metadata": {},
     "output_type": "execute_result"
    }
   ],
   "source": [
    "df.operation_type.value_counts()"
   ]
  },
  {
   "cell_type": "markdown",
   "metadata": {},
   "source": [
    "7. Ver qué hacer con los casos cuyo valor en property_type == \"Casa de campo\"\n",
    "\n",
    "Hay casos de viviendas que aparecen en capital pero corresponden a publicaciones fake o casos en los que es incorrecto el valor que tiene y hay que re-imputarlo. "
   ]
  },
  {
   "cell_type": "code",
   "execution_count": 37,
   "metadata": {},
   "outputs": [
    {
     "data": {
      "text/plain": [
       "Departamento       134044\n",
       "PH                  13581\n",
       "Casa                 8743\n",
       "Lote                 7324\n",
       "Local comercial      6745\n",
       "Oficina              5886\n",
       "Cochera              5188\n",
       "Otro                 1546\n",
       "Depósito              745\n",
       "Casa de campo           8\n",
       "Name: property_type, dtype: int64"
      ]
     },
     "execution_count": 37,
     "metadata": {},
     "output_type": "execute_result"
    }
   ],
   "source": [
    "df.property_type.value_counts()"
   ]
  },
  {
   "cell_type": "code",
   "execution_count": 8,
   "metadata": {},
   "outputs": [
    {
     "name": "stdout",
     "output_type": "stream",
     "text": [
      "Venta de Quinta 2 DORMITORIOS, baño, living, cocina comedor, parrilla, sobre lote de 10 mts de frente por 35 mts de fondo, a una cuadra laguna en Barrio Parque Chascomús. \n",
      "\n",
      " XINTEL(STA-STA-84) \n",
      " *************************\n",
      "Corredor Responsable: Luis Varela - CSI 5527 / CUCICBA 3872Contacto: Eduardo Wain - MLS ID # 361135-194En el corazón de Floresta a pasos de múltiples líneas de colectivos  y de la estación Floresta del Tren Sarmiento, nos encontramos con este confortable y luminoso departamento de 3 ambientes con balcón francés y lavadero independiente. En excelente estado de conservación y ubicado en el quinto piso, posee un Living comedor, cuenta con dos dormitorios con muy buena luz y placards. cocina con muebles alto y bajo mesada y lavadero independiente. Baño completo. Pisos en excelentes condiciones.Expensas Enero 2021$ 5.000.-Colectivos: 1, 2, 5, 8, 25, 36, 49, 55, 63, 85, 86, 88, 92, 96, 99, 104, 113, 114, 136, 163, 172Trenes:Floresta (SARMIENTO)Las medidas son estimativas, las reales saldrán de la escritura traslativa de dominio.\"En cumplimiento de la Ley 2340 CUCICBA, Ley 10.973 de la Prov. Bs.As., Ley Nacional 25.028, Ley 22.802 de Lealtad Comercial, Ley 24.240 de Defensa al Consumidor, las normas del Código Civil y Comercial de la Nación y Constitucionales, los agentes NO ejercen el corretaje inmobiliario. Todas las operaciones inmobiliarias son objeto de intermediación y conclusión por parte de los martilleros y corredores colegiados, cuyos datos se exhiben debajo del nombre de la inmobiliaria.\" Corredor matriculado LUIS MARÍA VARELA  CUCICBA 3872 / CSI 5527. \\n\\n Comprá la casa que querés! No la que podés. Accedé a un préstamo por hasta el 30% del valor de esta propiedad. Simulá tu cuota en Lendar  \n",
      " *************************\n",
      "Corredor Responsable: Juan Francisco Carattino - CPI 5457Contacto: Agustina Scalese - MLS ID # 421331022-121Todas las propiedades que figuran en mi perfil se encuentran a cargo del profesional matriculado de la oficina, la intermediación y la conclusión de las operaciones serán llevadas exclusivamente por él.Martillero: Miriam Corrado CMCPDJQ 1042CASA QUINTA | LA REJA , MORENO | 467mts2? 167mts2 Cubiertos .? Excelente Ubicación.? Sobre calle Bustamante, rápida salida Ruta 7? A 100 mtrs de parada de Colectivos?2 dormitorios?Pileta?Jardin?Cochera para 3 autosSe escuchan ofertas!#quinta #venta #lareja #puertomadero #remaxpuerto #MUDATEALAVIDAQUEQUERESLa descripción del inmueble, expensas, impuestos, servicios y medidas han sido proporcionados por el propietario. Pueden no ajustarse a sus características y medidas reales y/o actuales. Los datos brindados pueden no estar actualizados a la hora de la visualización del aviso. Pueden existir inexactitudes, producto del paso del tiempo. Previo a la realización de cualquier operación, el interesado deberá verificar la veracidad de la información, requiriendo las copias necesarias de la documentación. \\n\\n Comprá la casa que querés! No la que podés. Accedé a un préstamo por hasta el 30% del valor de esta propiedad. Simulá tu cuota en Lendar  \n",
      " *************************\n",
      "Corredor Responsable: Viviana Uzcudun - CSI 5858Contacto: Ana Otero - MLS ID # 420591063-78CASAQUINTA CON PILETA Y PARQUE ,  UNICA EN SU ESTILO<br><br>EXCELENTE PROPIEDAD DE 5600 M2, APROXIMADAMENTE 480 M2 CUBIERTOS ENTRE AREAS CUBIERTAS Y SEMICUBIERTAS.<br><br>MARAVILLOSO PARQUE CON AÑOSA VEGETACION, VARIEDAD DE FRUTALES, DIVERSIDAD EN SU ARBOLEDA DE PALMERAS, PINOS,ROBLES, JAZMINES Y OTRAS ESPECIES. RIEGO POR ASPERSION<br><br>CASA PRINCIPAL: CUENTA CON UNA HERMOSA GALERÌA , UN AMPLIO LIVING COMEDOR CON HOGAR A LEÑA, TECHOS ALTOS Y AMPLIOS VENTANALES CON VISTA AL PARQUE, 1 BAÑO COMPLETO, COCINA CON MESADAS DE MARMOL, Y SOTANO QUE SE UTILIZA COMO DEPÒSITO, PASILLO DISTRIBUIDOR Y 2 COMODOS DORMITORIOS CON PLACARES Y PRECIOSAS VISTAS AL PARQUE .<br><br>AMPLIO QUINCHO CONSTRUIDO CON LADRILLOS A LA VISTA, TECHO DE TEJAS Y VENTANALES AL JARDIN, GRAN PARRILLA Y BACHA DE LAVADO.<br><br>VESTUARIOS: 2  DUCHAS Y 1 BAÑO DETRAS DEL QUINCHO CERCANO A LA PILETA.<br><br>COCHERA CUBIERTA: CAPACIDAD PARA 3 AUTOS MEDIANOS <br><br>CASA DE CASEROS: COCINA COMEDOR 1 BAÑO 1 DORMITORIO Y 1 LIVING<br><br>CUENTA ADEMAS CON CORRIENTE TRIFASICA, PARA ABASTECER EL ALUMBRADO DE PARQUE , LA CASA PRINCIPAL Y LA DE HUESPEDES,GARAGE Y PILETA<br><br>PILETA DE NATACION: DE 14X7 MTS CON UNA PROFUNDIDAD DE 1 METRO A 2.80 MTS CON EQUIPO DE BOMBA Y FILTRO. <br><br>CAMINO DE LAJAS A SU ALREDEDOR CONFORMANDO EL SOLARIUM RODEADO DE PALMERAS Y UNA VISTA INCREIBLE AL PARQUE<br><br>SALA DE MAQUINAS: DONDE FUNCIONA TABLERO GENERAL DE ELECTRICIDAD Y LA BOMBA DE AGUA<br><br>SERVICIOS: AGUA CORRIENTE , GAS NATURAL , CLOACAS<br><br>VIVIR EN ESTE LUGAR ES COMO ESTAR UN RATO EN EL PARAISO. <br><br>EXCELENTE UBICACION EN LA ZONA MAS SEGURA DE GRAL RODRIGUEZ. A POCO DEL CENTRO COMERCIAL, DE LA ESTACION DEL FFCC , CON FACIL ACCESO A ACCESO OESTE Y CONEXION HACIA ZONA NORTE Y ZONA SUR . A MENOS DE 1 HORA DE CAPITAL FEDERAL.<br><br>NO DUDES EN PEDIR TU RECORRIDO VIRTUAL Y UNA ENTREVISTA PROGRAMADA PARA VISITARLA. <br><br>MUDATE A LA VIDA QUE QUERES, MUDATE CON NOSOTROS<br>Si estàs necesitando algo màs para llegar a la casa de tus sueños los clientes ReMax pueden acceder a un prèstamo  Lendar de hasta el 30% del valor de tu propiedad. Consultà con el simulador accediendo a su pàgina en  <br><br>Consultànos!<br><br>REMAX , MUCHO MAS QUE MUDARTE. \\n\\n Comprá la casa que querés! No la que podés. Accedé a un préstamo por hasta el 30% del valor de esta propiedad. Simulá tu cuota en Lendar  \n",
      " *************************\n",
      "Venta DE PH \"UNA QUINTA EN CAPITAL\" DE  7 AMBIENTES O MAS en Boedo, Capital Federal.\n",
      "Hermoso oasis en medio de Boedo 170 metros cuadrados con césped, parral, higuera, limonero y paltas, espacio para huerta y zona de compost.\n",
      "\n",
      "PH de 7 ambientes repartidos en 2 plantas, ideal proyecto multifamiliar. Son 2 plantas, planta baja 2 habitaciones, living, baño, cocina, hall y quincho, parque.                   Planta alta: 2 habitaciones, living, cocina y baño.\n",
      "\n",
      "Sin Expensas.\n",
      "\n",
      "a tres cuadras de Garay y Boedo.\n",
      "\n",
      "Martillero responsable: Marcelo Pérez, Matricula Nº6644\n",
      "\n",
      "CUCICBA. \n",
      " *************************\n",
      "Corredor Responsable: Daniel Acosta - CUCICBA 2406Contacto: Valeria Cuda - MLS ID # 420151109-69VENTA QUINTA EN EL BARRIO  DE RICARDO ROJAS  LOCALIDAD \"EL TALAR\" PARTIDO DE TIGRE.TERRENO DE 30 METROS DE FRENTE POR 80 METROS DE FONDO, LO QUE HACE UN TOTAL DE  2400 METROS CUADRADOS CON 2 CASAS, UNA DE ELLAS CON 1 DORMITORIO 1 BAÑO  COCINA , LIVING  COMEDOR AMPLIO , GALERIA Y QUINCHO CON  PARILLA Y HORNO DE BARRO.LA OTRA  CASA CUENTA CON 2 DORMITORIOS 1 BAÑO, COCINA Y LINVING COMEDOR. PILETA Y HERMOSO ESPACIO VERDEDANIEL ACOSTA CUCICBA 2406 / CSI 5953\"En cumplimiento de la Ley 2340 CUCICBA, Ley 10.973 de la Prov.Bs.As., Ley Nacional 25.028, Ley 22.802 de Lealtad Comercial, Ley 24.240 de Defensa al Consumidor, las normas del Código Civil y Comercial de la Nación y Constitucionales, los agentes NO ejercen el corretaje inmobiliario. Todas las operaciones inmobiliarias son objeto de intermediacion y conclusión por parte de los martilleros y corredores colegiados, cuyos datos se exhiben debajo del nombre de la inmobiliaria. \\n\\n Comprá la casa que querés! No la que podés. Accedé a un préstamo por hasta el 30% del valor de esta propiedad. Simulá tu cuota en Lendar  \n",
      " *************************\n",
      "Excelente chalet, 5 ambientes, 3 baños, gge, fondo libre .\n",
      "\n",
      "FEDELE INMOBILIARIA DESDE 1946\n",
      "\n",
      "4686-2800 AV JUAN BAUTISTA ALBERDI 7215\n",
      "\n",
      " XINTEL(FDE-FDE-240) \n",
      " *************************\n",
      "Corredor Responsable: Daniel Aibe - CMCPD 1155Contacto: Jorge Muñiz - MLS ID # 420351024-294MARTILLERO:<br>Daniel Aibé CMCPD 1155<br><br><br><br>Excelente fracción. El Sauquito, 47 Ha, uso de suelo agropecuario, actualmente siembra con renta en una superficie de 37 ha aproximadamente. Tanque australiano y molino. Entre sus arboles esta emplazada la vivienda principal, separado de la misma un departamento para el casero, un gran deposito para guardar maquinas de corte y herramientas y una caballeriza para tres equinos. La construcción es de buena calidad y esta lista para realizar las terminaciones y decoraciones a gusto del comprador.<br>Ubicado en General Madariaga. sobre camino a la Laguna Salada Grande a 5.8 km de la ruta 74<br>.<br>NOMENCLATURA CATASTRAL:<br>Circunscripción IV<br>Parcela 202 A<br>Partida inmobiliaria: 39-10275-5<br>Matricula 23.409<br>Posee alambrado completo, molino de viento con tanque australiano. Casco estilo campo revestido en su exterior con piedra. 2 habitaciones y un baño. Casa de casero, un dormitorio, baño, comedor. Tres caballerizas y un deposito.<br><br>General Madariaga está ubicado al sudeste de la provincia de Buenos Aires, pegado a Pinamar, muy cerca de Villa Gesell y La Costa y a solo 3 horas de la Capital Federal. Es conocido por ser el pago Gaucho por excelencia donde se mantienen las tradiciones criollas y la cultura gauchesca se manifiesta en todo tipo de actividades y celebraciones.<br><br>La centenaria ciudad fundada en 1907 tiene una población de 25 mil habitantes y aún mantiene la paz de un pueblo tranquilo y amigable; ofreciendouna interesante propuesta turística basada en su patrimonio cultural ynatural, exhibiendo su arraigada tradición y el espíritu hospitalario de su gente.<br><br>Madariaga invita a deleitarse con la simplicidad de un pago gaucho, donde la cultura y tradición convocan a descubrirla, la sencillez seduce y la hospitalidad tiende una mano. \n",
      " *************************\n"
     ]
    }
   ],
   "source": [
    "pd.set_option('display.max_colwidth', None)\n",
    "for text in df[df.property_type==\"Casa de campo\"]['description']: \n",
    "    print(text,\"\\n\",\"*\"*25)"
   ]
  },
  {
   "cell_type": "markdown",
   "metadata": {},
   "source": [
    "8. Log del Precio\n",
    "\n",
    "Hay que ver los que no tienen precio y los que tienen precios cualca. Pero QUE LINDA que queda la variable cuando le hacés el logaritmo. "
   ]
  },
  {
   "cell_type": "code",
   "execution_count": 51,
   "metadata": {},
   "outputs": [
    {
     "data": {
      "image/png": "[encoded data removed]",
      "text/plain": [
       "<Figure size 432x288 with 1 Axes>"
      ]
     },
     "metadata": {
      "needs_background": "light"
     },
     "output_type": "display_data"
    }
   ],
   "source": [
    "import matplotlib.pyplot as plt\n",
    "import numpy as np\n",
    "log_price = np.log10(df[df.price>10]['price']) \n",
    "plt.hist(log_price, bins=20)\n",
    "plt.title(\"Log price\")\n",
    "plt.show()"
   ]
  },
  {
   "cell_type": "markdown",
   "metadata": {},
   "source": [
    "9. Quizás title y description se pueden usar para completar los nulos de rooms, bedrooms, bathrooms, etc. "
   ]
  },
  {
   "cell_type": "code",
   "execution_count": 52,
   "metadata": {},
   "outputs": [
    {
     "data": {
      "text/plain": [
       "0                                                               Exclente lote !! \n",
       "1         Excelente cochera fija y cubierta en edificio de cocheras !! impecable \n",
       "2                                           Oficina comercial · 265m² · 2 Cochera\n",
       "3                                   Importante Oficina en Micro centro de 150 m2.\n",
       "4                                                           Oficina - San Nicolas\n",
       "                                           ...                                   \n",
       "183805                         PH 6 Ambientes c/cochera y terraza en Monte Castro\n",
       "183806                  Casa impecable en venta en la mejor zona de  - Belgrano R\n",
       "183807                         Impactante vista a los parques. 420 m2 con cochera\n",
       "183808                                                    Departamento - Belgrano\n",
       "183809      Edificio Comercial  en excelente zona de Palermo - 615 Metros Totales\n",
       "Name: title, Length: 183810, dtype: object"
      ]
     },
     "execution_count": 52,
     "metadata": {},
     "output_type": "execute_result"
    }
   ],
   "source": [
    "df.title"
   ]
  },
  {
   "cell_type": "code",
   "execution_count": 53,
   "metadata": {},
   "outputs": [
    {
     "data": {
      "text/plain": [
       "0                                                                                                                                                                                                                                                                                                                                                                                                                                                                                                                                                                                                                                                                                                                                                                                                                                                                                                                                                                                                                                                                                                                                                                                                                                                                                                                                                                                                                                                                                                                                                                                                                                                                                                                                                                                                                                                                                                                                                                                                                                                                                                                                                                                                                                                                                                                                                          Lote 365 mts 8,90 x 43 mts C3 II.. FOT 3.6 PARA CONSTRUIR 1400M2. \\n<br>DUEñO TOMA METROS CONSTRUIDOS. \n",
       "1                                                                                                                                                                                                                                                                                                                                                                                                                                                                                                                                                                                                                                                                                                                                                                                                                                                                                                                                                                                                                                                                                                                                                                                                                                                                                                                                                                                                                                                                                                                                                                                                                                                                                                                                                                                                                                                                                                                                                                                                                                                                                                                                                                                                                                                                                                                                                                     Muy buena cochera, en el 4to piso en excelente edificio de cocheras !!! impecablee!!! \\n<br>\n",
       "2                                                                                                                                                                                                                                                                                                                                                                                                                                                                                                                                                                                                                                                                                                                                                                                                                                                                                                                                                                                                                                                                                                                                                                                                                                                                                                                                                                                                                                                                                                                                                                                                                                                                                                                                                                                                                                                                                                                                                                                                                                                                                                                    Gran Oportunidad! Unica piso de oficinas de 265mts propios con dos cocheras cubiertas. 8 ambientes, mas recepcion , balcon perimetral, luminosidad excelente, vestuario con baños, baño para discapacitado, 2 toilettes.  Excelente zona frente al Hospital de Clinicas. Vista panoramica, apto profesional para cualquier rubro. Piso alto. \n",
       "3                                                                                                                                                                                                                                                                                                                                                                                                                                                                                                                                                                                                                                                                                                                                                                                                                                                                                                                                                                                                                                                                                                                                                                                                                                                                                                                                                                                                                     Importante  Oficina de de 150 m2 con palier privado (una oficina por piso). En Excelente Estado .-<br><br>Consta de una recepción de 4.55 x 3.80, oficina principal privada con puerta corredizas y sala de reunión de 7 x 6,  mas  Oficina de 4.50 x  3 y un área de trabajo amplia.- Todos los espacios  poseen luz y ventilación natural.  Cuenta con  Oficcie  y Baño.- Ingreso a la oficina de Doble entrada, principal y secundaria. En el palier de servicio se encuentran dos baños amplios adicionales de uso  exclusivo.<br><br>Edificio de notable entrada. Dos asesores. <br><br>Excelente Ubicación Todas las Líneas de Subtes AV. DE MAYO (Línea C), BELGRANO (Línea E), CATEDRAL (Línea D), DIAGONAL NORTE (Línea C), LIMA (Línea A), MORENO (Línea C), PERU (Línea A), PIEDRAS (Línea A). Líneas de Colectivo.-<br><br><br>Oficina virtual. Atendemos y coordinamos visitas al 1154290502/04 <br> / <br><br><br>Para más información, comuníquese al 011  de lunes a viernes de 10 a 19 hs.\\n<br>\\n<br>BRUNI PROPIEDADES SRL\n",
       "4                                                                                                                                                                                                                                                                                                                                                                                                                                                                                                                                                                                                                                                                                                                                                                                                                                   VENTA DE OFICINA A METROS DEL PALACIO DE TRIBUNALES<br><br>LA PROPIEDAD<br><br>Cómoda oficina ubicada en primer piso en excelente estado con baño privado.<br>Ubicada en edificio de oficinas a metros del Palacio de Tribunales y de la Av. Corrientes. Con fácil acceso a Estación de Subtes de líneas B y D. A escasos metros del Obelisco.<br><br>ORIENTACION<br><br>Frente al Este<br><br>UBICACION<br><br>Talcahuano 3161 entre Av. Corrientes y calle Lavalle, CABA.<br><br><br>© 2020 Coldwell Banker. Todos los derechos reservados. Coldwell Banker y los logotipos de Coldwell Banker son marcas de servicio de propiedad de Coldwell Banker Real Estate LLC. El sistema Coldwell Banker® está compuesto por oficinas propias de propiedad de una subsidiaria de Realogy Brokerage Group LLC y por oficinas adheridas al Sistema Coldwell Banker que son de propiedad y operación independientes.IVÁN KAHANOFF, C.U.C.I.C.B.A. número 7538, Tomo 1, Folio 281, C.S.I. número 6644, Tomo 10, Folio 87, C.U.I.T. 20322678518, Manuel Obarrio 2986 1er Piso Barrio Parque CABA<br><br>Nota: La información gráfica y escrita contenida en el presente aviso es meramente a titulo estimativo y no forma parte de ningún tipo de documentación contractual. Las medidas y superficies definitivas surgirán del título de propiedad del inmueble referido. Asimismo los importes de tasas, servicios y expensas indicados están sujetos a verificación. El valor del inmueble indicado en el presente puede ser modificado sin previo aviso. Operación supeditada a que el propietario cumplimente con la Reg.2371 COTI.\n",
       "                                                                                                                                                                                                                                                                                                                                                                                                                                                                                                                                                                                                                                                                                                                                                                                                                                                                                                                                                                                                                                                                                                                                                                                                                                    ...                                                                                                                                                                                                                                                                                                                                                                                                                                                                                                                                                                                                                                                                                                                                                                                                                                                                                                                                                                                                                                                                                                                                                                                                                           \n",
       "183805                                                                                                                                                                                       Corredor Responsable: Rene Vera - CUCICBA 6778 - CSI 5848Contacto: Federico Segovia - MLS ID # 421341008-25PH de 6 ambientes con cochera en Monte Castro.<br><br>En una ubicacion tranquila, un PH tipo casa que cuenta con solo dos unidades.<br>Cuenta con entrada independiente y cochera cubierta.<br>En Planta baja, como vemos en los planos y el tour virtual se encuentran:<br>- Cochera cubierta<br>- Living comedor<br>- Cocina comedor<br>- Patio techado con escalera que lleva a la segunda planta.<br>- Habitacion principal con placard<br>- Dos habitaciones mas pequeñas.<br>- Baño completo<br>- Toilette<br><br>En la planta alta tenemos :<br>- Sala tipo estar/living ni bien se ingresa a la PA que tiene parrilla y placard empotrado.<br>- Habitacion con baño completo.<br>- Quincho<br>- Terraza propia libre.<br><br>Esta propiedad tenia ingreso por el pasillo comun al patio, pero fue tapada. Puede volver a realizarse un ingreso por el patio, dandonos la posibilidad de cerrar la escalera y en la PA hacer una segunda vivienda mas pequeña.<br><br>Informacion del barrio:<br><br>Monte Castro es uno de los barrios en los que se encuentra dividida la Ciudad Autónoma de Buenos Aires. Está delimitado por las calles Baigorria, Joaquín V. González, Juan Agustín García, Lope de Vega, Av. Álvarez Jonte e Irigoyen. Limita con los barrios de Villa Devoto al norte, Villa del Parque y Villa Santa Rita al este, Floresta, Vélez Sársfield y Villa Luro al sur, y Versalles y Villa Real al oeste.<br><br>En este barrio se extiende por la Avenida Álvarez Jonte el Centro Comercial a Cielo Abierto Monte Castro. <br><br>Cuenta con dos hospitales :<br>Hospital de Rehabilitación Manuel Rocca (Av. Segurola 1949)<br>Hospital General de Agudos Dalmacio Vélez Sarsfield (Calderón de la Barca 1550)<br><br>Transportes Cercanos<br>Colectivos: 53, 85, 106, 109, 114, 124, 135<br><br>Comisaría Comunal: 10<br>Comisaría Vecinal: 10A<br>Distrito Escolar:  Distrito Escolar XVIII<br><br>El presente inmueble es accesible para personas con discapacidades físicas \\n\\n Comprá la casa que querés! No la que podés. Accedé a un préstamo por hasta el 30% del valor de esta propiedad. Simulá tu cuota en Lendar \n",
       "183806                                                                                                                                                                                                                                                                                                                                                                                                                                                                                                                                                                                                                                                                                                                                                                                                                                                                                                                                                                                                                                 Casa en pleno Belgrano R reciclada con excelente gusto y terminaciones<br>Amplio frente de 9.99m con entrada principal y de servicio, cochera cubierta para dos autos amplios con portón eléctrico<br>En el Sub suelo amplia bodega de estilo rustico y cálido, muy bien ambientada, sala de maquinas <br>En plata baja , gran recepción , toilette y escritorio al frente <br>Doble  living uno mas formal y otro mas intimo <br>Comedor principal<br>playroom<br>cocina con comedor diario, <br>toda la planta baja con salida a Jardín con galería , sector parrilla,  pileta climatizada y toilette<br><br>Primer piso, máster suite al frente con amplio vestidor y placares, baño completo y salida a balcón<br>Segundo dormitorio al frente en suite también con salida a balcón<br>Tercer y cuarto dormitorios al contrafrente abierto y luminoso con amplio baño en un sector mas privado<br>dormitorio de huéspedes o escritorio<br>En Segundo piso<br>Lavadero y salida a amplia terraza hoy descubierta con posibilidad de hacer cerramiento , puertas blindadas<br>Grupo electrógeno y sistema de cámaras ,toldos y  persianas  eléctricas<br>Toda la casa es muy luminosa y con espacios muy bien pensados, los materiales de reciclado son excelentes<br><br>Medidas<br>Superficie Cubierta : 421.00 m2<br>Superficie Total: 641.00 m2<br><br>Frente : 10.06<br>Fondo: 35<br>Superficie Terreno : 353,10<br>\n",
       "183807                                                                                                                                                                                                                                                                                                                                                                                                                                                                                                                                                                                                                                                                                                                                                                                                                                                                                                                                                                                                                                                                                                                                                                                                                                                                                                 Piso de 419 m2 en un emblemático edificio modernista del Arq Dubourg. La recepción, las áreas de estar y la master suite se desarrollan sobre la Av. del Libertador, con vistas impactantes a los parques que se aprecian desde los 30 m de frente del área social compuesta por living, comedor y escritorio. Tiene cinco dormitorios, dentro de los cuales se encuentra la suite doble.  Playroom. Dos baños completos adicionales y toilette de recepción. Cocina, comedor y office. En el área de servicio, tiene dos dependencias con dos baños, lavadero y una despensa. Cocina y baños de época en excelente estado. Cochera. Baulera amplia de 16,83 m2.<br><br>- Seguridad 24 hs.<br>- Servicios centrales<br><br><br><br>CODIGO DEL INMUEBLE: IAP3422145<br>--<br>» Contactanos por Whatsapp agregando a tu móvil +5 1001<br>» Continuá tu búsqueda en nuestro sitio web. <br>» Contamos con sucursales en Recoleta, Barrio Norte, Nordelta y Pilar.<br>» Tasamos en 24 hs bajo normas ISO 9001.<br>» Llamanos al  o escribinos a <br>--<br>Jorge Izrastzoff: Mat. CPI 1354<br>Mariano Geminiani: Mat. CSI 6579<br>-- <br>#DondeVivenLasHistorias\n",
       "183808                                                                                                                                                                                                                                                                                                                                                                                                                                                                                                                                                                                                                                                                                                                                                                                                                                                                                                                                                                                                                                                                                                                                                                                                                                                                                                                                                                                                                                                                                                                                                                                                                                                                                                Piso de 285mts, en la mejor zona de Belgrano.<br><br>Consta de 5 dormitorios, de los cuales 3 de ellos son en suite y un baño compartimentado para los 2 dormitorios restantes. Suite principal con vestidor y baño completo con hidromasaje. Amplio living comedor en L con frente a la calle Arribeños.<br>Cocina de gran tamaño con doble circulación, lavadero y dependencia de servicio. Toilette de recepción.<br><br>Piso completo con vista al frente y al contrafrente, totalmente externo y luminoso.<br><br>Pisos de porchelanato, puertas blindadas.<br><br>El edificio cuenta con pileta, quincho, gim, salon de reuniones y seguridad 24 hs.<br><br>Tres cocheras fijas y espaciosas<br><br>EAP3422281<br><br>Ezequiel<br>Grow personal Broker\n",
       "183809    Edificio Comercial CON ENTRADA INDEPENDIENTE Sobre Av Santa Fe en Palermo - Distrito Audiovisual <br>PH 1° piso con entrada independiente EN EXCELENTE UBICACIÓN!!! <br>En el corazón de Palermo, dentro del DISTRITO AUDIOVISUAL  y cerca de todos los medios de Transporte. <br>VARIOS DESTINOS (FUNCIONO COMO EMPRESA DE INFORMATICA Y JARDIN DE INFANTES). <br>El inmueble consta de varias salas, de distintas dimensiones, locales sanitarios para ambos sexos. <br>Las instalaciones eléctricas, de gas y agua fueron renovadas en el 2012 cuenta con Termotanque e Instalación contra incendio.<br><br>¡Es una excelente propiedad - Con enormes oportunidades! <br><br><br>Para mayor información, comunícate con nosotros o dejanos tu teléfono y nos contactaremos a la brevedad. <br><br>AVISO LEGAL: Las medidas, superficies y datos consignados son aproximados, sujetos a verificación por el interesado en adquirir. Los datos exactos constan en los correspondientes documentos legales, los cuales se encuentran disponibles. El precio del Inmueble puede ser modificado sin previo aviso. Fotos de carácter no contractual. Aviso en preparación. <br>En cumplimiento de la leyes provinciales vigentes que regulan el corretaje inmobiliario, Ley Nacional 25.028, Ley 22.802 de Lealtad Comercial, Ley 24.240 de Defensa al Consumidor, las normas del Código Civil y Comercial de la Nación y Constitucionales, los agentes/gestores NO ejercen el corretaje inmobiliario. Todas las operaciones inmobiliarias son objeto de intermediación y conclusión por parte de los martilleros y corredores colegiados, cuyos datos se exhiben debajo del nombre de la inmobiliaria.<br>Venta supeditada al cumplimiento por parte del propietario de los requisitos de la resolución general Nº 2371 de la AFIP (pedido de COTI).<br> “Para los casos de alquiler de vivienda, el monto máximo de comisión que se le puede requerir a los propietarios será el equivalente al cuatro con quince centésimos por ciento (4,15%) del valor total del respectivo contrato. Art. 5°, Ley 5859 (inc.9 del art. 10, Ley 2340). Se encuentra prohibido cobrar a los inquilinos que sean personas físicas comisiones inmobiliarias y gastos de gestoría de informes”. Art. 4°, Ley 5859 ( inc. 8, art.10, Ley 2340). <br>Conforme Ley 2340 subsiguientes y concordantes se hace saber debida inscripción POHULANIK PROPIEDADES -  CUCICBA  7656.\n",
       "Name: description, Length: 183810, dtype: object"
      ]
     },
     "execution_count": 53,
     "metadata": {},
     "output_type": "execute_result"
    }
   ],
   "source": [
    "df.description"
   ]
  },
  {
   "cell_type": "markdown",
   "metadata": {},
   "source": [
    "**NULOS**"
   ]
  },
  {
   "cell_type": "code",
   "execution_count": 11,
   "metadata": {},
   "outputs": [
    {
     "data": {
      "text/plain": [
       "id                   0.000000\n",
       "ad_type              0.000000\n",
       "start_date           0.000000\n",
       "end_date             0.000000\n",
       "created_on           0.000000\n",
       "lat                  6.228170\n",
       "lon                  6.228170\n",
       "l1                   0.000000\n",
       "l2                   0.000000\n",
       "l3                   1.004842\n",
       "l4                  96.048637\n",
       "l5                 100.000000\n",
       "l6                 100.000000\n",
       "rooms               15.303846\n",
       "bedrooms            27.188945\n",
       "bathrooms           13.556390\n",
       "surface_total       33.133127\n",
       "surface_covered     34.017736\n",
       "price                1.845384\n",
       "currency             1.998803\n",
       "price_period        51.732768\n",
       "title                0.000000\n",
       "description          0.000000\n",
       "property_type        0.000000\n",
       "operation_type       0.000000\n",
       "dtype: float64"
      ]
     },
     "execution_count": 11,
     "metadata": {},
     "output_type": "execute_result"
    }
   ],
   "source": [
    "100*df.isna().sum()/len(df)"
   ]
  },
  {
   "cell_type": "markdown",
   "metadata": {},
   "source": [
    "**BARRIOS**"
   ]
  },
  {
   "cell_type": "code",
   "execution_count": 7,
   "metadata": {},
   "outputs": [
    {
     "data": {
      "text/plain": [
       "Palermo                 25169\n",
       "Belgrano                21369\n",
       "Caballito               11090\n",
       "Recoleta                10382\n",
       "Villa Urquiza            8373\n",
       "Almagro                  8272\n",
       "Villa Crespo             8211\n",
       "Barrio Norte             5259\n",
       "Flores                   5199\n",
       "Nuñez                    5153\n",
       "Balvanera                4805\n",
       "Colegiales               3854\n",
       "San Nicolás              3607\n",
       "San Cristobal            3451\n",
       "Villa Devoto             3228\n",
       "Saavedra                 3121\n",
       "Puerto Madero            3075\n",
       "San Telmo                2766\n",
       "Villa del Parque         2702\n",
       "Floresta                 2462\n",
       "Boedo                    2448\n",
       "Monserrat                2378\n",
       "Retiro                   2361\n",
       "Mataderos                2273\n",
       "Barracas                 2254\n",
       "Liniers                  2078\n",
       "NaN                      1847\n",
       "Parque Chacabuco         1804\n",
       "Villa Pueyrredón         1700\n",
       "Coghlan                  1681\n",
       "Villa Luro               1677\n",
       "Congreso                 1385\n",
       "Parque Patricios         1311\n",
       "Chacarita                1308\n",
       "Villa Lugano             1235\n",
       "Paternal                 1156\n",
       "Constitución             1117\n",
       "Tribunales               1031\n",
       "Villa Ortuzar            1002\n",
       "Once                     1000\n",
       "Centro / Microcentro      939\n",
       "Villa General Mitre       757\n",
       "Monte Castro              745\n",
       "Boca                      739\n",
       "Villa Santa Rita          687\n",
       "Las Cañitas               640\n",
       "Parque Avellaneda         637\n",
       "Parque Centenario         615\n",
       "Abasto                    578\n",
       "Pompeya                   567\n",
       "Velez Sarsfield           494\n",
       "Versalles                 470\n",
       "Parque Chas               425\n",
       "Agronomía                 373\n",
       "Villa Real                238\n",
       "Villa Soldati             171\n",
       "Catalinas                  96\n",
       "Villa Riachuelo            45\n",
       "Name: l3, dtype: int64"
      ]
     },
     "execution_count": 7,
     "metadata": {},
     "output_type": "execute_result"
    }
   ],
   "source": [
    "df.l3.value_counts(dropna=False) #hay que completar nulos en esta columna y establecer criterios para normalizar (centro/microcentro, las cañitas, etc)"
   ]
  },
  {
   "cell_type": "markdown",
   "metadata": {},
   "source": [
    "Todas las start date son iguales a las created_on, alguna de las dos está al pedo. "
   ]
  },
  {
   "cell_type": "code",
   "execution_count": 11,
   "metadata": {},
   "outputs": [
    {
     "data": {
      "text/plain": [
       "(183810, 25)"
      ]
     },
     "execution_count": 11,
     "metadata": {},
     "output_type": "execute_result"
    }
   ],
   "source": [
    "df[df.start_date == df.created_on].shape"
   ]
  },
  {
   "cell_type": "code",
   "execution_count": 36,
   "metadata": {},
   "outputs": [
    {
     "data": {
      "text/plain": [
       "(3392, 25)"
      ]
     },
     "execution_count": 36,
     "metadata": {},
     "output_type": "execute_result"
    }
   ],
   "source": [
    "#993 casos en donde no tenemos superficie cubierta \n",
    "df[df.price.isna()].shape"
   ]
  },
  {
   "cell_type": "code",
   "execution_count": 35,
   "metadata": {},
   "outputs": [
    {
     "data": {
      "image/png": "[encoded data removed]",
      "text/plain": [
       "<Figure size 432x288 with 1 Axes>"
      ]
     },
     "metadata": {
      "needs_background": "light"
     },
     "output_type": "display_data"
    }
   ],
   "source": [
    "import matplotlib.pyplot as plt\n",
    "import numpy as np\n",
    "log_surface_cov = np.log10(df.surface_covered) \n",
    "plt.hist(log_surface_cov, bins=30)\n",
    "plt.title(\"Surface Covered Log\")\n",
    "plt.show()"
   ]
  },
  {
   "cell_type": "code",
   "execution_count": 38,
   "metadata": {},
   "outputs": [
    {
     "data": {
      "text/plain": [
       "count    121282.000000\n",
       "mean        148.706692\n",
       "std        3064.441474\n",
       "min           1.000000\n",
       "25%          41.000000\n",
       "50%          60.000000\n",
       "75%         103.000000\n",
       "max      950000.000000\n",
       "Name: surface_covered, dtype: float64"
      ]
     },
     "execution_count": 38,
     "metadata": {},
     "output_type": "execute_result"
    }
   ],
   "source": [
    "df.surface_covered.describe()"
   ]
  },
  {
   "cell_type": "code",
   "execution_count": 39,
   "metadata": {},
   "outputs": [
    {
     "data": {
      "text/plain": [
       "count    122908.00000\n",
       "mean        174.63733\n",
       "std        1461.00811\n",
       "min          10.00000\n",
       "25%          45.00000\n",
       "50%          70.00000\n",
       "75%         127.00000\n",
       "max      140380.00000\n",
       "Name: surface_total, dtype: float64"
      ]
     },
     "execution_count": 39,
     "metadata": {},
     "output_type": "execute_result"
    }
   ],
   "source": [
    "df.surface_total.describe()"
   ]
  },
  {
   "cell_type": "code",
   "execution_count": 44,
   "metadata": {},
   "outputs": [],
   "source": [
    "superficies = df.loc[df.surface_covered>df.surface_total, ['surface_covered','surface_total']]"
   ]
  },
  {
   "cell_type": "code",
   "execution_count": 46,
   "metadata": {},
   "outputs": [],
   "source": [
    "superficies['dif'] = superficies.surface_covered - superficies.surface_total"
   ]
  },
  {
   "cell_type": "code",
   "execution_count": 49,
   "metadata": {},
   "outputs": [
    {
     "data": {
      "text/plain": [
       "count       926.000000\n",
       "mean       1443.682505\n",
       "std       10151.407764\n",
       "min           1.000000\n",
       "25%           2.000000\n",
       "50%          12.000000\n",
       "75%          74.750000\n",
       "max      169800.000000\n",
       "Name: dif, dtype: float64"
      ]
     },
     "execution_count": 49,
     "metadata": {},
     "output_type": "execute_result"
    }
   ],
   "source": [
    "superficies.dif.describe()"
   ]
  },
  {
   "cell_type": "code",
   "execution_count": 54,
   "metadata": {},
   "outputs": [
    {
     "data": {
      "text/html": [
       "<div>\n",
       "<style scoped>\n",
       "    .dataframe tbody tr th:only-of-type {\n",
       "        vertical-align: middle;\n",
       "    }\n",
       "\n",
       "    .dataframe tbody tr th {\n",
       "        vertical-align: top;\n",
       "    }\n",
       "\n",
       "    .dataframe thead th {\n",
       "        text-align: right;\n",
       "    }\n",
       "</style>\n",
       "<table border=\"1\" class=\"dataframe\">\n",
       "  <thead>\n",
       "    <tr style=\"text-align: right;\">\n",
       "      <th></th>\n",
       "      <th>id</th>\n",
       "      <th>ad_type</th>\n",
       "      <th>start_date</th>\n",
       "      <th>end_date</th>\n",
       "      <th>created_on</th>\n",
       "      <th>lat</th>\n",
       "      <th>lon</th>\n",
       "      <th>l1</th>\n",
       "      <th>l2</th>\n",
       "      <th>l3</th>\n",
       "      <th>...</th>\n",
       "      <th>bathrooms</th>\n",
       "      <th>surface_total</th>\n",
       "      <th>surface_covered</th>\n",
       "      <th>price</th>\n",
       "      <th>currency</th>\n",
       "      <th>price_period</th>\n",
       "      <th>title</th>\n",
       "      <th>description</th>\n",
       "      <th>property_type</th>\n",
       "      <th>operation_type</th>\n",
       "    </tr>\n",
       "  </thead>\n",
       "  <tbody>\n",
       "    <tr>\n",
       "      <th>8659</th>\n",
       "      <td>+N5Ww6XIQ7+HKJ5boLqE1w==</td>\n",
       "      <td>Propiedad</td>\n",
       "      <td>2020-06-14</td>\n",
       "      <td>2020-06-16</td>\n",
       "      <td>2020-06-14</td>\n",
       "      <td>-34.672580</td>\n",
       "      <td>-58.493400</td>\n",
       "      <td>Argentina</td>\n",
       "      <td>Capital Federal</td>\n",
       "      <td>Villa Lugano</td>\n",
       "      <td>...</td>\n",
       "      <td>NaN</td>\n",
       "      <td>244.0</td>\n",
       "      <td>63229.0</td>\n",
       "      <td>190000.0</td>\n",
       "      <td>USD</td>\n",
       "      <td>NaN</td>\n",
       "      <td>Galpon de 1 ambiente en Venta en Villa lugano</td>\n",
       "      <td>Galpon en esquina lote propio de 244 metros. - Se deja constancia que las caracteristicas, medidas y superficies  consignadas son aproximadas, sujetos a verificación y/o ajuste. El precio del inmueble puede ser modificado sin previo aviso. Fotos de carácter no contractual. Las unidades publicadas están sujetas a disponibilidad.</td>\n",
       "      <td>Depósito</td>\n",
       "      <td>Venta</td>\n",
       "    </tr>\n",
       "    <tr>\n",
       "      <th>8660</th>\n",
       "      <td>7mrPqGNQOt/Q3nlhuLaHdg==</td>\n",
       "      <td>Propiedad</td>\n",
       "      <td>2020-06-14</td>\n",
       "      <td>2020-06-16</td>\n",
       "      <td>2020-06-14</td>\n",
       "      <td>-34.630927</td>\n",
       "      <td>-58.404756</td>\n",
       "      <td>Argentina</td>\n",
       "      <td>Capital Federal</td>\n",
       "      <td>Parque Patricios</td>\n",
       "      <td>...</td>\n",
       "      <td>NaN</td>\n",
       "      <td>850.0</td>\n",
       "      <td>86664.0</td>\n",
       "      <td>750000.0</td>\n",
       "      <td>USD</td>\n",
       "      <td>NaN</td>\n",
       "      <td>Galpon de 1 ambiente en Venta en Parque patricios</td>\n",
       "      <td>Espectacular galpón sobre Terreno Propio cerca del Distrito Tecnólogico de Parque Patricios. Multiples usos. Funcionó siempre como imprenta. Entrepiso. Terreno de 8.66 x 64, R2B1. 3 baños. Cercanía a distintos medios de transporte. Comercializa Migliorisi Av. Córdoba 3401 - TEL:  - Se deja constancia que las caracteristicas, medidas y superficies  consignadas son aproximadas, sujetos a verificación y/o ajuste. El precio del inmueble puede ser modificado sin previo aviso. Fotos de carácter no contractual. Las unidades publicadas están sujetas a disponibilidad.</td>\n",
       "      <td>Depósito</td>\n",
       "      <td>Venta</td>\n",
       "    </tr>\n",
       "    <tr>\n",
       "      <th>9226</th>\n",
       "      <td>A/VDp8Xk5Hhpph4SKqLC+g==</td>\n",
       "      <td>Propiedad</td>\n",
       "      <td>2020-05-25</td>\n",
       "      <td>2020-06-10</td>\n",
       "      <td>2020-05-25</td>\n",
       "      <td>-34.582435</td>\n",
       "      <td>-58.414845</td>\n",
       "      <td>Argentina</td>\n",
       "      <td>Capital Federal</td>\n",
       "      <td>Palermo</td>\n",
       "      <td>...</td>\n",
       "      <td>2.0</td>\n",
       "      <td>194.0</td>\n",
       "      <td>1994.0</td>\n",
       "      <td>495000.0</td>\n",
       "      <td>USD</td>\n",
       "      <td>Mensual</td>\n",
       "      <td>Departamento - Botanico</td>\n",
       "      <td>Espectacular Vista Al Botánico - en Esquina, Super Privado y Luminoso&lt;br&gt;Superficie total 194 m2. Republica Arabe Siria y Juncal – &lt;br&gt;La propiedad se encuentra en Edificio de 40 años de Categoria, solido sobre la esquina, c/ excelente altura de techos y pisos de roble, todo en impecable estado de conservación, lleno de luz en todos sus ambientes. &lt;br&gt;Palier privado, Living c/ chimenea con biblioteca, Comedor, ambos sobre la calle Juncal y c/ salida a balcones. Cocina de gran tamaño reciclada a nuevo, Lavadero y Dependencia de servicio completa. 3 Dormitorios, 2 de ellos c/ hermosa vista al Jardín Botánico, comparten 2 baños completos. Baulera, Servicios centrales, Sin Cochera. &lt;br&gt;Oportunidad Negociable, Toma propiedad de menor Valor&lt;br&gt;República Arabe Siria 2800, Palermo Chico, Botánico.&lt;br&gt;APTO CREDITO&lt;br&gt;&lt;br&gt;TASAMOS SU PROPIEDAD EN EL DIA&lt;br&gt;Somos profesionales altamente especializados en tasaciones para obtener el valor real de las propiedades utilizando los criterios más adecuados, respetando y cuidando el patrimonio del cliente que confía en nuestros servicios.&lt;br&gt;&lt;br&gt;AVISO LEGAL&lt;br&gt;Las medidas son aproximadas, las reales surgen del titulo de propiedad o plano de mensura. Las imágenes son a mero título ilustrativo. Las descripciones y valores de expensas, impuestos y servicios son aproximados y fueron proporcionados por el propietario y pueden no estar actualizados a la hora de la visualización de este aviso. Los precios indicados podrán modificarse sin previo aviso. Venta supeditada al cumplimiento por parte del propietario de la solicitud de COTI, requisito de la resolución general Nº 2371 de la AFIP.&lt;br&gt;&lt;br&gt;&lt;br&gt;&lt;br&gt;&lt;br&gt;&lt;br&gt;DELLA FONTE PROPIEDADES &lt;br&gt;CUCICBA 7608&lt;br&gt;CMCPSI 6602</td>\n",
       "      <td>Departamento</td>\n",
       "      <td>Venta</td>\n",
       "    </tr>\n",
       "    <tr>\n",
       "      <th>10626</th>\n",
       "      <td>oD9FsdrP2g/xGxUeEMx8Kw==</td>\n",
       "      <td>Propiedad</td>\n",
       "      <td>2020-07-01</td>\n",
       "      <td>2020-09-02</td>\n",
       "      <td>2020-07-01</td>\n",
       "      <td>-34.560649</td>\n",
       "      <td>-58.461678</td>\n",
       "      <td>Argentina</td>\n",
       "      <td>Capital Federal</td>\n",
       "      <td>Belgrano</td>\n",
       "      <td>...</td>\n",
       "      <td>NaN</td>\n",
       "      <td>37.0</td>\n",
       "      <td>3727.0</td>\n",
       "      <td>80000.0</td>\n",
       "      <td>USD</td>\n",
       "      <td>NaN</td>\n",
       "      <td>Venta-Local-Belgrano-Oportunidad</td>\n",
       "      <td>Corredor Responsable: Jorge Salafia - CUCICBA 5666Contacto: Sebastián Gómez Porta - MLS ID # 420211219-17Martillero responsable Jorge O. Salafia CUCICBA 5666 CSI 5888&lt;br&gt;&lt;br&gt;&lt;br&gt;&lt;br&gt;&lt;br&gt;Excelente oportunidad!!! &lt;br&gt;Local excelentemente ubicado en el barrio de Belgrano, en Blanco Encalada y Vidal, a dos cuadras de Av. Cabildo y a dos de Av. Cramer. A una cuadra de Av. Monroe y a tres de Juramento.  &lt;br&gt;A dos cuadras del metrobús por sus cercanías pasan las siguientes líneas de colectivos: 29, 41, 44, 57, 59, 60, 63, 65, 67, 68, 80, 107, 113, 114, 133, 151, 152, 161, 168, 175, 184, 194&lt;br&gt;Asimismo, se encuentra a 5 cuadras de la estación Juramento de la línea D.&lt;br&gt;El mismo tiene 37 metros cuadrados, consta con un baño y cocina.  Frente de aproximadamente tres metros, con reja metálica.&lt;br&gt;Ubicado en la planta baja de un edificio, en una zona de Belgrano con mucho movimiento de transeúntes y edificios y locales. &lt;br&gt;Expensas al mes de junio de $7000 ABL $420.&lt;br&gt;&lt;br&gt;&lt;br&gt;&lt;br&gt; &lt;br&gt; \\n\\n Comprá la casa que querés! No la que podés. Accedé a un préstamo por hasta el 30% del valor de esta propiedad. Simulá tu cuota en Lendar</td>\n",
       "      <td>Local comercial</td>\n",
       "      <td>Venta</td>\n",
       "    </tr>\n",
       "    <tr>\n",
       "      <th>13900</th>\n",
       "      <td>oJXjFIgMP0KzJDPDakU8Og==</td>\n",
       "      <td>Propiedad</td>\n",
       "      <td>2021-05-23</td>\n",
       "      <td>2021-06-04</td>\n",
       "      <td>2021-05-23</td>\n",
       "      <td>-34.632267</td>\n",
       "      <td>-58.479611</td>\n",
       "      <td>Argentina</td>\n",
       "      <td>Capital Federal</td>\n",
       "      <td>Floresta</td>\n",
       "      <td>...</td>\n",
       "      <td>NaN</td>\n",
       "      <td>1879.0</td>\n",
       "      <td>11796.0</td>\n",
       "      <td>1950000.0</td>\n",
       "      <td>USD</td>\n",
       "      <td>NaN</td>\n",
       "      <td>VENTA - LOTE NUEVA CONSTRUCCION - FLORESTA</td>\n",
       "      <td>Corredor Responsable: GABRIELA FERNANDEZ - CPI 7009Contacto: Helga Hartmann - MLS ID # 420931089-289Todas las propiedades que figuran en mi perfil se encuentran a cargo del profesional matriculado de la oficina, la intermediación y la conclusión de las operaciones serán llevadas exclusivamente por él.&lt;br&gt;&lt;br&gt;Excelente lote para construcción en el barrio de Floresta, sobre 5 lotes que tienen una frente sobre Yerbal de 43.63 x  43.07 metros de fondo. Excelente ubicación. Frente a la estación de Floresta, tren Sarmiento. Posibilidad de edificio y locales comerciales. Metros cuadrados totales a construir 11,796, de los cuales 9830 son vendibles. Dentro del valor de publicación esta la plusvalía. Posibilidad de construir 9 pisos. \\n\\n Comprá la casa que querés! No la que podés. Accedé a un préstamo por hasta el 30% del valor de esta propiedad. Simulá tu cuota en Lendar</td>\n",
       "      <td>Lote</td>\n",
       "      <td>Venta</td>\n",
       "    </tr>\n",
       "    <tr>\n",
       "      <th>...</th>\n",
       "      <td>...</td>\n",
       "      <td>...</td>\n",
       "      <td>...</td>\n",
       "      <td>...</td>\n",
       "      <td>...</td>\n",
       "      <td>...</td>\n",
       "      <td>...</td>\n",
       "      <td>...</td>\n",
       "      <td>...</td>\n",
       "      <td>...</td>\n",
       "      <td>...</td>\n",
       "      <td>...</td>\n",
       "      <td>...</td>\n",
       "      <td>...</td>\n",
       "      <td>...</td>\n",
       "      <td>...</td>\n",
       "      <td>...</td>\n",
       "      <td>...</td>\n",
       "      <td>...</td>\n",
       "      <td>...</td>\n",
       "      <td>...</td>\n",
       "    </tr>\n",
       "    <tr>\n",
       "      <th>175491</th>\n",
       "      <td>eG2WBTO0kXK6EzXPcZzUyA==</td>\n",
       "      <td>Propiedad</td>\n",
       "      <td>2020-06-27</td>\n",
       "      <td>2020-07-02</td>\n",
       "      <td>2020-06-27</td>\n",
       "      <td>-34.608859</td>\n",
       "      <td>-58.402845</td>\n",
       "      <td>Argentina</td>\n",
       "      <td>Capital Federal</td>\n",
       "      <td>Balvanera</td>\n",
       "      <td>...</td>\n",
       "      <td>1.0</td>\n",
       "      <td>50.0</td>\n",
       "      <td>4694.0</td>\n",
       "      <td>68200.0</td>\n",
       "      <td>USD</td>\n",
       "      <td>NaN</td>\n",
       "      <td>Venta departamento 3 ambientes</td>\n",
       "      <td>Corredor Responsable: JUAN FRANCISCO CARATTINO - CPI 5457Contacto: Melisa Saidel - MLS ID # 420391197-22Todas las propiedades que figuran en mi perfil se encuentran a cargo del profesional matriculado de la oficina, la intermediación y la conclusión de las operaciones serán llevadas exclusivamente por él.&lt;br&gt;&lt;br&gt; Departamento de 3 mbientes en Eduficio, ubicado  Av. Hipólito Yrigoyen 2600  esquina misiones , Balvanera . &lt;br&gt;Medios de transporte cercanos : Subte A, estación Once tren ,Av. Rivadavia y Metrobus. Vista totalmente abierta en living comedor con acceso a balcón con vista al frente  .Cocina independiente con espacio para el lavarropa, 2 dormitorios con amplios placard, un baño completo y espacio para guardado. Expensas $ 6135 abril 2020 .El edificio cuenta con encargado . Las medidas, superficies y montos de expensas consignadas en la presente descripción son aproximadas, a solo título orientativo y no son vinculantes. Las medidas y superficies reales surgen del Título respectivo,  \\n\\n Comprá la casa que querés! No la que podés. Accedé a un préstamo por hasta el 30% del valor de esta propiedad. Simulá tu cuota en Lendar</td>\n",
       "      <td>Departamento</td>\n",
       "      <td>Venta</td>\n",
       "    </tr>\n",
       "    <tr>\n",
       "      <th>175747</th>\n",
       "      <td>DozO3UQUbuNbJKjr9mmF6A==</td>\n",
       "      <td>Propiedad</td>\n",
       "      <td>2020-06-27</td>\n",
       "      <td>2020-07-02</td>\n",
       "      <td>2020-06-27</td>\n",
       "      <td>-34.577518</td>\n",
       "      <td>-58.434342</td>\n",
       "      <td>Argentina</td>\n",
       "      <td>Capital Federal</td>\n",
       "      <td>Palermo</td>\n",
       "      <td>...</td>\n",
       "      <td>2.0</td>\n",
       "      <td>970.0</td>\n",
       "      <td>8711.0</td>\n",
       "      <td>299000.0</td>\n",
       "      <td>USD</td>\n",
       "      <td>NaN</td>\n",
       "      <td>VENTA DEPARTAMENTO 4 AMBIENTES PALERMO</td>\n",
       "      <td>Corredor Responsable: JUAN FRANCISCO CARATTINO - CPI 5457Contacto: Melisa Saidel - MLS ID # 420391197-28&amp;gt;Todas las propiedades que figuran en mi perfil se encuentran a cargo del profesional matriculado de la oficina, la intermediación y la conclusión de las operaciones serán llevadas exclusivamente por él.&lt;br&gt;&lt;br&gt;&lt;br&gt;Departamento de 4 ambientes con dependencia y cochera descubierta como unidad complementaria, living comedor con piso flotante, cocina con comedor diario, habitación principal en suite màs 1 baño completo, baulera, lavadero separado, balcón con vista a pulmón de manzana, portero con vivienda, pileta y SUM, ubicado con cuarto piso contrafrente, con 97,03 m2 totales, estado de conservación: bueno, cerca de Líneas de colectivos 67, 68, 93, 95, 108, 111, 118, 152, 161, 194, Tren Estación Ministro Carranza (Mitre), Subte Estación Ministro Carranza (Línea D) &lt;br&gt;UBICACIÓN: Departamento de 4 ambientes con dependencia, contrafrente, antigüedad 10 años, Orintación: Sur &lt;br&gt;CARACTERISTICAS:     Superficie Total: 97,03 m2 Superficie Cubierta 87,11 m2 Superficie semi-cubierta: 9,92 m2 Baulera: 1,81 m2&lt;br&gt; \\n\\n Comprá la casa que querés! No la que podés. Accedé a un préstamo por hasta el 30% del valor de esta propiedad. Simulá tu cuota en Lendar</td>\n",
       "      <td>Departamento</td>\n",
       "      <td>Venta</td>\n",
       "    </tr>\n",
       "    <tr>\n",
       "      <th>176602</th>\n",
       "      <td>2cEKPSS4XK/BwSml+OuP5Q==</td>\n",
       "      <td>Propiedad</td>\n",
       "      <td>2021-02-08</td>\n",
       "      <td>9999-12-31</td>\n",
       "      <td>2021-02-08</td>\n",
       "      <td>-34.602386</td>\n",
       "      <td>-58.389382</td>\n",
       "      <td>Argentina</td>\n",
       "      <td>Capital Federal</td>\n",
       "      <td>Congreso</td>\n",
       "      <td>...</td>\n",
       "      <td>2.0</td>\n",
       "      <td>971.0</td>\n",
       "      <td>97130.0</td>\n",
       "      <td>2500000.0</td>\n",
       "      <td>USD</td>\n",
       "      <td>Mensual</td>\n",
       "      <td>Local - Congreso</td>\n",
       "      <td>Frente : 15.00 m&lt;br&gt;&lt;br&gt;Fondo :   31.80 m &lt;br&gt;&lt;br&gt;Planta baja  : 485 m2&lt;br&gt;&lt;br&gt;Entrepiso     : 485 m2&lt;br&gt;&lt;br&gt;Superf Total : 971.30 m2       &lt;br&gt;</td>\n",
       "      <td>Local comercial</td>\n",
       "      <td>Venta</td>\n",
       "    </tr>\n",
       "    <tr>\n",
       "      <th>176692</th>\n",
       "      <td>KPC9D5IkuWdggIzFU4BmGQ==</td>\n",
       "      <td>Propiedad</td>\n",
       "      <td>2021-02-08</td>\n",
       "      <td>9999-12-31</td>\n",
       "      <td>2021-02-08</td>\n",
       "      <td>-34.604369</td>\n",
       "      <td>-58.378086</td>\n",
       "      <td>Argentina</td>\n",
       "      <td>Capital Federal</td>\n",
       "      <td>Centro / Microcentro</td>\n",
       "      <td>...</td>\n",
       "      <td>NaN</td>\n",
       "      <td>330.0</td>\n",
       "      <td>2500.0</td>\n",
       "      <td>1600000.0</td>\n",
       "      <td>USD</td>\n",
       "      <td>NaN</td>\n",
       "      <td>Terreno para inversión  en microcentro</td>\n",
       "      <td>Corredor Responsable: Lucrecia Saulle - CSI 5520Contacto: Karina Corrado - MLS ID # 341189-20MARTILLERO:&lt;br&gt;RICARDO DEMICHELLI CUCICBA 1104 / LUCRECIA SAULLE CSI 5520&lt;br&gt;&lt;br&gt;&lt;br&gt;La mejor ubicación en el corazón de Buenos Aires&lt;br&gt;PROYECTO:&lt;br&gt;Una propuesta de categoría en una ubicación inmejorable.&lt;br&gt;Un edificio de alta gama con unidades al tamaño de su necesidad&lt;br&gt;Variante básica 6 unidades por piso.&lt;br&gt;Planos aprobados para construir 2000mts de oficina y 500 mts de cochera&lt;br&gt; \\n\\n Comprá la casa que querés! No la que podés. Accedé a un préstamo por hasta el 30% del valor de esta propiedad. Simulá tu cuota en Lendar</td>\n",
       "      <td>Lote</td>\n",
       "      <td>Venta</td>\n",
       "    </tr>\n",
       "    <tr>\n",
       "      <th>181269</th>\n",
       "      <td>YNoeIgjVc/D/p13bH/3tKQ==</td>\n",
       "      <td>Propiedad</td>\n",
       "      <td>2020-09-26</td>\n",
       "      <td>2020-09-30</td>\n",
       "      <td>2020-09-26</td>\n",
       "      <td>-34.613761</td>\n",
       "      <td>-58.406833</td>\n",
       "      <td>Argentina</td>\n",
       "      <td>Capital Federal</td>\n",
       "      <td>Balvanera</td>\n",
       "      <td>...</td>\n",
       "      <td>NaN</td>\n",
       "      <td>50.0</td>\n",
       "      <td>4980.0</td>\n",
       "      <td>69990.0</td>\n",
       "      <td>USD</td>\n",
       "      <td>NaN</td>\n",
       "      <td>LOCAL EN BALVANERA AL FRENTE CON SOTANO y BAÑO</td>\n",
       "      <td>Corredor Responsable: Mónica Silvia Martinuzzi - CUCICBA 5172Contacto: Sandra Guzzetti - MLS ID # 420621018-148LOCAL EN BALVANERA AL FRENTE CON SOTANO y BAÑO&lt;br&gt;Local con vidriera al frente de aproximadamente 25 m2, más sótano de similares dimensiones, más baño.&lt;br&gt;&lt;br&gt;Inicia un nuevo emprendimiento en el  Barrio de BALVANERA. &lt;br&gt;Barrio en desarrollo muy cerca de Plaza Miserere y Estación Once,  Av. Rivadavia,  Av Jujuy y  Av. Belgrano. &lt;br&gt;NUEVA PLAZA Y COLEGIO EN LA ESQUINA,  a sólo media cuadra.&lt;br&gt;&lt;br&gt;MUY IMPORTANTE, ES UN PROYECTO QUE AVANZA&lt;br&gt;Haciendo clic en este video podes ver las imágenes de septiembre 2020: https://youtu.be/XDY_QQZSmD0&lt;br&gt;&lt;br&gt;LLAMANOS PARA CONSULTAR y diseñar juntos la forma de pago.&lt;br&gt;&lt;br&gt;EL PROYECTO cuenta también con:  &lt;br&gt;26 MONO AMBIENTES&lt;br&gt;1 DUPLEX &lt;br&gt;&lt;br&gt;&lt;br&gt;&lt;br&gt;&lt;br&gt;&lt;br&gt; \\n\\n Comprá la casa que querés! No la que podés. Accedé a un préstamo por hasta el 30% del valor de esta propiedad. Simulá tu cuota en Lendar</td>\n",
       "      <td>Local comercial</td>\n",
       "      <td>Venta</td>\n",
       "    </tr>\n",
       "  </tbody>\n",
       "</table>\n",
       "<p>64 rows × 25 columns</p>\n",
       "</div>"
      ],
      "text/plain": [
       "                              id    ad_type  start_date    end_date  \\\n",
       "8659    +N5Ww6XIQ7+HKJ5boLqE1w==  Propiedad  2020-06-14  2020-06-16   \n",
       "8660    7mrPqGNQOt/Q3nlhuLaHdg==  Propiedad  2020-06-14  2020-06-16   \n",
       "9226    A/VDp8Xk5Hhpph4SKqLC+g==  Propiedad  2020-05-25  2020-06-10   \n",
       "10626   oD9FsdrP2g/xGxUeEMx8Kw==  Propiedad  2020-07-01  2020-09-02   \n",
       "13900   oJXjFIgMP0KzJDPDakU8Og==  Propiedad  2021-05-23  2021-06-04   \n",
       "...                          ...        ...         ...         ...   \n",
       "175491  eG2WBTO0kXK6EzXPcZzUyA==  Propiedad  2020-06-27  2020-07-02   \n",
       "175747  DozO3UQUbuNbJKjr9mmF6A==  Propiedad  2020-06-27  2020-07-02   \n",
       "176602  2cEKPSS4XK/BwSml+OuP5Q==  Propiedad  2021-02-08  9999-12-31   \n",
       "176692  KPC9D5IkuWdggIzFU4BmGQ==  Propiedad  2021-02-08  9999-12-31   \n",
       "181269  YNoeIgjVc/D/p13bH/3tKQ==  Propiedad  2020-09-26  2020-09-30   \n",
       "\n",
       "        created_on        lat        lon         l1               l2  \\\n",
       "8659    2020-06-14 -34.672580 -58.493400  Argentina  Capital Federal   \n",
       "8660    2020-06-14 -34.630927 -58.404756  Argentina  Capital Federal   \n",
       "9226    2020-05-25 -34.582435 -58.414845  Argentina  Capital Federal   \n",
       "10626   2020-07-01 -34.560649 -58.461678  Argentina  Capital Federal   \n",
       "13900   2021-05-23 -34.632267 -58.479611  Argentina  Capital Federal   \n",
       "...            ...        ...        ...        ...              ...   \n",
       "175491  2020-06-27 -34.608859 -58.402845  Argentina  Capital Federal   \n",
       "175747  2020-06-27 -34.577518 -58.434342  Argentina  Capital Federal   \n",
       "176602  2021-02-08 -34.602386 -58.389382  Argentina  Capital Federal   \n",
       "176692  2021-02-08 -34.604369 -58.378086  Argentina  Capital Federal   \n",
       "181269  2020-09-26 -34.613761 -58.406833  Argentina  Capital Federal   \n",
       "\n",
       "                          l3  ... bathrooms  surface_total  surface_covered  \\\n",
       "8659            Villa Lugano  ...       NaN          244.0          63229.0   \n",
       "8660        Parque Patricios  ...       NaN          850.0          86664.0   \n",
       "9226                 Palermo  ...       2.0          194.0           1994.0   \n",
       "10626               Belgrano  ...       NaN           37.0           3727.0   \n",
       "13900               Floresta  ...       NaN         1879.0          11796.0   \n",
       "...                      ...  ...       ...            ...              ...   \n",
       "175491             Balvanera  ...       1.0           50.0           4694.0   \n",
       "175747               Palermo  ...       2.0          970.0           8711.0   \n",
       "176602              Congreso  ...       2.0          971.0          97130.0   \n",
       "176692  Centro / Microcentro  ...       NaN          330.0           2500.0   \n",
       "181269             Balvanera  ...       NaN           50.0           4980.0   \n",
       "\n",
       "            price  currency  price_period  \\\n",
       "8659     190000.0       USD           NaN   \n",
       "8660     750000.0       USD           NaN   \n",
       "9226     495000.0       USD       Mensual   \n",
       "10626     80000.0       USD           NaN   \n",
       "13900   1950000.0       USD           NaN   \n",
       "...           ...       ...           ...   \n",
       "175491    68200.0       USD           NaN   \n",
       "175747   299000.0       USD           NaN   \n",
       "176602  2500000.0       USD       Mensual   \n",
       "176692  1600000.0       USD           NaN   \n",
       "181269    69990.0       USD           NaN   \n",
       "\n",
       "                                                    title  \\\n",
       "8659        Galpon de 1 ambiente en Venta en Villa lugano   \n",
       "8660    Galpon de 1 ambiente en Venta en Parque patricios   \n",
       "9226                              Departamento - Botanico   \n",
       "10626                    Venta-Local-Belgrano-Oportunidad   \n",
       "13900          VENTA - LOTE NUEVA CONSTRUCCION - FLORESTA   \n",
       "...                                                   ...   \n",
       "175491                     Venta departamento 3 ambientes   \n",
       "175747             VENTA DEPARTAMENTO 4 AMBIENTES PALERMO   \n",
       "176602                                   Local - Congreso   \n",
       "176692             Terreno para inversión  en microcentro   \n",
       "181269     LOCAL EN BALVANERA AL FRENTE CON SOTANO y BAÑO   \n",
       "\n",
       "                                                                                                                                                                                                                                                                                                                                                                                                                                                                                                                                                                                                                                                                                                                                                                                                                                                                                                                                                                                                                                                                                                                                                                                                                                                                                                                                                                                                                                                                                                                                                                                                                                                                                                                                                                                 description  \\\n",
       "8659                                                                                                                                                                                                                                                                                                                                                                                                                                                                                                                                                                                                                                                                                                                                                                                                                                                                                                                                                                                                                                                                                                                                                                                                                                                                                                                                                                                                                                               Galpon en esquina lote propio de 244 metros. - Se deja constancia que las caracteristicas, medidas y superficies  consignadas son aproximadas, sujetos a verificación y/o ajuste. El precio del inmueble puede ser modificado sin previo aviso. Fotos de carácter no contractual. Las unidades publicadas están sujetas a disponibilidad.   \n",
       "8660                                                                                                                                                                                                                                                                                                                                                                                                                                                                                                                                                                                                                                                                                                                                                                                                                                                                                                                                                                                                                                                                                                                                                                                                   Espectacular galpón sobre Terreno Propio cerca del Distrito Tecnólogico de Parque Patricios. Multiples usos. Funcionó siempre como imprenta. Entrepiso. Terreno de 8.66 x 64, R2B1. 3 baños. Cercanía a distintos medios de transporte. Comercializa Migliorisi Av. Córdoba 3401 - TEL:  - Se deja constancia que las caracteristicas, medidas y superficies  consignadas son aproximadas, sujetos a verificación y/o ajuste. El precio del inmueble puede ser modificado sin previo aviso. Fotos de carácter no contractual. Las unidades publicadas están sujetas a disponibilidad.   \n",
       "9226    Espectacular Vista Al Botánico - en Esquina, Super Privado y Luminoso<br>Superficie total 194 m2. Republica Arabe Siria y Juncal – <br>La propiedad se encuentra en Edificio de 40 años de Categoria, solido sobre la esquina, c/ excelente altura de techos y pisos de roble, todo en impecable estado de conservación, lleno de luz en todos sus ambientes. <br>Palier privado, Living c/ chimenea con biblioteca, Comedor, ambos sobre la calle Juncal y c/ salida a balcones. Cocina de gran tamaño reciclada a nuevo, Lavadero y Dependencia de servicio completa. 3 Dormitorios, 2 de ellos c/ hermosa vista al Jardín Botánico, comparten 2 baños completos. Baulera, Servicios centrales, Sin Cochera. <br>Oportunidad Negociable, Toma propiedad de menor Valor<br>República Arabe Siria 2800, Palermo Chico, Botánico.<br>APTO CREDITO<br><br>TASAMOS SU PROPIEDAD EN EL DIA<br>Somos profesionales altamente especializados en tasaciones para obtener el valor real de las propiedades utilizando los criterios más adecuados, respetando y cuidando el patrimonio del cliente que confía en nuestros servicios.<br><br>AVISO LEGAL<br>Las medidas son aproximadas, las reales surgen del titulo de propiedad o plano de mensura. Las imágenes son a mero título ilustrativo. Las descripciones y valores de expensas, impuestos y servicios son aproximados y fueron proporcionados por el propietario y pueden no estar actualizados a la hora de la visualización de este aviso. Los precios indicados podrán modificarse sin previo aviso. Venta supeditada al cumplimiento por parte del propietario de la solicitud de COTI, requisito de la resolución general Nº 2371 de la AFIP.<br><br><br><br><br><br>DELLA FONTE PROPIEDADES <br>CUCICBA 7608<br>CMCPSI 6602   \n",
       "10626                                                                                                                                                                                                                                                                                                                                                                                                                                                                                                                                                                                                        Corredor Responsable: Jorge Salafia - CUCICBA 5666Contacto: Sebastián Gómez Porta - MLS ID # 420211219-17Martillero responsable Jorge O. Salafia CUCICBA 5666 CSI 5888<br><br><br><br><br>Excelente oportunidad!!! <br>Local excelentemente ubicado en el barrio de Belgrano, en Blanco Encalada y Vidal, a dos cuadras de Av. Cabildo y a dos de Av. Cramer. A una cuadra de Av. Monroe y a tres de Juramento.  <br>A dos cuadras del metrobús por sus cercanías pasan las siguientes líneas de colectivos: 29, 41, 44, 57, 59, 60, 63, 65, 67, 68, 80, 107, 113, 114, 133, 151, 152, 161, 168, 175, 184, 194<br>Asimismo, se encuentra a 5 cuadras de la estación Juramento de la línea D.<br>El mismo tiene 37 metros cuadrados, consta con un baño y cocina.  Frente de aproximadamente tres metros, con reja metálica.<br>Ubicado en la planta baja de un edificio, en una zona de Belgrano con mucho movimiento de transeúntes y edificios y locales. <br>Expensas al mes de junio de $7000 ABL $420.<br><br><br><br> <br> \\n\\n Comprá la casa que querés! No la que podés. Accedé a un préstamo por hasta el 30% del valor de esta propiedad. Simulá tu cuota en Lendar    \n",
       "13900                                                                                                                                                                                                                                                                                                                                                                                                                                                                                                                                                                                                                                                                                                                                                                                                                                                                          Corredor Responsable: GABRIELA FERNANDEZ - CPI 7009Contacto: Helga Hartmann - MLS ID # 420931089-289Todas las propiedades que figuran en mi perfil se encuentran a cargo del profesional matriculado de la oficina, la intermediación y la conclusión de las operaciones serán llevadas exclusivamente por él.<br><br>Excelente lote para construcción en el barrio de Floresta, sobre 5 lotes que tienen una frente sobre Yerbal de 43.63 x  43.07 metros de fondo. Excelente ubicación. Frente a la estación de Floresta, tren Sarmiento. Posibilidad de edificio y locales comerciales. Metros cuadrados totales a construir 11,796, de los cuales 9830 son vendibles. Dentro del valor de publicación esta la plusvalía. Posibilidad de construir 9 pisos. \\n\\n Comprá la casa que querés! No la que podés. Accedé a un préstamo por hasta el 30% del valor de esta propiedad. Simulá tu cuota en Lendar    \n",
       "...                                                                                                                                                                                                                                                                                                                                                                                                                                                                                                                                                                                                                                                                                                                                                                                                                                                                                                                                                                                                                                                                                                                                                                                                                                                                                                                                                                                                                                                                                                                                                                                                                                                                                                                                                                                      ...   \n",
       "175491                                                                                                                                                                                                                                                                                                                                                                                                                                                                                                                                                                                           Corredor Responsable: JUAN FRANCISCO CARATTINO - CPI 5457Contacto: Melisa Saidel - MLS ID # 420391197-22Todas las propiedades que figuran en mi perfil se encuentran a cargo del profesional matriculado de la oficina, la intermediación y la conclusión de las operaciones serán llevadas exclusivamente por él.<br><br> Departamento de 3 mbientes en Eduficio, ubicado  Av. Hipólito Yrigoyen 2600  esquina misiones , Balvanera . <br>Medios de transporte cercanos : Subte A, estación Once tren ,Av. Rivadavia y Metrobus. Vista totalmente abierta en living comedor con acceso a balcón con vista al frente  .Cocina independiente con espacio para el lavarropa, 2 dormitorios con amplios placard, un baño completo y espacio para guardado. Expensas $ 6135 abril 2020 .El edificio cuenta con encargado . Las medidas, superficies y montos de expensas consignadas en la presente descripción son aproximadas, a solo título orientativo y no son vinculantes. Las medidas y superficies reales surgen del Título respectivo,  \\n\\n Comprá la casa que querés! No la que podés. Accedé a un préstamo por hasta el 30% del valor de esta propiedad. Simulá tu cuota en Lendar    \n",
       "175747                                                                                                                                                                                                                                                                                                                                                                                                                                                                 Corredor Responsable: JUAN FRANCISCO CARATTINO - CPI 5457Contacto: Melisa Saidel - MLS ID # 420391197-28&gt;Todas las propiedades que figuran en mi perfil se encuentran a cargo del profesional matriculado de la oficina, la intermediación y la conclusión de las operaciones serán llevadas exclusivamente por él.<br><br><br>Departamento de 4 ambientes con dependencia y cochera descubierta como unidad complementaria, living comedor con piso flotante, cocina con comedor diario, habitación principal en suite màs 1 baño completo, baulera, lavadero separado, balcón con vista a pulmón de manzana, portero con vivienda, pileta y SUM, ubicado con cuarto piso contrafrente, con 97,03 m2 totales, estado de conservación: bueno, cerca de Líneas de colectivos 67, 68, 93, 95, 108, 111, 118, 152, 161, 194, Tren Estación Ministro Carranza (Mitre), Subte Estación Ministro Carranza (Línea D) <br>UBICACIÓN: Departamento de 4 ambientes con dependencia, contrafrente, antigüedad 10 años, Orintación: Sur <br>CARACTERISTICAS:     Superficie Total: 97,03 m2 Superficie Cubierta 87,11 m2 Superficie semi-cubierta: 9,92 m2 Baulera: 1,81 m2<br> \\n\\n Comprá la casa que querés! No la que podés. Accedé a un préstamo por hasta el 30% del valor de esta propiedad. Simulá tu cuota en Lendar    \n",
       "176602                                                                                                                                                                                                                                                                                                                                                                                                                                                                                                                                                                                                                                                                                                                                                                                                                                                                                                                                                                                                                                                                                                                                                                                                                                                                                                                                                                                                                                                                                                                                                                                                                                      Frente : 15.00 m<br><br>Fondo :   31.80 m <br><br>Planta baja  : 485 m2<br><br>Entrepiso     : 485 m2<br><br>Superf Total : 971.30 m2       <br>   \n",
       "176692                                                                                                                                                                                                                                                                                                                                                                                                                                                                                                                                                                                                                                                                                                                                                                                                                                                                                                                                                                                                                                                                                                                                  Corredor Responsable: Lucrecia Saulle - CSI 5520Contacto: Karina Corrado - MLS ID # 341189-20MARTILLERO:<br>RICARDO DEMICHELLI CUCICBA 1104 / LUCRECIA SAULLE CSI 5520<br><br><br>La mejor ubicación en el corazón de Buenos Aires<br>PROYECTO:<br>Una propuesta de categoría en una ubicación inmejorable.<br>Un edificio de alta gama con unidades al tamaño de su necesidad<br>Variante básica 6 unidades por piso.<br>Planos aprobados para construir 2000mts de oficina y 500 mts de cochera<br> \\n\\n Comprá la casa que querés! No la que podés. Accedé a un préstamo por hasta el 30% del valor de esta propiedad. Simulá tu cuota en Lendar    \n",
       "181269                                                                                                                                                                                                                                                                                                                                                                                                                                                                                                                                                                                                                                                                                                                                                                                  Corredor Responsable: Mónica Silvia Martinuzzi - CUCICBA 5172Contacto: Sandra Guzzetti - MLS ID # 420621018-148LOCAL EN BALVANERA AL FRENTE CON SOTANO y BAÑO<br>Local con vidriera al frente de aproximadamente 25 m2, más sótano de similares dimensiones, más baño.<br><br>Inicia un nuevo emprendimiento en el  Barrio de BALVANERA. <br>Barrio en desarrollo muy cerca de Plaza Miserere y Estación Once,  Av. Rivadavia,  Av Jujuy y  Av. Belgrano. <br>NUEVA PLAZA Y COLEGIO EN LA ESQUINA,  a sólo media cuadra.<br><br>MUY IMPORTANTE, ES UN PROYECTO QUE AVANZA<br>Haciendo clic en este video podes ver las imágenes de septiembre 2020: https://youtu.be/XDY_QQZSmD0<br><br>LLAMANOS PARA CONSULTAR y diseñar juntos la forma de pago.<br><br>EL PROYECTO cuenta también con:  <br>26 MONO AMBIENTES<br>1 DUPLEX <br><br><br><br><br><br> \\n\\n Comprá la casa que querés! No la que podés. Accedé a un préstamo por hasta el 30% del valor de esta propiedad. Simulá tu cuota en Lendar    \n",
       "\n",
       "          property_type operation_type  \n",
       "8659           Depósito          Venta  \n",
       "8660           Depósito          Venta  \n",
       "9226       Departamento          Venta  \n",
       "10626   Local comercial          Venta  \n",
       "13900              Lote          Venta  \n",
       "...                 ...            ...  \n",
       "175491     Departamento          Venta  \n",
       "175747     Departamento          Venta  \n",
       "176602  Local comercial          Venta  \n",
       "176692             Lote          Venta  \n",
       "181269  Local comercial          Venta  \n",
       "\n",
       "[64 rows x 25 columns]"
      ]
     },
     "execution_count": 54,
     "metadata": {},
     "output_type": "execute_result"
    }
   ],
   "source": [
    "df.loc[df.surface_covered - df.surface_total>1000, :]"
   ]
  },
  {
   "cell_type": "code",
   "execution_count": 2,
   "metadata": {},
   "outputs": [
    {
     "data": {
      "text/plain": [
       "('2020-05-24', '2021-06-17')"
      ]
     },
     "execution_count": 2,
     "metadata": {},
     "output_type": "execute_result"
    }
   ],
   "source": [
    "df[\"created_on\"].min(), df[\"created_on\"].max()"
   ]
  }
 ],
 "metadata": {
  "kernelspec": {
   "display_name": "Python 3",
   "language": "python",
   "name": "python3"
  },
  "language_info": {
   "codemirror_mode": {
    "name": "ipython",
    "version": 3
   },
   "file_extension": ".py",
   "mimetype": "text/x-python",
   "name": "python",
   "nbconvert_exporter": "python",
   "pygments_lexer": "ipython3",
   "version": "3.8.3"
  }
 },
 "nbformat": 4,
 "nbformat_minor": 5
}
