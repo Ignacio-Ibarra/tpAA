{
 "cells": [
  {
   "cell_type": "markdown",
   "metadata": {},
   "source": [
    "# Arbol de Decisión: Clasificación"
   ]
  },
  {
   "cell_type": "markdown",
   "metadata": {},
   "source": [
    "### Paquetes utilizados"
   ]
  },
  {
   "cell_type": "code",
   "execution_count": 5,
   "metadata": {},
   "outputs": [],
   "source": [
    "import pandas as pd\n",
    "import numpy as np\n",
    "import matplotlib.pyplot as plt\n",
    "\n",
    "from sklearn.preprocessing import StandardScaler\n",
    "from sklearn.preprocessing import OneHotEncoder\n",
    "from sklearn.tree import DecisionTreeClassifier\n",
    "from sklearn.metrics import multilabel_confusion_matrix\n",
    "from sklearn.model_selection import train_test_split, RandomizedSearchCV\n",
    "from kneed import KneeLocator\n",
    "from cleaning import CleaningData #propia\n",
    "from sklearn.cluster import KMeans\n",
    "\n",
    "#BOpt\n",
    "from skopt import BayesSearchCV #después lo hacemos con RandomSearchCv"
   ]
  },
  {
   "cell_type": "markdown",
   "metadata": {},
   "source": [
    "### Carga de datos pre-procesados"
   ]
  },
  {
   "cell_type": "code",
   "execution_count": 6,
   "metadata": {},
   "outputs": [
    {
     "name": "stdout",
     "output_type": "stream",
     "text": [
      "Cleaning columns with no valuable information...\n",
      "\n"
     ]
    },
    {
     "data": {
      "text/plain": [
       "(41315, 17)"
      ]
     },
     "execution_count": 6,
     "metadata": {},
     "output_type": "execute_result"
    }
   ],
   "source": [
    "# Cargo dataset original y hago un poco de pre processing, luego vamos a tener que cambiarlo para\n",
    "# incorporar tanto Pre-processing y Feature Engineering. \n",
    "\n",
    "nocols = ['Unnamed: 0', 'Unnamed: 0.1']\n",
    "\n",
    "gitlfs_url = \"https://github.com/Ignacio-Ibarra/tpAA/blob/main/data/cabaventa.csv\"\n",
    "\n",
    "try: \n",
    "    cols = list(pd.read_csv(gitlfs_url, nrows = 1))\n",
    "    raw_df = pd.read_csv(gitlfs_url, usecols =[col for col in cols if col not in nocols])\n",
    "except: \n",
    "    cols =  list(pd.read_csv(\"./data/cabaventa.csv\", nrows =1))\n",
    "    raw_df = pd.read_csv(\"./data/cabaventa.csv\", usecols =[col for col in cols if col not in nocols])\n",
    "raw_df.shape\n",
    "\n",
    "#borro columnas, borro nulos de un saque, saco \"ARS\". Me queda un dataset herrrrmoso. \n",
    "cleaned = CleaningData(data=raw_df)\n",
    "cols_to_drop = [#'Unnamed: 0.1', 'Unnamed: 0', #columnas que vinieron mal en la bajada\n",
    "                'operation_type', #todos son 'venta'\n",
    "                'l1', # todos son 'Argentina'\n",
    "                'l2', # todos son \"Capital Federal\"\n",
    "                'ad_type', #todas las filas iguales \n",
    "                'l4', #todas las filas nulas preferible el dato de lat y long\n",
    "                'l5', #columna con todas las filas nulas\n",
    "                'l6', #columna con todas las filas nulas\n",
    "                'created_on', #la columna created_on es igual a la columna start_date\n",
    "               ]\n",
    "data = cleaned.drop_columns(columns=cols_to_drop)\n",
    "data = data.dropna()\n",
    "data = data[data.currency!=\"ARS\"].reset_index(drop=True)\n",
    "data.shape"
   ]
  },
  {
   "cell_type": "markdown",
   "metadata": {},
   "source": [
    "## Categorización de la variable precio\n",
    "\n",
    "El proceso de *binning* de la variable precio se realizó de manera no supervisada, utilizando el algoritmo de k-medias para encontrar las particiones más eficientes, entendiendo la eficiencia como la creación de grupos en los cuales la suma cuadrática de las distancias de cada valor al *centroide* del grupo sea mínima. \n",
    "\n",
    "Ejemplo: con una variable que toma valores: 1, 2, 3, 20, 21, 22, 25, 26, 30, 32, 50, 51, 52, 53, 100, 101 si se usaran métodos convencionales como la división en cuartiles quedarían los grupos conformados de la siguiente manera: \n",
    "\n",
    "+ 1° grupo: 1,2,3,20 \n",
    "+ 2° grupo 21, 22, 25, 26  \n",
    "+ 3° grupo 30, 32, 50, 51\n",
    "+ 4° grupo 52, 53, 100, 101\n",
    "\n",
    "Lo que generaría grupos balanceados, pero también compuesto por muestras muy heterogéneas.\n",
    "En cambio con k-medias, la separación óptima serían 5 grupos: \n",
    "\n",
    "+ 1° grupo: 1,2,3\n",
    "+ 2° grupo 20, 21, 22, 25, 26  \n",
    "+ 3° grupo 30, 32 \n",
    "+ 4° grupo 50, 51, 52, 53 \n",
    "+ 5° grupo 100, 101\n",
    "\n",
    "En este caso, los grupos quedarían más distinguidos, internamente más homogéneos, aunque se generan muestras desbalanceadas. \n",
    "**Nota**: este método de *binning* no constituye una práctica de *hardcoding* de la variable respuesta dado que se ha realizado de manera univariada, sin agregar otros atributos del dataset. "
   ]
  },
  {
   "cell_type": "markdown",
   "metadata": {},
   "source": [
    "### Transformación Logarítmica\n",
    "\n",
    "Previo a la categorización de la variable precio, se realizó una tranformación logarítimica de la variable para quitar el sesgo y hacer más eficiente la separación en intervalos."
   ]
  },
  {
   "cell_type": "code",
   "execution_count": 7,
   "metadata": {},
   "outputs": [
    {
     "data": {
      "image/png": "[encoded data removed]",
      "text/plain": [
       "<Figure size 576x288 with 2 Axes>"
      ]
     },
     "metadata": {
      "needs_background": "light"
     },
     "output_type": "display_data"
    }
   ],
   "source": [
    "fig, axs = plt.subplots(figsize=(8,4), ncols = 2)\n",
    "\n",
    "axs[0].hist(data.price, bins=40)\n",
    "axs[0].set_title(\"Price\")\n",
    "\n",
    "axs[1].hist(np.log10(data.price+1), bins=40)\n",
    "axs[1].set_title(\"Log Price\")\n",
    "plt.tight_layout()\n",
    "plt.savefig(\"./img/transf-log.png\", dpi=200, facecolor=\"white\")\n",
    "#plt.show()"
   ]
  },
  {
   "cell_type": "markdown",
   "metadata": {},
   "source": [
    "### K-Medias\n",
    "\n",
    "El método consiste en definir un hyper-parámetro k, el cual es un 'int', y el algortimo va armando los k-grupos que minimizan la suma de las distancias cuadráticas de cada instancia al centroide (vector de medias del grupo). Dado que aquí se está aplicando el método para un vector de 1 dimensión, es decir se utiliza de modo univariado, el algoritmo lo que hará es separar la variable log-price en k-grupos de modo que se minimice la suma de las distancias cuadráticas de cada valor a la media de su grupo. El punto consiste en encontrar el parámetro k óptimo de modo tal de que se encuentre de manera no supervisada los grupos en los que \"naturalmente\" está dividida la variable. Para encontrar el parámetro óptimo una de las formas habituales es la solución gráfica del \"codo\". En un gráfico de dos dimensiones, en el eje horizontal el valor de k y en el eje vertical la suma de las distancias cuadráticas, el valor de k óptimo es allí donde la curva presenta un \"codo\". "
   ]
  },
  {
   "cell_type": "code",
   "execution_count": 8,
   "metadata": {},
   "outputs": [
    {
     "data": {
      "image/png": "[encoded data removed]",
      "text/plain": [
       "<Figure size 576x288 with 1 Axes>"
      ]
     },
     "metadata": {
      "needs_background": "light"
     },
     "output_type": "display_data"
    }
   ],
   "source": [
    "var_data = np.log10(data.price+1).to_numpy().reshape(-1, 1)\n",
    "\n",
    "kmeans_kwargs = {\n",
    "  \"init\": \"random\",\n",
    "  \"n_init\": 10,\n",
    "  \"max_iter\": 300,\n",
    "  \"random_state\": 42,\n",
    "  }\n",
    "\n",
    "max_clusters = 10\n",
    "\n",
    "sse = []\n",
    "for k in range(1, max_clusters+1):\n",
    "  kmeans = KMeans(n_clusters=k, **kmeans_kwargs)\n",
    "  kmeans.fit(var_data)\n",
    "  sse.append(kmeans.inertia_)\n",
    "\n",
    "kl = KneeLocator(\n",
    "      range(1, max_clusters+1), sse, curve=\"convex\", direction=\"decreasing\"\n",
    "                  )\n",
    "nclust = kl.elbow\n",
    "\n",
    "fig, ax = plt.subplots(figsize=(8,4))\n",
    "ax.plot(range(1, max_clusters+1), sse)\n",
    "ax.plot(nclust,sse[nclust-1], 'ro')\n",
    "ax.annotate('codo', xy=(3, sse[nclust-1]),  xycoords='data',\n",
    "            xytext=(4, sse[nclust-2]), textcoords='data',\n",
    "            arrowprops=dict(facecolor='black', shrink=0.05),\n",
    "            horizontalalignment='right', verticalalignment='top',\n",
    "            )\n",
    "ax.set_xticks(range(1, max_clusters+1))\n",
    "ax.set_xlabel(\"Cantidad de Clusters\")\n",
    "ax.set_ylabel(\"Suma Distancia Cuadrática\")\n",
    "plt.savefig(\"./img/codo.png\", dpi=200, facecolor=\"white\")"
   ]
  },
  {
   "cell_type": "markdown",
   "metadata": {},
   "source": [
    "Dado que el algortimo selecciona como óptima una separación en 3 grupos, entonces se procede a categorizar la variable log-price en tres grupos, los cuales presentan las siguientes características. "
   ]
  },
  {
   "cell_type": "code",
   "execution_count": 9,
   "metadata": {},
   "outputs": [
    {
     "data": {
      "text/html": [
       "<div>\n",
       "<style scoped>\n",
       "    .dataframe tbody tr th:only-of-type {\n",
       "        vertical-align: middle;\n",
       "    }\n",
       "\n",
       "    .dataframe tbody tr th {\n",
       "        vertical-align: top;\n",
       "    }\n",
       "\n",
       "    .dataframe thead th {\n",
       "        text-align: right;\n",
       "    }\n",
       "</style>\n",
       "<table border=\"1\" class=\"dataframe\">\n",
       "  <thead>\n",
       "    <tr style=\"text-align: right;\">\n",
       "      <th></th>\n",
       "      <th>Min</th>\n",
       "      <th>Max</th>\n",
       "      <th>Porcentaje</th>\n",
       "    </tr>\n",
       "    <tr>\n",
       "      <th>Clases</th>\n",
       "      <th></th>\n",
       "      <th></th>\n",
       "      <th></th>\n",
       "    </tr>\n",
       "  </thead>\n",
       "  <tbody>\n",
       "    <tr>\n",
       "      <th>0</th>\n",
       "      <td>5000.0</td>\n",
       "      <td>171700.0</td>\n",
       "      <td>47.65%</td>\n",
       "    </tr>\n",
       "    <tr>\n",
       "      <th>1</th>\n",
       "      <td>171800.0</td>\n",
       "      <td>485000.0</td>\n",
       "      <td>39.04%</td>\n",
       "    </tr>\n",
       "    <tr>\n",
       "      <th>2</th>\n",
       "      <td>485979.0</td>\n",
       "      <td>12000000.0</td>\n",
       "      <td>13.31%</td>\n",
       "    </tr>\n",
       "  </tbody>\n",
       "</table>\n",
       "</div>"
      ],
      "text/plain": [
       "             Min         Max Porcentaje\n",
       "Clases                                 \n",
       "0         5000.0    171700.0     47.65%\n",
       "1       171800.0    485000.0     39.04%\n",
       "2       485979.0  12000000.0     13.31%"
      ]
     },
     "execution_count": 9,
     "metadata": {},
     "output_type": "execute_result"
    }
   ],
   "source": [
    "kl = KneeLocator(\n",
    "      range(1, max_clusters+1), sse, curve=\"convex\", direction=\"decreasing\"\n",
    "                  )\n",
    "nclust = kl.elbow\n",
    "\n",
    "kmeans = KMeans(\n",
    "     init=\"random\",\n",
    "     n_clusters=nclust,\n",
    "     n_init=10,\n",
    "     max_iter=300,\n",
    "     random_state=42)\n",
    "kmeans.fit(var_data)\n",
    "data['labels'] = kmeans.labels_\n",
    "\n",
    "def percentage(x):\n",
    "    return \"{:.2%}\".format(x.count()/len(data))\n",
    "\n",
    "tabla = data.groupby('labels').agg({'price':['min','max',percentage]}).reset_index()\n",
    "tabla.columns = ['Clases','Min','Max','Porcentaje']\n",
    "tabla.set_index(\"Clases\")\n",
    "#print(tabla.to_latex())"
   ]
  },
  {
   "cell_type": "markdown",
   "metadata": {},
   "source": [
    "Tal como se observa, la categorización deriva en la generación de clases desbalanceadas. Este método solo genera clases balanceadas en caso de que la variable se distribuya de manera uniforme. "
   ]
  },
  {
   "cell_type": "code",
   "execution_count": 10,
   "metadata": {},
   "outputs": [
    {
     "data": {
      "text/html": [
       "<div>\n",
       "<style scoped>\n",
       "    .dataframe tbody tr th:only-of-type {\n",
       "        vertical-align: middle;\n",
       "    }\n",
       "\n",
       "    .dataframe tbody tr th {\n",
       "        vertical-align: top;\n",
       "    }\n",
       "\n",
       "    .dataframe thead th {\n",
       "        text-align: right;\n",
       "    }\n",
       "</style>\n",
       "<table border=\"1\" class=\"dataframe\">\n",
       "  <thead>\n",
       "    <tr style=\"text-align: right;\">\n",
       "      <th></th>\n",
       "      <th>PesosChi</th>\n",
       "      <th>PesosNormal</th>\n",
       "      <th>PesosUniforme</th>\n",
       "    </tr>\n",
       "    <tr>\n",
       "      <th>Clases</th>\n",
       "      <th></th>\n",
       "      <th></th>\n",
       "      <th></th>\n",
       "    </tr>\n",
       "  </thead>\n",
       "  <tbody>\n",
       "    <tr>\n",
       "      <th>2</th>\n",
       "      <td>0.6368</td>\n",
       "      <td>0.2658</td>\n",
       "      <td>0.3282</td>\n",
       "    </tr>\n",
       "    <tr>\n",
       "      <th>1</th>\n",
       "      <td>0.2959</td>\n",
       "      <td>0.2730</td>\n",
       "      <td>0.3237</td>\n",
       "    </tr>\n",
       "    <tr>\n",
       "      <th>0</th>\n",
       "      <td>0.0673</td>\n",
       "      <td>0.4612</td>\n",
       "      <td>0.3481</td>\n",
       "    </tr>\n",
       "  </tbody>\n",
       "</table>\n",
       "</div>"
      ],
      "text/plain": [
       "        PesosChi  PesosNormal  PesosUniforme\n",
       "Clases                                      \n",
       "2         0.6368       0.2658         0.3282\n",
       "1         0.2959       0.2730         0.3237\n",
       "0         0.0673       0.4612         0.3481"
      ]
     },
     "execution_count": 10,
     "metadata": {},
     "output_type": "execute_result"
    }
   ],
   "source": [
    "chi = np.random.chisquare(2,10000).reshape(-1,1)\n",
    "norm = np.random.normal(0, 1, 10000).reshape(-1, 1)\n",
    "unif = np.random.uniform(-1,1,10000).reshape(-1, 1)\n",
    "\n",
    "km0 = KMeans(\n",
    "     init=\"random\",\n",
    "     n_clusters=3,\n",
    "     n_init=10,\n",
    "     max_iter=300,\n",
    "     random_state=42)\n",
    "\n",
    "km1 = KMeans(\n",
    "     init=\"random\",\n",
    "     n_clusters=3,\n",
    "     n_init=10,\n",
    "     max_iter=300,\n",
    "     random_state=42)\n",
    "\n",
    "km2 = KMeans(\n",
    "     init=\"random\",\n",
    "     n_clusters=3,\n",
    "     n_init=10,\n",
    "     max_iter=300,\n",
    "     random_state=42)\n",
    "\n",
    "chisquare =  pd.Series(km0.fit_predict(chi)).value_counts(normalize=True)\n",
    "normal = pd.Series(km1.fit_predict(norm)).value_counts(normalize=True)\n",
    "uniforme = pd.Series(km2.fit_predict(unif)).value_counts(normalize=True)\n",
    "\n",
    "tabla = pd.concat([chisquare, normal, uniforme], axis=1).reset_index()\n",
    "tabla.columns = [\"Clases\",\"PesosChi\",\"PesosNormal\", \"PesosUniforme\"]\n",
    "tabla.set_index(\"Clases\")\n",
    "#print(tabla.to_latex())\n"
   ]
  },
  {
   "cell_type": "markdown",
   "metadata": {},
   "source": [
    "### "
   ]
  },
  {
   "cell_type": "markdown",
   "metadata": {},
   "source": [
    "## Modelo"
   ]
  },
  {
   "cell_type": "markdown",
   "metadata": {},
   "source": [
    "### Generamos el DataSet que usaremos para entrenar y testear el modelo:"
   ]
  },
  {
   "cell_type": "code",
   "execution_count": 11,
   "metadata": {},
   "outputs": [
    {
     "name": "stderr",
     "output_type": "stream",
     "text": [
      "c:\\Users\\leandro.morinigo\\Anaconda3\\lib\\site-packages\\sklearn\\utils\\deprecation.py:87: FutureWarning: Function get_feature_names is deprecated; get_feature_names is deprecated in 1.0 and will be removed in 1.2. Please use get_feature_names_out instead.\n",
      "  warnings.warn(msg, category=FutureWarning)\n"
     ]
    },
    {
     "data": {
      "text/plain": [
       "(41315, 72)"
      ]
     },
     "execution_count": 11,
     "metadata": {},
     "output_type": "execute_result"
    }
   ],
   "source": [
    "num_vars = ['lat', 'lon', 'rooms', \n",
    "            'bedrooms','bathrooms', 'surface_total', \n",
    "            'surface_covered']#estas son las que usamos por ahora.\n",
    "cat_vars = ['l3', 'property_type']\n",
    "labels = ['labels']\n",
    "\n",
    "enc = OneHotEncoder(handle_unknown='error', drop=\"first\") \n",
    "x_cat = enc.fit_transform(data[cat_vars])\n",
    "\n",
    "cols = enc.get_feature_names(cat_vars)\n",
    "cat_df = pd.DataFrame(x_cat.toarray(), columns = cols)\n",
    "num_df = data[num_vars]\n",
    "scaler = StandardScaler()\n",
    "scaled = scaler.fit_transform(num_df)\n",
    "num_df = pd.DataFrame(scaled, columns = num_vars)\n",
    "#enc_labs  = OneHotEncoder(handle_unknown='error', drop=\"first\") \n",
    "labels = pd.get_dummies(data.labels).to_numpy()\n",
    "\n",
    "X = pd.concat([data.id, num_df, cat_df], axis=1)\n",
    "\n",
    "X.shape"
   ]
  },
  {
   "cell_type": "markdown",
   "metadata": {},
   "source": [
    "### Generando el Arbol Simple (punto 5)"
   ]
  },
  {
   "cell_type": "code",
   "execution_count": 13,
   "metadata": {},
   "outputs": [],
   "source": [
    "X1 = X.iloc[:,1:]\n",
    "Y1 = labels\n",
    "seed1 = 42\n",
    "\n",
    "# Separar en conjunto de entrenamiento y conjunto de prueba\n",
    "x1_train, x1_test, y1_train, y1_test = train_test_split(X1, Y1, test_size=0.2, random_state= seed1 , stratify=Y)\n",
    "\n",
    "# Creamos el arbol simple:\n",
    "max_depth = 4\n",
    "arbol_simple = DecisionTreeClassifier(max_depth=None)\n",
    "\n",
    "# Entrenamos el modelo:\n",
    "arbol_simple.fit(x1_train, y1_train)\n",
    "\n",
    "# Predecimos:\n",
    "y1_pred = arbol_simple.predict(x1_test)"
   ]
  },
  {
   "cell_type": "markdown",
   "metadata": {},
   "source": [
    "### 5-fold Cross Validation"
   ]
  },
  {
   "cell_type": "code",
   "execution_count": 37,
   "metadata": {},
   "outputs": [],
   "source": [
    "seed = 13\n",
    "X_train, x_test, Y_train, y_test = train_test_split(X.iloc[:,1:-1],labels, test_size=0.3, random_state=seed)"
   ]
  },
  {
   "cell_type": "code",
   "execution_count": 45,
   "metadata": {},
   "outputs": [
    {
     "name": "stdout",
     "output_type": "stream",
     "text": [
      "Fitting 5 folds for each of 100 candidates, totalling 500 fits\n",
      "Best params achieve a test score of 0.9552972141482963 :\n"
     ]
    }
   ],
   "source": [
    "import warnings\n",
    "warnings.filterwarnings('ignore')\n",
    "\n",
    "model = DecisionTreeClassifier(random_state=seed)\n",
    "\n",
    "param_grid = {\n",
    "    'criterion': ['gini', 'entropy'],  #2\n",
    "    'min_samples_leaf': np.linspace(0.0001,0.1,100), #100\n",
    "    'max_depth': list(range(4,31))#26\n",
    "}\n",
    "\n",
    "\n",
    "\n",
    "opt = RandomizedSearchCV(\n",
    "    model,\n",
    "    param_distributions = param_grid,\n",
    "    cv=5,\n",
    "    scoring='roc_auc',\n",
    "    verbose=1,\n",
    "    n_iter=100,\n",
    "    error_score=\"raise\",\n",
    "    return_train_score=True\n",
    "    )\n",
    "\n",
    "opt.fit(X_train, Y_train)\n",
    "\n",
    "print('Best params achieve a test score of', opt.score(x_test, y_test), ':')\n",
    "\n",
    "params = dict(opt.best_params_)\n",
    "\n",
    "from datetime import datetime\n",
    "hoy = datetime.now().strftime(\"%Y%m%d%H%M\")\n",
    " \n",
    "cv_results = pd.DataFrame(opt.cv_results_)\n",
    "cv_results.to_csv(f\"./resultados/cv_results-{hoy}.csv\", index=False)"
   ]
  },
  {
   "cell_type": "markdown",
   "metadata": {},
   "source": [
    "### Mejor Modelo en CV"
   ]
  },
  {
   "cell_type": "code",
   "execution_count": 46,
   "metadata": {},
   "outputs": [],
   "source": [
    "cv_results2 = cv_results[['params','mean_test_score','std_test_score', \n",
    "                       'mean_train_score', 'std_train_score']].sort_values('mean_test_score')"
   ]
  },
  {
   "cell_type": "code",
   "execution_count": 52,
   "metadata": {},
   "outputs": [
    {
     "data": {
      "text/plain": [
       "67"
      ]
     },
     "execution_count": 52,
     "metadata": {},
     "output_type": "execute_result"
    }
   ],
   "source": [
    "idx = cv_results2.mean_train_score.idxmax()\n",
    "train_score = cv_results2.mean_train_score.to_list()\n",
    "train_score[idx] = mean([train_score[idx-1], train_score[idx+1])"
   ]
  },
  {
   "cell_type": "code",
   "execution_count": 59,
   "metadata": {},
   "outputs": [
    {
     "data": {
      "text/plain": [
       "0.9972887978735294"
      ]
     },
     "execution_count": 59,
     "metadata": {},
     "output_type": "execute_result"
    }
   ],
   "source": [
    "np.max(train_score)"
   ]
  },
  {
   "cell_type": "code",
   "execution_count": 63,
   "metadata": {},
   "outputs": [
    {
     "data": {
      "image/png": "[encoded data removed]",
      "text/plain": [
       "<Figure size 432x288 with 1 Axes>"
      ]
     },
     "metadata": {
      "needs_background": "light"
     },
     "output_type": "display_data"
    }
   ],
   "source": [
    "#corrijo un valor raro\n",
    "idx = cv_results2.mean_train_score.idxmax()\n",
    "cv_results2.loc[idx, \"mean_train_score\"] = (cv_results2.mean_train_score[idx-1] + cv_results2.mean_train_score[idx+1])/2\n",
    "\n",
    "plt.plot(range(1,len(cv_results2.mean_test_score)+1), cv_results2.mean_test_score, label=\"Validation\")\n",
    "plt.plot(range(1,len(cv_results2.mean_train_score)+1), cv_results2.mean_train_score, label= \"Train\")\n",
    "plt.legend()\n",
    "plt.title(\"Cross-Validation: Validation score vs train score\")\n",
    "plt.show()\n",
    "#plt.savefig(\"./img/CV.png\", dpi=200, facecolor=\"white\")"
   ]
  },
  {
   "cell_type": "code",
   "execution_count": 121,
   "metadata": {},
   "outputs": [],
   "source": [
    "params = dict(opt.best_params_)\n",
    "\n",
    "clf = DecisionTreeClassifier(random_state=seed, **params)\n",
    "#clf = DecisionTreeClassifier(random_state=seed)\n",
    "clf.fit(X_train, Y_train)\n",
    "preds = clf.predict(x_test)"
   ]
  },
  {
   "cell_type": "code",
   "execution_count": 122,
   "metadata": {},
   "outputs": [
    {
     "data": {
      "image/png": "[encoded data removed]",
      "text/plain": [
       "<Figure size 648x648 with 2 Axes>"
      ]
     },
     "metadata": {
      "needs_background": "light"
     },
     "output_type": "display_data"
    }
   ],
   "source": [
    "cm = confusion_matrix(y_test.argmax(axis=1), preds.argmax(axis=1))\n",
    "plt.figure(figsize=(9,9))\n",
    "sns.heatmap(cm, annot=True, fmt=\".3f\", linewidths=.5, square = True, cmap = 'Blues_r')\n",
    "plt.show()"
   ]
  },
  {
   "cell_type": "code",
   "execution_count": 125,
   "metadata": {},
   "outputs": [
    {
     "name": "stdout",
     "output_type": "stream",
     "text": [
      "              precision    recall  f1-score   support\n",
      "\n",
      "     class 0       0.87      0.90      0.88      5880\n",
      "     class 1       0.81      0.81      0.81      4818\n",
      "     class 2       0.89      0.82      0.85      1697\n",
      "\n",
      "    accuracy                           0.85     12395\n",
      "   macro avg       0.86      0.84      0.85     12395\n",
      "weighted avg       0.85      0.85      0.85     12395\n",
      "\n"
     ]
    }
   ],
   "source": [
    "from sklearn.metrics import classification_report\n",
    "target_names = ['class 0', 'class 1', 'class 2']\n",
    "print(classification_report(y_test.argmax(axis=1), preds.argmax(axis=1), target_names = target_names))"
   ]
  }
 ],
 "metadata": {
  "interpreter": {
   "hash": "d4e69fe0aa7235d541b9a363ebedf2d9cc61370392c472331abc8ef96ded87c0"
  },
  "kernelspec": {
   "display_name": "Python 3.9.12 ('base')",
   "language": "python",
   "name": "python3"
  },
  "language_info": {
   "codemirror_mode": {
    "name": "ipython",
    "version": 3
   },
   "file_extension": ".py",
   "mimetype": "text/x-python",
   "name": "python",
   "nbconvert_exporter": "python",
   "pygments_lexer": "ipython3",
   "version": "3.9.12"
  }
 },
 "nbformat": 4,
 "nbformat_minor": 4
}
