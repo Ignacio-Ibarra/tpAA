{
 "cells": [
  {
   "cell_type": "markdown",
   "metadata": {},
   "source": [
    "# Feature Engineering"
   ]
  },
  {
   "cell_type": "markdown",
   "metadata": {},
   "source": [
    "## Importación de librerías"
   ]
  },
  {
   "cell_type": "code",
   "execution_count": 3,
   "metadata": {},
   "outputs": [],
   "source": [
    "#!pip install geopandas"
   ]
  },
  {
   "cell_type": "code",
   "execution_count": 4,
   "metadata": {},
   "outputs": [],
   "source": [
    "import time\n",
    "start_time = time.time()\n",
    "import numpy as np\n",
    "import pandas as pd\n",
    "import re\n",
    "from shapely.geometry import Point\n",
    "import geopandas as gpd"
   ]
  },
  {
   "cell_type": "code",
   "execution_count": 5,
   "metadata": {},
   "outputs": [],
   "source": [
    "data = pd.read_csv(\"./resultados/cabaventa_preproc.csv\", index_col = 0)"
   ]
  },
  {
   "cell_type": "markdown",
   "metadata": {},
   "source": [
    "## Creación de nuevas features a partir de la descripción de las propiedades"
   ]
  },
  {
   "cell_type": "markdown",
   "metadata": {},
   "source": [
    "Se crea una columna con el título y la descripción de las propiedades para la extracción de features adicionales"
   ]
  },
  {
   "cell_type": "code",
   "execution_count": 6,
   "metadata": {},
   "outputs": [],
   "source": [
    "data['texto'] = data['title_cleaned'] + \" \" + data['description_cleaned']"
   ]
  },
  {
   "cell_type": "markdown",
   "metadata": {},
   "source": [
    "Detección de propiedades con cochera. Incluye una expresión regular para excluir a aquellos registros en la venta no incluye la cochera."
   ]
  },
  {
   "cell_type": "code",
   "execution_count": 7,
   "metadata": {},
   "outputs": [],
   "source": [
    "pattern_cochera = r\"(?<!s\\/)(?<!sin )(\\d|con|la|las|c\\/)?(cochera\\.?)(?!s?\\s?desde)(?!s?\\s?\\w*?\\s?(op|cort|\\d))( fija)?\"\n",
    "\n",
    "x = data['texto'].str.extract(pattern_cochera)\n",
    "\n",
    "x.bfill(axis=1, inplace=True)\n",
    "x = x.iloc[:,0]\n",
    "x.loc[~x.isnull()] = True  # not nan\n",
    "x.loc[x.isnull()] = False   # nan\n",
    "\n",
    "data['has_cochera'] = x"
   ]
  },
  {
   "cell_type": "markdown",
   "metadata": {},
   "source": [
    "Se crea una función de detección de amenities y características que pueden ser relevantes para calcular el precio de una propiedad en el texto libre de la publicación."
   ]
  },
  {
   "cell_type": "code",
   "execution_count": 8,
   "metadata": {},
   "outputs": [],
   "source": [
    "def apply_regex(columna, value):\n",
    "  pattern_sin = r\"((sin|no tiene|no contiene|no hay|no es|no esta|no incluye|no se permite|no se permiten|poca|nula)\\s+(\"+ value +\"))\"\n",
    "  pattern_ok = r\"(\"+ value +\")\"\n",
    "  # return Falso cuando no hay ninguno de los lugares\n",
    "  if re.search(pattern_sin, columna, re.M|re.I) is not None:\n",
    "    return False\n",
    "  elif re.search(pattern_ok, columna, re.M|re.I) is not None:\n",
    "    return True\n",
    "  else:\n",
    "    return False"
   ]
  },
  {
   "cell_type": "code",
   "execution_count": 9,
   "metadata": {},
   "outputs": [],
   "source": [
    "amenities = ['patio', 'jardin', 'balcon', 'terraza', 'parrilla', 'sum', 'pileta|piscina', 'luminoso|luminosidad|mucha luz', 'laundry|lavadero|lavarropas', 'baulera', 'gimnasio|gym', 'seguridad|vigilancia', 'vestidor', 'a estrenar', \n",
    "             'pool|ping pong|metegol|microcine', 'portero|porteria|encargado', 'jacuzzi|sauna|solarium|yacuzzi', 'apto profesional', 'amenities', 'por escalera', 'a reciclar|para reciclar', 'categoria|primera linea', 'reciclado|reciclada',\n",
    "             'en pozo|entrega en|de pozo|emprendimiento', 'tiro balanceado|radiante'] \n",
    "\n",
    "for i in amenities:\n",
    "  col_name = \"has_\"+ i.replace(' ', '_').split(\"|\")[0]\n",
    "  data[col_name] = data['texto'].apply(lambda x: apply_regex(str(x), i))"
   ]
  },
  {
   "cell_type": "code",
   "execution_count": 10,
   "metadata": {},
   "outputs": [
    {
     "name": "stdout",
     "output_type": "stream",
     "text": [
      "has_cochera 0.32175959675907606\n",
      "has_patio 0.1455708066901335\n",
      "has_jardin 0.08034617066922163\n",
      "has_balcon 0.5755764304013663\n",
      "has_terraza 0.2853096165462082\n",
      "has_parrilla 0.2533898481597967\n",
      "has_sum 0.2403303409635292\n",
      "has_pileta 0.22596904875965926\n",
      "has_luminoso 0.4263397971298244\n",
      "has_laundry 0.5307637832996605\n",
      "has_baulera 0.17667826123180105\n",
      "has_gimnasio 0.11658786528087313\n",
      "has_seguridad 0.2143987836120889\n",
      "has_vestidor 0.11819166441023932\n",
      "has_a_estrenar 0.09920643185936556\n",
      "has_pool 0.018537418508258525\n",
      "has_portero 0.095259419716315\n",
      "has_jacuzzi 0.18538459936264606\n",
      "has_apto_profesional 0.1254295890525088\n",
      "has_amenities 0.16568078148757576\n",
      "has_por_escalera 0.04857220220366166\n",
      "has_a_reciclar 0.014017620961862907\n",
      "has_categoria 0.144966778446606\n",
      "has_reciclado 0.1005186311470288\n",
      "has_en_pozo 0.05301909978963154\n",
      "has_tiro_balanceado 0.12807481618795694\n"
     ]
    }
   ],
   "source": [
    "filter_col = [col for col in data if col.startswith('has')]\n",
    "\n",
    "for col in filter_col:\n",
    "  print(col, data[col].mean())"
   ]
  },
  {
   "cell_type": "markdown",
   "metadata": {},
   "source": [
    "## Feature: Cálculo de distancia al subte"
   ]
  },
  {
   "cell_type": "markdown",
   "metadata": {},
   "source": [
    "Se carga un csv con las coordenadas geográficas de las estaciones de subte de CABA"
   ]
  },
  {
   "cell_type": "code",
   "execution_count": 11,
   "metadata": {},
   "outputs": [
    {
     "data": {
      "text/html": [
       "<div>\n",
       "<style scoped>\n",
       "    .dataframe tbody tr th:only-of-type {\n",
       "        vertical-align: middle;\n",
       "    }\n",
       "\n",
       "    .dataframe tbody tr th {\n",
       "        vertical-align: top;\n",
       "    }\n",
       "\n",
       "    .dataframe thead th {\n",
       "        text-align: right;\n",
       "    }\n",
       "</style>\n",
       "<table border=\"1\" class=\"dataframe\">\n",
       "  <thead>\n",
       "    <tr style=\"text-align: right;\">\n",
       "      <th></th>\n",
       "      <th>long</th>\n",
       "      <th>lat</th>\n",
       "      <th>id</th>\n",
       "      <th>estacion</th>\n",
       "      <th>linea</th>\n",
       "    </tr>\n",
       "  </thead>\n",
       "  <tbody>\n",
       "    <tr>\n",
       "      <th>45</th>\n",
       "      <td>-58.381535</td>\n",
       "      <td>-34.617937</td>\n",
       "      <td>46.0</td>\n",
       "      <td>INDEPENDENCIA</td>\n",
       "      <td>E</td>\n",
       "    </tr>\n",
       "  </tbody>\n",
       "</table>\n",
       "</div>"
      ],
      "text/plain": [
       "         long        lat    id       estacion linea\n",
       "45 -58.381535 -34.617937  46.0  INDEPENDENCIA     E"
      ]
     },
     "execution_count": 11,
     "metadata": {},
     "output_type": "execute_result"
    }
   ],
   "source": [
    "url='https://drive.google.com/uc?id=1oxCEj_enxBVjBsDuvuy5w4HF02HasCWl'\n",
    "subtes = pd.read_csv(url)\n",
    "subtes.sample()"
   ]
  },
  {
   "cell_type": "markdown",
   "metadata": {},
   "source": [
    "Se crea una función para crear un punto con las coordenadas geográficas"
   ]
  },
  {
   "cell_type": "code",
   "execution_count": 12,
   "metadata": {},
   "outputs": [],
   "source": [
    "def from_x_y(df, x, y):\n",
    "    gdf = gpd.GeoDataFrame(df, crs={'init': 'epsg:4326'}, geometry=[Point(xy) for xy in zip(df[x], df[y])])\n",
    "    return gdf"
   ]
  },
  {
   "cell_type": "code",
   "execution_count": 13,
   "metadata": {},
   "outputs": [
    {
     "name": "stderr",
     "output_type": "stream",
     "text": [
      "C:\\Users\\Usuario\\anaconda3\\envs\\geo_env\\lib\\site-packages\\pyproj\\crs\\crs.py:53: FutureWarning: '+init=<authority>:<code>' syntax is deprecated. '<authority>:<code>' is the preferred initialization method. When making the change, be mindful of axis order changes: https://pyproj4.github.io/pyproj/stable/gotchas.html#axis-order-changes-in-proj-6\n",
      "  return _prepare_from_string(\" \".join(pjargs))\n",
      "C:\\Users\\Usuario\\anaconda3\\envs\\geo_env\\lib\\site-packages\\pyproj\\crs\\crs.py:53: FutureWarning: '+init=<authority>:<code>' syntax is deprecated. '<authority>:<code>' is the preferred initialization method. When making the change, be mindful of axis order changes: https://pyproj4.github.io/pyproj/stable/gotchas.html#axis-order-changes-in-proj-6\n",
      "  return _prepare_from_string(\" \".join(pjargs))\n"
     ]
    }
   ],
   "source": [
    "caba_geo = from_x_y(data, 'lon', 'lat')\n",
    "subtes_geo = from_x_y(subtes, 'long', 'lat')"
   ]
  },
  {
   "cell_type": "markdown",
   "metadata": {},
   "source": [
    "Se realiza una proyección para poder calcular las distancias"
   ]
  },
  {
   "cell_type": "code",
   "execution_count": 14,
   "metadata": {},
   "outputs": [],
   "source": [
    "caba_gkba = caba_geo.to_crs(crs = \"+proj=tmerc +lat_0=-34.629269 +lon_0=-58.4633 +k=0.9999980000000001 +x_0=100000 +y_0=100000 +ellps=intl +units=m +no_defs\")\n",
    "subtes_gkba = subtes_geo.to_crs(crs = \"+proj=tmerc +lat_0=-34.629269 +lon_0=-58.4633 +k=0.9999980000000001 +x_0=100000 +y_0=100000 +ellps=intl +units=m +no_defs\")"
   ]
  },
  {
   "cell_type": "markdown",
   "metadata": {},
   "source": [
    "Se define una función que se queda con la distancia, el nombre y la línea de la estación más cercana"
   ]
  },
  {
   "cell_type": "code",
   "execution_count": 15,
   "metadata": {},
   "outputs": [],
   "source": [
    "def distancia_subte(x):\n",
    "  distancias = []\n",
    "  for y in range(len(subtes_gkba)):\n",
    "    est = subtes_gkba.geometry[y]\n",
    "    dist = x.distance(est)\n",
    "    distancias.append(dist)\n",
    "  estacion = np.argmin(distancias)\n",
    "  return min(distancias), subtes_gkba.iloc[estacion]['estacion'], subtes_gkba.iloc[estacion]['linea']"
   ]
  },
  {
   "cell_type": "code",
   "execution_count": 16,
   "metadata": {},
   "outputs": [],
   "source": [
    "caba_gkba['dist_subte'], caba_gkba['estacion_subte_cercana'], caba_gkba['linea_subte_cercana'] = zip(*caba_gkba['geometry'].apply(lambda x: distancia_subte(x)))"
   ]
  },
  {
   "cell_type": "code",
   "execution_count": 17,
   "metadata": {},
   "outputs": [],
   "source": [
    "data = data.join(caba_gkba[['dist_subte', 'estacion_subte_cercana', 'linea_subte_cercana']])"
   ]
  },
  {
   "cell_type": "markdown",
   "metadata": {},
   "source": [
    "## Export"
   ]
  },
  {
   "cell_type": "code",
   "execution_count": 18,
   "metadata": {},
   "outputs": [],
   "source": [
    "data.to_csv('resultados/cabaventa_feature.csv')"
   ]
  },
  {
   "cell_type": "code",
   "execution_count": 19,
   "metadata": {},
   "outputs": [
    {
     "name": "stdout",
     "output_type": "stream",
     "text": [
      "Time execution is 0:10:06.874014\n"
     ]
    }
   ],
   "source": [
    "import datetime\n",
    "end_time = time.time()\n",
    "elapsed = str(datetime.timedelta(seconds=end_time - start_time))\n",
    "print(f\"Time execution is {elapsed}\")"
   ]
  }
 ],
 "metadata": {
  "interpreter": {
   "hash": "112989f40982219f9c2133127490be09f86560db102a13a350eb86b01002b443"
  },
  "kernelspec": {
   "display_name": "Python 3 (ipykernel)",
   "language": "python",
   "name": "python3"
  },
  "language_info": {
   "codemirror_mode": {
    "name": "ipython",
    "version": 3
   },
   "file_extension": ".py",
   "mimetype": "text/x-python",
   "name": "python",
   "nbconvert_exporter": "python",
   "pygments_lexer": "ipython3",
   "version": "3.9.12"
  }
 },
 "nbformat": 4,
 "nbformat_minor": 4
}
