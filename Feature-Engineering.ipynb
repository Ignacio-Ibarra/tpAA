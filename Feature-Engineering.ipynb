{
 "cells": [
  {
   "cell_type": "code",
   "execution_count": null,
   "metadata": {},
   "outputs": [],
   "source": [
    "# Funciones de detección de adicionales. Cada una genera 1 columna\n",
    "def tiene_SUM(df):\n",
    "  df['tiene_SUM'] = df.description.str.contains('\\bsum\\b', regex = True)\n",
    "  return df\n",
    "def tiene_pileta(df):\n",
    "  df['tiene_pileta'] = df.description.str.contains('pileta', regex = True)\n",
    "  return df\n",
    "def tiene_laundry(df):\n",
    "  df['tiene_laundry'] = df.description.str.contains('laundry', regex = True)\n",
    "  return df\n",
    "def tiene_gimnasio(df):\n",
    "  df['tiene_gimnasio'] = df.description.str.contains('gimnasio', regex = True)\n",
    "  return df\n",
    "def tiene_cochera(df):\n",
    "  df['tiene_cochera'] = df.description.str.contains('cochera', regex = True)\n",
    "  return df\n",
    "\n",
    "# columnas generadas: 'tiene_SUM', 'tiene_pileta', 'tiene_laundry', 'tiene_gimnasio', 'tiene_cochera'"
   ]
  },
  {
   "cell_type": "code",
   "execution_count": null,
   "metadata": {},
   "outputs": [],
   "source": [
    "# Detección de posible pozo. Puede ser perfeccionada\n",
    "def posible_pozo(df):\n",
    "  df['posible_pozo'] = df.description.str.contains('\\bpozo\\b', regex = True)\n",
    "  return df\n",
    "# columnas generadas: 'posible_pozo'"
   ]
  },
  {
   "cell_type": "code",
   "execution_count": null,
   "metadata": {},
   "outputs": [],
   "source": [
    "#Regex más sofisticada en R con problemas para correr en python \n",
    "#Esta regex busca digitos precedidos por \"antigüedad\", opcionalmente con \":\" entre antiguedad y los digitos, seguidos de \"años\"\n",
    "#'(?<=((((antigüedad|antiguedad)(\\\\sde)?))(:|\\\\.|;)?(\\\\s){0,2}))\\\\b[1-9](?=\\\\s{0,2}años)'\n",
    "\n",
    "#Esta es una función muy simple de extracción de años, extrae 1 o 2 caracteres que esten seguidos por string \"años\"\n",
    "#Se propone no correr a menos que revoquemos la decisión en base a EDA\n",
    "#def antiguedad_detectada(df):\n",
    "#  df['antiguedad_detectada'] = df.description.str.findall(r'[0-9]+\\.*[0-9]* *años')\n",
    "#  return df"
   ]
  },
  {
   "cell_type": "code",
   "execution_count": null,
   "metadata": {},
   "outputs": [],
   "source": [
    "# Detección de inmuebles a estrenar en texto libre\n",
    "def deteccion_a_estrenar(df):\n",
    "  df['a_estrenar'] = df.description.str.contains('\\ba estrenar\\b', regex = True)\n",
    "  return df"
   ]
  },
  {
   "cell_type": "markdown",
   "metadata": {},
   "source": [
    "### Creación de nuevas features a partir de la descripción de las propiedades"
   ]
  },
  {
   "cell_type": "markdown",
   "metadata": {},
   "source": [
    "Creo una columna con el título y la descripción de las propiedades como para extraer algunas features adicionales"
   ]
  },
  {
   "cell_type": "code",
   "execution_count": null,
   "metadata": {},
   "outputs": [],
   "source": [
    "data['texto'] = data['title_cleaned'] + \" \" + data['description_cleaned']"
   ]
  },
  {
   "cell_type": "markdown",
   "metadata": {},
   "source": [
    "Busco propiedades con cochera. Armo una expresión regular para no incluir a aquellos que quieren venderla por separado"
   ]
  },
  {
   "cell_type": "markdown",
   "metadata": {},
   "source": [
    "pattern_cochera = r'(?<!s\\/)(?<!sin )(\\d|con|la|las|c\\/)?(cochera\\.?)(?!s?\\s?desde)(?!s?\\s?\\w*?\\s?(op|cort|\\d))( fija)?'\n",
    "\n",
    "x = data['texto'].str.extract(pattern_cochera)\n",
    "\n",
    "x.bfill(axis=1, inplace=True)\n",
    "x = x.iloc[:,0]\n",
    "x.loc[~x.isnull()] = True  # not nan\n",
    "x.loc[x.isnull()] = False   # nan\n",
    "\n",
    "data['has_cochera'] = x"
   ]
  },
  {
   "cell_type": "markdown",
   "metadata": {},
   "source": [
    "Creo una función para extraer algunos amenities y características que pueden ser relevantes para calcular el precio de una propiedad."
   ]
  },
  {
   "cell_type": "code",
   "execution_count": null,
   "metadata": {},
   "outputs": [],
   "source": [
    "def apply_regex(columna, value):\n",
    "  pattern_sin = r\"((sin|no tiene|no contiene|no hay|no es|no esta|no incluye|no se permite|no se permiten|poca|nula)\\s+(\"+ value +\"))\"\n",
    "  pattern_ok = r\"(\"+ value +\")\"\n",
    "  # return Falso cuando no hay ninguno de los lugares\n",
    "  if re.search(pattern_sin, columna, re.M|re.I) is not None:\n",
    "    return False\n",
    "  elif re.search(pattern_ok, columna, re.M|re.I) is not None:\n",
    "    return True\n",
    "  else:\n",
    "    return False"
   ]
  },
  {
   "cell_type": "markdown",
   "metadata": {},
   "source": [
    "creo las columnas adicionales buscando los términos en la columna \"texto\""
   ]
  },
  {
   "cell_type": "code",
   "execution_count": null,
   "metadata": {},
   "outputs": [],
   "source": [
    "amenities = ['patio', 'jardin', 'balcon', 'terraza', 'parrilla', 'sum', 'pileta|piscina', 'luminoso|luminosidad|mucha luz', 'laundry|lavadero|lavarropas', 'baulera', 'gimnasio|gym', 'seguridad|vigilancia', 'vestidor', 'a estrenar', \n",
    "             'pool|ping pong|metegol|microcine', 'portero|porteria|encargado', 'jacuzzi|sauna|solarium|yacuzzi', 'apto profesional', 'amenities', 'por escalera', 'a reciclar|para reciclar', 'categoria|primera linea', 'reciclado|reciclada',\n",
    "             'en pozo|entrega en|de pozo|emprendimiento', 'tiro balanceado|losa radiante'] \n",
    "\n",
    "for i in amenities:\n",
    "  col_name = \"has_\"+ i.replace(' ', '_').split(\"|\")[0]\n",
    "  data[col_name] = data['texto'].apply(lambda x: apply_regex(x, i))"
   ]
  },
  {
   "cell_type": "code",
   "execution_count": null,
   "metadata": {},
   "outputs": [],
   "source": [
    "filter_col = [col for col in data if col.startswith('has')]\n",
    "\n",
    "for col in filter_col:\n",
    "  print(col, data[col].mean())"
   ]
  },
  {
   "cell_type": "markdown",
   "metadata": {},
   "source": [
    "### Distancia al subte"
   ]
  },
  {
   "cell_type": "markdown",
   "metadata": {},
   "source": [
    "Cargo un csv con las coordenadas geográficas de las estaciones de subte de CABA"
   ]
  },
  {
   "cell_type": "code",
   "execution_count": 4,
   "metadata": {},
   "outputs": [
    {
     "data": {
      "text/html": [
       "<div>\n",
       "<style scoped>\n",
       "    .dataframe tbody tr th:only-of-type {\n",
       "        vertical-align: middle;\n",
       "    }\n",
       "\n",
       "    .dataframe tbody tr th {\n",
       "        vertical-align: top;\n",
       "    }\n",
       "\n",
       "    .dataframe thead th {\n",
       "        text-align: right;\n",
       "    }\n",
       "</style>\n",
       "<table border=\"1\" class=\"dataframe\">\n",
       "  <thead>\n",
       "    <tr style=\"text-align: right;\">\n",
       "      <th></th>\n",
       "      <th>long</th>\n",
       "      <th>lat</th>\n",
       "      <th>id</th>\n",
       "      <th>estacion</th>\n",
       "      <th>linea</th>\n",
       "    </tr>\n",
       "  </thead>\n",
       "  <tbody>\n",
       "    <tr>\n",
       "      <th>6</th>\n",
       "      <td>-58.397924</td>\n",
       "      <td>-34.599757</td>\n",
       "      <td>7.0</td>\n",
       "      <td>FACULTAD DE MEDICINA</td>\n",
       "      <td>D</td>\n",
       "    </tr>\n",
       "  </tbody>\n",
       "</table>\n",
       "</div>"
      ],
      "text/plain": [
       "        long        lat   id              estacion linea\n",
       "6 -58.397924 -34.599757  7.0  FACULTAD DE MEDICINA     D"
      ]
     },
     "execution_count": 4,
     "metadata": {},
     "output_type": "execute_result"
    }
   ],
   "source": [
    "import pandas as pd\n",
    "url='https://drive.google.com/uc?id=1oxCEj_enxBVjBsDuvuy5w4HF02HasCWl'\n",
    "subtes = pd.read_csv(url)\n",
    "subtes.sample()"
   ]
  },
  {
   "cell_type": "markdown",
   "metadata": {},
   "source": [
    "Creo una función para crear un punto con las coordenadas geográficas"
   ]
  },
  {
   "cell_type": "code",
   "execution_count": null,
   "metadata": {},
   "outputs": [],
   "source": [
    "# función para convertir coordenadas x e y en un objeto punto.\n",
    "from shapely.geometry import Point\n",
    "\n",
    "def from_x_y(df, x, y):\n",
    "    gdf = gpd.GeoDataFrame(df, crs={'init': 'epsg:4326'}, geometry=[Point(xy) for xy in zip(df[x], df[y])])\n",
    "    return gdf"
   ]
  },
  {
   "cell_type": "code",
   "execution_count": null,
   "metadata": {},
   "outputs": [],
   "source": [
    "caba_geo = from_x_y(data, 'lon', 'lat')\n",
    "subtes_geo = from_x_y(subtes, 'long', 'lat')"
   ]
  },
  {
   "cell_type": "markdown",
   "metadata": {},
   "source": [
    "Realizo una proyección para poder calcular las distancias"
   ]
  },
  {
   "cell_type": "code",
   "execution_count": null,
   "metadata": {},
   "outputs": [],
   "source": [
    "caba_gkba = caba_geo.to_crs(crs = \"+proj=tmerc +lat_0=-34.629269 +lon_0=-58.4633 +k=0.9999980000000001 +x_0=100000 +y_0=100000 +ellps=intl +units=m +no_defs\")\n",
    "subtes_gkba = subtes_geo.to_crs(crs = \"+proj=tmerc +lat_0=-34.629269 +lon_0=-58.4633 +k=0.9999980000000001 +x_0=100000 +y_0=100000 +ellps=intl +units=m +no_defs\")"
   ]
  },
  {
   "cell_type": "markdown",
   "metadata": {},
   "source": [
    "Defino una función que se queda con la distancia, el nombre y la línea de la estación más cercana"
   ]
  },
  {
   "cell_type": "code",
   "execution_count": null,
   "metadata": {},
   "outputs": [],
   "source": [
    "def distancia_subte(x):\n",
    "  distancias = []\n",
    "  for y in range(len(subtes_gkba)):\n",
    "    est = subtes_gkba.geometry[y]\n",
    "    dist = x.distance(est)\n",
    "    distancias.append(dist)\n",
    "  estacion = np.argmin(distancias)\n",
    "  return min(distancias), subtes_gkba.iloc[estacion]['estacion'], subtes_gkba.iloc[estacion]['linea']"
   ]
  },
  {
   "cell_type": "markdown",
   "metadata": {},
   "source": [
    "Aplico la función al dataframe"
   ]
  },
  {
   "cell_type": "code",
   "execution_count": null,
   "metadata": {},
   "outputs": [],
   "source": [
    "caba_gkba['dist_subte'], caba_gkba['estacion_subte_cercana'], caba_gkba['linea_subte_cercana'] = zip(*caba_gkba['geometry'].apply(lambda x: distancia_subte(x)))"
   ]
  },
  {
   "cell_type": "code",
   "execution_count": null,
   "metadata": {},
   "outputs": [],
   "source": [
    "data = data.join(caba_gkba[['dist_subte', 'estacion_subte_cercana', 'linea_subte_cercana']])"
   ]
  }
 ],
 "metadata": {
  "interpreter": {
   "hash": "112989f40982219f9c2133127490be09f86560db102a13a350eb86b01002b443"
  },
  "kernelspec": {
   "display_name": "Python 3 (ipykernel)",
   "language": "python",
   "name": "python3"
  },
  "language_info": {
   "codemirror_mode": {
    "name": "ipython",
    "version": 3
   },
   "file_extension": ".py",
   "mimetype": "text/x-python",
   "name": "python",
   "nbconvert_exporter": "python",
   "pygments_lexer": "ipython3",
   "version": "3.9.7"
  }
 },
 "nbformat": 4,
 "nbformat_minor": 4
}
