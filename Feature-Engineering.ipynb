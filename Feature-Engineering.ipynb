{
 "cells": [
  {
   "cell_type": "code",
   "execution_count": null,
   "metadata": {},
   "outputs": [],
   "source": [
    "# Funciones de detección de adicionales. Cada una genera 1 columna\n",
    "def tiene_SUM(df):\n",
    "  df['tiene_SUM'] = df.description.str.contains('\\bsum\\b', regex = True)\n",
    "  return df\n",
    "def tiene_pileta(df):\n",
    "  df['tiene_pileta'] = df.description.str.contains('pileta', regex = True)\n",
    "  return df\n",
    "def tiene_laundry(df):\n",
    "  df['tiene_laundry'] = df.description.str.contains('laundry', regex = True)\n",
    "  return df\n",
    "def tiene_gimnasio(df):\n",
    "  df['tiene_gimnasio'] = df.description.str.contains('gimnasio', regex = True)\n",
    "  return df\n",
    "def tiene_cochera(df):\n",
    "  df['tiene_cochera'] = df.description.str.contains('cochera', regex = True)\n",
    "  return df\n",
    "\n",
    "# columnas generadas: 'tiene_SUM', 'tiene_pileta', 'tiene_laundry', 'tiene_gimnasio', 'tiene_cochera'"
   ]
  },
  {
   "cell_type": "code",
   "execution_count": null,
   "metadata": {},
   "outputs": [],
   "source": [
    "# Detección de posible pozo. Puede ser perfeccionada\n",
    "def posible_pozo(df):\n",
    "  df['posible_pozo'] = df.description.str.contains('\\bpozo\\b', regex = True)\n",
    "  return df\n",
    "# columnas generadas: 'posible_pozo'"
   ]
  },
  {
   "cell_type": "code",
   "execution_count": null,
   "metadata": {},
   "outputs": [],
   "source": [
    "#Regex más sofisticada en R con problemas para correr en python \n",
    "#Esta regex busca digitos precedidos por \"antigüedad\", opcionalmente con \":\" entre antiguedad y los digitos, seguidos de \"años\"\n",
    "#'(?<=((((antigüedad|antiguedad)(\\\\sde)?))(:|\\\\.|;)?(\\\\s){0,2}))\\\\b[1-9](?=\\\\s{0,2}años)'\n",
    "\n",
    "#Esta es una función muy simple de extracción de años, extrae 1 o 2 caracteres que esten seguidos por string \"años\"\n",
    "#Se propone no correr a menos que revoquemos la decisión en base a EDA\n",
    "#def antiguedad_detectada(df):\n",
    "#  df['antiguedad_detectada'] = df.description.str.findall(r'[0-9]+\\.*[0-9]* *años')\n",
    "#  return df"
   ]
  },
  {
   "cell_type": "code",
   "execution_count": null,
   "metadata": {},
   "outputs": [],
   "source": [
    "# Detección de inmuebles a estrenar en texto libre\n",
    "def deteccion_a_estrenar(df):\n",
    "  df['a_estrenar'] = df.description.str.contains('\\ba estrenar\\b', regex = True)\n",
    "  return df"
   ]
  }
 ],
 "metadata": {
  "kernelspec": {
   "display_name": "Python 3",
   "language": "python",
   "name": "python3"
  },
  "language_info": {
   "codemirror_mode": {
    "name": "ipython",
    "version": 3
   },
   "file_extension": ".py",
   "mimetype": "text/x-python",
   "name": "python",
   "nbconvert_exporter": "python",
   "pygments_lexer": "ipython3",
   "version": "3.8.3"
  }
 },
 "nbformat": 4,
 "nbformat_minor": 4
}
