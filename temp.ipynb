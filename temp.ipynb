{
 "cells": [
  {
   "cell_type": "code",
   "execution_count": 2,
   "metadata": {},
   "outputs": [
    {
     "name": "stdout",
     "output_type": "stream",
     "text": [
      "Collecting shapely\n",
      "  Downloading Shapely-1.8.2-cp39-cp39-win_amd64.whl (1.3 MB)\n",
      "Installing collected packages: shapely\n",
      "Successfully installed shapely-1.8.2\n",
      "Note: you may need to restart the kernel to use updated packages.\n"
     ]
    }
   ],
   "source": [
    "%pip install shapely"
   ]
  },
  {
   "cell_type": "code",
   "execution_count": 3,
   "metadata": {},
   "outputs": [
    {
     "name": "stdout",
     "output_type": "stream",
     "text": [
      "Requirement already satisfied: requests in c:\\users\\leandro.morinigo\\anaconda3\\lib\\site-packages (2.27.1)Note: you may need to restart the kernel to use updated packages.\n",
      "\n",
      "Requirement already satisfied: idna<4,>=2.5 in c:\\users\\leandro.morinigo\\anaconda3\\lib\\site-packages (from requests) (3.3)\n",
      "Requirement already satisfied: certifi>=2017.4.17 in c:\\users\\leandro.morinigo\\anaconda3\\lib\\site-packages (from requests) (2021.10.8)\n",
      "Requirement already satisfied: charset-normalizer~=2.0.0 in c:\\users\\leandro.morinigo\\anaconda3\\lib\\site-packages (from requests) (2.0.4)\n",
      "Requirement already satisfied: urllib3<1.27,>=1.21.1 in c:\\users\\leandro.morinigo\\anaconda3\\lib\\site-packages (from requests) (1.26.9)\n"
     ]
    }
   ],
   "source": [
    "%pip install requests"
   ]
  },
  {
   "cell_type": "code",
   "execution_count": 4,
   "metadata": {},
   "outputs": [
    {
     "name": "stdout",
     "output_type": "stream",
     "text": [
      "Collecting dataframe_image\n",
      "  Downloading dataframe_image-0.1.1-py3-none-any.whl (32 kB)\n",
      "Requirement already satisfied: aiohttp in c:\\users\\leandro.morinigo\\anaconda3\\lib\\site-packages (from dataframe_image) (3.8.1)\n",
      "Requirement already satisfied: nbconvert>=5 in c:\\users\\leandro.morinigo\\anaconda3\\lib\\site-packages (from dataframe_image) (6.4.4)\n",
      "Requirement already satisfied: pandas>=0.24 in c:\\users\\leandro.morinigo\\anaconda3\\lib\\site-packages (from dataframe_image) (1.4.2)\n",
      "Requirement already satisfied: requests in c:\\users\\leandro.morinigo\\anaconda3\\lib\\site-packages (from dataframe_image) (2.27.1)\n",
      "Requirement already satisfied: beautifulsoup4 in c:\\users\\leandro.morinigo\\anaconda3\\lib\\site-packages (from dataframe_image) (4.11.1)\n",
      "Requirement already satisfied: matplotlib>=3.1 in c:\\users\\leandro.morinigo\\anaconda3\\lib\\site-packages (from dataframe_image) (3.5.1)\n",
      "Requirement already satisfied: fonttools>=4.22.0 in c:\\users\\leandro.morinigo\\anaconda3\\lib\\site-packages (from matplotlib>=3.1->dataframe_image) (4.25.0)\n",
      "Requirement already satisfied: python-dateutil>=2.7 in c:\\users\\leandro.morinigo\\anaconda3\\lib\\site-packages (from matplotlib>=3.1->dataframe_image) (2.8.2)\n",
      "Requirement already satisfied: pillow>=6.2.0 in c:\\users\\leandro.morinigo\\anaconda3\\lib\\site-packages (from matplotlib>=3.1->dataframe_image) (9.0.1)\n",
      "Requirement already satisfied: cycler>=0.10 in c:\\users\\leandro.morinigo\\anaconda3\\lib\\site-packages (from matplotlib>=3.1->dataframe_image) (0.11.0)\n",
      "Requirement already satisfied: packaging>=20.0 in c:\\users\\leandro.morinigo\\anaconda3\\lib\\site-packages (from matplotlib>=3.1->dataframe_image) (21.3)\n",
      "Requirement already satisfied: numpy>=1.17 in c:\\users\\leandro.morinigo\\anaconda3\\lib\\site-packages (from matplotlib>=3.1->dataframe_image) (1.21.5)\n",
      "Requirement already satisfied: kiwisolver>=1.0.1 in c:\\users\\leandro.morinigo\\anaconda3\\lib\\site-packages (from matplotlib>=3.1->dataframe_image) (1.3.2)\n",
      "Requirement already satisfied: pyparsing>=2.2.1 in c:\\users\\leandro.morinigo\\anaconda3\\lib\\site-packages (from matplotlib>=3.1->dataframe_image) (3.0.4)\n",
      "Requirement already satisfied: jinja2>=2.4 in c:\\users\\leandro.morinigo\\anaconda3\\lib\\site-packages (from nbconvert>=5->dataframe_image) (2.11.3)\n",
      "Requirement already satisfied: pandocfilters>=1.4.1 in c:\\users\\leandro.morinigo\\anaconda3\\lib\\site-packages (from nbconvert>=5->dataframe_image) (1.5.0)\n",
      "Requirement already satisfied: nbformat>=4.4 in c:\\users\\leandro.morinigo\\anaconda3\\lib\\site-packages (from nbconvert>=5->dataframe_image) (5.3.0)\n",
      "Requirement already satisfied: nbclient<0.6.0,>=0.5.0 in c:\\users\\leandro.morinigo\\anaconda3\\lib\\site-packages (from nbconvert>=5->dataframe_image) (0.5.13)\n",
      "Requirement already satisfied: pygments>=2.4.1 in c:\\users\\leandro.morinigo\\anaconda3\\lib\\site-packages (from nbconvert>=5->dataframe_image) (2.11.2)\n",
      "Requirement already satisfied: traitlets>=5.0 in c:\\users\\leandro.morinigo\\anaconda3\\lib\\site-packages (from nbconvert>=5->dataframe_image) (5.1.1)\n",
      "Requirement already satisfied: jupyter-core in c:\\users\\leandro.morinigo\\anaconda3\\lib\\site-packages (from nbconvert>=5->dataframe_image) (4.9.2)\n",
      "Requirement already satisfied: mistune<2,>=0.8.1 in c:\\users\\leandro.morinigo\\anaconda3\\lib\\site-packages (from nbconvert>=5->dataframe_image) (0.8.4)\n",
      "Requirement already satisfied: jupyterlab-pygments in c:\\users\\leandro.morinigo\\anaconda3\\lib\\site-packages (from nbconvert>=5->dataframe_image) (0.1.2)\n",
      "Requirement already satisfied: bleach in c:\\users\\leandro.morinigo\\anaconda3\\lib\\site-packages (from nbconvert>=5->dataframe_image) (4.1.0)\n",
      "Requirement already satisfied: entrypoints>=0.2.2 in c:\\users\\leandro.morinigo\\anaconda3\\lib\\site-packages (from nbconvert>=5->dataframe_image) (0.4)\n",
      "Requirement already satisfied: defusedxml in c:\\users\\leandro.morinigo\\anaconda3\\lib\\site-packages (from nbconvert>=5->dataframe_image) (0.7.1)\n",
      "Requirement already satisfied: testpath in c:\\users\\leandro.morinigo\\anaconda3\\lib\\site-packages (from nbconvert>=5->dataframe_image) (0.5.0)\n",
      "Requirement already satisfied: MarkupSafe>=0.23 in c:\\users\\leandro.morinigo\\anaconda3\\lib\\site-packages (from jinja2>=2.4->nbconvert>=5->dataframe_image) (2.0.1)\n",
      "Requirement already satisfied: jupyter-client>=6.1.5 in c:\\users\\leandro.morinigo\\anaconda3\\lib\\site-packages (from nbclient<0.6.0,>=0.5.0->nbconvert>=5->dataframe_image) (6.1.12)\n",
      "Requirement already satisfied: nest-asyncio in c:\\users\\leandro.morinigo\\anaconda3\\lib\\site-packages (from nbclient<0.6.0,>=0.5.0->nbconvert>=5->dataframe_image) (1.5.5)\n",
      "Requirement already satisfied: tornado>=4.1 in c:\\users\\leandro.morinigo\\anaconda3\\lib\\site-packages (from jupyter-client>=6.1.5->nbclient<0.6.0,>=0.5.0->nbconvert>=5->dataframe_image) (6.1)\n",
      "Requirement already satisfied: pyzmq>=13 in c:\\users\\leandro.morinigo\\anaconda3\\lib\\site-packages (from jupyter-client>=6.1.5->nbclient<0.6.0,>=0.5.0->nbconvert>=5->dataframe_image) (22.3.0)\n",
      "Requirement already satisfied: pywin32>=1.0 in c:\\users\\leandro.morinigo\\anaconda3\\lib\\site-packages (from jupyter-core->nbconvert>=5->dataframe_image) (302)\n",
      "Requirement already satisfied: jsonschema>=2.6 in c:\\users\\leandro.morinigo\\anaconda3\\lib\\site-packages (from nbformat>=4.4->nbconvert>=5->dataframe_image) (4.4.0)\n",
      "Requirement already satisfied: fastjsonschema in c:\\users\\leandro.morinigo\\anaconda3\\lib\\site-packages (from nbformat>=4.4->nbconvert>=5->dataframe_image) (2.15.1)\n",
      "Requirement already satisfied: pyrsistent!=0.17.0,!=0.17.1,!=0.17.2,>=0.14.0 in c:\\users\\leandro.morinigo\\anaconda3\\lib\\site-packages (from jsonschema>=2.6->nbformat>=4.4->nbconvert>=5->dataframe_image) (0.18.0)\n",
      "Requirement already satisfied: attrs>=17.4.0 in c:\\users\\leandro.morinigo\\anaconda3\\lib\\site-packages (from jsonschema>=2.6->nbformat>=4.4->nbconvert>=5->dataframe_image) (21.4.0)\n",
      "Requirement already satisfied: pytz>=2020.1 in c:\\users\\leandro.morinigo\\anaconda3\\lib\\site-packages (from pandas>=0.24->dataframe_image) (2021.3)\n",
      "Requirement already satisfied: six>=1.5 in c:\\users\\leandro.morinigo\\anaconda3\\lib\\site-packages (from python-dateutil>=2.7->matplotlib>=3.1->dataframe_image) (1.16.0)\n",
      "Requirement already satisfied: aiosignal>=1.1.2 in c:\\users\\leandro.morinigo\\anaconda3\\lib\\site-packages (from aiohttp->dataframe_image) (1.2.0)\n",
      "Requirement already satisfied: multidict<7.0,>=4.5 in c:\\users\\leandro.morinigo\\anaconda3\\lib\\site-packages (from aiohttp->dataframe_image) (5.1.0)\n",
      "Requirement already satisfied: frozenlist>=1.1.1 in c:\\users\\leandro.morinigo\\anaconda3\\lib\\site-packages (from aiohttp->dataframe_image) (1.2.0)\n",
      "Requirement already satisfied: charset-normalizer<3.0,>=2.0 in c:\\users\\leandro.morinigo\\anaconda3\\lib\\site-packages (from aiohttp->dataframe_image) (2.0.4)\n",
      "Requirement already satisfied: yarl<2.0,>=1.0 in c:\\users\\leandro.morinigo\\anaconda3\\lib\\site-packages (from aiohttp->dataframe_image) (1.6.3)\n",
      "Requirement already satisfied: async-timeout<5.0,>=4.0.0a3 in c:\\users\\leandro.morinigo\\anaconda3\\lib\\site-packages (from aiohttp->dataframe_image) (4.0.1)\n",
      "Requirement already satisfied: typing-extensions>=3.6.5 in c:\\users\\leandro.morinigo\\anaconda3\\lib\\site-packages (from async-timeout<5.0,>=4.0.0a3->aiohttp->dataframe_image) (4.1.1)\n",
      "Requirement already satisfied: idna>=2.0 in c:\\users\\leandro.morinigo\\anaconda3\\lib\\site-packages (from yarl<2.0,>=1.0->aiohttp->dataframe_image) (3.3)\n",
      "Requirement already satisfied: soupsieve>1.2 in c:\\users\\leandro.morinigo\\anaconda3\\lib\\site-packages (from beautifulsoup4->dataframe_image) (2.3.1)\n",
      "Requirement already satisfied: webencodings in c:\\users\\leandro.morinigo\\anaconda3\\lib\\site-packages (from bleach->nbconvert>=5->dataframe_image) (0.5.1)\n",
      "Requirement already satisfied: urllib3<1.27,>=1.21.1 in c:\\users\\leandro.morinigo\\anaconda3\\lib\\site-packages (from requests->dataframe_image) (1.26.9)\n",
      "Requirement already satisfied: certifi>=2017.4.17 in c:\\users\\leandro.morinigo\\anaconda3\\lib\\site-packages (from requests->dataframe_image) (2021.10.8)\n",
      "Installing collected packages: dataframe-image\n",
      "Successfully installed dataframe-image-0.1.1\n",
      "Note: you may need to restart the kernel to use updated packages.\n"
     ]
    }
   ],
   "source": [
    "%pip install dataframe_image"
   ]
  },
  {
   "cell_type": "code",
   "execution_count": 6,
   "metadata": {},
   "outputs": [],
   "source": [
    "%pip install geopandas"
   ]
  }
 ],
 "metadata": {
  "interpreter": {
   "hash": "d4e69fe0aa7235d541b9a363ebedf2d9cc61370392c472331abc8ef96ded87c0"
  },
  "kernelspec": {
   "display_name": "Python 3.9.12 ('base')",
   "language": "python",
   "name": "python3"
  },
  "language_info": {
   "codemirror_mode": {
    "name": "ipython",
    "version": 3
   },
   "file_extension": ".py",
   "mimetype": "text/x-python",
   "name": "python",
   "nbconvert_exporter": "python",
   "pygments_lexer": "ipython3",
   "version": "3.9.12"
  },
  "orig_nbformat": 4
 },
 "nbformat": 4,
 "nbformat_minor": 2
}
