{
 "cells": [
  {
   "cell_type": "code",
   "execution_count": 1,
   "id": "49766701",
   "metadata": {},
   "outputs": [
    {
     "data": {
      "text/plain": [
       "(183810, 27)"
      ]
     },
     "execution_count": 1,
     "metadata": {},
     "output_type": "execute_result"
    }
   ],
   "source": [
    "import pandas as pd\n",
    "\n",
    "df = pd.read_csv('./data/cabaventa.csv')\n",
    "df.shape"
   ]
  },
  {
   "cell_type": "markdown",
   "id": "826749a6-d4d7-44d2-86fc-0a66323fc9c2",
   "metadata": {},
   "source": [
    "## Limpieza Texto y Columnas"
   ]
  },
  {
   "cell_type": "code",
   "execution_count": 2,
   "id": "c2d743b5",
   "metadata": {},
   "outputs": [],
   "source": [
    "from cleaning import CleaningData\n",
    "#instanciamos Cleaning Data con df\n",
    "\n",
    "cleaned = CleaningData(data=df)"
   ]
  },
  {
   "cell_type": "code",
   "execution_count": 3,
   "id": "f583003b",
   "metadata": {},
   "outputs": [
    {
     "name": "stdout",
     "output_type": "stream",
     "text": [
      "Cleaning columns with no valuable information...\n",
      "\n"
     ]
    },
    {
     "data": {
      "text/plain": [
       "(183810, 17)"
      ]
     },
     "execution_count": 3,
     "metadata": {},
     "output_type": "execute_result"
    }
   ],
   "source": [
    "#Quitamos columnas \n",
    "cols_to_drop = ['Unnamed: 0.1', 'Unnamed: 0', #columnas que vinieron mal en la bajada\n",
    "                'operation_type', #todos son 'venta'\n",
    "                'l1', # todos son 'Argentina'\n",
    "                'l2', # todos son \"Capital Federal\"\n",
    "                'ad_type', #todas las filas iguales \n",
    "                'l4', #todas las filas nulas preferible el dato de lat y long\n",
    "                'l5', #columna con todas las filas nulas\n",
    "                'l6', #columna con todas las filas nulas\n",
    "                'created_on', #la columna created_on es igual a la columna start_date\n",
    "               ]\n",
    "cleaned.drop_columns(columns=cols_to_drop)\n",
    "cleaned.data.shape"
   ]
  },
  {
   "cell_type": "code",
   "execution_count": 4,
   "id": "415e1c2e",
   "metadata": {},
   "outputs": [
    {
     "data": {
      "text/plain": [
       "(183810, 18)"
      ]
     },
     "execution_count": 4,
     "metadata": {},
     "output_type": "execute_result"
    }
   ],
   "source": [
    "#Limpieza title\n",
    "params = {'lowering':True,'punctuation':True,'accents': True,'strip_spaces':True,'digits':False,'within_spaces':True}\n",
    "cleaned.text_col_cleaning(text_column=\"title\", params=params)\n",
    "cleaned.data.shape"
   ]
  },
  {
   "cell_type": "code",
   "execution_count": 5,
   "id": "777a1989",
   "metadata": {},
   "outputs": [
    {
     "data": {
      "text/plain": [
       "(183810, 19)"
      ]
     },
     "execution_count": 5,
     "metadata": {},
     "output_type": "execute_result"
    }
   ],
   "source": [
    "#Limpieza description\n",
    "params = {'lowering':True,'punctuation':True,'accents': True,'strip_spaces':True,'digits':False,'within_spaces':True}\n",
    "cleaned.text_col_cleaning(text_column=\"description\", params=params)\n",
    "cleaned.data.shape"
   ]
  },
  {
   "cell_type": "code",
   "execution_count": 6,
   "id": "4e1ccce7-67a8-4740-8529-5b79e56d550c",
   "metadata": {},
   "outputs": [
    {
     "data": {
      "text/plain": [
       "(183810, 20)"
      ]
     },
     "execution_count": 6,
     "metadata": {},
     "output_type": "execute_result"
    }
   ],
   "source": [
    "#Limpieza l3\n",
    "params = {'lowering':False,'punctuation':True,'accents': True,'strip_spaces':True,'digits':False,'within_spaces':True}\n",
    "cleaned.text_col_cleaning(text_column=\"l3\", params=params)\n",
    "cleaned.data.shape"
   ]
  },
  {
   "cell_type": "markdown",
   "id": "c8ddda6a-4850-41d7-9378-fc39d28dc33d",
   "metadata": {},
   "source": [
    "# Imputación de barrio correcto"
   ]
  },
  {
   "cell_type": "code",
   "execution_count": 8,
   "id": "63f9d535-e846-4f84-ad29-332320852e36",
   "metadata": {},
   "outputs": [],
   "source": [
    "from geoBarrios import *\n",
    "\n",
    "geoBarrios = geoBarrios() #devuelve un dict (datos GCBA)\n",
    "\n",
    "from tqdm import tqdm\n",
    "barrio_imput = []\n",
    "for tup in tqdm([(nbhd, lon,lat) for nbhd, lon, lat in zip(df.l3, df.lon,df.lat)]):\n",
    "    barrio = coord_to_nbhd(coord = tup[1:],est_nbhd=tup[0], polygons_dict=geoBarrios) #usando librería shapley\n",
    "    barrio_imput.append(barrio)\n",
    "\n",
    "cleaned.data['barrio_ok'] = barrio_imput"
   ]
  },
  {
   "cell_type": "code",
   "execution_count": 27,
   "id": "29d5895a-e624-46a4-a070-dcb9dfd9daca",
   "metadata": {},
   "outputs": [
    {
     "data": {
      "text/plain": [
       "(array([1.7236e+05, 0.0000e+00, 0.0000e+00, 0.0000e+00, 0.0000e+00,\n",
       "        0.0000e+00, 0.0000e+00, 0.0000e+00, 0.0000e+00, 2.0000e+00]),\n",
       " array([3.39116561e-101, 3.23019767e-007, 6.46039535e-007, 9.69059302e-007,\n",
       "        1.29207907e-006, 1.61509884e-006, 1.93811860e-006, 2.26113837e-006,\n",
       "        2.58415814e-006, 2.90717791e-006, 3.23019767e-006]),\n",
       " <BarContainer object of 10 artists>)"
      ]
     },
     "execution_count": 27,
     "metadata": {},
     "output_type": "execute_result"
    },
    {
     "data": {
      "image/png": "[encoded data removed]",
      "text/plain": [
       "<Figure size 432x288 with 1 Axes>"
      ]
     },
     "metadata": {
      "needs_background": "light"
     },
     "output_type": "display_data"
    }
   ],
   "source": [
    "import matplotlib.pyplot as plt\n",
    "plt.hist(10**cleaned.data.lon)"
   ]
  },
  {
   "cell_type": "code",
   "execution_count": null,
   "id": "aed2b498-6181-4ff2-b678-5d90233e0012",
   "metadata": {},
   "outputs": [],
   "source": [
    "cleaned.data.loc[(cleaned.data.barrio_ok!=cleaned.data.l3.cleaned), [\"lon\",\"lat\",]]"
   ]
  },
  {
   "cell_type": "markdown",
   "id": "1a8313ac-65b3-4846-8fa0-cb3c3fe36f7e",
   "metadata": {},
   "source": [
    "Casos: \n",
    "\n",
    "1. ($Barrio$, $None$) --> No existe coordenada en CABA\n",
    "2. ($None$, $Barrio$) --> Recupera dato\n",
    "3. ($None$, $None$) --> No modifica\n",
    "4. ($Barrio_a$, $Barrio_b$) --> Corrige\n",
    "5. ($Barrio_a$, $Barrio_a$) --> Ratifica"
   ]
  },
  {
   "cell_type": "code",
   "execution_count": 18,
   "id": "682b8334-78a7-427c-88b1-c85c21bdf4e2",
   "metadata": {},
   "outputs": [
    {
     "data": {
      "text/plain": [
       "5    68.498994\n",
       "1    20.587563\n",
       "4     9.908601\n",
       "3     0.956422\n",
       "2     0.048420\n",
       "Name: result_barrio, dtype: float64"
      ]
     },
     "execution_count": 18,
     "metadata": {},
     "output_type": "execute_result"
    }
   ],
   "source": [
    "cleaned.data['result_barrio'] = np.where((cleaned.data.l3_cleaned.isna()==False) & (cleaned.data.barrio_ok.isna()),1,\n",
    "                                            np.where((cleaned.data.l3_cleaned.isna()) & (cleaned.data.barrio_ok.isna()==False),2,\n",
    "                                                    np.where((cleaned.data.l3_cleaned.isna()) & (cleaned.data.barrio_ok.isna()),3,\n",
    "                                                             np.where((cleaned.data.l3_cleaned.isna()==False) & (cleaned.data.barrio_ok.isna()==False) &\n",
    "                                         (cleaned.data.l3_cleaned != cleaned.data.barrio_ok),4,\n",
    "                                                                     np.where((cleaned.data.l3_cleaned.isna()==False) & (cleaned.data.barrio_ok.isna()==False) &\n",
    "                                         (cleaned.data.l3_cleaned == cleaned.data.barrio_ok),5,6)))))\n",
    "\n",
    "100*cleaned.data.result_barrio.value_counts(normalize=True)"
   ]
  }
 ],
 "metadata": {
  "kernelspec": {
   "display_name": "Python 3 (ipykernel)",
   "language": "python",
   "name": "python3"
  },
  "language_info": {
   "codemirror_mode": {
    "name": "ipython",
    "version": 3
   },
   "file_extension": ".py",
   "mimetype": "text/x-python",
   "name": "python",
   "nbconvert_exporter": "python",
   "pygments_lexer": "ipython3",
   "version": "3.9.7"
  }
 },
 "nbformat": 4,
 "nbformat_minor": 5
}
