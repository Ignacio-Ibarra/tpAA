{
 "cells": [
  {
   "cell_type": "code",
   "execution_count": null,
   "id": "49766701",
   "metadata": {},
   "outputs": [],
   "source": [
    "import numpy as np\n",
    "import pandas as pd\n",
    "import seaborn as sns\n",
    "import matplotlib.pyplot as plt\n",
    "\n",
    "pd.set_option('display.max_columns', None)\n",
    "\n",
    "df = pd.read_csv('./data/cabaventa.csv')\n",
    "df.shape"
   ]
  },
  {
   "cell_type": "markdown",
   "id": "826749a6-d4d7-44d2-86fc-0a66323fc9c2",
   "metadata": {},
   "source": [
    "## Limpieza Texto y Columnas"
   ]
  },
  {
   "cell_type": "markdown",
   "id": "36dec442-696e-4e5a-9b4c-0c8f9a1616f1",
   "metadata": {},
   "source": [
    "En esta parte se realiza una limpieza básica con `regex` de algunas columnas a los fines de normalizar un poco el texto: lowering, punctuation, spaces, digits. La función armada permite customizar la limpieza, por ende es posible no aplicar la misma limpieza para todos los casos. La función genera columnas nuevas con el nombre`f\"{col}_cleaned\"`  "
   ]
  },
  {
   "cell_type": "markdown",
   "id": "c30b21fe-c5b1-4a06-a0a8-c0141a0f4a71",
   "metadata": {},
   "source": [
    "Dado que las columnas textuales `title` y `description` no fueron utilizadas en la predicción ni analizadas mediante técnicas de embeddings o BOW, no se trataron los NaN en esas columnas. "
   ]
  },
  {
   "cell_type": "code",
   "execution_count": null,
   "id": "c2d743b5",
   "metadata": {},
   "outputs": [],
   "source": [
    "from cleaning import CleaningData\n",
    "#instanciamos Cleaning Data con df\n",
    "\n",
    "cleaned = CleaningData(data=df)"
   ]
  },
  {
   "cell_type": "code",
   "execution_count": null,
   "id": "f583003b",
   "metadata": {},
   "outputs": [],
   "source": [
    "#Quitamos columnas \n",
    "cols_to_drop = ['Unnamed: 0.1', 'Unnamed: 0', #columnas que vinieron mal en la bajada\n",
    "                'operation_type', #todos son 'venta'\n",
    "                'l1', #todas las filas iguales \n",
    "                'l2', #todas las filas iguales \n",
    "                'ad_type', #todas las filas iguales \n",
    "                'l4', #todas las filas nulas preferible el dato de lat y long\n",
    "                'l5', #columna con todas las filas nulas\n",
    "                'l6', #columna con todas las filas nulas\n",
    "                'created_on', #la columna created_on es igual a la columna start_date\n",
    "                'price_period' #la columna contiene muchos NaN y un único valor\n",
    "               ]\n",
    "data = cleaned.drop_columns(columns=cols_to_drop)\n",
    "data.shape"
   ]
  },
  {
   "cell_type": "code",
   "execution_count": null,
   "id": "415e1c2e",
   "metadata": {},
   "outputs": [],
   "source": [
    "#Limpieza title\n",
    "params = {'lowering':True,'punctuation':True,'accents': True,'strip_spaces':True,'digits':False,'within_spaces':True}\n",
    "cleaned.text_col_cleaning(text_column=\"title\", params=params)\n",
    "data.shape"
   ]
  },
  {
   "cell_type": "code",
   "execution_count": null,
   "id": "777a1989",
   "metadata": {},
   "outputs": [],
   "source": [
    "#Limpieza description\n",
    "params = {'lowering':True,'punctuation':True,'accents': True,'strip_spaces':True,'digits':False,'within_spaces':True}\n",
    "cleaned.text_col_cleaning(text_column=\"description\", params=params)\n",
    "data.shape"
   ]
  },
  {
   "cell_type": "code",
   "execution_count": null,
   "id": "4e1ccce7-67a8-4740-8529-5b79e56d550c",
   "metadata": {},
   "outputs": [],
   "source": [
    "#Limpieza texto de l3\n",
    "params = {'lowering':False,'punctuation':True,'accents': True,'strip_spaces':True,'digits':False,'within_spaces':True}\n",
    "cleaned.text_col_cleaning(text_column=\"l3\", params=params)\n",
    "data.shape"
   ]
  },
  {
   "cell_type": "markdown",
   "id": "c8ddda6a-4850-41d7-9378-fc39d28dc33d",
   "metadata": {},
   "source": [
    "## Barrio, latitud y longitud"
   ]
  },
  {
   "cell_type": "markdown",
   "id": "fa55be99-0fe2-4b1d-9f97-be54854dbfee",
   "metadata": {},
   "source": [
    "#### Valores nulos"
   ]
  },
  {
   "cell_type": "code",
   "execution_count": null,
   "id": "c4931488-92b7-4fd8-96ad-f838b57ef926",
   "metadata": {},
   "outputs": [],
   "source": [
    "(data[['lat','lon','l3_cleaned']].isna().sum()/len(data)).apply(lambda x: \"{:.2%}\".format(x))"
   ]
  },
  {
   "cell_type": "markdown",
   "id": "2107de38-c63f-48ae-b3ba-4a5dc62c3fba",
   "metadata": {},
   "source": [
    "Se detectó una mayor presencia de valores nulos en los datos de georreferenciación que en el dato del barrio. Por ende se realizó un trabajo de imputación de nulos partiendo de considerar a la columna `l3_cleaned` con una mayor validez que la columnas `lat` y `lon`. Por ende, fue tomada como \"eje\" para realizar imputación de nulos. "
   ]
  },
  {
   "cell_type": "markdown",
   "id": "953ca48d-1b51-4a20-8208-c485308e00a5",
   "metadata": {},
   "source": [
    "#### Errores"
   ]
  },
  {
   "cell_type": "markdown",
   "id": "5c317c84-cb83-40b8-b5a8-828e1eda6499",
   "metadata": {},
   "source": [
    "* Barrios cuya denomiación no es la denominación oficial: Ejemplo Centro / Microcentro, Las Cañitas, Pompeya, Abasto, Once, etc. "
   ]
  },
  {
   "cell_type": "code",
   "execution_count": null,
   "id": "aa112043-aff3-453e-b20a-0af3bddad7ab",
   "metadata": {},
   "outputs": [],
   "source": [
    "data.l3_cleaned.unique()"
   ]
  },
  {
   "cell_type": "markdown",
   "id": "ecbf2461-5d6f-4990-8d92-42e37229157a",
   "metadata": {},
   "source": [
    "* Columna `lat` con valores fuera del polígono de CABA"
   ]
  },
  {
   "cell_type": "code",
   "execution_count": null,
   "id": "4aad2960-0bd6-4188-9380-6cdf9ed9ad0a",
   "metadata": {},
   "outputs": [],
   "source": [
    "data.lat.describe()"
   ]
  },
  {
   "cell_type": "markdown",
   "id": "2d44fe72-5035-4c5a-8e85-fe7eec480716",
   "metadata": {},
   "source": [
    "* Columna `lon` con valores fuera de los valores correctos. "
   ]
  },
  {
   "cell_type": "code",
   "execution_count": null,
   "id": "dbf6857b-2b90-479d-852c-bf03738c3f6b",
   "metadata": {},
   "outputs": [],
   "source": [
    "data.lon.describe()"
   ]
  },
  {
   "cell_type": "markdown",
   "id": "443bc304",
   "metadata": {},
   "source": [
    "- Observo las propiedades que \"caen\" fuera de CABA. Reemplazo por nulo aquellas propiedades cuyas coordenadas no tienen sentido "
   ]
  },
  {
   "cell_type": "code",
   "execution_count": null,
   "id": "0bba1c4c",
   "metadata": {},
   "outputs": [],
   "source": [
    "sns.scatterplot(data.lon,data.lat)\n",
    "plt.show()"
   ]
  },
  {
   "cell_type": "code",
   "execution_count": null,
   "id": "a0590b25",
   "metadata": {},
   "outputs": [],
   "source": [
    "index_lat_lon = data[(data['lat'] > -34.5) | (data['lon'] < -58.55) | (data['lat'] < -34.685) | (data['lon'] > -58)].index.values\n",
    "data.loc[index_lat_lon, ['lat', 'lon']] = np.nan"
   ]
  },
  {
   "cell_type": "code",
   "execution_count": null,
   "id": "13f83986",
   "metadata": {},
   "outputs": [],
   "source": [
    "sns.scatterplot(data.lon,data.lat)\n",
    "plt.show()"
   ]
  },
  {
   "cell_type": "markdown",
   "id": "ee1ab822",
   "metadata": {},
   "source": [
    "Creo una variable para completar con 1 en aquellas instancias que voy a eliminar"
   ]
  },
  {
   "cell_type": "code",
   "execution_count": null,
   "id": "1dce2fcd",
   "metadata": {},
   "outputs": [],
   "source": [
    "data['to_be_erased'] = 0"
   ]
  },
  {
   "cell_type": "markdown",
   "id": "b1482e73",
   "metadata": {},
   "source": [
    "Considerando la importancia de la locación en la predicción de un precio de una propiedad y la complejidad de extraer el dato de la descripción, se vna a eliminar aquellas sin barrio ni coordenadas geográficas"
   ]
  },
  {
   "cell_type": "code",
   "execution_count": null,
   "id": "7fa0ffe8",
   "metadata": {},
   "outputs": [],
   "source": [
    "index_no_location = data[(data['lat'].isna()) & (data['l3_cleaned'].isna())].index.values\n",
    "data.loc[index_no_location, 'to_be_erased'] = 1"
   ]
  },
  {
   "cell_type": "markdown",
   "id": "ee1961c3",
   "metadata": {},
   "source": [
    "Para aquellas propiedades que sí tienen el barrio, pero no las coordenadas geográficas, voy a completar con el promedio de las coordenadas geográficas del barrio."
   ]
  },
  {
   "cell_type": "code",
   "execution_count": null,
   "id": "b78072bd",
   "metadata": {},
   "outputs": [],
   "source": [
    "lat_lon_barrios = data.groupby('l3_cleaned')[['lat', 'lon']].mean()\n",
    "lat_lon_barrios.columns = ['lat_barrio', 'lon_barrio']\n",
    "\n",
    "data = pd.merge(data, lat_lon_barrios, how=\"left\", left_on='l3_cleaned', right_on = 'l3_cleaned')\n",
    "\n",
    "data['lat'] = np.where(data['lat'].isna(), data['lat_barrio'], data['lat'])\n",
    "data['lon'] = np.where(data['lon'].isna(), data['lon_barrio'], data['lon'])"
   ]
  },
  {
   "cell_type": "markdown",
   "id": "60642d9f",
   "metadata": {},
   "source": [
    "Por el momento, borro aquellas propiedades que no tienen coordenadas geográficas. En todo caso, se podría completar utilizando los polígonos de cada barrio y viendo en cual cae la propiedad"
   ]
  },
  {
   "cell_type": "code",
   "execution_count": null,
   "id": "1fe1cb70",
   "metadata": {},
   "outputs": [],
   "source": [
    "index_no_barrio = data[data['l3_cleaned'].isna()].index.values\n",
    "data.loc[index_no_barrio, 'to_be_erased'] = 1"
   ]
  },
  {
   "cell_type": "code",
   "execution_count": null,
   "id": "8e10b992",
   "metadata": {},
   "outputs": [],
   "source": [
    "data = data.drop(columns = ['lat_barrio', 'lon_barrio'])"
   ]
  },
  {
   "cell_type": "markdown",
   "id": "1c099bc2-108b-495a-9859-3cbb978f1907",
   "metadata": {},
   "source": [
    "#### Procesamiento realizado"
   ]
  },
  {
   "cell_type": "markdown",
   "id": "84daf3f0-f4b7-438f-8431-86cc47ed529f",
   "metadata": {},
   "source": [
    "Se establecieron los siguientes pasos: \n",
    "1) Normalización datos barrios: dado que eran pocos casos se realizó una imputación manual sobre la columna `l3_cleaned`. Ej: Las Canitas ---> Palermo. Pompeya --> Nueva Pompeya. Abasto --> Almagro.\n",
    "2) Si la latitud, longitud fueron NaN o localización fuera de CABA se completó con el promedio de las coordenadas del barrio, si para dicho registro el dato del barrio fue nulo entonces se quitó toda la fila. \n",
    "3) Si el barrio fue nulo pero la localización dentro de CABA, se completó barrio verificando en qué polígono pertencía el punto.\n",
    "4) Si el barrio y la localización no son nulos pero sí incongruentes (localización pertence a otro barrio) se procedío a imputar el punto centroide del barrio. \n",
    "\n",
    "Pendiente para un próximo abordaje: \n",
    "\n",
    "* Para los casos en que la localización era externa a CABA, el barrio no nulo, se imputó un punto centroide del barrio. Eso pudo conducir a errores dado que implícitamente se \"confía\" en que el dato del barrio fue correcto. Una alternativa sería probar adicionalmente si de la columna `description_cleaned` fuera posible confirmar que no se tratase de casos que efectivamente pertenecieran a localizaciones externas a CABA. "
   ]
  },
  {
   "cell_type": "markdown",
   "id": "03df0005-4a48-455f-a0c4-2c719f19c562",
   "metadata": {},
   "source": [
    "## Superficie total, superficie cubierta, ambientes, dormitorios y precio"
   ]
  },
  {
   "cell_type": "markdown",
   "id": "053b3dfe-2bdd-42ca-9f62-94ef6451082a",
   "metadata": {},
   "source": [
    "#### Valores nulos"
   ]
  },
  {
   "cell_type": "code",
   "execution_count": null,
   "id": "15fe4d28-243a-472a-a39e-3d98db0af6fb",
   "metadata": {},
   "outputs": [],
   "source": [
    "cols = [\"surface_total\",\"surface_covered\",\"rooms\",\"bedrooms\", \"price\"]\n",
    "(data[cols].isna().sum()/len(data)).apply(lambda x: \"{:.2%}\".format(x))"
   ]
  },
  {
   "cell_type": "markdown",
   "id": "0f03bac9-b643-4049-84cb-d13873dac800",
   "metadata": {},
   "source": [
    "Dada la alta correlación entre `surface_total` y `surface_covered` y entre `rooms` y `bedrooms`, para los casos en que el par tuviera datos nulos se procedió a eliminar la fila ante la dificultad para imputar nulos en esos casos. \n",
    "\n",
    "```\n",
    "data.dropna(subset = ['rooms', bedrooms'])\n",
    "data.dropna(subset = ['surface_total', 'surface_covered'])\n",
    "```\n",
    "\n",
    "Para la variable `price` se eliminaron las filas que tenían nulos ya que por ser la variable sobre la cual se constuirá la variable respuesta se decidió no realizar imputación de valores faltantes sobre la misma. \n",
    "\n",
    "```\n",
    "data.dropna(subset =['price'])\n",
    "```"
   ]
  },
  {
   "cell_type": "markdown",
   "id": "53379ea6-80e6-4d27-a187-056ff40ad90f",
   "metadata": {},
   "source": [
    "#### Errores / Outliers"
   ]
  },
  {
   "cell_type": "markdown",
   "id": "44d7720f-96c0-4cbf-8f37-5126471c1025",
   "metadata": {},
   "source": [
    "Se detecton que las columnas contenían errores o valores outliers. Se enumeran a continuación: "
   ]
  },
  {
   "cell_type": "markdown",
   "id": "ad87e485-fe31-43dd-8a2c-7ecc8de9c2d7",
   "metadata": {},
   "source": [
    "* `surface_total < surface_covered`"
   ]
  },
  {
   "cell_type": "code",
   "execution_count": null,
   "id": "fbfe49ff-ecd2-4086-a279-17967b61a8ea",
   "metadata": {},
   "outputs": [],
   "source": [
    "(data.surface_total < data.surface_covered).sum() "
   ]
  },
  {
   "cell_type": "markdown",
   "id": "36d110c2-eb50-46a5-b759-ffda6fc8f58e",
   "metadata": {},
   "source": [
    "* outlieres en `surface_total`"
   ]
  },
  {
   "cell_type": "code",
   "execution_count": null,
   "id": "e72df893-31bf-4417-a29a-5bb4f752b8a7",
   "metadata": {},
   "outputs": [],
   "source": [
    "data.surface_total.describe()"
   ]
  },
  {
   "cell_type": "markdown",
   "id": "e836731a-f359-4cbd-9102-613c9effb72c",
   "metadata": {},
   "source": [
    "* outliers en `surface_covered`"
   ]
  },
  {
   "cell_type": "code",
   "execution_count": null,
   "id": "1f75b214-5075-4fe1-b786-de11d7276cdf",
   "metadata": {},
   "outputs": [],
   "source": [
    "data.surface_covered.describe()"
   ]
  },
  {
   "cell_type": "markdown",
   "id": "960ec4ab-e283-448d-aa49-2ba1efb9bc24",
   "metadata": {},
   "source": [
    "* `rooms < bedrooms`"
   ]
  },
  {
   "cell_type": "code",
   "execution_count": null,
   "id": "e3df9972-f03a-46e2-8887-19ca38548bbe",
   "metadata": {},
   "outputs": [],
   "source": [
    "(data.rooms < data.bedrooms).sum() "
   ]
  },
  {
   "cell_type": "markdown",
   "id": "da8120ab-fe03-434e-9d86-4762bfabc9f4",
   "metadata": {},
   "source": [
    "* outliers en `rooms`"
   ]
  },
  {
   "cell_type": "code",
   "execution_count": null,
   "id": "09ab9937-7343-4de8-83fe-6cf958de7d5d",
   "metadata": {},
   "outputs": [],
   "source": [
    "data.rooms.describe()"
   ]
  },
  {
   "cell_type": "markdown",
   "id": "31331cd7-4aaa-42e6-b5ac-bbfea45d427a",
   "metadata": {},
   "source": [
    "* outliers en `bedrooms`"
   ]
  },
  {
   "cell_type": "code",
   "execution_count": null,
   "id": "d43e997b-5d23-4d01-ae8a-feef592d2905",
   "metadata": {},
   "outputs": [],
   "source": [
    "data.bedrooms.describe()"
   ]
  },
  {
   "cell_type": "markdown",
   "id": "c7597017-6129-44c5-be9a-cdc722ea2410",
   "metadata": {},
   "source": [
    "#### Procesamiento realizado"
   ]
  },
  {
   "cell_type": "markdown",
   "id": "d758b72d-6c6c-456a-91f4-d396554fd7e4",
   "metadata": {},
   "source": [
    "1) Borrar filas donde los pares de columnas `['rooms','bedrooms']` o `['surface_total','surface_covered']` contengan nulos. \n",
    "2) Intercambiar los valores de las columnas cuando `rooms < bedrooms` o `surface_total < surface_covered`. \n",
    "3) Eliminar filas donde `price` sea nulo. \n",
    "4) Si para una fila uno de los valores de `['surface_total', 'surface_covered']` contiene valor outlier y el otro no es outlier, se le imputó un `NaN` al dato outlier y se dejó dicho valor para ser imputado luego por método MICE. En caso que los dos valores fueran outliers o uno outlier y el otro `NaN` se borró la fila. \n",
    "5) Si para una fila uno de los valores de `['rooms', bedrooms']` contiene valor outlier y el otro no es outlier, se le imputó un `NaN` al dato outlier y se dejó dicho valor para ser imputado luego por método MICE. En caso que los dos valores fueran outliers o uno outlier y el otro `NaN` se borró la fila. \n",
    "6) Se borraron los valores outliers de `price`\n",
    "7) Luego de estos pasos se procedió a imputar los valores nulos con el método multivariado MICE en las columnas `['rooms', bedrooms','surface_total','surface_covered']` utilizando también la variable `price` como predictor. "
   ]
  },
  {
   "cell_type": "markdown",
   "id": "fa6e8228-8baf-409b-ad00-5be8c0e36646",
   "metadata": {},
   "source": [
    "## Modificación de los tipos de datos"
   ]
  },
  {
   "cell_type": "markdown",
   "id": "c232c93c-8213-4ec0-ac47-7b914d07d97a",
   "metadata": {},
   "source": [
    "Acá hay que señalar si se realizaron cambios en los tipos de datos: ejemplo todas las variables que se pasan a categoricas para mejorar el uso de memoria que realiza pandas. "
   ]
  },
  {
   "cell_type": "markdown",
   "id": "9db819d4-31a2-4e65-87b6-fe6a667deff0",
   "metadata": {},
   "source": [
    "## Resultados Pre-procesamiento. \n",
    "\n",
    "Enumerar cantidad de filas y columnas iniciales, enumerar cantidad de filas y columnas resultantes. "
   ]
  }
 ],
 "metadata": {
  "interpreter": {
   "hash": "112989f40982219f9c2133127490be09f86560db102a13a350eb86b01002b443"
  },
  "kernelspec": {
   "display_name": "Python 3.8.3 ('base')",
   "language": "python",
   "name": "python3"
  },
  "language_info": {
   "codemirror_mode": {
    "name": "ipython",
    "version": 3
   },
   "file_extension": ".py",
   "mimetype": "text/x-python",
   "name": "python",
   "nbconvert_exporter": "python",
   "pygments_lexer": "ipython3",
   "version": "3.8.3"
  }
 },
 "nbformat": 4,
 "nbformat_minor": 5
}
