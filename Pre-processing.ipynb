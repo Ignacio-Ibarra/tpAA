{
 "cells": [
  {
   "cell_type": "code",
   "execution_count": 9,
   "id": "49766701",
   "metadata": {},
   "outputs": [
    {
     "data": {
      "text/plain": [
       "(183810, 27)"
      ]
     },
     "execution_count": 9,
     "metadata": {},
     "output_type": "execute_result"
    }
   ],
   "source": [
    "import pandas as pd\n",
    "\n",
    "df = pd.read_csv('./data/cabaventa.csv')\n",
    "df.shape"
   ]
  },
  {
   "cell_type": "markdown",
   "id": "826749a6-d4d7-44d2-86fc-0a66323fc9c2",
   "metadata": {},
   "source": [
    "## Limpieza Texto y Columnas"
   ]
  },
  {
   "cell_type": "markdown",
   "id": "36dec442-696e-4e5a-9b4c-0c8f9a1616f1",
   "metadata": {},
   "source": [
    "En esta parte se realiza una limpieza básica con `regex` de algunas columnas a los fines de normalizar un poco el texto: lowering, punctuation, spaces, digits. La función armada permite customizar la limpieza, por ende es posible no aplicar la misma limpieza para todos los casos. La función genera columnas nuevas con el nombre`f\"{col}_cleaned\"`  "
   ]
  },
  {
   "cell_type": "markdown",
   "id": "c30b21fe-c5b1-4a06-a0a8-c0141a0f4a71",
   "metadata": {},
   "source": [
    "Dado que las columnas textuales `title` y `description` no fueron utilizadas en la predicción ni analizadas mediante técnicas de embeddings o BOW, no se trataron los NaN en esas columnas. "
   ]
  },
  {
   "cell_type": "code",
   "execution_count": 10,
   "id": "c2d743b5",
   "metadata": {},
   "outputs": [],
   "source": [
    "from cleaning import CleaningData\n",
    "#instanciamos Cleaning Data con df\n",
    "\n",
    "cleaned = CleaningData(data=df)"
   ]
  },
  {
   "cell_type": "code",
   "execution_count": 11,
   "id": "f583003b",
   "metadata": {},
   "outputs": [
    {
     "name": "stdout",
     "output_type": "stream",
     "text": [
      "Cleaning columns with no valuable information...\n",
      "\n"
     ]
    },
    {
     "data": {
      "text/plain": [
       "(183810, 16)"
      ]
     },
     "execution_count": 11,
     "metadata": {},
     "output_type": "execute_result"
    }
   ],
   "source": [
    "#Quitamos columnas \n",
    "cols_to_drop = ['Unnamed: 0.1', 'Unnamed: 0', #columnas que vinieron mal en la bajada\n",
    "                'operation_type', #todos son 'venta'\n",
    "                'l1', #todas las filas iguales \n",
    "                'l2', #todas las filas iguales \n",
    "                'ad_type', #todas las filas iguales \n",
    "                'l4', #todas las filas nulas preferible el dato de lat y long\n",
    "                'l5', #columna con todas las filas nulas\n",
    "                'l6', #columna con todas las filas nulas\n",
    "                'created_on', #la columna created_on es igual a la columna start_date\n",
    "                'price_period' #la columna contiene muchos NaN y un único valor\n",
    "               ]\n",
    "data = cleaned.drop_columns(columns=cols_to_drop)\n",
    "data.shape"
   ]
  },
  {
   "cell_type": "code",
   "execution_count": 12,
   "id": "415e1c2e",
   "metadata": {},
   "outputs": [
    {
     "data": {
      "text/plain": [
       "(183810, 17)"
      ]
     },
     "execution_count": 12,
     "metadata": {},
     "output_type": "execute_result"
    }
   ],
   "source": [
    "#Limpieza title\n",
    "params = {'lowering':True,'punctuation':True,'accents': True,'strip_spaces':True,'digits':False,'within_spaces':True}\n",
    "cleaned.text_col_cleaning(text_column=\"title\", params=params)\n",
    "data.shape"
   ]
  },
  {
   "cell_type": "code",
   "execution_count": 13,
   "id": "777a1989",
   "metadata": {},
   "outputs": [
    {
     "data": {
      "text/plain": [
       "(183810, 18)"
      ]
     },
     "execution_count": 13,
     "metadata": {},
     "output_type": "execute_result"
    }
   ],
   "source": [
    "#Limpieza description\n",
    "params = {'lowering':True,'punctuation':True,'accents': True,'strip_spaces':True,'digits':False,'within_spaces':True}\n",
    "cleaned.text_col_cleaning(text_column=\"description\", params=params)\n",
    "data.shape"
   ]
  },
  {
   "cell_type": "code",
   "execution_count": 14,
   "id": "4e1ccce7-67a8-4740-8529-5b79e56d550c",
   "metadata": {},
   "outputs": [
    {
     "data": {
      "text/plain": [
       "(183810, 19)"
      ]
     },
     "execution_count": 14,
     "metadata": {},
     "output_type": "execute_result"
    }
   ],
   "source": [
    "#Limpieza texto de l3\n",
    "params = {'lowering':False,'punctuation':True,'accents': True,'strip_spaces':True,'digits':False,'within_spaces':True}\n",
    "cleaned.text_col_cleaning(text_column=\"l3\", params=params)\n",
    "data.shape"
   ]
  },
  {
   "cell_type": "markdown",
   "id": "c8ddda6a-4850-41d7-9378-fc39d28dc33d",
   "metadata": {},
   "source": [
    "## Barrio, latitud y longitud"
   ]
  },
  {
   "cell_type": "markdown",
   "id": "fa55be99-0fe2-4b1d-9f97-be54854dbfee",
   "metadata": {},
   "source": [
    "#### Valores nulos"
   ]
  },
  {
   "cell_type": "code",
   "execution_count": 26,
   "id": "c4931488-92b7-4fd8-96ad-f838b57ef926",
   "metadata": {},
   "outputs": [
    {
     "data": {
      "text/plain": [
       "lat           6.23%\n",
       "lon           6.23%\n",
       "l3_cleaned    1.00%\n",
       "dtype: object"
      ]
     },
     "execution_count": 26,
     "metadata": {},
     "output_type": "execute_result"
    }
   ],
   "source": [
    "(data[['lat','lon','l3_cleaned']].isna().sum()/len(data)).apply(lambda x: \"{:.2%}\".format(x))"
   ]
  },
  {
   "cell_type": "markdown",
   "id": "2107de38-c63f-48ae-b3ba-4a5dc62c3fba",
   "metadata": {},
   "source": [
    "Se detectó una mayor presencia de valores nulos en los datos de georreferenciación que en el dato del barrio. Por ende se realizó un trabajo de imputación de nulos partiendo de considerar a la columna `l3_cleaned` con una mayor validez que la columnas `lat` y `lon`. Por ende, fue tomada como \"eje\" para realizar imputación de nulos. "
   ]
  },
  {
   "cell_type": "markdown",
   "id": "953ca48d-1b51-4a20-8208-c485308e00a5",
   "metadata": {},
   "source": [
    "#### Errores"
   ]
  },
  {
   "cell_type": "markdown",
   "id": "5c317c84-cb83-40b8-b5a8-828e1eda6499",
   "metadata": {},
   "source": [
    "* Barrios cuya denomiación no es la denominación oficial: Ejemplo Centro / Microcentro, Las Cañitas, Pompeya, Abasto, Once, etc. "
   ]
  },
  {
   "cell_type": "code",
   "execution_count": 25,
   "id": "aa112043-aff3-453e-b20a-0af3bddad7ab",
   "metadata": {},
   "outputs": [
    {
     "data": {
      "text/plain": [
       "array(['Floresta', 'Belgrano', 'Recoleta', 'Monserrat', 'San Nicolas',\n",
       "       'Retiro', 'Almagro', 'Palermo', 'Saavedra', 'Chacarita',\n",
       "       'Barrio Norte', 'Villa Crespo', 'Villa Pueyrredon', 'Flores',\n",
       "       'Villa Urquiza', 'Once', 'Coghlan', 'Congreso', 'Villa Devoto',\n",
       "       'Boedo', 'Nunez', 'Barracas', 'Colegiales', 'Villa del Parque',\n",
       "       'Caballito', 'Balvanera', 'San Telmo', 'Monte Castro',\n",
       "       'Villa General Mitre', 'Parque Chacabuco', None, 'Abasto',\n",
       "       'Puerto Madero', 'Parque Chas', 'San Cristobal',\n",
       "       'Villa Santa Rita', 'Villa Lugano', 'Liniers', 'Agronomia',\n",
       "       'Villa Ortuzar', 'Villa Soldati', 'Villa Luro',\n",
       "       'Parque Centenario', 'Las Canitas', 'Paternal',\n",
       "       'Centro Microcentro', 'Mataderos', 'Parque Avellaneda', 'Pompeya',\n",
       "       'Parque Patricios', 'Tribunales', 'Boca', 'Villa Real',\n",
       "       'Constitucion', 'Versalles', 'Catalinas', 'Velez Sarsfield',\n",
       "       'Villa Riachuelo'], dtype=object)"
      ]
     },
     "execution_count": 25,
     "metadata": {},
     "output_type": "execute_result"
    }
   ],
   "source": [
    "data.l3_cleaned.unique()"
   ]
  },
  {
   "cell_type": "markdown",
   "id": "ecbf2461-5d6f-4990-8d92-42e37229157a",
   "metadata": {},
   "source": [
    "* Columna `lat` con valores fuera del polígono de CABA"
   ]
  },
  {
   "cell_type": "code",
   "execution_count": 27,
   "id": "4aad2960-0bd6-4188-9380-6cdf9ed9ad0a",
   "metadata": {},
   "outputs": [
    {
     "data": {
      "text/plain": [
       "count    172362.000000\n",
       "mean        -34.590007\n",
       "std           0.376025\n",
       "min         -53.788624\n",
       "25%         -34.615663\n",
       "50%         -34.596872\n",
       "75%         -34.577306\n",
       "max          29.753374\n",
       "Name: lat, dtype: float64"
      ]
     },
     "execution_count": 27,
     "metadata": {},
     "output_type": "execute_result"
    }
   ],
   "source": [
    "data.lat.describe()"
   ]
  },
  {
   "cell_type": "markdown",
   "id": "2d44fe72-5035-4c5a-8e85-fe7eec480716",
   "metadata": {},
   "source": [
    "* Columna `lon` con valores fuera de los valores correctos. "
   ]
  },
  {
   "cell_type": "code",
   "execution_count": 28,
   "id": "dbf6857b-2b90-479d-852c-bf03738c3f6b",
   "metadata": {},
   "outputs": [
    {
     "data": {
      "text/plain": [
       "count    172362.000000\n",
       "mean        -58.462583\n",
       "std           0.514948\n",
       "min        -100.469651\n",
       "25%         -58.464658\n",
       "50%         -58.439264\n",
       "75%         -58.408084\n",
       "max          -5.490771\n",
       "Name: lon, dtype: float64"
      ]
     },
     "execution_count": 28,
     "metadata": {},
     "output_type": "execute_result"
    }
   ],
   "source": [
    "data.lon.describe()"
   ]
  },
  {
   "cell_type": "markdown",
   "id": "1c099bc2-108b-495a-9859-3cbb978f1907",
   "metadata": {},
   "source": [
    "#### Procesamiento realizado"
   ]
  },
  {
   "cell_type": "markdown",
   "id": "84daf3f0-f4b7-438f-8431-86cc47ed529f",
   "metadata": {},
   "source": [
    "Se establecieron los siguientes pasos: \n",
    "1) Normalización datos barrios: dado que eran pocos casos se realizó una imputación manual sobre la columna `l3_cleaned`. Ej: Las Canitas ---> Palermo. Pompeya --> Nueva Pompeya. Abasto --> Almagro.\n",
    "2) Si la latitud, longitud fueron NaN o localización fuera de CABA se completó con un punto centroide del barrio, si para dicho registro el dato del barrio fue nulo entonces se quitó toda la fila. \n",
    "3) Si el barrio fue nulo pero la localización dentro de CABA, se completó barrio verificando en qué polígono pertencía el punto.\n",
    "4) Si el barrio y la localización no son nulos pero sí incongruentes (localización pertence a otro barrio) se procedío a imputar el punto centroide del barrio. \n",
    "\n",
    "Pendiente para un próximo abordaje: \n",
    "\n",
    "* Para los casos en que la localización era externa a CABA, el barrio no nulo, se imputó un punto centroide del barrio. Eso pudo conducir a errores dado que implícitamente se \"confía\" en que el dato del barrio fue correcto. Una alternativa sería probar adicionalmente si de la columna `description_cleaned` fuera posible confirmar que no se tratase de casos que efectivamente pertenecieran a localizaciones externas a CABA. "
   ]
  },
  {
   "cell_type": "markdown",
   "id": "9515803e-0364-4223-8e11-21a9b8a6a5ce",
   "metadata": {},
   "source": [
    "ACA VA LA MAGIA DE LUCASSSSSS!!!!"
   ]
  },
  {
   "cell_type": "markdown",
   "id": "03df0005-4a48-455f-a0c4-2c719f19c562",
   "metadata": {},
   "source": [
    "## Superficie total, superficie cubierta, ambientes, dormitorios y precio"
   ]
  },
  {
   "cell_type": "markdown",
   "id": "053b3dfe-2bdd-42ca-9f62-94ef6451082a",
   "metadata": {},
   "source": [
    "#### Valores nulos"
   ]
  },
  {
   "cell_type": "code",
   "execution_count": 32,
   "id": "15fe4d28-243a-472a-a39e-3d98db0af6fb",
   "metadata": {},
   "outputs": [
    {
     "data": {
      "text/plain": [
       "surface_total      33.13%\n",
       "surface_covered    34.02%\n",
       "rooms              15.30%\n",
       "bedrooms           27.19%\n",
       "price               1.85%\n",
       "dtype: object"
      ]
     },
     "execution_count": 32,
     "metadata": {},
     "output_type": "execute_result"
    }
   ],
   "source": [
    "cols = [\"surface_total\",\"surface_covered\",\"rooms\",\"bedrooms\", \"price\"]\n",
    "(data[cols].isna().sum()/len(data)).apply(lambda x: \"{:.2%}\".format(x))"
   ]
  },
  {
   "cell_type": "markdown",
   "id": "0f03bac9-b643-4049-84cb-d13873dac800",
   "metadata": {},
   "source": [
    "Dada la alta correlación entre `surface_total` y `surface_covered` y entre `rooms` y `bedrooms`, para los casos en que el par tuviera datos nulos se procedió a eliminar la fila ante la dificultad para imputar nulos en esos casos. \n",
    "\n",
    "```\n",
    "data.dropna(subset = ['rooms', bedrooms'])\n",
    "data.dropna(subset = ['surface_total', 'surface_covered'])\n",
    "```\n",
    "\n",
    "Para la variable `price` se eliminaron las filas que tenían nulos ya que por ser la variable sobre la cual se constuirá la variable respuesta se decidió no realizar imputación de valores faltantes sobre la misma. \n",
    "\n",
    "```\n",
    "data.dropna(subset =['price'])\n",
    "```"
   ]
  },
  {
   "cell_type": "markdown",
   "id": "53379ea6-80e6-4d27-a187-056ff40ad90f",
   "metadata": {},
   "source": [
    "#### Errores / Outliers"
   ]
  },
  {
   "cell_type": "markdown",
   "id": "44d7720f-96c0-4cbf-8f37-5126471c1025",
   "metadata": {},
   "source": [
    "Se detecton que las columnas contenían errores o valores outliers. Se enumeran a continuación: "
   ]
  },
  {
   "cell_type": "markdown",
   "id": "ad87e485-fe31-43dd-8a2c-7ecc8de9c2d7",
   "metadata": {},
   "source": [
    "* `surface_total < surface_covered`"
   ]
  },
  {
   "cell_type": "code",
   "execution_count": 33,
   "id": "fbfe49ff-ecd2-4086-a279-17967b61a8ea",
   "metadata": {},
   "outputs": [
    {
     "data": {
      "text/plain": [
       "926"
      ]
     },
     "execution_count": 33,
     "metadata": {},
     "output_type": "execute_result"
    }
   ],
   "source": [
    "(data.surface_total < data.surface_covered).sum() "
   ]
  },
  {
   "cell_type": "markdown",
   "id": "36d110c2-eb50-46a5-b759-ffda6fc8f58e",
   "metadata": {},
   "source": [
    "* outlieres en `surface_total`"
   ]
  },
  {
   "cell_type": "code",
   "execution_count": 35,
   "id": "e72df893-31bf-4417-a29a-5bb4f752b8a7",
   "metadata": {},
   "outputs": [
    {
     "data": {
      "text/plain": [
       "count    122908.00000\n",
       "mean        174.63733\n",
       "std        1461.00811\n",
       "min          10.00000\n",
       "25%          45.00000\n",
       "50%          70.00000\n",
       "75%         127.00000\n",
       "max      140380.00000\n",
       "Name: surface_total, dtype: float64"
      ]
     },
     "execution_count": 35,
     "metadata": {},
     "output_type": "execute_result"
    }
   ],
   "source": [
    "data.surface_total.describe()"
   ]
  },
  {
   "cell_type": "markdown",
   "id": "e836731a-f359-4cbd-9102-613c9effb72c",
   "metadata": {},
   "source": [
    "* outliers en `surface_covered`"
   ]
  },
  {
   "cell_type": "code",
   "execution_count": 36,
   "id": "1f75b214-5075-4fe1-b786-de11d7276cdf",
   "metadata": {},
   "outputs": [
    {
     "data": {
      "text/plain": [
       "count    121282.000000\n",
       "mean        148.706692\n",
       "std        3064.441474\n",
       "min           1.000000\n",
       "25%          41.000000\n",
       "50%          60.000000\n",
       "75%         103.000000\n",
       "max      950000.000000\n",
       "Name: surface_covered, dtype: float64"
      ]
     },
     "execution_count": 36,
     "metadata": {},
     "output_type": "execute_result"
    }
   ],
   "source": [
    "data.surface_covered.describe()"
   ]
  },
  {
   "cell_type": "markdown",
   "id": "960ec4ab-e283-448d-aa49-2ba1efb9bc24",
   "metadata": {},
   "source": [
    "* `rooms < bedrooms`"
   ]
  },
  {
   "cell_type": "code",
   "execution_count": 34,
   "id": "e3df9972-f03a-46e2-8887-19ca38548bbe",
   "metadata": {},
   "outputs": [
    {
     "data": {
      "text/plain": [
       "590"
      ]
     },
     "execution_count": 34,
     "metadata": {},
     "output_type": "execute_result"
    }
   ],
   "source": [
    "(data.rooms < data.bedrooms).sum() "
   ]
  },
  {
   "cell_type": "markdown",
   "id": "da8120ab-fe03-434e-9d86-4762bfabc9f4",
   "metadata": {},
   "source": [
    "* outliers en `rooms`"
   ]
  },
  {
   "cell_type": "code",
   "execution_count": 37,
   "id": "09ab9937-7343-4de8-83fe-6cf958de7d5d",
   "metadata": {},
   "outputs": [
    {
     "data": {
      "text/plain": [
       "count    155680.000000\n",
       "mean          2.706719\n",
       "std           1.520259\n",
       "min           1.000000\n",
       "25%           2.000000\n",
       "50%           3.000000\n",
       "75%           4.000000\n",
       "max          40.000000\n",
       "Name: rooms, dtype: float64"
      ]
     },
     "execution_count": 37,
     "metadata": {},
     "output_type": "execute_result"
    }
   ],
   "source": [
    "data.rooms.describe()"
   ]
  },
  {
   "cell_type": "markdown",
   "id": "31331cd7-4aaa-42e6-b5ac-bbfea45d427a",
   "metadata": {},
   "source": [
    "* outliers en `bedrooms`"
   ]
  },
  {
   "cell_type": "code",
   "execution_count": null,
   "id": "d43e997b-5d23-4d01-ae8a-feef592d2905",
   "metadata": {},
   "outputs": [
    {
     "data": {
      "text/plain": [
       "count    133834.000000\n",
       "mean          1.983696\n",
       "std           2.327565\n",
       "min          -2.000000\n",
       "25%           1.000000\n",
       "50%           2.000000\n",
       "75%           3.000000\n",
       "max         286.000000\n",
       "Name: bedrooms, dtype: float64"
      ]
     },
     "execution_count": 38,
     "metadata": {},
     "output_type": "execute_result"
    }
   ],
   "source": [
    "data.bedrooms.describe()"
   ]
  },
  {
   "cell_type": "markdown",
   "id": "c7597017-6129-44c5-be9a-cdc722ea2410",
   "metadata": {},
   "source": [
    "#### Procesamiento realizado"
   ]
  },
  {
   "cell_type": "markdown",
   "id": "d758b72d-6c6c-456a-91f4-d396554fd7e4",
   "metadata": {},
   "source": [
    "1) Borrar filas donde los pares de columnas `['rooms','bedrooms']` o `['surface_total','surface_covered']` contengan nulos. \n",
    "2) Intercambiar los valores de las columnas cuando `rooms < bedrooms` o `surface_total < surface_covered`. \n",
    "3) Eliminar filas donde `price` sea nulo. \n",
    "4) Si para una fila uno de los valores de `['surface_total', 'surface_covered']` contiene valor outlier y el otro no es outlier, se le imputó un `NaN` al dato outlier y se dejó dicho valor para ser imputado luego por método MICE. En caso que los dos valores fueran outliers o uno outlier y el otro `NaN` se borró la fila. \n",
    "5) Si para una fila uno de los valores de `['rooms', bedrooms']` contiene valor outlier y el otro no es outlier, se le imputó un `NaN` al dato outlier y se dejó dicho valor para ser imputado luego por método MICE. En caso que los dos valores fueran outliers o uno outlier y el otro `NaN` se borró la fila. \n",
    "6) Se borraron los valores outliers de `price`\n",
    "7) Luego de estos pasos se procedió a imputar los valores nulos con el método multivariado MICE en las columnas `['rooms', bedrooms','surface_total','surface_covered']` utilizando también la variable `price` como predictor. "
   ]
  },
  {
   "cell_type": "markdown",
   "id": "fa6e8228-8baf-409b-ad00-5be8c0e36646",
   "metadata": {},
   "source": [
    "## Modificación de los tipos de datos"
   ]
  },
  {
   "cell_type": "markdown",
   "id": "c232c93c-8213-4ec0-ac47-7b914d07d97a",
   "metadata": {},
   "source": [
    "Acá hay que señalar si se realizaron cambios en los tipos de datos: ejemplo todas las variables que se pasan a categoricas para mejorar el uso de memoria que realiza pandas. "
   ]
  },
  {
   "cell_type": "markdown",
   "id": "9db819d4-31a2-4e65-87b6-fe6a667deff0",
   "metadata": {},
   "source": [
    "## Resultados Pre-procesamiento. \n",
    "\n",
    "Enumerar cantidad de filas y columnas iniciales, enumerar cantidad de filas y columnas resultantes. "
   ]
  }
 ],
 "metadata": {
  "kernelspec": {
   "display_name": "Python 3 (ipykernel)",
   "language": "python",
   "name": "python3"
  },
  "language_info": {
   "codemirror_mode": {
    "name": "ipython",
    "version": 3
   },
   "file_extension": ".py",
   "mimetype": "text/x-python",
   "name": "python",
   "nbconvert_exporter": "python",
   "pygments_lexer": "ipython3",
   "version": "3.8.10"
  }
 },
 "nbformat": 4,
 "nbformat_minor": 5
}
