{
 "cells": [
  {
   "cell_type": "markdown",
   "id": "028ac00b",
   "metadata": {},
   "source": [
    "# Pre-processing"
   ]
  },
  {
   "cell_type": "markdown",
   "id": "6ac2f694",
   "metadata": {},
   "source": [
    "## Importación de bibliotecas"
   ]
  },
  {
   "cell_type": "code",
<<<<<<< HEAD
   "execution_count": 5,
   "id": "2cae3255",
=======
   "execution_count": null,
>>>>>>> a18b818babacc4146dc753f0d106d3552ca1d4a6
   "metadata": {},
   "outputs": [],
   "source": [
    "import numpy as np\n",
    "import pandas as pd\n",
    "import seaborn as sns\n",
    "import matplotlib.pyplot as plt\n",
    "import io\n",
    "import requests\n",
    "import random\n",
    "import dataframe_image as dfi"
   ]
  },
  {
   "cell_type": "markdown",
   "id": "6b06cc2c",
   "metadata": {},
   "source": [
    "## Importación de dataset"
   ]
  },
  {
   "cell_type": "code",
<<<<<<< HEAD
   "execution_count": 2,
   "id": "77d8744f",
=======
   "execution_count": null,
>>>>>>> a18b818babacc4146dc753f0d106d3552ca1d4a6
   "metadata": {},
   "outputs": [],
   "source": [
    "nocols = ['Unnamed: 0', 'Unnamed: 0.1']\n",
    "\n",
    "raw_df = pd.read_csv(\"./data/cabaventa.csv\").drop(columns = nocols)\n",
    "raw_df.shape"
   ]
  },
  {
   "cell_type": "markdown",
   "id": "362041cd",
   "metadata": {},
   "source": [
    "## Características del dataset"
   ]
  },
  {
   "cell_type": "markdown",
   "id": "624cb8fc",
   "metadata": {},
   "source": [
    "Se definen funciones accesorias para el recupero de las características del dataset"
   ]
  },
  {
   "cell_type": "code",
<<<<<<< HEAD
   "execution_count": 7,
   "id": "a1696e22",
=======
   "execution_count": null,
>>>>>>> a18b818babacc4146dc753f0d106d3552ca1d4a6
   "metadata": {},
   "outputs": [],
   "source": [
    "def rangos(col): \n",
    "    return \"[\"+\"{:.2f}\".format(col.min())+\",\"+\"{:.2f}\".format(col.max())+\"]\"\n",
    "\n",
    "def ejemplo(col):\n",
    "    uniques = col.dropna().unique()\n",
    "    if len(uniques) == 0: \n",
    "        return \"\"\n",
    "    if len(uniques)<4: \n",
    "        return \",\".join([str(x) for x in uniques])\n",
    "    else:\n",
    "        vcounts = col.value_counts().index\n",
    "        return \", \".join([str(x) for x in vcounts[:3]])+\"...\"\n",
    "    \n",
    "\n",
    "def get_dataframe_info(df):\n",
    "    \n",
    "    dtypes = df.dtypes    \n",
    "    nulls = (df.isna().sum()/len(df)).apply(lambda x: \"{:.2%}\".format(x))\n",
    "    nuniques = df.nunique()\n",
    "    ejemplos = df.apply(lambda col: ejemplo(col), axis=0)\n",
    "    \n",
    "    info_df = pd.concat([dtypes, nulls, nuniques, ejemplos], axis=1)\n",
    "    info_df.columns = ['TipoDato',\"PorcentajeNulos\",\"ValoresUnicos\",\"Ejemplos\"]\n",
    "    return info_df\n",
    "\n",
    "tabla = get_dataframe_info(raw_df)\n",
    "#tabla.to_latex()\n",
    "dfi.export(tabla, \"img/tabla1.png\")"
   ]
  },
  {
   "cell_type": "markdown",
   "id": "47647604",
   "metadata": {},
   "source": [
    "## Limpieza Texto y Columnas"
   ]
  },
  {
   "cell_type": "markdown",
   "id": "418ba5a4",
   "metadata": {},
   "source": [
    "### Limpieza inicial"
   ]
  },
  {
   "cell_type": "markdown",
   "id": "22b554ce",
   "metadata": {},
   "source": [
    "Se eliminan los registros con currency = ARS y se dropea esa columna por carecer de valor predictivo"
   ]
  },
  {
   "cell_type": "code",
<<<<<<< HEAD
   "execution_count": 4,
   "id": "aab04ecf",
=======
   "execution_count": null,
>>>>>>> a18b818babacc4146dc753f0d106d3552ca1d4a6
   "metadata": {},
   "outputs": [],
   "source": [
    "raw_df = raw_df[raw_df['currency']== \"USD\"]\n",
    "raw_df.drop('currency', axis=1, inplace=True) "
   ]
  },
  {
   "cell_type": "markdown",
   "id": "c8a4b8e5",
   "metadata": {},
   "source": [
    "El dataset posee 8 registros de tipo de propiedad \"Casa de campo\". Se considera que con un número tan bajo de registros no será posible realizar predicciones de calidad para ese tipo de propiedad, por lo que se eliminan los registros del dataset."
   ]
  },
  {
   "cell_type": "code",
<<<<<<< HEAD
   "execution_count": 5,
   "id": "cca57ca8",
=======
   "execution_count": null,
>>>>>>> a18b818babacc4146dc753f0d106d3552ca1d4a6
   "metadata": {},
   "outputs": [],
   "source": [
    "raw_df = raw_df[raw_df['property_type']!= \"Casa de campo\"]"
   ]
  },
  {
   "cell_type": "markdown",
   "id": "f31090a4",
   "metadata": {},
   "source": [
    "### Normalización de campos"
   ]
  },
  {
   "cell_type": "markdown",
   "id": "7cf9de54",
   "metadata": {},
   "source": [
    "En esta parte se realiza una limpieza básica con `regex` de algunas columnas a los fines de normalizar un poco el texto: lowering, punctuation, spaces, digits. La función armada permite customizar la limpieza, por ende es posible no aplicar la misma limpieza para todos los casos. La función genera columnas nuevas con el nombre`f\"{col}_cleaned\"`  "
   ]
  },
  {
   "cell_type": "markdown",
   "id": "555e4cc5",
   "metadata": {},
   "source": [
    "Dado que las columnas textuales `title` y `description` no fueron utilizadas en la predicción ni analizadas mediante técnicas de embeddings o BOW, no se trataron los NaN en esas columnas. "
   ]
  },
  {
   "cell_type": "code",
<<<<<<< HEAD
   "execution_count": 6,
   "id": "2eab307e",
=======
   "execution_count": null,
>>>>>>> a18b818babacc4146dc753f0d106d3552ca1d4a6
   "metadata": {},
   "outputs": [],
   "source": [
    "from cleaning import CleaningData\n",
    "#instanciamos Cleaning Data con df\n",
    "\n",
    "cleaned = CleaningData(data=raw_df)"
   ]
  },
  {
   "cell_type": "code",
<<<<<<< HEAD
   "execution_count": 7,
   "id": "cca664f0",
=======
   "execution_count": null,
>>>>>>> a18b818babacc4146dc753f0d106d3552ca1d4a6
   "metadata": {},
   "outputs": [],
   "source": [
    "#Quitamos columnas \n",
    "cols_to_drop = [#'Unnamed: 0.1', 'Unnamed: 0', #columnas que vinieron mal en la bajada\n",
    "                'operation_type', #todos son 'venta'\n",
    "                'l1', #todas las filas iguales \n",
    "                'l2', #todas las filas iguales \n",
    "                'ad_type', #todas las filas iguales \n",
    "                'l5', #columna con todas las filas nulas\n",
    "                'l6', #columna con todas las filas nulas\n",
    "                'created_on', #la columna created_on es igual a la columna start_date\n",
    "                'price_period' #la columna contiene muchos NaN y un único valor\n",
    "               ]\n",
    "data = cleaned.drop_columns(columns=cols_to_drop)\n",
    "data.shape"
   ]
  },
  {
   "cell_type": "code",
<<<<<<< HEAD
   "execution_count": 8,
   "id": "bdf859db",
=======
   "execution_count": null,
>>>>>>> a18b818babacc4146dc753f0d106d3552ca1d4a6
   "metadata": {},
   "outputs": [],
   "source": [
    "#Limpieza title\n",
    "params = {'lowering':True,'punctuation':True,'accents': True,'strip_spaces':True,'digits':False,'within_spaces':True}\n",
    "cleaned.text_col_cleaning(text_column=\"title\", params=params)\n",
    "data.shape"
   ]
  },
  {
   "cell_type": "code",
<<<<<<< HEAD
   "execution_count": 9,
   "id": "305c9bf5",
=======
   "execution_count": null,
>>>>>>> a18b818babacc4146dc753f0d106d3552ca1d4a6
   "metadata": {},
   "outputs": [],
   "source": [
    "#Limpieza description\n",
    "params = {'lowering':True,'punctuation':True,'accents': True,'strip_spaces':True,'digits':False,'within_spaces':True}\n",
    "cleaned.text_col_cleaning(text_column=\"description\", params=params)\n",
    "data.shape"
   ]
  },
  {
   "cell_type": "code",
<<<<<<< HEAD
   "execution_count": 10,
   "id": "80ab797a",
=======
   "execution_count": null,
>>>>>>> a18b818babacc4146dc753f0d106d3552ca1d4a6
   "metadata": {},
   "outputs": [],
   "source": [
    "#Limpieza texto de l3\n",
    "params = {'lowering':False,'punctuation':True,'accents': True,'strip_spaces':True,'digits':False,'within_spaces':True}\n",
    "cleaned.text_col_cleaning(text_column=\"l3\", params=params)\n",
    "data.shape"
   ]
  },
  {
   "cell_type": "markdown",
   "id": "8a44ba74",
   "metadata": {},
   "source": [
    "### Mejoras en la delimitación e imputación de barrios"
   ]
  },
  {
   "cell_type": "markdown",
   "id": "17ad13e1",
   "metadata": {},
   "source": [
    "#### Valores nulos"
   ]
  },
  {
   "cell_type": "code",
<<<<<<< HEAD
   "execution_count": 11,
   "id": "138191b5",
=======
   "execution_count": null,
>>>>>>> a18b818babacc4146dc753f0d106d3552ca1d4a6
   "metadata": {},
   "outputs": [],
   "source": [
    "(data[['lat','lon','l3_cleaned']].isna().sum()/len(data)).apply(lambda x: \"{:.2%}\".format(x))"
   ]
  },
  {
   "cell_type": "markdown",
   "id": "e23524e1",
   "metadata": {},
   "source": [
    "Se detectó una mayor presencia de valores nulos en los datos de georreferenciación que en el dato del barrio. Por ende se realizó un trabajo de imputación de nulos partiendo de considerar a la columna `l3_cleaned` con una mayor validez que la columnas `lat` y `lon`. Por ende, fue tomada como \"eje\" para realizar imputación de nulos. "
   ]
  },
  {
   "cell_type": "markdown",
   "id": "2b0ab5ae",
   "metadata": {},
   "source": [
    "#### Errores"
   ]
  },
  {
   "cell_type": "markdown",
   "id": "5f21bb70",
   "metadata": {},
   "source": [
    "* Barrios cuya denomiación no es la denominación oficial: Ejemplo Centro / Microcentro, Las Cañitas, Pompeya, Abasto, Once, etc. "
   ]
  },
  {
   "cell_type": "code",
<<<<<<< HEAD
   "execution_count": 12,
   "id": "31109254",
=======
   "execution_count": null,
>>>>>>> a18b818babacc4146dc753f0d106d3552ca1d4a6
   "metadata": {},
   "outputs": [],
   "source": [
    "data.l3_cleaned.dropna().unique()"
   ]
  },
  {
   "cell_type": "markdown",
   "id": "8efdbd16",
   "metadata": {},
   "source": [
    "* Columna `lat` con valores fuera del polígono de CABA"
   ]
  },
  {
   "cell_type": "code",
<<<<<<< HEAD
   "execution_count": 13,
   "id": "08d21c86",
=======
   "execution_count": null,
>>>>>>> a18b818babacc4146dc753f0d106d3552ca1d4a6
   "metadata": {},
   "outputs": [],
   "source": [
    "data.lat.describe()"
   ]
  },
  {
   "cell_type": "markdown",
   "id": "988a77b6",
   "metadata": {},
   "source": [
    "* Columna `lon` con valores fuera del polígono de CABA"
   ]
  },
  {
   "cell_type": "code",
<<<<<<< HEAD
   "execution_count": 14,
   "id": "2795257c",
=======
   "execution_count": null,
>>>>>>> a18b818babacc4146dc753f0d106d3552ca1d4a6
   "metadata": {},
   "outputs": [],
   "source": [
    "data.lon.describe()"
   ]
  },
  {
   "cell_type": "markdown",
   "id": "8b2a2ef9",
   "metadata": {},
   "source": [
    "#### Procesamiento realizado"
   ]
  },
  {
   "cell_type": "markdown",
   "id": "9ec0ab1e",
   "metadata": {},
   "source": [
    "Se establecieron los siguientes pasos: "
   ]
  },
  {
   "cell_type": "markdown",
   "id": "7a993e94",
   "metadata": {},
   "source": [
    "1. A los registros cuya localización no correspondía a CABA se les imputó NaN, para ello se utilizó geoJson del polígono de CABA"
   ]
  },
  {
   "cell_type": "code",
<<<<<<< HEAD
   "execution_count": 15,
   "id": "145128a4",
=======
   "execution_count": null,
>>>>>>> a18b818babacc4146dc753f0d106d3552ca1d4a6
   "metadata": {},
   "outputs": [],
   "source": [
    "import json\n",
    "path = \"./metadata/provincia.json\"\n",
    "with open(path, \"r\", encoding=\"utf-8\") as js: \n",
    "    js = json.load(js)\n",
    "\n",
    "\n",
    "poligono_caba = [tuple(x) for x in js['features'][0]['geometry']['coordinates'][0][0]]\n",
    "\n",
    "from geoBarrios import point_in_polygon\n",
    "\n",
    "def is_caba(coord): \n",
    "    return(point_in_polygon(coord, poligono_caba))\n",
    "\n",
    "data['is_caba'] = [is_caba((lon, lat)) for lon, lat in zip(data.lon, data.lat)]\n",
    "\n",
    "print(f\"Fueron {(data.is_caba==False).sum()} los casos en que la localización era externa a CABA\")\n",
    "\n",
    "data.loc[~data.is_caba, ['lon','lat']] = np.nan\n",
    "\n",
    "fig, axs = plt.subplots(ncols=2, figsize=(8,4))\n",
    "\n",
    "lon , lat = raw_df.lon , raw_df.lat #guardo la localización como vino del dataset\n",
    "axs[0].scatter(lon,lat)\n",
    "axs[0].set_title(\"Localización con Errores\")\n",
    "\n",
    "axs[1].scatter(data.lon,data.lat)\n",
    "plt.title(\"Localización sin Errores\")\n",
    "plt.tight_layout()\n",
    "plt.show()"
   ]
  },
  {
   "cell_type": "markdown",
   "id": "87e60450",
   "metadata": {},
   "source": [
    "2. 1: Normalización datos barrios: dado que eran pocos casos se realizó una imputación manual sobre la columna `l3_cleaned`. Ej: Las Canitas ---> Palermo. Pompeya --> Nueva Pompeya. Abasto --> Almagro. Se realizó a groso modo, en un trabajo posterior debería ser revisado ya que hay casos como Once, Parque Centenario, que son zonas pertenecientes a una mezcla de barrios. "
   ]
  },
  {
   "cell_type": "code",
<<<<<<< HEAD
   "execution_count": 16,
   "id": "7acfd3e3",
=======
   "execution_count": null,
>>>>>>> a18b818babacc4146dc753f0d106d3552ca1d4a6
   "metadata": {},
   "outputs": [],
   "source": [
    "normalizador = {\n",
    "    'Pompeya': 'Nueva Pompeya',\n",
    "    'Las Canitas': 'Palermo',\n",
    "    'Parque Centenario': 'Caballito', #Puede haber propiedades que en realidad pertenezcan a Almagro o Caballito\n",
    "    'Centro Microcentro':'San Nicolas',\n",
    "    'Tribunales':'San Nicolas',\n",
    "    'Once':'Balvanera',  #puede haber propiedades que en realidd pertenezcan a Almagro.\n",
    "    'Abasto':\"Balvanera\",  #puede haber propiedades que en realidad pertenezcan a Almagro. \n",
    "    \"Catalinas\":\"Retiro\", # la mayor parte de los casos caen ahí (algunos en Boca) \n",
    "    'Congreso':\"Balvanera\", #La mayor parte de los casos caen ahí (algunos en Belgrano)\n",
    "    \"Villa Riachuelo\":\"Villa Lugano\", #Al ser pocas propiedades se imputó el barrio más próximo.\n",
    "}\n",
    "\n",
    "data['l3_norm'] = data.l3_cleaned.apply(lambda x: normalizador[x] if x in normalizador else x)\n",
    "data['l4_nuevo'] = np.where(data.l4.isna()==False, data.l4, \n",
    "                            np.where(data.l3_cleaned != data.l3_norm, data.l3_cleaned, data.l3_norm)\n",
    "                           ) #bieeeen Lucassss\n",
    "\n",
    "\n",
    "gr1 = data.groupby(\"l3_norm\")['id'].count().sort_values(ascending=False)\n",
    "\n",
    "gr2 = data.groupby(\"l4_nuevo\")['id'].count().sort_values(ascending=False)\n",
    "\n",
    "fig, axs = plt.subplots(figsize = (12,10) , ncols=2)\n",
    "\n",
    "\n",
    "barrios = gr1.index\n",
    "cantidad1 = gr1.values\n",
    "\n",
    "sub_barrios = gr2.index\n",
    "cantidad2 = gr2.values\n",
    "\n",
    "axs[0].barh(barrios, cantidad1, align='center')\n",
    "axs[0].invert_yaxis()  # labels read top-to-bottom\n",
    "axs[0].set_xlabel('Cantidad')\n",
    "axs[0].set_title('Barrios')\n",
    "\n",
    "axs[1].barh(sub_barrios, cantidad2, align='center')\n",
    "axs[1].invert_yaxis()  # labels read top-to-bottom\n",
    "axs[1].set_xlabel('Cantidad')\n",
    "axs[1].set_title('Sub-barrios')\n",
    "\n",
    "plt.tight_layout()\n",
    "plt.show()"
   ]
  },
  {
   "cell_type": "markdown",
   "id": "877577eb",
   "metadata": {},
   "source": [
    "2. 2: Si la latitud, longitud fueron NaN se completó con el promedio de las coordenadas del barrio, si para dicho registro el dato del barrio fue nulo entonces se quitó toda la fila. "
   ]
  },
  {
   "cell_type": "code",
<<<<<<< HEAD
   "execution_count": 17,
   "id": "2741af6f",
=======
   "execution_count": null,
>>>>>>> a18b818babacc4146dc753f0d106d3552ca1d4a6
   "metadata": {},
   "outputs": [],
   "source": [
    "no_location = (data['lat'].isna()) & data['lon'].isna() & (data['l3_norm'].isna())\n",
    "print(f\"Fueron {no_location.sum()} los casos en que no habia locación\")\n",
    "data = data[~no_location].reset_index(drop=True)"
   ]
  },
  {
   "cell_type": "markdown",
   "id": "3b55d34d",
   "metadata": {},
   "source": [
    "Para aquellas propiedades que sí tienen el barrio, pero no las coordenadas geográficas,se imputó con el promedio barrial de las coordenadas geográficas presentes en el dataset. "
   ]
  },
  {
   "cell_type": "code",
<<<<<<< HEAD
   "execution_count": 18,
   "id": "44ad268d",
=======
   "execution_count": null,
>>>>>>> a18b818babacc4146dc753f0d106d3552ca1d4a6
   "metadata": {},
   "outputs": [],
   "source": [
    "lat_lon_barrios = data.groupby('l4_nuevo')[['lat', 'lon']].mean().reset_index()\n",
    "lat_lon_barrios.columns = ['l4_nuevo','lat_barrio', 'lon_barrio']\n",
    "\n",
    "data = pd.merge(data, lat_lon_barrios, how=\"left\", left_on='l4_nuevo', right_on = 'l4_nuevo')\n",
    "\n",
    "data['lat'] = np.where(data['lat'].isna(), data['lat_barrio'], data['lat'])\n",
    "data['lon'] = np.where(data['lon'].isna(), data['lon_barrio'], data['lon'])"
   ]
  },
  {
   "cell_type": "markdown",
   "id": "1e6af51e",
   "metadata": {},
   "source": [
    "3. Luego de este procesamiento si el barrio fue nulo entonces se imputó el barrio correspondiente a la coordenada."
   ]
  },
  {
   "cell_type": "code",
<<<<<<< HEAD
   "execution_count": 19,
   "id": "9af2075b",
=======
   "execution_count": null,
>>>>>>> a18b818babacc4146dc753f0d106d3552ca1d4a6
   "metadata": {},
   "outputs": [],
   "source": [
    "from geoBarrios import geoBarrios, coord_to_nbhd\n",
    "barrios_dict = geoBarrios()\n",
    "print(f\"Un total de {data.l4_nuevo.isna().sum()} casos poseían barrio nulo y se les imputo el barrio correspondiente a la coordenada\") \n",
    "data.loc[data.l4_nuevo.isna(), \"l4_nuevo\"] = data[data.l4_nuevo.isna()].apply(lambda row: coord_to_nbhd(coord=(row.lon,row.lat),polygons_dict=barrios_dict), axis=1).values\n",
    "data.loc[data.l3_norm.isna(), \"l3_norm\"] = data[data.l3_norm.isna()].apply(lambda row: coord_to_nbhd(coord=(row.lon,row.lat),polygons_dict=barrios_dict), axis=1).values"
   ]
  },
  {
   "cell_type": "code",
<<<<<<< HEAD
   "execution_count": 20,
   "id": "7362c681",
=======
   "execution_count": null,
>>>>>>> a18b818babacc4146dc753f0d106d3552ca1d4a6
   "metadata": {},
   "outputs": [],
   "source": [
    "data.drop(columns = [\"l3\",\"l3_cleaned\",\"l4\",\"is_caba\",\"lat_barrio\",\"lon_barrio\"], inplace=True)"
   ]
  },
  {
   "cell_type": "code",
<<<<<<< HEAD
   "execution_count": 21,
   "id": "3ca9eed2",
=======
   "execution_count": null,
>>>>>>> a18b818babacc4146dc753f0d106d3552ca1d4a6
   "metadata": {},
   "outputs": [],
   "source": [
    "data.isna().sum()"
   ]
  },
  {
   "cell_type": "markdown",
   "id": "d0d1e1e9",
   "metadata": {},
   "source": [
    "**Pendiente para un próximo abordaje**\n",
    "\n",
    "* Para los casos en que la localización era externa a CABA y el barrio no nulo, se imputó un punto centroide del barrio. Eso pudo conducir a errores dado que implícitamente se \"confía\" en que el dato del barrio fue correcto. Una alternativa sería probar adicionalmente si de la columna `description_cleaned` fuera posible confirmar que no se tratase de casos que efectivamente pertenecieran a localizaciones externas a CABA. \n",
    "* Si el barrio y la localización no son nulos pero sí incongruentes (localización pertence a otro barrio) se procedío a imputar el punto centroide del barrio. . "
   ]
  },
  {
   "cell_type": "code",
<<<<<<< HEAD
   "execution_count": 22,
   "id": "45ebf1e5",
=======
   "execution_count": null,
>>>>>>> a18b818babacc4146dc753f0d106d3552ca1d4a6
   "metadata": {},
   "outputs": [],
   "source": [
    "data.shape"
   ]
  },
  {
   "cell_type": "markdown",
   "id": "e65ad72f",
   "metadata": {},
   "source": [
    "## Trabajo sobre las variables: superficie total, superficie cubierta, ambientes, dormitorios y precio"
   ]
  },
  {
   "cell_type": "markdown",
   "id": "36664675",
   "metadata": {},
   "source": [
    "#### Exploración de valores nulos"
   ]
  },
  {
   "cell_type": "code",
<<<<<<< HEAD
   "execution_count": 23,
   "id": "fd53a1af",
=======
   "execution_count": null,
>>>>>>> a18b818babacc4146dc753f0d106d3552ca1d4a6
   "metadata": {},
   "outputs": [],
   "source": [
    "cols = [\"surface_total\",\"surface_covered\",\"rooms\",\"bedrooms\", \"price\"]\n",
    "(data[cols].isna().sum()/len(data)).apply(lambda x: \"{:.2%}\".format(x))"
   ]
  },
  {
   "cell_type": "markdown",
   "id": "b8d2dcda",
   "metadata": {},
   "source": [
    "Es interesante evaluar los valores nulos las columnas `rooms` y `bedrooms`, según el tipo de propiedad. "
   ]
  },
  {
   "cell_type": "code",
<<<<<<< HEAD
   "execution_count": 24,
   "id": "dd5ef076",
=======
   "execution_count": null,
>>>>>>> a18b818babacc4146dc753f0d106d3552ca1d4a6
   "metadata": {},
   "outputs": [],
   "source": [
    "100*(data[['rooms','bedrooms']].isnull()==False).groupby(data['property_type']).sum().div(data.groupby(\"property_type\")['rooms','bedrooms'].apply(lambda gr: len(gr)), axis=0) "
   ]
  },
  {
   "cell_type": "markdown",
   "id": "d14fbbf7",
   "metadata": {},
   "source": [
    "* Las columnas `rooms` y `bedrooms` poseen muchos nulos siempre que los avisos se traten de cocheras, depósitos, locales comerciales, lotes, oficinas, otros. Para las propiedades utilizadas como vivienda en cambio la presencia de nulos es mucho menor. Por ende en los casos en que las propiedades no sean para vivienda los nulos se completan con valor 0. \n",
    "* Luego de esto dada la alta correlación entre `surface_total` y `surface_covered` y entre `rooms` y `bedrooms`, para los casos en que el par tuviera datos nulos se procedió a eliminar la fila ante la dificultad para imputar nulos en esos casos. \n",
    "* Para la variable `price` se eliminaron las filas que tenían nulos ya que por ser la variable sobre la cual se constuirá la variable respuesta se decidió no realizar imputación de valores faltantes sobre la misma. "
   ]
  },
  {
   "cell_type": "markdown",
   "id": "0fde6043",
   "metadata": {},
   "source": [
    "#### Exploración de variables"
   ]
  },
  {
   "cell_type": "markdown",
   "id": "3695f583",
   "metadata": {},
   "source": [
    "* `surface_total < surface_covered`"
   ]
  },
  {
   "cell_type": "code",
<<<<<<< HEAD
   "execution_count": 25,
   "id": "6c18ffed",
=======
   "execution_count": null,
>>>>>>> a18b818babacc4146dc753f0d106d3552ca1d4a6
   "metadata": {},
   "outputs": [],
   "source": [
    "data.surface_total.describe()"
   ]
  },
  {
   "cell_type": "code",
<<<<<<< HEAD
   "execution_count": 26,
   "id": "29820228",
=======
   "execution_count": null,
>>>>>>> a18b818babacc4146dc753f0d106d3552ca1d4a6
   "metadata": {},
   "outputs": [],
   "source": [
    "(data.surface_total < data.surface_covered).sum() "
   ]
  },
  {
   "cell_type": "markdown",
   "id": "b27cd927",
   "metadata": {},
   "source": [
    "* outliers en `surface_covered`"
   ]
  },
  {
   "cell_type": "code",
<<<<<<< HEAD
   "execution_count": 27,
   "id": "dbe58537",
=======
   "execution_count": null,
>>>>>>> a18b818babacc4146dc753f0d106d3552ca1d4a6
   "metadata": {},
   "outputs": [],
   "source": [
    "data.surface_covered.describe()"
   ]
  },
  {
   "cell_type": "markdown",
   "id": "3c6baa08",
   "metadata": {},
   "source": [
    "* `rooms < bedrooms`"
   ]
  },
  {
   "cell_type": "code",
<<<<<<< HEAD
   "execution_count": 28,
   "id": "2551294e",
=======
   "execution_count": null,
>>>>>>> a18b818babacc4146dc753f0d106d3552ca1d4a6
   "metadata": {},
   "outputs": [],
   "source": [
    "(data.rooms < data.bedrooms).sum() "
   ]
  },
  {
   "cell_type": "markdown",
   "id": "2020741f",
   "metadata": {},
   "source": [
    "* outliers en `rooms`"
   ]
  },
  {
   "cell_type": "code",
<<<<<<< HEAD
   "execution_count": 29,
   "id": "091996bd",
=======
   "execution_count": null,
>>>>>>> a18b818babacc4146dc753f0d106d3552ca1d4a6
   "metadata": {},
   "outputs": [],
   "source": [
    "data.rooms.describe()"
   ]
  },
  {
   "cell_type": "markdown",
   "id": "7ba35ff2",
   "metadata": {},
   "source": [
    "* outliers en `bedrooms`"
   ]
  },
  {
   "cell_type": "code",
<<<<<<< HEAD
   "execution_count": 30,
   "id": "ab3cd8ee",
=======
   "execution_count": null,
>>>>>>> a18b818babacc4146dc753f0d106d3552ca1d4a6
   "metadata": {},
   "outputs": [],
   "source": [
    "data.bedrooms.describe()"
   ]
  },
  {
   "cell_type": "code",
<<<<<<< HEAD
   "execution_count": 31,
   "id": "ff7ede4b",
=======
   "execution_count": null,
>>>>>>> a18b818babacc4146dc753f0d106d3552ca1d4a6
   "metadata": {},
   "outputs": [],
   "source": [
    "data.isnull().sum()"
   ]
  },
  {
   "cell_type": "code",
<<<<<<< HEAD
   "execution_count": 32,
   "id": "b9ee5304",
=======
   "execution_count": null,
>>>>>>> a18b818babacc4146dc753f0d106d3552ca1d4a6
   "metadata": {},
   "outputs": [],
   "source": [
    "data.shape"
   ]
  },
  {
   "cell_type": "markdown",
   "id": "74474e51",
   "metadata": {},
   "source": [
    "#### Procesamiento realizado"
   ]
  },
  {
   "cell_type": "markdown",
   "id": "961c8745",
   "metadata": {},
   "source": [
    "0) Imputar 0 en las columnas `['rooms','bedrooms']` cuando se trate de cocheras, depósitos, locales comerciales, lotes, oficinas, otros. \n",
    "1) Borrar filas donde los pares de columnas `['rooms','bedrooms']` o `['surface_total','surface_covered']` contengan nulos. \n",
    "2) Intercambiar los valores de las columnas cuando `rooms < bedrooms` o `surface_total < surface_covered`. \n",
    "3) Eliminar filas donde `price` sea nulo. \n",
    "4) Si para una fila uno de los valores de `['surface_total', 'surface_covered']` contiene valor outlier y el otro no es outlier, se le imputó un `NaN` al dato outlier y se dejó dicho valor para ser imputado luego por método MICE. En caso que los dos valores fueran outliers o uno outlier y el otro `NaN` se borró la fila. \n",
    "5) Si para una fila uno de los valores de `['rooms', bedrooms']` contiene valor outlier y el otro no es outlier, se le imputó un `NaN` al dato outlier y se dejó dicho valor para ser imputado luego por método MICE. En caso que los dos valores fueran outliers o uno outlier y el otro `NaN` se borró la fila. \n",
    "6) Se borraron los valores outliers de `price`\n",
    "7) Luego de estos pasos se procedió a imputar los valores nulos con el método multivariado MICE en las columnas `['rooms', bedrooms','surface_total','surface_covered']` utilizando también la variable `price` como predictor. "
   ]
  },
  {
   "cell_type": "markdown",
   "id": "f096a593",
   "metadata": {},
   "source": [
    "Reemplazar rooms y bedrooms 0 para property_type 'Local comercial', 'Depósito', 'Cochera', 'Lote', 'Oficina', 'Otro'"
   ]
  },
  {
   "cell_type": "code",
<<<<<<< HEAD
   "execution_count": 33,
   "id": "bfbf9a47",
=======
   "execution_count": null,
>>>>>>> a18b818babacc4146dc753f0d106d3552ca1d4a6
   "metadata": {},
   "outputs": [],
   "source": [
    "data.loc[data.property_type.isin([\"Cochera\",\"Depósito\",\"Local comercial\",\"Lote\",\"Oficina\",\"Otro\"]),[\"rooms\",\"bedrooms\"]] = data.loc[data.property_type.isin([\"Cochera\",\"Depósito\",\"Local comercial\",\"Lote\",\"Oficina\",\"Otro\"]),[\"rooms\",\"bedrooms\"]].fillna(0)"
   ]
  },
  {
   "cell_type": "code",
<<<<<<< HEAD
   "execution_count": 34,
   "id": "2884ad56",
=======
   "execution_count": null,
>>>>>>> a18b818babacc4146dc753f0d106d3552ca1d4a6
   "metadata": {},
   "outputs": [],
   "source": [
    "data.shape"
   ]
  },
  {
   "cell_type": "code",
<<<<<<< HEAD
   "execution_count": 35,
   "id": "ef5ab751",
=======
   "execution_count": null,
>>>>>>> a18b818babacc4146dc753f0d106d3552ca1d4a6
   "metadata": {},
   "outputs": [],
   "source": [
    "nas_rb = data[data[['rooms', 'bedrooms']].isna().any(axis=1)][['rooms', 'bedrooms', 'l3_norm']].groupby('l3_norm').count()"
   ]
  },
  {
   "cell_type": "code",
<<<<<<< HEAD
   "execution_count": 36,
   "id": "a0194e8d",
=======
   "execution_count": null,
>>>>>>> a18b818babacc4146dc753f0d106d3552ca1d4a6
   "metadata": {},
   "outputs": [],
   "source": [
    "import missingno as msno\n",
    "\n",
    "msno.matrix(data)"
   ]
  },
  {
   "cell_type": "code",
<<<<<<< HEAD
   "execution_count": 37,
   "id": "ce596282",
=======
   "execution_count": null,
>>>>>>> a18b818babacc4146dc753f0d106d3552ca1d4a6
   "metadata": {},
   "outputs": [],
   "source": [
    "#punto 1\n",
    "data.dropna(subset = ['rooms', 'bedrooms'], how = 'all', inplace = True)\n",
    "data.shape\n"
   ]
  },
  {
   "cell_type": "code",
<<<<<<< HEAD
   "execution_count": 38,
   "id": "ceb7c205",
=======
   "execution_count": null,
>>>>>>> a18b818babacc4146dc753f0d106d3552ca1d4a6
   "metadata": {},
   "outputs": [],
   "source": [
    "data.dropna(subset = ['surface_total', 'surface_covered'], how = 'all', inplace=True)\n",
    "data.shape"
   ]
  },
  {
   "cell_type": "code",
<<<<<<< HEAD
   "execution_count": 39,
   "id": "441603a8",
=======
   "execution_count": null,
>>>>>>> a18b818babacc4146dc753f0d106d3552ca1d4a6
   "metadata": {},
   "outputs": [],
   "source": [
    "data.dropna(subset =['price'], inplace=True)\n",
    "data.shape"
   ]
  },
  {
   "cell_type": "code",
<<<<<<< HEAD
   "execution_count": 40,
   "id": "7ad27728",
=======
   "execution_count": null,
>>>>>>> a18b818babacc4146dc753f0d106d3552ca1d4a6
   "metadata": {},
   "outputs": [],
   "source": [
    "data.isnull().sum()"
   ]
  },
  {
   "cell_type": "code",
<<<<<<< HEAD
   "execution_count": 41,
   "id": "4e031d7c",
=======
   "execution_count": null,
>>>>>>> a18b818babacc4146dc753f0d106d3552ca1d4a6
   "metadata": {},
   "outputs": [],
   "source": [
    "data[['rooms','bedrooms']].isnull().groupby(data['property_type']).sum()"
   ]
  },
  {
   "cell_type": "markdown",
   "id": "b16267f6",
   "metadata": {},
   "source": [
    "* outlieres en `surface_total`"
   ]
  },
  {
   "cell_type": "code",
<<<<<<< HEAD
   "execution_count": 42,
   "id": "118b8e83",
=======
   "execution_count": null,
>>>>>>> a18b818babacc4146dc753f0d106d3552ca1d4a6
   "metadata": {},
   "outputs": [],
   "source": [
    "#punto 2\n",
    "idx = data[data.surface_total<data.surface_covered].index\n",
    "data.loc[idx,['surface_total','surface_covered']] = data.loc[idx,['surface_covered','surface_total']].values\n",
    "\n",
    "idx = data[data.rooms<data.bedrooms].index\n",
    "data.loc[idx,['rooms','bedrooms']] = data.loc[idx,['bedrooms','rooms']].values"
   ]
  },
  {
   "cell_type": "markdown",
   "id": "c13c91c0",
   "metadata": {},
   "source": [
    "4) Si para una fila uno de los valores de ['surface_total', 'surface_covered'] contiene valor outlier y el otro no es outlier, se le imputó un NaN al dato outlier y se dejó dicho valor para ser imputado luego por método MICE."
   ]
  },
  {
   "cell_type": "code",
<<<<<<< HEAD
   "execution_count": 43,
   "id": "d530f78c",
=======
   "execution_count": null,
>>>>>>> a18b818babacc4146dc753f0d106d3552ca1d4a6
   "metadata": {},
   "outputs": [],
   "source": [
    "#Generamos quantiles .01 y .99 para surface_total\n",
    "data_st = data[['l3_norm', 'property_type', 'surface_total', 'rooms']]\n",
    "data_st_q99 = data_st.groupby(['l3_norm', 'property_type', 'rooms']).quantile(.99)\n",
    "data_st_q99.rename(columns = {'surface_total':'p99_surface_total'}, inplace = True)\n",
    "\n",
    "data_sc = data[['l3_norm', 'property_type', 'surface_covered', 'rooms']]\n",
    "data_sc_q99 = data_sc.groupby(['l3_norm', 'property_type', 'rooms']).quantile(.99)\n",
    "data_sc_q99.rename(columns = {'surface_covered':'p99_surface_covered'}, inplace = True)"
   ]
  },
  {
   "cell_type": "code",
<<<<<<< HEAD
   "execution_count": 44,
   "id": "b2cac35b",
=======
   "execution_count": null,
>>>>>>> a18b818babacc4146dc753f0d106d3552ca1d4a6
   "metadata": {},
   "outputs": [],
   "source": [
    "data = data.merge(data_st_q99, how = \"left\", on = (['l3_norm', 'property_type', 'rooms']))\n",
    "data = data.merge(data_sc_q99, how = \"left\", on = (['l3_norm', 'property_type', 'rooms']))"
   ]
  },
  {
   "cell_type": "code",
<<<<<<< HEAD
   "execution_count": 45,
   "id": "270e48d8",
=======
   "execution_count": null,
>>>>>>> a18b818babacc4146dc753f0d106d3552ca1d4a6
   "metadata": {},
   "outputs": [],
   "source": [
    "##Generamos quantiles .01 y .99 para surface_covered\n",
    "data_st_q01 = data_st.groupby(['l3_norm', 'property_type', 'rooms']).quantile(.01)\n",
    "data_st_q01.rename(columns = {'surface_total':'p01_surface_total'}, inplace = True)\n",
    "\n",
    "data_sc_q01 = data_sc.groupby(['l3_norm', 'property_type', 'rooms']).quantile(.01)\n",
    "data_sc_q01.rename(columns = {'surface_covered':'p01_surface_covered'}, inplace = True)"
   ]
  },
  {
   "cell_type": "code",
<<<<<<< HEAD
   "execution_count": 46,
   "id": "cc6cc49b",
=======
   "execution_count": null,
>>>>>>> a18b818babacc4146dc753f0d106d3552ca1d4a6
   "metadata": {},
   "outputs": [],
   "source": [
    "data = data.merge(data_st_q01, how = \"left\", on = (['l3_norm', 'property_type', 'rooms']))\n",
    "data = data.merge(data_sc_q01, how = \"left\", on = (['l3_norm', 'property_type', 'rooms']))"
   ]
  },
  {
   "cell_type": "code",
<<<<<<< HEAD
   "execution_count": 47,
   "id": "0ffa722d",
=======
   "execution_count": null,
>>>>>>> a18b818babacc4146dc753f0d106d3552ca1d4a6
   "metadata": {},
   "outputs": [],
   "source": [
    "# Registros con un outlier en surface_total\n",
    "data[(data['surface_total'] > data['p99_surface_total']) | (data['surface_total'] < data['p01_surface_total'])]"
   ]
  },
  {
   "cell_type": "code",
<<<<<<< HEAD
   "execution_count": 48,
   "id": "fa578ba2",
=======
   "execution_count": null,
>>>>>>> a18b818babacc4146dc753f0d106d3552ca1d4a6
   "metadata": {},
   "outputs": [],
   "source": [
    "# Registros con un outlier en surface_covered\n",
    "data[(data['surface_covered'] > data['p99_surface_covered']) | (data['surface_covered'] < data['p01_surface_covered'])]"
   ]
  },
  {
   "cell_type": "code",
<<<<<<< HEAD
   "execution_count": 49,
   "id": "2aac4757",
=======
   "execution_count": null,
>>>>>>> a18b818babacc4146dc753f0d106d3552ca1d4a6
   "metadata": {},
   "outputs": [],
   "source": [
    "#Elimino registros con 2 precios outliers\n",
    "data = data[(data['surface_total'] < data['p99_surface_total']) & (data['surface_total'] > data['p01_surface_total']) & (data['surface_covered'] < data['p99_surface_covered']) & (data['surface_covered'] > data['p01_surface_covered'])]"
   ]
  },
  {
   "cell_type": "code",
<<<<<<< HEAD
   "execution_count": 50,
   "id": "288d3679",
=======
   "execution_count": null,
>>>>>>> a18b818babacc4146dc753f0d106d3552ca1d4a6
   "metadata": {},
   "outputs": [],
   "source": [
    "# Registros con un outlier en surface_covered\n",
    "data[(data['surface_covered'] > data['p99_surface_covered']) | (data['surface_covered'] < data['p01_surface_covered'])]"
   ]
  },
  {
   "cell_type": "code",
<<<<<<< HEAD
   "execution_count": 51,
   "id": "4f04ae00",
=======
   "execution_count": null,
>>>>>>> a18b818babacc4146dc753f0d106d3552ca1d4a6
   "metadata": {},
   "outputs": [],
   "source": [
    "# Registros con un outlier en surface_total\n",
    "data[(data['surface_total'] > data['p99_surface_total']) | (data['surface_total'] < data['p01_surface_total'])]"
   ]
  },
  {
   "cell_type": "code",
<<<<<<< HEAD
   "execution_count": 52,
   "id": "5d18f02f",
=======
   "execution_count": null,
>>>>>>> a18b818babacc4146dc753f0d106d3552ca1d4a6
   "metadata": {},
   "outputs": [],
   "source": [
    "#Paso a NA el registro outlier de surface_total o surface_covered\n",
    "data['surface_total'] = np.where((data['surface_total'] > data['p99_surface_total']) | (data['surface_total'] < data['p01_surface_total']), np.nan, data['surface_total'])\n",
    "data['surface_covered'] = np.where((data['surface_covered'] > data['p99_surface_covered']) | (data['surface_covered'] < data['p01_surface_covered']), np.nan, data['surface_covered'])\n",
    "#Dropeo columnas accesorias\n",
    "data = data.drop(['p99_surface_total', 'p01_surface_total', 'p99_surface_covered', 'p01_surface_covered'], axis = 1)"
   ]
  },
  {
   "cell_type": "code",
<<<<<<< HEAD
   "execution_count": 53,
   "id": "37d60470",
=======
   "execution_count": null,
>>>>>>> a18b818babacc4146dc753f0d106d3552ca1d4a6
   "metadata": {},
   "outputs": [],
   "source": [
    "data.isnull().sum()"
   ]
  },
  {
   "cell_type": "code",
<<<<<<< HEAD
   "execution_count": 54,
   "id": "44958739",
=======
   "execution_count": null,
>>>>>>> a18b818babacc4146dc753f0d106d3552ca1d4a6
   "metadata": {},
   "outputs": [],
   "source": [
    "data.shape"
   ]
  },
  {
   "cell_type": "markdown",
   "id": "0b98742b",
   "metadata": {},
   "source": [
    "En caso que los dos valores de 'surface_covered' y 'surface_total' fueran outliers o uno outlier y el otro NaN se borró la fila"
   ]
  },
  {
   "cell_type": "code",
<<<<<<< HEAD
   "execution_count": 55,
   "id": "66f82e06",
=======
   "execution_count": null,
>>>>>>> a18b818babacc4146dc753f0d106d3552ca1d4a6
   "metadata": {},
   "outputs": [],
   "source": [
    "data = data.dropna(subset=['surface_covered', 'surface_total'], how='all')"
   ]
  },
  {
   "cell_type": "code",
<<<<<<< HEAD
   "execution_count": 56,
   "id": "ceaf6a58",
=======
   "execution_count": null,
>>>>>>> a18b818babacc4146dc753f0d106d3552ca1d4a6
   "metadata": {},
   "outputs": [],
   "source": [
    "data.shape"
   ]
  },
  {
   "cell_type": "markdown",
   "id": "cd76d92f",
   "metadata": {},
   "source": [
    " 5) Si para una fila uno de los valores de ['rooms', bedrooms'] contiene valor outlier y el otro no es outlier, se le imputó un NaN al dato outlier y se dejó dicho valor para ser imputado luego por método MICE. En caso que los dos valores fueran outliers o uno outlier y el otro NaN se borró la fila."
   ]
  },
  {
   "cell_type": "code",
<<<<<<< HEAD
   "execution_count": 57,
   "id": "dd82260d",
=======
   "execution_count": null,
>>>>>>> a18b818babacc4146dc753f0d106d3552ca1d4a6
   "metadata": {},
   "outputs": [],
   "source": [
    "data.groupby(['property_type','rooms']).size()"
   ]
  },
  {
   "cell_type": "code",
<<<<<<< HEAD
   "execution_count": 58,
   "id": "cc6f0301",
=======
   "execution_count": null,
>>>>>>> a18b818babacc4146dc753f0d106d3552ca1d4a6
   "metadata": {},
   "outputs": [],
   "source": [
    "data.groupby(['property_type','bedrooms']).size()"
   ]
  },
  {
   "cell_type": "markdown",
   "id": "ecc357e9",
   "metadata": {},
   "source": [
    "Se imputan con 1 los registros con valor negativo de bedrooms"
   ]
  },
  {
   "cell_type": "code",
<<<<<<< HEAD
   "execution_count": 59,
   "id": "4b5dcad6",
=======
   "execution_count": null,
>>>>>>> a18b818babacc4146dc753f0d106d3552ca1d4a6
   "metadata": {},
   "outputs": [],
   "source": [
    "data['bedrooms'] = np.where(data['bedrooms']<0, 1, data['bedrooms'])"
   ]
  },
  {
   "cell_type": "code",
<<<<<<< HEAD
   "execution_count": 60,
   "id": "32b63e8d",
=======
   "execution_count": null,
>>>>>>> a18b818babacc4146dc753f0d106d3552ca1d4a6
   "metadata": {},
   "outputs": [],
   "source": [
    "data.groupby(['property_type','bedrooms']).size()"
   ]
  },
  {
   "cell_type": "markdown",
   "id": "52d3ef11",
   "metadata": {},
   "source": [
    " 6) Se borraron los valores outliers de price agrupados por barrio, tipo de propiedad y cuartos"
   ]
  },
  {
   "cell_type": "code",
<<<<<<< HEAD
   "execution_count": 61,
   "id": "10cd97ea",
=======
   "execution_count": null,
>>>>>>> a18b818babacc4146dc753f0d106d3552ca1d4a6
   "metadata": {},
   "outputs": [],
   "source": [
    "data.shape"
   ]
  },
  {
   "cell_type": "code",
<<<<<<< HEAD
   "execution_count": 62,
   "id": "ea55810f",
=======
   "execution_count": null,
>>>>>>> a18b818babacc4146dc753f0d106d3552ca1d4a6
   "metadata": {},
   "outputs": [],
   "source": [
    "data_pr = data[['l3_norm', 'property_type', 'price', 'rooms']]\n",
    "data_pr_q99 = data_pr.groupby(['l3_norm', 'property_type', 'rooms']).quantile(.99)\n",
    "data_pr_q99.rename(columns = {'price':'p99_price'}, inplace = True)\n",
    "data_pr_q01 = data_pr.groupby(['l3_norm', 'property_type', 'rooms']).quantile(.01)\n",
    "data_pr_q01.rename(columns = {'price':'p01_price'}, inplace = True)\n",
    "data = data.merge(data_pr_q99, how = \"left\", on = (['l3_norm', 'property_type', 'rooms']))\n",
    "data = data.merge(data_pr_q01, how = \"left\", on = (['l3_norm', 'property_type', 'rooms']))\n",
    "#Eliminamos precios outliers\n",
    "data = data[(data['price']< data['p99_price']) & (data['price'] > data['p01_price'])]"
   ]
  },
  {
   "cell_type": "markdown",
   "id": "87bf9b2a",
   "metadata": {},
   "source": [
    "7. Reimputación de bathrooms PENDIENTE"
   ]
  },
  {
   "cell_type": "code",
<<<<<<< HEAD
   "execution_count": 63,
   "id": "820e2314",
=======
   "execution_count": null,
>>>>>>> a18b818babacc4146dc753f0d106d3552ca1d4a6
   "metadata": {},
   "outputs": [],
   "source": [
    "data.shape"
   ]
  },
  {
   "cell_type": "code",
<<<<<<< HEAD
   "execution_count": 64,
   "id": "1a7fdf69",
=======
   "execution_count": null,
>>>>>>> a18b818babacc4146dc753f0d106d3552ca1d4a6
   "metadata": {},
   "outputs": [],
   "source": [
    "data.isnull().sum()"
   ]
  },
  {
   "cell_type": "code",
<<<<<<< HEAD
   "execution_count": 65,
   "id": "c61e0dee",
=======
   "execution_count": null,
>>>>>>> a18b818babacc4146dc753f0d106d3552ca1d4a6
   "metadata": {},
   "outputs": [],
   "source": [
    "# ACCION REQUERIDA: renombrá el dataset que vengas usando a df asi te sirven todos los otros codigos --> df_Actual_Name\n",
    "df = data #--> CAMBIAR\n",
    "\n",
    "# guardo y le borro el indice, porque sino se va a romper cuando haga el merge\n",
    "index_orig= df.index\n",
    "index_orig2= df.index.name\n"
   ]
  },
  {
   "cell_type": "code",
<<<<<<< HEAD
   "execution_count": 66,
   "id": "6c242d9c",
=======
   "execution_count": null,
>>>>>>> a18b818babacc4146dc753f0d106d3552ca1d4a6
   "metadata": {},
   "outputs": [],
   "source": [
    "index_orig"
   ]
  },
  {
   "cell_type": "code",
<<<<<<< HEAD
   "execution_count": 67,
   "id": "1b96a9b7",
=======
   "execution_count": null,
>>>>>>> a18b818babacc4146dc753f0d106d3552ca1d4a6
   "metadata": {},
   "outputs": [],
   "source": [
    "# Veo cuales son los valores medios de 'bathroom\" para cada cantidad de ambientes por cada tipo de propiedad --> y lo guardo en un nuevo df llamado 'bath_med'\n",
    "cols = ['rooms','bathrooms', 'property_type']\n",
    "medxprop = df[cols].groupby(['rooms','property_type']).median()#.rename({'bathrooms':'bathrooms_med'},axis=1).round(0)\n",
    "medxprop = medxprop.rename({'bathrooms':'bathrooms_med'},axis=1).round(0)\n",
    "bath_med = medxprop.reset_index()\n",
    "bath_med"
   ]
  },
  {
   "cell_type": "code",
<<<<<<< HEAD
   "execution_count": 68,
   "id": "53b914a3",
=======
   "execution_count": null,
>>>>>>> a18b818babacc4146dc753f0d106d3552ca1d4a6
   "metadata": {},
   "outputs": [],
   "source": [
    "# agrego una nueva columna al df con esa mediana calculada para luego imputar los nulls en bathrooms con ese dato\n",
    "df = df.merge(bath_med, 'left', on = ['rooms','property_type'])"
   ]
  },
  {
   "cell_type": "code",
<<<<<<< HEAD
   "execution_count": 69,
   "id": "1609ac94",
=======
   "execution_count": null,
>>>>>>> a18b818babacc4146dc753f0d106d3552ca1d4a6
   "metadata": {},
   "outputs": [],
   "source": [
    "# imputamos: le asignamos la mediana x tipo y cant. rooms\n",
    "mask = df['bathrooms'].isna()\n",
    "df.loc[mask, 'bathrooms'] = df.loc[mask,'bathrooms_med']"
   ]
  },
  {
   "cell_type": "code",
<<<<<<< HEAD
   "execution_count": 70,
   "id": "cf1cb0b3",
=======
   "execution_count": null,
>>>>>>> a18b818babacc4146dc753f0d106d3552ca1d4a6
   "metadata": {},
   "outputs": [],
   "source": [
    "# Verificamos que no hay nulls\n",
    "df['bathrooms'].isna().value_counts()"
   ]
  },
  {
   "cell_type": "code",
<<<<<<< HEAD
   "execution_count": 71,
   "id": "1c896886",
=======
   "execution_count": null,
>>>>>>> a18b818babacc4146dc753f0d106d3552ca1d4a6
   "metadata": {},
   "outputs": [],
   "source": [
    "# le volvemos a poner el indice y lo renombramos al nombre previo:\n",
    "df = df.set_index(index_orig)"
   ]
  },
  {
   "cell_type": "code",
<<<<<<< HEAD
   "execution_count": 72,
   "id": "12c08bdb",
=======
   "execution_count": null,
>>>>>>> a18b818babacc4146dc753f0d106d3552ca1d4a6
   "metadata": {},
   "outputs": [],
   "source": [
    "# ACCION REQUERIDA: volver al nombre original --> df_Actual_Name\n",
    "data = df #--> CAMBIAR df_Actual_Name"
   ]
  },
  {
   "cell_type": "markdown",
   "id": "1ba0931c",
   "metadata": {},
   "source": [
    "## Resultados de Pre-procesamiento"
   ]
  },
  {
   "cell_type": "markdown",
   "id": "2e30e8e2",
   "metadata": {},
   "source": [
    "### Columnas"
   ]
  },
  {
   "cell_type": "markdown",
   "id": "f8c0984a",
   "metadata": {},
   "source": [
    "Columnas iniciales: "
   ]
  },
  {
   "cell_type": "code",
<<<<<<< HEAD
   "execution_count": 74,
   "id": "7fefbd5b",
=======
   "execution_count": null,
>>>>>>> a18b818babacc4146dc753f0d106d3552ca1d4a6
   "metadata": {},
   "outputs": [],
   "source": [
    "raw_df.columns"
   ]
  },
  {
   "cell_type": "markdown",
   "id": "ccca92fd",
   "metadata": {},
   "source": [
    "Columnas a exportar por este script:"
   ]
  },
  {
   "cell_type": "code",
<<<<<<< HEAD
   "execution_count": 75,
   "id": "a8febf66",
=======
   "execution_count": null,
>>>>>>> a18b818babacc4146dc753f0d106d3552ca1d4a6
   "metadata": {},
   "outputs": [],
   "source": [
    "data.columns"
   ]
  },
  {
   "cell_type": "markdown",
   "id": "e98e8e5b",
   "metadata": {},
   "source": [
    "### Filas"
   ]
  },
  {
   "cell_type": "markdown",
   "id": "31ebb02b",
   "metadata": {},
   "source": [
    "#### Imputación de datos faltantes"
   ]
  },
  {
   "cell_type": "markdown",
   "id": "bd9b7933",
   "metadata": {},
   "source": [
    "El dataset presentaba una gran cantidad de datos faltantes "
   ]
  },
  {
   "cell_type": "code",
<<<<<<< HEAD
   "execution_count": 76,
   "id": "18780314",
=======
   "execution_count": null,
>>>>>>> a18b818babacc4146dc753f0d106d3552ca1d4a6
   "metadata": {},
   "outputs": [],
   "source": [
    "raw_df.isnull().sum()"
   ]
  },
  {
   "cell_type": "markdown",
   "id": "0fe2e1a2",
   "metadata": {},
   "source": [
    "Más importante aún, todos los registros del dataset poseían al menos un dato faltante, por lo que no existían registros aptos para utilizar en un algoritmo predictivo."
   ]
  },
  {
   "cell_type": "code",
<<<<<<< HEAD
   "execution_count": 77,
   "id": "a24a5a45",
=======
   "execution_count": null,
>>>>>>> a18b818babacc4146dc753f0d106d3552ca1d4a6
   "metadata": {},
   "outputs": [],
   "source": [
    "len(raw_df.isnull().any(axis=1)) #Nro de filas con al menos un dato faltante"
   ]
  },
  {
   "cell_type": "code",
<<<<<<< HEAD
   "execution_count": 78,
   "id": "3d444771",
=======
   "execution_count": null,
>>>>>>> a18b818babacc4146dc753f0d106d3552ca1d4a6
   "metadata": {},
   "outputs": [],
   "source": [
    "len(raw_df.isnull().any(axis=1)) - len(~raw_df.isnull().any(axis=1)) #Nro de filas del dataset - Nro de filas con al menos un dato faltante"
   ]
  },
  {
   "cell_type": "markdown",
   "id": "bf329c78",
   "metadata": {},
   "source": [
    "El proceso de normalización, imputación y selección inicial de features permitió imputar y recuperar el siguiente número de filas "
   ]
  },
  {
   "cell_type": "code",
<<<<<<< HEAD
   "execution_count": 79,
   "id": "c4269dd2",
=======
   "execution_count": null,
>>>>>>> a18b818babacc4146dc753f0d106d3552ca1d4a6
   "metadata": {},
   "outputs": [],
   "source": [
    "len(data)"
   ]
  },
  {
   "cell_type": "markdown",
   "id": "3d3da684",
   "metadata": {},
   "source": [
    "#### Registros iniciales y finales"
   ]
  },
  {
   "cell_type": "markdown",
   "id": "82c27f49",
   "metadata": {},
   "source": [
    "Filas iniciales:"
   ]
  },
  {
   "cell_type": "code",
<<<<<<< HEAD
   "execution_count": 80,
   "id": "8800629d",
=======
   "execution_count": null,
>>>>>>> a18b818babacc4146dc753f0d106d3552ca1d4a6
   "metadata": {},
   "outputs": [],
   "source": [
    "len(raw_df)"
   ]
  },
  {
   "cell_type": "markdown",
   "id": "de16773d",
   "metadata": {},
   "source": [
    "Filas a exportar por este script:"
   ]
  },
  {
   "cell_type": "code",
   "execution_count": null,
   "id": "78bf558b",
   "metadata": {},
   "outputs": [],
   "source": [
<<<<<<< HEAD
    "Filas a exportar por este script:"
   ]
  },
  {
   "cell_type": "code",
   "execution_count": 81,
   "id": "e1ee9e75",
   "metadata": {},
   "outputs": [
    {
     "data": {
      "text/plain": [
       "96022"
      ]
     },
     "execution_count": 81,
     "metadata": {},
     "output_type": "execute_result"
    }
   ],
   "source": [
=======
>>>>>>> a18b818babacc4146dc753f0d106d3552ca1d4a6
    "len(data)"
   ]
  },
  {
   "cell_type": "markdown",
   "id": "04cf1640",
   "metadata": {},
   "source": [
    "## Exportación"
   ]
  },
  {
   "cell_type": "markdown",
   "id": "14857590",
   "metadata": {},
   "source": [
    "Este csv es recuperado por el script de Feature Engineering para generar variables adicionales "
   ]
  },
  {
   "cell_type": "code",
<<<<<<< HEAD
   "execution_count": 82,
   "id": "5c7a2fba",
=======
   "execution_count": null,
>>>>>>> a18b818babacc4146dc753f0d106d3552ca1d4a6
   "metadata": {},
   "outputs": [],
   "source": [
    "data.to_csv('resultados/cabaventa_preproc.csv')"
   ]
  }
 ],
 "metadata": {
  "interpreter": {
   "hash": "112989f40982219f9c2133127490be09f86560db102a13a350eb86b01002b443"
  },
  "kernelspec": {
   "display_name": "Python 3 (ipykernel)",
   "language": "python",
   "name": "python3"
  },
  "language_info": {
   "codemirror_mode": {
    "name": "ipython",
    "version": 3
   },
   "file_extension": ".py",
   "mimetype": "text/x-python",
   "name": "python",
   "nbconvert_exporter": "python",
   "pygments_lexer": "ipython3",
   "version": "3.9.7"
  }
 },
 "nbformat": 4,
 "nbformat_minor": 5
}
