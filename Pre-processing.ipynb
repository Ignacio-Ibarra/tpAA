{
 "cells": [
  {
   "cell_type": "markdown",
   "metadata": {},
   "source": [
    "# Pre-processing"
   ]
  },
  {
   "cell_type": "markdown",
   "metadata": {},
   "source": [
    "## Importación de bibliotecas"
   ]
  },
  {
   "cell_type": "code",
   "execution_count": 1,
   "metadata": {},
   "outputs": [],
   "source": [
    "import time\n",
    "start_time = time.time()\n",
    "import numpy as np\n",
    "import pandas as pd\n",
    "import seaborn as sns\n",
    "import matplotlib.pyplot as plt\n",
    "import io\n",
    "import requests\n",
    "import random\n",
    "import dataframe_image as dfi"
   ]
  },
  {
   "cell_type": "markdown",
   "metadata": {},
   "source": [
    "## Importación de dataset"
   ]
  },
  {
   "cell_type": "code",
   "execution_count": 2,
   "metadata": {},
   "outputs": [
    {
     "data": {
      "text/plain": [
       "(183810, 25)"
      ]
     },
     "execution_count": 2,
     "metadata": {},
     "output_type": "execute_result"
    }
   ],
   "source": [
    "nocols = ['Unnamed: 0', 'Unnamed: 0.1']\n",
    "\n",
    "raw_df = pd.read_csv(\"./data/cabaventa.csv\").drop(columns = nocols)\n",
    "raw_df.shape"
   ]
  },
  {
   "cell_type": "markdown",
   "metadata": {},
   "source": [
    "## Características del dataset"
   ]
  },
  {
   "cell_type": "markdown",
   "metadata": {},
   "source": [
    "Se definen funciones accesorias para el recupero de las características del dataset"
   ]
  },
  {
   "cell_type": "code",
   "execution_count": 3,
   "metadata": {},
   "outputs": [
    {
     "data": {
      "text/html": [
       "<div>\n",
       "<style scoped>\n",
       "    .dataframe tbody tr th:only-of-type {\n",
       "        vertical-align: middle;\n",
       "    }\n",
       "\n",
       "    .dataframe tbody tr th {\n",
       "        vertical-align: top;\n",
       "    }\n",
       "\n",
       "    .dataframe thead th {\n",
       "        text-align: right;\n",
       "    }\n",
       "</style>\n",
       "<table border=\"1\" class=\"dataframe\">\n",
       "  <thead>\n",
       "    <tr style=\"text-align: right;\">\n",
       "      <th></th>\n",
       "      <th>TipoDato</th>\n",
       "      <th>PorcentajeNulos</th>\n",
       "      <th>ValoresUnicos</th>\n",
       "      <th>Ejemplos</th>\n",
       "      <th>Rangos</th>\n",
       "    </tr>\n",
       "  </thead>\n",
       "  <tbody>\n",
       "    <tr>\n",
       "      <th>id</th>\n",
       "      <td>object</td>\n",
       "      <td>0.00%</td>\n",
       "      <td>183810</td>\n",
       "      <td>3JAh7QFj9ej7i86LetkX3Q==, YuBy...</td>\n",
       "      <td></td>\n",
       "    </tr>\n",
       "    <tr>\n",
       "      <th>ad_type</th>\n",
       "      <td>object</td>\n",
       "      <td>0.00%</td>\n",
       "      <td>1</td>\n",
       "      <td>Propiedad</td>\n",
       "      <td></td>\n",
       "    </tr>\n",
       "    <tr>\n",
       "      <th>start_date</th>\n",
       "      <td>object</td>\n",
       "      <td>0.00%</td>\n",
       "      <td>362</td>\n",
       "      <td>2020-10-02, 2020-12-03, 2020-0...</td>\n",
       "      <td></td>\n",
       "    </tr>\n",
       "    <tr>\n",
       "      <th>end_date</th>\n",
       "      <td>object</td>\n",
       "      <td>0.00%</td>\n",
       "      <td>449</td>\n",
       "      <td>9999-12-31, 2021-06-05, 2021-0...</td>\n",
       "      <td></td>\n",
       "    </tr>\n",
       "    <tr>\n",
       "      <th>created_on</th>\n",
       "      <td>object</td>\n",
       "      <td>0.00%</td>\n",
       "      <td>362</td>\n",
       "      <td>2020-10-02, 2020-12-03, 2020-0...</td>\n",
       "      <td></td>\n",
       "    </tr>\n",
       "    <tr>\n",
       "      <th>lat</th>\n",
       "      <td>float64</td>\n",
       "      <td>6.23%</td>\n",
       "      <td>69507</td>\n",
       "      <td>-34.612753999999995, -34.55894...</td>\n",
       "      <td></td>\n",
       "    </tr>\n",
       "    <tr>\n",
       "      <th>lon</th>\n",
       "      <td>float64</td>\n",
       "      <td>6.23%</td>\n",
       "      <td>70182</td>\n",
       "      <td>-58.41326479999999, -58.475767...</td>\n",
       "      <td></td>\n",
       "    </tr>\n",
       "    <tr>\n",
       "      <th>l1</th>\n",
       "      <td>object</td>\n",
       "      <td>0.00%</td>\n",
       "      <td>1</td>\n",
       "      <td>Argentina</td>\n",
       "      <td></td>\n",
       "    </tr>\n",
       "    <tr>\n",
       "      <th>l2</th>\n",
       "      <td>object</td>\n",
       "      <td>0.00%</td>\n",
       "      <td>1</td>\n",
       "      <td>Capital Federal</td>\n",
       "      <td></td>\n",
       "    </tr>\n",
       "    <tr>\n",
       "      <th>l3</th>\n",
       "      <td>object</td>\n",
       "      <td>1.00%</td>\n",
       "      <td>57</td>\n",
       "      <td>Palermo, Belgrano, Caballito.....</td>\n",
       "      <td></td>\n",
       "    </tr>\n",
       "    <tr>\n",
       "      <th>l4</th>\n",
       "      <td>object</td>\n",
       "      <td>96.05%</td>\n",
       "      <td>4</td>\n",
       "      <td>Palermo Hollywood, Palermo Chi...</td>\n",
       "      <td></td>\n",
       "    </tr>\n",
       "    <tr>\n",
       "      <th>l5</th>\n",
       "      <td>float64</td>\n",
       "      <td>100.00%</td>\n",
       "      <td>0</td>\n",
       "      <td></td>\n",
       "      <td></td>\n",
       "    </tr>\n",
       "    <tr>\n",
       "      <th>l6</th>\n",
       "      <td>float64</td>\n",
       "      <td>100.00%</td>\n",
       "      <td>0</td>\n",
       "      <td></td>\n",
       "      <td></td>\n",
       "    </tr>\n",
       "    <tr>\n",
       "      <th>rooms</th>\n",
       "      <td>float64</td>\n",
       "      <td>15.30%</td>\n",
       "      <td>31</td>\n",
       "      <td>2.0, 3.0, 1.0...</td>\n",
       "      <td></td>\n",
       "    </tr>\n",
       "    <tr>\n",
       "      <th>bedrooms</th>\n",
       "      <td>float64</td>\n",
       "      <td>27.19%</td>\n",
       "      <td>60</td>\n",
       "      <td>1.0, 2.0, 3.0...</td>\n",
       "      <td></td>\n",
       "    </tr>\n",
       "    <tr>\n",
       "      <th>bathrooms</th>\n",
       "      <td>float64</td>\n",
       "      <td>13.56%</td>\n",
       "      <td>19</td>\n",
       "      <td>1.0, 2.0, 3.0...</td>\n",
       "      <td></td>\n",
       "    </tr>\n",
       "    <tr>\n",
       "      <th>surface_total</th>\n",
       "      <td>float64</td>\n",
       "      <td>33.13%</td>\n",
       "      <td>1601</td>\n",
       "      <td>40.0, 50.0, 45.0...</td>\n",
       "      <td></td>\n",
       "    </tr>\n",
       "    <tr>\n",
       "      <th>surface_covered</th>\n",
       "      <td>float64</td>\n",
       "      <td>34.02%</td>\n",
       "      <td>1315</td>\n",
       "      <td>40.0, 35.0, 42.0...</td>\n",
       "      <td></td>\n",
       "    </tr>\n",
       "    <tr>\n",
       "      <th>price</th>\n",
       "      <td>float64</td>\n",
       "      <td>1.85%</td>\n",
       "      <td>9087</td>\n",
       "      <td>110000.0, 120000.0, 115000.0.....</td>\n",
       "      <td></td>\n",
       "    </tr>\n",
       "    <tr>\n",
       "      <th>currency</th>\n",
       "      <td>object</td>\n",
       "      <td>2.00%</td>\n",
       "      <td>2</td>\n",
       "      <td>USD,ARS</td>\n",
       "      <td></td>\n",
       "    </tr>\n",
       "    <tr>\n",
       "      <th>price_period</th>\n",
       "      <td>object</td>\n",
       "      <td>51.73%</td>\n",
       "      <td>1</td>\n",
       "      <td>Mensual</td>\n",
       "      <td></td>\n",
       "    </tr>\n",
       "    <tr>\n",
       "      <th>title</th>\n",
       "      <td>object</td>\n",
       "      <td>0.00%</td>\n",
       "      <td>98827</td>\n",
       "      <td>Departamento - Palermo, Depart...</td>\n",
       "      <td></td>\n",
       "    </tr>\n",
       "    <tr>\n",
       "      <th>description</th>\n",
       "      <td>object</td>\n",
       "      <td>0.00%</td>\n",
       "      <td>141615</td>\n",
       "      <td>Pozo en Villa Crespo. Monoambi...</td>\n",
       "      <td></td>\n",
       "    </tr>\n",
       "    <tr>\n",
       "      <th>property_type</th>\n",
       "      <td>object</td>\n",
       "      <td>0.00%</td>\n",
       "      <td>10</td>\n",
       "      <td>Departamento, PH, Casa...</td>\n",
       "      <td></td>\n",
       "    </tr>\n",
       "    <tr>\n",
       "      <th>operation_type</th>\n",
       "      <td>object</td>\n",
       "      <td>0.00%</td>\n",
       "      <td>1</td>\n",
       "      <td>Venta</td>\n",
       "      <td></td>\n",
       "    </tr>\n",
       "  </tbody>\n",
       "</table>\n",
       "</div>"
      ],
      "text/plain": [
       "                TipoDato PorcentajeNulos  ValoresUnicos  \\\n",
       "id                object           0.00%         183810   \n",
       "ad_type           object           0.00%              1   \n",
       "start_date        object           0.00%            362   \n",
       "end_date          object           0.00%            449   \n",
       "created_on        object           0.00%            362   \n",
       "lat              float64           6.23%          69507   \n",
       "lon              float64           6.23%          70182   \n",
       "l1                object           0.00%              1   \n",
       "l2                object           0.00%              1   \n",
       "l3                object           1.00%             57   \n",
       "l4                object          96.05%              4   \n",
       "l5               float64         100.00%              0   \n",
       "l6               float64         100.00%              0   \n",
       "rooms            float64          15.30%             31   \n",
       "bedrooms         float64          27.19%             60   \n",
       "bathrooms        float64          13.56%             19   \n",
       "surface_total    float64          33.13%           1601   \n",
       "surface_covered  float64          34.02%           1315   \n",
       "price            float64           1.85%           9087   \n",
       "currency          object           2.00%              2   \n",
       "price_period      object          51.73%              1   \n",
       "title             object           0.00%          98827   \n",
       "description       object           0.00%         141615   \n",
       "property_type     object           0.00%             10   \n",
       "operation_type    object           0.00%              1   \n",
       "\n",
       "                                          Ejemplos Rangos  \n",
       "id               3JAh7QFj9ej7i86LetkX3Q==, YuBy...         \n",
       "ad_type                                  Propiedad         \n",
       "start_date       2020-10-02, 2020-12-03, 2020-0...         \n",
       "end_date         9999-12-31, 2021-06-05, 2021-0...         \n",
       "created_on       2020-10-02, 2020-12-03, 2020-0...         \n",
       "lat              -34.612753999999995, -34.55894...         \n",
       "lon              -58.41326479999999, -58.475767...         \n",
       "l1                                       Argentina         \n",
       "l2                                 Capital Federal         \n",
       "l3               Palermo, Belgrano, Caballito.....         \n",
       "l4               Palermo Hollywood, Palermo Chi...         \n",
       "l5                                                         \n",
       "l6                                                         \n",
       "rooms                             2.0, 3.0, 1.0...         \n",
       "bedrooms                          1.0, 2.0, 3.0...         \n",
       "bathrooms                         1.0, 2.0, 3.0...         \n",
       "surface_total                  40.0, 50.0, 45.0...         \n",
       "surface_covered                40.0, 35.0, 42.0...         \n",
       "price            110000.0, 120000.0, 115000.0.....         \n",
       "currency                                   USD,ARS         \n",
       "price_period                               Mensual         \n",
       "title            Departamento - Palermo, Depart...         \n",
       "description      Pozo en Villa Crespo. Monoambi...         \n",
       "property_type            Departamento, PH, Casa...         \n",
       "operation_type                               Venta         "
      ]
     },
     "execution_count": 3,
     "metadata": {},
     "output_type": "execute_result"
    }
   ],
   "source": [
    "def rango(col): \n",
    "    col = col.dropna()\n",
    "    if len(col)==0:\n",
    "        return \"\"\n",
    "    if np.issubdtype(col.dtype, np.number):\n",
    "        return \"[\"+\"{:.2f}\".format(col.min())+\",\"+\"{:.2f}\".format(col.max())+\"]\"\n",
    "    else: \n",
    "        return \"\"\n",
    "\n",
    "def ejemplo(col, col_width=30):\n",
    "    uniques = col.dropna().unique()\n",
    "    if len(uniques) == 0: \n",
    "        return \"\"\n",
    "    if len(uniques)<4: \n",
    "        s = \",\".join([str(x) for x in uniques])\n",
    "        if len(s)>col_width:\n",
    "            return s[:col_width]+\"...\"\n",
    "        else:\n",
    "            return s\n",
    "    else:\n",
    "        vcounts = col.value_counts().index\n",
    "        s = \", \".join([str(x) for x in vcounts[:3]])+\"...\"\n",
    "        if len(s)>col_width:\n",
    "            return s[:col_width]+\"...\"\n",
    "        else:\n",
    "            return s\n",
    "    \n",
    "\n",
    "def get_dataframe_info(df):\n",
    "    \n",
    "    dtypes = df.dtypes    \n",
    "    nulls = (df.isna().sum()/len(df)).apply(lambda x: \"{:.2%}\".format(x))\n",
    "    nuniques = df.nunique()\n",
    "    ejemplos = df.apply(lambda col: ejemplo(col), axis=0)\n",
    "    rangos = df.apply(lambda col: rango(col), axis=0)\n",
    "    info_df = pd.concat([dtypes, nulls, nuniques, ejemplos, rangos], axis=1)\n",
    "    info_df.columns = ['TipoDato',\"PorcentajeNulos\",\"ValoresUnicos\",\"Ejemplos\", \"Rangos\"]\n",
    "    return info_df\n",
    "\n",
    "tabla = get_dataframe_info(raw_df)\n",
    "#tabla.to_latex()\n",
    "dfi.export(tabla, \"img/tabla1.png\")\n",
    "tabla"
   ]
  },
  {
   "cell_type": "markdown",
   "metadata": {},
   "source": [
    "## Limpieza Texto y Columnas"
   ]
  },
  {
   "cell_type": "markdown",
   "metadata": {},
   "source": [
    "### Limpieza inicial"
   ]
  },
  {
   "cell_type": "markdown",
   "metadata": {},
   "source": [
    "Se eliminan los registros con currency = ARS y se dropea esa columna por carecer de valor predictivo"
   ]
  },
  {
   "cell_type": "code",
   "execution_count": 4,
   "metadata": {},
   "outputs": [],
   "source": [
    "raw_df = raw_df[raw_df['currency']== \"USD\"]\n",
    "raw_df.drop(columns='currency', axis=1, inplace=True) "
   ]
  },
  {
   "cell_type": "markdown",
   "metadata": {},
   "source": [
    "El dataset posee 8 registros de tipo de propiedad \"Casa de campo\". Se considera que con un número tan bajo de registros no será posible realizar predicciones de calidad para ese tipo de propiedad, por lo que se eliminan los registros del dataset."
   ]
  },
  {
   "cell_type": "code",
   "execution_count": 5,
   "metadata": {},
   "outputs": [],
   "source": [
    "raw_df = raw_df[raw_df['property_type']!= \"Casa de campo\"]"
   ]
  },
  {
   "cell_type": "markdown",
   "metadata": {},
   "source": [
    "### Normalización de campos"
   ]
  },
  {
   "cell_type": "markdown",
   "metadata": {},
   "source": [
    "En esta parte se realiza una limpieza básica con `regex` de algunas columnas a los fines de normalizar un poco el texto: lowering, punctuation, spaces, digits. La función armada permite customizar la limpieza, por ende es posible no aplicar la misma limpieza para todos los casos. La función genera columnas nuevas con el nombre`f\"{col}_cleaned\"`  "
   ]
  },
  {
   "cell_type": "markdown",
   "metadata": {},
   "source": [
    "Dado que las columnas textuales `title` y `description` no fueron utilizadas en la predicción ni analizadas mediante técnicas de embeddings o BOW, no se trataron los NaN en esas columnas. "
   ]
  },
  {
   "cell_type": "code",
   "execution_count": 6,
   "metadata": {},
   "outputs": [],
   "source": [
    "from cleaning import CleaningData\n",
    "#instanciamos Cleaning Data con df\n",
    "\n",
    "cleaned = CleaningData(data=raw_df)"
   ]
  },
  {
   "cell_type": "code",
   "execution_count": 7,
   "metadata": {},
   "outputs": [
    {
     "name": "stdout",
     "output_type": "stream",
     "text": [
      "Cleaning columns with no valuable information...\n",
      "\n"
     ]
    },
    {
     "data": {
      "text/plain": [
       "(179798, 16)"
      ]
     },
     "execution_count": 7,
     "metadata": {},
     "output_type": "execute_result"
    }
   ],
   "source": [
    "#Quitamos columnas \n",
    "cols_to_drop = [#'Unnamed: 0.1', 'Unnamed: 0', #columnas que vinieron mal en la bajada\n",
    "                'operation_type', #todos son 'venta'\n",
    "                'l1', #todas las filas iguales \n",
    "                'l2', #todas las filas iguales \n",
    "                'ad_type', #todas las filas iguales \n",
    "                'l5', #columna con todas las filas nulas\n",
    "                'l6', #columna con todas las filas nulas\n",
    "                'created_on', #la columna created_on es igual a la columna start_date\n",
    "                'price_period' #la columna contiene muchos NaN y un único valor\n",
    "               ]\n",
    "data = cleaned.drop_columns(columns=cols_to_drop)\n",
    "data.shape"
   ]
  },
  {
   "cell_type": "code",
   "execution_count": 8,
   "metadata": {},
   "outputs": [
    {
     "data": {
      "text/plain": [
       "(179798, 17)"
      ]
     },
     "execution_count": 8,
     "metadata": {},
     "output_type": "execute_result"
    }
   ],
   "source": [
    "#Limpieza title\n",
    "params = {'lowering':True,'punctuation':True,'accents': True,'strip_spaces':True,'digits':False,'within_spaces':True}\n",
    "cleaned.text_col_cleaning(text_column=\"title\", params=params)\n",
    "data.shape"
   ]
  },
  {
   "cell_type": "code",
   "execution_count": 9,
   "metadata": {},
   "outputs": [
    {
     "data": {
      "text/plain": [
       "(179798, 18)"
      ]
     },
     "execution_count": 9,
     "metadata": {},
     "output_type": "execute_result"
    }
   ],
   "source": [
    "#Limpieza description\n",
    "params = {'lowering':True,'punctuation':True,'accents': True,'strip_spaces':True,'digits':False,'within_spaces':True}\n",
    "cleaned.text_col_cleaning(text_column=\"description\", params=params)\n",
    "data.shape"
   ]
  },
  {
   "cell_type": "code",
   "execution_count": 10,
   "metadata": {},
   "outputs": [
    {
     "data": {
      "text/plain": [
       "(179798, 19)"
      ]
     },
     "execution_count": 10,
     "metadata": {},
     "output_type": "execute_result"
    }
   ],
   "source": [
    "#Limpieza texto de l3\n",
    "params = {'lowering':False,'punctuation':True,'accents': True,'strip_spaces':True,'digits':False,'within_spaces':True}\n",
    "cleaned.text_col_cleaning(text_column=\"l3\", params=params)\n",
    "data.shape"
   ]
  },
  {
   "cell_type": "markdown",
   "metadata": {},
   "source": [
    "### Mejoras en la delimitación e imputación de barrios"
   ]
  },
  {
   "cell_type": "markdown",
   "metadata": {},
   "source": [
    "#### Valores nulos"
   ]
  },
  {
   "cell_type": "code",
   "execution_count": 11,
   "metadata": {},
   "outputs": [
    {
     "data": {
      "text/plain": [
       "lat           6.15%\n",
       "lon           6.15%\n",
       "l3_cleaned    0.90%\n",
       "dtype: object"
      ]
     },
     "execution_count": 11,
     "metadata": {},
     "output_type": "execute_result"
    }
   ],
   "source": [
    "(data[['lat','lon','l3_cleaned']].isna().sum()/len(data)).apply(lambda x: \"{:.2%}\".format(x))"
   ]
  },
  {
   "cell_type": "markdown",
   "metadata": {},
   "source": [
    "Se detectó una mayor presencia de valores nulos en los datos de georreferenciación que en el dato del barrio. Por ende se realizó un trabajo de imputación de nulos partiendo de considerar a la columna `l3_cleaned` con una mayor validez que la columnas `lat` y `lon`. Por ende, fue tomada como \"eje\" para realizar imputación de nulos. "
   ]
  },
  {
   "cell_type": "markdown",
   "metadata": {},
   "source": [
    "#### Errores"
   ]
  },
  {
   "cell_type": "markdown",
   "metadata": {},
   "source": [
    "* Se analizaron los barrios cuya denomiación no es la denominación oficial: Ejemplo Centro / Microcentro, Las Cañitas, Pompeya, Abasto, Once, etc. "
   ]
  },
  {
   "cell_type": "code",
   "execution_count": 12,
   "metadata": {},
   "outputs": [
    {
     "data": {
      "text/plain": [
       "array(['Floresta', 'Belgrano', 'Recoleta', 'Monserrat', 'San Nicolas',\n",
       "       'Retiro', 'Almagro', 'Palermo', 'Saavedra', 'Chacarita',\n",
       "       'Barrio Norte', 'Villa Crespo', 'Villa Pueyrredon', 'Flores',\n",
       "       'Villa Urquiza', 'Once', 'Coghlan', 'Congreso', 'Villa Devoto',\n",
       "       'Boedo', 'Nunez', 'Barracas', 'Colegiales', 'Villa del Parque',\n",
       "       'Caballito', 'Balvanera', 'San Telmo', 'Monte Castro',\n",
       "       'Villa General Mitre', 'Parque Chacabuco', 'Abasto',\n",
       "       'Puerto Madero', 'Parque Chas', 'San Cristobal',\n",
       "       'Villa Santa Rita', 'Villa Lugano', 'Liniers', 'Agronomia',\n",
       "       'Villa Ortuzar', 'Villa Soldati', 'Villa Luro',\n",
       "       'Parque Centenario', 'Las Canitas', 'Paternal',\n",
       "       'Centro Microcentro', 'Mataderos', 'Parque Avellaneda', 'Pompeya',\n",
       "       'Parque Patricios', 'Tribunales', 'Boca', 'Villa Real',\n",
       "       'Constitucion', 'Versalles', 'Catalinas', 'Velez Sarsfield',\n",
       "       'Villa Riachuelo'], dtype=object)"
      ]
     },
     "execution_count": 12,
     "metadata": {},
     "output_type": "execute_result"
    }
   ],
   "source": [
    "data.l3_cleaned.dropna().unique()"
   ]
  },
  {
   "cell_type": "markdown",
   "metadata": {},
   "source": [
    "* Se analizaron registros para los que la variable `lat` presentó valores fuera del polígono de CABA"
   ]
  },
  {
   "cell_type": "code",
   "execution_count": 13,
   "metadata": {},
   "outputs": [
    {
     "data": {
      "text/plain": [
       "count    168742.000000\n",
       "mean        -34.590229\n",
       "std           0.368811\n",
       "min         -53.788624\n",
       "25%         -34.615766\n",
       "50%         -34.596917\n",
       "75%         -34.577251\n",
       "max          29.753374\n",
       "Name: lat, dtype: float64"
      ]
     },
     "execution_count": 13,
     "metadata": {},
     "output_type": "execute_result"
    }
   ],
   "source": [
    "data.lat.describe()"
   ]
  },
  {
   "cell_type": "markdown",
   "metadata": {},
   "source": [
    "* Se analizaron registros para los que la variable `lon` presentó valores fuera del polígono de CABA"
   ]
  },
  {
   "cell_type": "code",
   "execution_count": 14,
   "metadata": {},
   "outputs": [
    {
     "data": {
      "text/plain": [
       "count    168742.000000\n",
       "mean        -58.459761\n",
       "std           0.491655\n",
       "min        -100.469651\n",
       "25%         -58.464889\n",
       "50%         -58.439285\n",
       "75%         -58.408229\n",
       "max          -5.490771\n",
       "Name: lon, dtype: float64"
      ]
     },
     "execution_count": 14,
     "metadata": {},
     "output_type": "execute_result"
    }
   ],
   "source": [
    "data.lon.describe()"
   ]
  },
  {
   "cell_type": "markdown",
   "metadata": {},
   "source": [
    "#### Procesamiento realizado"
   ]
  },
  {
   "cell_type": "markdown",
   "metadata": {},
   "source": [
    "Se establecieron los siguientes pasos: "
   ]
  },
  {
   "cell_type": "markdown",
   "metadata": {},
   "source": [
    "1. A los registros cuya localización no correspondía a CABA se les imputó NaN, para ello se utilizó geoJson del polígono de CABA"
   ]
  },
  {
   "cell_type": "code",
   "execution_count": 15,
   "metadata": {},
   "outputs": [
    {
     "name": "stdout",
     "output_type": "stream",
     "text": [
      "Fueron 11722 los casos en que la localización era externa a CABA\n"
     ]
    },
    {
     "data": {
      "image/png": "[encoded data removed]",
      "text/plain": [
       "<Figure size 576x288 with 2 Axes>"
      ]
     },
     "metadata": {
      "needs_background": "light"
     },
     "output_type": "display_data"
    }
   ],
   "source": [
    "import json\n",
    "path = \"./metadata/provincia.json\"\n",
    "with open(path, \"r\", encoding=\"utf-8\") as js: \n",
    "    js = json.load(js)\n",
    "\n",
    "\n",
    "poligono_caba = [tuple(x) for x in js['features'][0]['geometry']['coordinates'][0][0]]\n",
    "\n",
    "from geoBarrios import point_in_polygon\n",
    "\n",
    "def is_caba(coord): \n",
    "    return(point_in_polygon(coord, poligono_caba))\n",
    "\n",
    "data['is_caba'] = [is_caba((lon, lat)) for lon, lat in zip(data.lon, data.lat)]\n",
    "\n",
    "print(f\"Fueron {(data.is_caba==False).sum()} los casos en que la localización era externa a CABA\")\n",
    "\n",
    "data.loc[~data.is_caba, ['lon','lat']] = np.nan\n",
    "\n",
    "fig, axs = plt.subplots(ncols=2, figsize=(8,4))\n",
    "\n",
    "lon , lat = raw_df.lon , raw_df.lat #guardo la localización como vino del dataset\n",
    "axs[0].scatter(lon,lat)\n",
    "axs[0].set_title(\"Localización con Errores\")\n",
    "\n",
    "axs[1].scatter(data.lon,data.lat)\n",
    "plt.title(\"Localización sin Errores\")\n",
    "plt.tight_layout()\n",
    "plt.show()"
   ]
  },
  {
   "cell_type": "markdown",
   "metadata": {},
   "source": [
    "2. 1: Normalización datos de barrios porteños: dado que eran pocos casos en los que el inmueble pertenecía a un barrio no oficial de CABA según la columna `l3_cleaned` se realizó una imputación manual. Ej: Las Canitas ---> Palermo. Pompeya --> Nueva Pompeya. Abasto --> Almagro. En un trabajo posterior debería ser revisado y refinado ya que hay casos como Once, Parque Centenario, que son zonas pertenecientes a una mezcla de barrios. "
   ]
  },
  {
   "cell_type": "code",
   "execution_count": 16,
   "metadata": {},
   "outputs": [
    {
     "data": {
      "image/png": "[encoded data removed]",
      "text/plain": [
       "<Figure size 864x720 with 2 Axes>"
      ]
     },
     "metadata": {
      "needs_background": "light"
     },
     "output_type": "display_data"
    }
   ],
   "source": [
    "normalizador = {\n",
    "    'Pompeya': 'Nueva Pompeya',\n",
    "    'Las Canitas': 'Palermo',\n",
    "    'Parque Centenario': 'Caballito', #Puede haber propiedades que en realidad pertenezcan a Almagro o Caballito\n",
    "    'Centro Microcentro':'San Nicolas',\n",
    "    'Tribunales':'San Nicolas',\n",
    "    'Once':'Balvanera',  #puede haber propiedades que en realidd pertenezcan a Almagro.\n",
    "    'Abasto':\"Balvanera\",  #puede haber propiedades que en realidad pertenezcan a Almagro. \n",
    "    \"Catalinas\":\"Retiro\", # la mayor parte de los casos caen ahí (algunos en Boca) \n",
    "    'Congreso':\"Balvanera\", #La mayor parte de los casos caen ahí (algunos en Belgrano)\n",
    "    \"Villa Riachuelo\":\"Villa Lugano\", #Al ser pocas propiedades se imputó el barrio más próximo.\n",
    "}\n",
    "\n",
    "data['l3_norm'] = data.l3_cleaned.apply(lambda x: normalizador[x] if x in normalizador else x)\n",
    "data['l4_nuevo'] = np.where(data.l4.isna()==False, data.l4, \n",
    "                            np.where(data.l3_cleaned != data.l3_norm, data.l3_cleaned, data.l3_norm)\n",
    "                           )\n",
    "\n",
    "\n",
    "gr1 = data.groupby(\"l3_norm\")['id'].count().sort_values(ascending=False)\n",
    "\n",
    "gr2 = data.groupby(\"l4_nuevo\")['id'].count().sort_values(ascending=False)\n",
    "\n",
    "fig, axs = plt.subplots(figsize = (12,10) , ncols=2)\n",
    "\n",
    "\n",
    "barrios = gr1.index\n",
    "cantidad1 = gr1.values\n",
    "\n",
    "sub_barrios = gr2.index\n",
    "cantidad2 = gr2.values\n",
    "\n",
    "axs[0].barh(barrios, cantidad1, align='center')\n",
    "axs[0].invert_yaxis()  # labels read top-to-bottom\n",
    "axs[0].set_xlabel('Cantidad')\n",
    "axs[0].set_title('Barrios')\n",
    "\n",
    "axs[1].barh(sub_barrios, cantidad2, align='center')\n",
    "axs[1].invert_yaxis()  # labels read top-to-bottom\n",
    "axs[1].set_xlabel('Cantidad')\n",
    "axs[1].set_title('Sub-barrios')\n",
    "\n",
    "plt.tight_layout()\n",
    "plt.show()"
   ]
  },
  {
   "cell_type": "markdown",
   "metadata": {},
   "source": [
    "2. 2: Si para un registro el par de columnas `lat`, `lon` presentaron valores NaN, se imputó el valor para cada columna con el promedio de las coordenadas del barrio. Si para dicho registro el dato del barrio fue nulo entonces se quitó toda la fila."
   ]
  },
  {
   "cell_type": "code",
   "execution_count": 17,
   "metadata": {},
   "outputs": [
    {
     "name": "stdout",
     "output_type": "stream",
     "text": [
      "Fueron 1556 los casos en que no habia locación\n"
     ]
    }
   ],
   "source": [
    "no_location = (data['lat'].isna()) & data['lon'].isna() & (data['l3_norm'].isna())\n",
    "print(f\"Fueron {no_location.sum()} los casos en que no habia locación\")\n",
    "data = data[~no_location].reset_index(drop=True)"
   ]
  },
  {
   "cell_type": "markdown",
   "metadata": {},
   "source": [
    "Para aquellas propiedades que sí tenían barrio, pero no las coordenadas geográficas, se imputó para cada columna con el promedio barrial de las coordenadas geográficas presentes en el dataset."
   ]
  },
  {
   "cell_type": "code",
   "execution_count": 18,
   "metadata": {},
   "outputs": [],
   "source": [
    "lat_lon_barrios = data.groupby('l4_nuevo')[['lat', 'lon']].mean().reset_index()\n",
    "lat_lon_barrios.columns = ['l4_nuevo','lat_barrio', 'lon_barrio']\n",
    "\n",
    "data = pd.merge(data, lat_lon_barrios, how=\"left\", left_on='l4_nuevo', right_on = 'l4_nuevo')\n",
    "\n",
    "data['lat'] = np.where(data['lat'].isna(), data['lat_barrio'], data['lat'])\n",
    "data['lon'] = np.where(data['lon'].isna(), data['lon_barrio'], data['lon'])"
   ]
  },
  {
   "cell_type": "markdown",
   "metadata": {},
   "source": [
    "3. Luego de este procesamiento si el barrio del registro presentaba un valor NaN se imputó el barrio correspondiente a la coordenada."
   ]
  },
  {
   "cell_type": "code",
   "execution_count": 19,
   "metadata": {},
   "outputs": [
    {
     "name": "stdout",
     "output_type": "stream",
     "text": [
      "Un total de 64 casos poseían barrio nulo y se les imputo el barrio correspondiente a la coordenada\n"
     ]
    }
   ],
   "source": [
    "from geoBarrios import geoBarrios, coord_to_nbhd\n",
    "barrios_dict = geoBarrios()\n",
    "print(f\"Un total de {data.l4_nuevo.isna().sum()} casos poseían barrio nulo y se les imputo el barrio correspondiente a la coordenada\") \n",
    "data.loc[data.l4_nuevo.isna(), \"l4_nuevo\"] = data[data.l4_nuevo.isna()].apply(lambda row: coord_to_nbhd(coord=(row.lon,row.lat),polygons_dict=barrios_dict), axis=1).values\n",
    "data.loc[data.l3_norm.isna(), \"l3_norm\"] = data[data.l3_norm.isna()].apply(lambda row: coord_to_nbhd(coord=(row.lon,row.lat),polygons_dict=barrios_dict), axis=1).values"
   ]
  },
  {
   "cell_type": "code",
   "execution_count": 20,
   "metadata": {},
   "outputs": [],
   "source": [
    "data.drop(columns = [\"l3\",\"l3_cleaned\",\"l4\",\"is_caba\",\"lat_barrio\",\"lon_barrio\"], inplace=True)"
   ]
  },
  {
   "cell_type": "code",
   "execution_count": 21,
   "metadata": {},
   "outputs": [
    {
     "data": {
      "text/plain": [
       "id                         0\n",
       "start_date                 0\n",
       "end_date                   0\n",
       "lat                        0\n",
       "lon                        0\n",
       "rooms                  25827\n",
       "bedrooms               47360\n",
       "bathrooms              23343\n",
       "surface_total          59716\n",
       "surface_covered        61057\n",
       "price                      0\n",
       "title                      0\n",
       "description                0\n",
       "property_type              0\n",
       "title_cleaned              0\n",
       "description_cleaned        0\n",
       "l3_norm                    0\n",
       "l4_nuevo                   0\n",
       "dtype: int64"
      ]
     },
     "execution_count": 21,
     "metadata": {},
     "output_type": "execute_result"
    }
   ],
   "source": [
    "data.isna().sum()"
   ]
  },
  {
   "cell_type": "markdown",
   "metadata": {},
   "source": [
    "**Pendiente para un próximo abordaje**\n",
    "\n",
    "* Para los casos en que la localización era externa a CABA y el barrio no nulo, se imputó un punto centroide del barrio. Eso pudo conducir a errores dado que implícitamente se \"confía\" en que el dato del barrio fue correcto. Una alternativa sería probar adicionalmente si de la columna `description_cleaned` fuera posible confirmar que no se tratase de casos que efectivamente pertenecieran a localizaciones externas a CABA. \n",
    "* Si el barrio y la localización no son nulos pero sí incongruentes (localización pertence a otro barrio) se procedío a imputar el punto centroide del barrio. . "
   ]
  },
  {
   "cell_type": "code",
   "execution_count": 22,
   "metadata": {},
   "outputs": [
    {
     "data": {
      "text/plain": [
       "(178242, 18)"
      ]
     },
     "execution_count": 22,
     "metadata": {},
     "output_type": "execute_result"
    }
   ],
   "source": [
    "data.shape"
   ]
  },
  {
   "cell_type": "markdown",
   "metadata": {},
   "source": [
    "## Trabajo sobre las variables: superficie total, superficie cubierta, ambientes, dormitorios y precio"
   ]
  },
  {
   "cell_type": "markdown",
   "metadata": {},
   "source": [
    "#### Exploración de variables"
   ]
  },
  {
   "cell_type": "code",
   "execution_count": 23,
   "metadata": {},
   "outputs": [
    {
     "data": {
      "text/plain": [
       "surface_total      33.50%\n",
       "surface_covered    34.26%\n",
       "rooms              14.49%\n",
       "bedrooms           26.57%\n",
       "price               0.00%\n",
       "dtype: object"
      ]
     },
     "execution_count": 23,
     "metadata": {},
     "output_type": "execute_result"
    }
   ],
   "source": [
    "cols = [\"surface_total\",\"surface_covered\",\"rooms\",\"bedrooms\", \"price\"]\n",
    "(data[cols].isna().sum()/len(data)).apply(lambda x: \"{:.2%}\".format(x))"
   ]
  },
  {
   "cell_type": "markdown",
   "metadata": {},
   "source": [
    "Se exploraron los valores no nulos las columnas `rooms` y `bedrooms`, según el tipo de propiedad. "
   ]
  },
  {
   "cell_type": "code",
   "execution_count": 24,
   "metadata": {},
   "outputs": [
    {
     "name": "stderr",
     "output_type": "stream",
     "text": [
      "<ipython-input-24-d03bc979027a>:1: FutureWarning: Indexing with multiple keys (implicitly converted to a tuple of keys) will be deprecated, use a list instead.\n",
      "  100*(data[['rooms','bedrooms']].isnull()==False).groupby(data['property_type']).sum().div(data.groupby(\"property_type\")['rooms','bedrooms'].apply(lambda gr: len(gr)), axis=0)\n"
     ]
    },
    {
     "data": {
      "text/html": [
       "<div>\n",
       "<style scoped>\n",
       "    .dataframe tbody tr th:only-of-type {\n",
       "        vertical-align: middle;\n",
       "    }\n",
       "\n",
       "    .dataframe tbody tr th {\n",
       "        vertical-align: top;\n",
       "    }\n",
       "\n",
       "    .dataframe thead th {\n",
       "        text-align: right;\n",
       "    }\n",
       "</style>\n",
       "<table border=\"1\" class=\"dataframe\">\n",
       "  <thead>\n",
       "    <tr style=\"text-align: right;\">\n",
       "      <th></th>\n",
       "      <th>rooms</th>\n",
       "      <th>bedrooms</th>\n",
       "    </tr>\n",
       "    <tr>\n",
       "      <th>property_type</th>\n",
       "      <th></th>\n",
       "      <th></th>\n",
       "    </tr>\n",
       "  </thead>\n",
       "  <tbody>\n",
       "    <tr>\n",
       "      <th>Casa</th>\n",
       "      <td>80.155155</td>\n",
       "      <td>75.588088</td>\n",
       "    </tr>\n",
       "    <tr>\n",
       "      <th>Cochera</th>\n",
       "      <td>46.247068</td>\n",
       "      <td>18.588741</td>\n",
       "    </tr>\n",
       "    <tr>\n",
       "      <th>Departamento</th>\n",
       "      <td>95.359380</td>\n",
       "      <td>82.514057</td>\n",
       "    </tr>\n",
       "    <tr>\n",
       "      <th>Depósito</th>\n",
       "      <td>20.431655</td>\n",
       "      <td>13.381295</td>\n",
       "    </tr>\n",
       "    <tr>\n",
       "      <th>Local comercial</th>\n",
       "      <td>29.952153</td>\n",
       "      <td>10.303030</td>\n",
       "    </tr>\n",
       "    <tr>\n",
       "      <th>Lote</th>\n",
       "      <td>18.708988</td>\n",
       "      <td>10.788952</td>\n",
       "    </tr>\n",
       "    <tr>\n",
       "      <th>Oficina</th>\n",
       "      <td>40.420978</td>\n",
       "      <td>20.192651</td>\n",
       "    </tr>\n",
       "    <tr>\n",
       "      <th>Otro</th>\n",
       "      <td>35.179641</td>\n",
       "      <td>32.035928</td>\n",
       "    </tr>\n",
       "    <tr>\n",
       "      <th>PH</th>\n",
       "      <td>93.129657</td>\n",
       "      <td>93.748137</td>\n",
       "    </tr>\n",
       "  </tbody>\n",
       "</table>\n",
       "</div>"
      ],
      "text/plain": [
       "                     rooms   bedrooms\n",
       "property_type                        \n",
       "Casa             80.155155  75.588088\n",
       "Cochera          46.247068  18.588741\n",
       "Departamento     95.359380  82.514057\n",
       "Depósito         20.431655  13.381295\n",
       "Local comercial  29.952153  10.303030\n",
       "Lote             18.708988  10.788952\n",
       "Oficina          40.420978  20.192651\n",
       "Otro             35.179641  32.035928\n",
       "PH               93.129657  93.748137"
      ]
     },
     "execution_count": 24,
     "metadata": {},
     "output_type": "execute_result"
    }
   ],
   "source": [
    "100*(data[['rooms','bedrooms']].isnull()==False).groupby(data['property_type']).sum().div(data.groupby(\"property_type\")['rooms','bedrooms'].apply(lambda gr: len(gr)), axis=0) "
   ]
  },
  {
   "cell_type": "markdown",
   "metadata": {},
   "source": [
    "Revisión de casos en los que `surface_total` fuera menor a `surface_covered`"
   ]
  },
  {
   "cell_type": "code",
   "execution_count": 25,
   "metadata": {},
   "outputs": [
    {
     "data": {
      "text/plain": [
       "count    118526.000000\n",
       "mean        151.778336\n",
       "std        1139.253429\n",
       "min          10.000000\n",
       "25%          45.000000\n",
       "50%          70.000000\n",
       "75%         123.000000\n",
       "max      140380.000000\n",
       "Name: surface_total, dtype: float64"
      ]
     },
     "execution_count": 25,
     "metadata": {},
     "output_type": "execute_result"
    }
   ],
   "source": [
    "data.surface_total.describe()"
   ]
  },
  {
   "cell_type": "code",
   "execution_count": 26,
   "metadata": {},
   "outputs": [
    {
     "data": {
      "text/plain": [
       "872"
      ]
     },
     "execution_count": 26,
     "metadata": {},
     "output_type": "execute_result"
    }
   ],
   "source": [
    "(data.surface_total < data.surface_covered).sum() "
   ]
  },
  {
   "cell_type": "markdown",
   "metadata": {},
   "source": [
    "* outliers en `surface_covered`"
   ]
  },
  {
   "cell_type": "code",
   "execution_count": 27,
   "metadata": {},
   "outputs": [
    {
     "data": {
      "text/plain": [
       "count    117185.000000\n",
       "mean        133.686999\n",
       "std        1352.340800\n",
       "min           1.000000\n",
       "25%          40.000000\n",
       "50%          60.000000\n",
       "75%         100.000000\n",
       "max      170000.000000\n",
       "Name: surface_covered, dtype: float64"
      ]
     },
     "execution_count": 27,
     "metadata": {},
     "output_type": "execute_result"
    }
   ],
   "source": [
    "data.surface_covered.describe()"
   ]
  },
  {
   "cell_type": "markdown",
   "metadata": {},
   "source": [
    "* `rooms < bedrooms`"
   ]
  },
  {
   "cell_type": "code",
   "execution_count": 28,
   "metadata": {},
   "outputs": [
    {
     "data": {
      "text/plain": [
       "544"
      ]
     },
     "execution_count": 28,
     "metadata": {},
     "output_type": "execute_result"
    }
   ],
   "source": [
    "(data.rooms < data.bedrooms).sum() "
   ]
  },
  {
   "cell_type": "markdown",
   "metadata": {},
   "source": [
    "* outliers en `rooms`"
   ]
  },
  {
   "cell_type": "code",
   "execution_count": 29,
   "metadata": {},
   "outputs": [
    {
     "data": {
      "text/plain": [
       "count    152415.000000\n",
       "mean          2.700279\n",
       "std           1.510932\n",
       "min           1.000000\n",
       "25%           2.000000\n",
       "50%           3.000000\n",
       "75%           3.000000\n",
       "max          40.000000\n",
       "Name: rooms, dtype: float64"
      ]
     },
     "execution_count": 29,
     "metadata": {},
     "output_type": "execute_result"
    }
   ],
   "source": [
    "data.rooms.describe()"
   ]
  },
  {
   "cell_type": "markdown",
   "metadata": {},
   "source": [
    "* outliers en `bedrooms`"
   ]
  },
  {
   "cell_type": "code",
   "execution_count": 30,
   "metadata": {},
   "outputs": [
    {
     "data": {
      "text/plain": [
       "count    130882.000000\n",
       "mean          1.959406\n",
       "std           1.830851\n",
       "min          -2.000000\n",
       "25%           1.000000\n",
       "50%           2.000000\n",
       "75%           3.000000\n",
       "max         153.000000\n",
       "Name: bedrooms, dtype: float64"
      ]
     },
     "execution_count": 30,
     "metadata": {},
     "output_type": "execute_result"
    }
   ],
   "source": [
    "data.bedrooms.describe()"
   ]
  },
  {
   "cell_type": "markdown",
   "metadata": {},
   "source": [
    "#### Conclusiones preliminares"
   ]
  },
  {
   "cell_type": "markdown",
   "metadata": {},
   "source": [
    "* Las columnas `rooms` y `bedrooms` poseen muchos nulos siempre que los avisos se traten de cocheras, depósitos, locales comerciales, lotes, oficinas, otros. Para las propiedades utilizadas como vivienda en cambio la presencia de nulos es mucho menor. \n",
    "* Dada la alta correlación entre `surface_total` y `surface_covered` y entre `rooms` y `bedrooms`, para los casos en que el par tuviera datos nulos se procederá  a eliminar la fila ante la dificultad para imputar nulos en esos casos. \n",
    "* Para la variable `price` se eliminarán las filas que tenían nulos ya que por ser la variable sobre la cual se constuirá la variable respuesta se decidió no realizar imputación de valores faltantes sobre la misma. "
   ]
  },
  {
   "cell_type": "markdown",
   "metadata": {},
   "source": [
    "#### Procesamiento realizado"
   ]
  },
  {
   "cell_type": "markdown",
   "metadata": {},
   "source": [
    "0) Imputar 0 en las columnas `['rooms','bedrooms']` cuando se trate de cocheras, depósitos, locales comerciales, lotes, oficinas, otros. \n",
    "1) Borrar filas donde los pares de columnas `['rooms','bedrooms']` o `['surface_total','surface_covered']` contengan nulos. \n",
    "2) Intercambiar los valores de las columnas cuando `rooms < bedrooms` o `surface_total < surface_covered`. \n",
    "3) Eliminar filas donde `price` sea nulo. \n",
    "4) Si para una fila uno de los valores de `['surface_total', 'surface_covered']` contiene valor outlier y el otro no es outlier, se le imputó un `NaN` al dato outlier y se dejó dicho valor para ser imputado luego por método MICE. En caso que los dos valores fueran outliers o uno outlier y el otro `NaN` se borró la fila. \n",
    "5) Si para una fila uno de los valores de `['rooms', bedrooms']` contiene valor outlier y el otro no es outlier, se le imputó un `NaN` al dato outlier y se dejó dicho valor para ser imputado luego por método MICE. En caso que los dos valores fueran outliers o uno outlier y el otro `NaN` se borró la fila. \n",
    "6) Se borraron los valores outliers de `price`\n",
    "7) Luego de estos pasos se procedió a imputar los valores nulos con el método multivariado MICE en las columnas `['rooms', bedrooms','surface_total','surface_covered']` utilizando también la variable `price` como predictor. "
   ]
  },
  {
   "cell_type": "markdown",
   "metadata": {},
   "source": [
    "1. Reemplazar rooms y bedrooms 0 para property_type 'Local comercial', 'Depósito', 'Cochera', 'Lote', 'Oficina', 'Otro'"
   ]
  },
  {
   "cell_type": "code",
   "execution_count": 31,
   "metadata": {},
   "outputs": [],
   "source": [
    "data.loc[data.property_type.isin([\"Cochera\",\"Depósito\",\"Local comercial\",\"Lote\",\"Oficina\",\"Otro\"]),[\"rooms\",\"bedrooms\"]] = data.loc[data.property_type.isin([\"Cochera\",\"Depósito\",\"Local comercial\",\"Lote\",\"Oficina\",\"Otro\"]),[\"rooms\",\"bedrooms\"]].fillna(0)"
   ]
  },
  {
   "cell_type": "code",
   "execution_count": 32,
   "metadata": {},
   "outputs": [
    {
     "data": {
      "text/plain": [
       "(178242, 18)"
      ]
     },
     "execution_count": 32,
     "metadata": {},
     "output_type": "execute_result"
    }
   ],
   "source": [
    "data.shape"
   ]
  },
  {
   "cell_type": "code",
   "execution_count": 33,
   "metadata": {},
   "outputs": [],
   "source": [
    "nas_rb = data[data[['rooms', 'bedrooms']].isna().any(axis=1)][['rooms', 'bedrooms', 'l3_norm']].groupby('l3_norm').count()"
   ]
  },
  {
   "cell_type": "markdown",
   "metadata": {},
   "source": [
    "2. Eliminar registros para los que el par `rooms` - `bedrooms` fuera Nan"
   ]
  },
  {
   "cell_type": "code",
   "execution_count": 34,
   "metadata": {},
   "outputs": [
    {
     "data": {
      "text/plain": [
       "(174212, 18)"
      ]
     },
     "execution_count": 34,
     "metadata": {},
     "output_type": "execute_result"
    }
   ],
   "source": [
    "#punto 1\n",
    "data.dropna(subset = ['rooms', 'bedrooms'], how = 'all', inplace = True)\n",
    "data.shape\n"
   ]
  },
  {
   "cell_type": "markdown",
   "metadata": {},
   "source": [
    "3. Eliminar registros para los que el par `surface_total` - `surface_covered` fuera Nan"
   ]
  },
  {
   "cell_type": "code",
   "execution_count": 35,
   "metadata": {},
   "outputs": [
    {
     "data": {
      "text/plain": [
       "(121980, 18)"
      ]
     },
     "execution_count": 35,
     "metadata": {},
     "output_type": "execute_result"
    }
   ],
   "source": [
    "data.dropna(subset = ['surface_total', 'surface_covered'], how = 'all', inplace=True)\n",
    "data.shape"
   ]
  },
  {
   "cell_type": "markdown",
   "metadata": {},
   "source": [
    "3. Eliminar registros con `price` Nan"
   ]
  },
  {
   "cell_type": "code",
   "execution_count": 36,
   "metadata": {},
   "outputs": [
    {
     "data": {
      "text/plain": [
       "(121980, 18)"
      ]
     },
     "execution_count": 36,
     "metadata": {},
     "output_type": "execute_result"
    }
   ],
   "source": [
    "data.dropna(subset =['price'], inplace=True)\n",
    "data.shape"
   ]
  },
  {
   "cell_type": "code",
   "execution_count": 37,
   "metadata": {},
   "outputs": [
    {
     "data": {
      "text/plain": [
       "id                         0\n",
       "start_date                 0\n",
       "end_date                   0\n",
       "lat                        0\n",
       "lon                        0\n",
       "rooms                   1930\n",
       "bedrooms               17208\n",
       "bathrooms              10451\n",
       "surface_total           5365\n",
       "surface_covered         6706\n",
       "price                      0\n",
       "title                      0\n",
       "description                0\n",
       "property_type              0\n",
       "title_cleaned              0\n",
       "description_cleaned        0\n",
       "l3_norm                    0\n",
       "l4_nuevo                   0\n",
       "dtype: int64"
      ]
     },
     "execution_count": 37,
     "metadata": {},
     "output_type": "execute_result"
    }
   ],
   "source": [
    "data.isnull().sum()"
   ]
  },
  {
   "cell_type": "code",
   "execution_count": 38,
   "metadata": {},
   "outputs": [
    {
     "data": {
      "text/html": [
       "<div>\n",
       "<style scoped>\n",
       "    .dataframe tbody tr th:only-of-type {\n",
       "        vertical-align: middle;\n",
       "    }\n",
       "\n",
       "    .dataframe tbody tr th {\n",
       "        vertical-align: top;\n",
       "    }\n",
       "\n",
       "    .dataframe thead th {\n",
       "        text-align: right;\n",
       "    }\n",
       "</style>\n",
       "<table border=\"1\" class=\"dataframe\">\n",
       "  <thead>\n",
       "    <tr style=\"text-align: right;\">\n",
       "      <th></th>\n",
       "      <th>rooms</th>\n",
       "      <th>bedrooms</th>\n",
       "    </tr>\n",
       "    <tr>\n",
       "      <th>property_type</th>\n",
       "      <th></th>\n",
       "      <th></th>\n",
       "    </tr>\n",
       "  </thead>\n",
       "  <tbody>\n",
       "    <tr>\n",
       "      <th>Casa</th>\n",
       "      <td>1086.0</td>\n",
       "      <td>1475.0</td>\n",
       "    </tr>\n",
       "    <tr>\n",
       "      <th>Cochera</th>\n",
       "      <td>0.0</td>\n",
       "      <td>0.0</td>\n",
       "    </tr>\n",
       "    <tr>\n",
       "      <th>Departamento</th>\n",
       "      <td>665.0</td>\n",
       "      <td>15522.0</td>\n",
       "    </tr>\n",
       "    <tr>\n",
       "      <th>Depósito</th>\n",
       "      <td>0.0</td>\n",
       "      <td>0.0</td>\n",
       "    </tr>\n",
       "    <tr>\n",
       "      <th>Local comercial</th>\n",
       "      <td>0.0</td>\n",
       "      <td>0.0</td>\n",
       "    </tr>\n",
       "    <tr>\n",
       "      <th>Lote</th>\n",
       "      <td>0.0</td>\n",
       "      <td>0.0</td>\n",
       "    </tr>\n",
       "    <tr>\n",
       "      <th>Oficina</th>\n",
       "      <td>0.0</td>\n",
       "      <td>0.0</td>\n",
       "    </tr>\n",
       "    <tr>\n",
       "      <th>Otro</th>\n",
       "      <td>0.0</td>\n",
       "      <td>0.0</td>\n",
       "    </tr>\n",
       "    <tr>\n",
       "      <th>PH</th>\n",
       "      <td>179.0</td>\n",
       "      <td>211.0</td>\n",
       "    </tr>\n",
       "  </tbody>\n",
       "</table>\n",
       "</div>"
      ],
      "text/plain": [
       "                  rooms  bedrooms\n",
       "property_type                    \n",
       "Casa             1086.0    1475.0\n",
       "Cochera             0.0       0.0\n",
       "Departamento      665.0   15522.0\n",
       "Depósito            0.0       0.0\n",
       "Local comercial     0.0       0.0\n",
       "Lote                0.0       0.0\n",
       "Oficina             0.0       0.0\n",
       "Otro                0.0       0.0\n",
       "PH                179.0     211.0"
      ]
     },
     "execution_count": 38,
     "metadata": {},
     "output_type": "execute_result"
    }
   ],
   "source": [
    "data[['rooms','bedrooms']].isnull().groupby(data['property_type']).sum()"
   ]
  },
  {
   "cell_type": "markdown",
   "metadata": {},
   "source": [
    "4. Invertir valores para los registros cuya `surface_total` fuera menor a `surface_covered`, y cuyo valor en `bedrooms` fuera menor al de `rooms`"
   ]
  },
  {
   "cell_type": "code",
   "execution_count": 39,
   "metadata": {},
   "outputs": [],
   "source": [
    "#punto 2\n",
    "idx = data[data.surface_total<data.surface_covered].index\n",
    "data.loc[idx,['surface_total','surface_covered']] = data.loc[idx,['surface_covered','surface_total']].values\n",
    "\n",
    "idx = data[data.rooms<data.bedrooms].index\n",
    "data.loc[idx,['rooms','bedrooms']] = data.loc[idx,['bedrooms','rooms']].values"
   ]
  },
  {
   "cell_type": "markdown",
   "metadata": {},
   "source": [
    "5. Si para un registro uno de los valores de ['surface_total', 'surface_covered'] contiene valor outlier y el otro no es outlier, se le imputó un NaN al dato outlier y se dejó dicho valor para ser imputado luego si correspondiera. Si ambos valores son outliers, se eliminó la fila."
   ]
  },
  {
   "cell_type": "code",
   "execution_count": 40,
   "metadata": {},
   "outputs": [],
   "source": [
    "#Generamos quantiles .01 y .99 para surface_total\n",
    "data_st = data[['l3_norm', 'property_type', 'surface_total', 'rooms']]\n",
    "data_st_q99 = data_st.groupby(['l3_norm', 'property_type', 'rooms']).quantile(.99)\n",
    "data_st_q99.rename(columns = {'surface_total':'p99_surface_total'}, inplace = True)\n",
    "\n",
    "data_sc = data[['l3_norm', 'property_type', 'surface_covered', 'rooms']]\n",
    "data_sc_q99 = data_sc.groupby(['l3_norm', 'property_type', 'rooms']).quantile(.99)\n",
    "data_sc_q99.rename(columns = {'surface_covered':'p99_surface_covered'}, inplace = True)"
   ]
  },
  {
   "cell_type": "code",
   "execution_count": 41,
   "metadata": {},
   "outputs": [],
   "source": [
    "data = data.merge(data_st_q99, how = \"left\", on = (['l3_norm', 'property_type', 'rooms']))\n",
    "data = data.merge(data_sc_q99, how = \"left\", on = (['l3_norm', 'property_type', 'rooms']))"
   ]
  },
  {
   "cell_type": "code",
   "execution_count": 42,
   "metadata": {},
   "outputs": [],
   "source": [
    "##Generamos quantiles .01 y .99 para surface_covered\n",
    "data_st_q01 = data_st.groupby(['l3_norm', 'property_type', 'rooms']).quantile(.01)\n",
    "data_st_q01.rename(columns = {'surface_total':'p01_surface_total'}, inplace = True)\n",
    "\n",
    "data_sc_q01 = data_sc.groupby(['l3_norm', 'property_type', 'rooms']).quantile(.01)\n",
    "data_sc_q01.rename(columns = {'surface_covered':'p01_surface_covered'}, inplace = True)"
   ]
  },
  {
   "cell_type": "code",
   "execution_count": 43,
   "metadata": {},
   "outputs": [],
   "source": [
    "data = data.merge(data_st_q01, how = \"left\", on = (['l3_norm', 'property_type', 'rooms']))\n",
    "data = data.merge(data_sc_q01, how = \"left\", on = (['l3_norm', 'property_type', 'rooms']))"
   ]
  },
  {
   "cell_type": "code",
   "execution_count": 44,
   "metadata": {},
   "outputs": [
    {
     "data": {
      "text/html": [
       "<div>\n",
       "<style scoped>\n",
       "    .dataframe tbody tr th:only-of-type {\n",
       "        vertical-align: middle;\n",
       "    }\n",
       "\n",
       "    .dataframe tbody tr th {\n",
       "        vertical-align: top;\n",
       "    }\n",
       "\n",
       "    .dataframe thead th {\n",
       "        text-align: right;\n",
       "    }\n",
       "</style>\n",
       "<table border=\"1\" class=\"dataframe\">\n",
       "  <thead>\n",
       "    <tr style=\"text-align: right;\">\n",
       "      <th></th>\n",
       "      <th>id</th>\n",
       "      <th>start_date</th>\n",
       "      <th>end_date</th>\n",
       "      <th>lat</th>\n",
       "      <th>lon</th>\n",
       "      <th>rooms</th>\n",
       "      <th>bedrooms</th>\n",
       "      <th>bathrooms</th>\n",
       "      <th>surface_total</th>\n",
       "      <th>surface_covered</th>\n",
       "      <th>...</th>\n",
       "      <th>description</th>\n",
       "      <th>property_type</th>\n",
       "      <th>title_cleaned</th>\n",
       "      <th>description_cleaned</th>\n",
       "      <th>l3_norm</th>\n",
       "      <th>l4_nuevo</th>\n",
       "      <th>p99_surface_total</th>\n",
       "      <th>p99_surface_covered</th>\n",
       "      <th>p01_surface_total</th>\n",
       "      <th>p01_surface_covered</th>\n",
       "    </tr>\n",
       "  </thead>\n",
       "  <tbody>\n",
       "    <tr>\n",
       "      <th>102</th>\n",
       "      <td>PemU7aTq7eOemVs2VhELog==</td>\n",
       "      <td>2021-03-21</td>\n",
       "      <td>2021-08-08</td>\n",
       "      <td>-34.583765</td>\n",
       "      <td>-58.438449</td>\n",
       "      <td>4.0</td>\n",
       "      <td>2.0</td>\n",
       "      <td>1.0</td>\n",
       "      <td>59.0</td>\n",
       "      <td>51.0</td>\n",
       "      <td>...</td>\n",
       "      <td>Corredor Responsable: MAURO MARVISI - CPI 1762...</td>\n",
       "      <td>Departamento</td>\n",
       "      <td>venta dpto tres ambientes palermo hollywood</td>\n",
       "      <td>corredor responsable mauro marvisi cpi 1762 cs...</td>\n",
       "      <td>Palermo</td>\n",
       "      <td>Palermo</td>\n",
       "      <td>390.00</td>\n",
       "      <td>320.00</td>\n",
       "      <td>65.00</td>\n",
       "      <td>61.00</td>\n",
       "    </tr>\n",
       "    <tr>\n",
       "      <th>162</th>\n",
       "      <td>9a8rX1nJeJQvLQnThubSgA==</td>\n",
       "      <td>2021-03-21</td>\n",
       "      <td>2021-03-23</td>\n",
       "      <td>-34.604538</td>\n",
       "      <td>-58.424956</td>\n",
       "      <td>1.0</td>\n",
       "      <td>NaN</td>\n",
       "      <td>1.0</td>\n",
       "      <td>93.0</td>\n",
       "      <td>55.0</td>\n",
       "      <td>...</td>\n",
       "      <td>Departamento monoambiente al frente.</td>\n",
       "      <td>Departamento</td>\n",
       "      <td>departamento almagro norte</td>\n",
       "      <td>departamento monoambiente al frente</td>\n",
       "      <td>Almagro</td>\n",
       "      <td>Almagro</td>\n",
       "      <td>70.00</td>\n",
       "      <td>52.92</td>\n",
       "      <td>18.00</td>\n",
       "      <td>18.00</td>\n",
       "    </tr>\n",
       "    <tr>\n",
       "      <th>301</th>\n",
       "      <td>uwMVSyXStSbBGCECdHTLRg==</td>\n",
       "      <td>2021-03-21</td>\n",
       "      <td>2021-06-05</td>\n",
       "      <td>-34.634389</td>\n",
       "      <td>-58.439524</td>\n",
       "      <td>7.0</td>\n",
       "      <td>3.0</td>\n",
       "      <td>5.0</td>\n",
       "      <td>251.0</td>\n",
       "      <td>188.0</td>\n",
       "      <td>...</td>\n",
       "      <td>EXTRAORDINARIO DUPLEX EN ALTURA FRENTE AL PARQ...</td>\n",
       "      <td>Departamento</td>\n",
       "      <td>departamento parque chacabuco</td>\n",
       "      <td>extraordinario duplex en altura frente al parq...</td>\n",
       "      <td>Parque Chacabuco</td>\n",
       "      <td>Parque Chacabuco</td>\n",
       "      <td>249.52</td>\n",
       "      <td>187.18</td>\n",
       "      <td>170.14</td>\n",
       "      <td>147.00</td>\n",
       "    </tr>\n",
       "    <tr>\n",
       "      <th>318</th>\n",
       "      <td>zUCi4fvmZB/BC32qhmdDag==</td>\n",
       "      <td>2020-06-09</td>\n",
       "      <td>2020-06-17</td>\n",
       "      <td>-34.578064</td>\n",
       "      <td>-58.426533</td>\n",
       "      <td>3.0</td>\n",
       "      <td>0.0</td>\n",
       "      <td>2.0</td>\n",
       "      <td>300.0</td>\n",
       "      <td>300.0</td>\n",
       "      <td>...</td>\n",
       "      <td>INMOBILIARIA VENDE FONDO DE COMERCIO SALON DE ...</td>\n",
       "      <td>Local comercial</td>\n",
       "      <td>victor hugo 1100 100 u d 20000 fondo de comerc...</td>\n",
       "      <td>inmobiliaria vende fondo de comercio salon de ...</td>\n",
       "      <td>Villa Luro</td>\n",
       "      <td>Villa Luro</td>\n",
       "      <td>298.40</td>\n",
       "      <td>298.10</td>\n",
       "      <td>141.60</td>\n",
       "      <td>111.90</td>\n",
       "    </tr>\n",
       "    <tr>\n",
       "      <th>330</th>\n",
       "      <td>xD39tzWmELkh4+9xepoh/g==</td>\n",
       "      <td>2020-06-09</td>\n",
       "      <td>2021-04-09</td>\n",
       "      <td>-34.632771</td>\n",
       "      <td>-58.461178</td>\n",
       "      <td>3.0</td>\n",
       "      <td>NaN</td>\n",
       "      <td>3.0</td>\n",
       "      <td>270.0</td>\n",
       "      <td>250.0</td>\n",
       "      <td>...</td>\n",
       "      <td>Excelente piso de 4 ambientes 250 m2 cubiertos...</td>\n",
       "      <td>Departamento</td>\n",
       "      <td>rivera indarte 300 5 u d 590000 departamento e...</td>\n",
       "      <td>excelente piso de 4 ambientes 250 m2 cubiertos...</td>\n",
       "      <td>Caballito</td>\n",
       "      <td>Caballito</td>\n",
       "      <td>181.64</td>\n",
       "      <td>140.04</td>\n",
       "      <td>44.00</td>\n",
       "      <td>43.00</td>\n",
       "    </tr>\n",
       "    <tr>\n",
       "      <th>...</th>\n",
       "      <td>...</td>\n",
       "      <td>...</td>\n",
       "      <td>...</td>\n",
       "      <td>...</td>\n",
       "      <td>...</td>\n",
       "      <td>...</td>\n",
       "      <td>...</td>\n",
       "      <td>...</td>\n",
       "      <td>...</td>\n",
       "      <td>...</td>\n",
       "      <td>...</td>\n",
       "      <td>...</td>\n",
       "      <td>...</td>\n",
       "      <td>...</td>\n",
       "      <td>...</td>\n",
       "      <td>...</td>\n",
       "      <td>...</td>\n",
       "      <td>...</td>\n",
       "      <td>...</td>\n",
       "      <td>...</td>\n",
       "      <td>...</td>\n",
       "    </tr>\n",
       "    <tr>\n",
       "      <th>121936</th>\n",
       "      <td>qvQt6l7JzZCIt62s6UseYQ==</td>\n",
       "      <td>2020-12-04</td>\n",
       "      <td>2021-01-02</td>\n",
       "      <td>-34.610644</td>\n",
       "      <td>-58.387501</td>\n",
       "      <td>4.0</td>\n",
       "      <td>3.0</td>\n",
       "      <td>2.0</td>\n",
       "      <td>256.0</td>\n",
       "      <td>108.0</td>\n",
       "      <td>...</td>\n",
       "      <td>Corredor Responsable: Maria Badino  - CUCICBA ...</td>\n",
       "      <td>Departamento</td>\n",
       "      <td>departamento 3 amb 3 e pisos y terraza 256 m2</td>\n",
       "      <td>corredor responsable maria badino cucicba 7586...</td>\n",
       "      <td>Balvanera</td>\n",
       "      <td>Congreso</td>\n",
       "      <td>210.83</td>\n",
       "      <td>190.00</td>\n",
       "      <td>56.00</td>\n",
       "      <td>52.32</td>\n",
       "    </tr>\n",
       "    <tr>\n",
       "      <th>121942</th>\n",
       "      <td>BHYBAC9cJaTbCILCLCusuA==</td>\n",
       "      <td>2020-12-04</td>\n",
       "      <td>2021-02-17</td>\n",
       "      <td>-34.591076</td>\n",
       "      <td>-58.398509</td>\n",
       "      <td>4.0</td>\n",
       "      <td>3.0</td>\n",
       "      <td>1.0</td>\n",
       "      <td>61.0</td>\n",
       "      <td>55.0</td>\n",
       "      <td>...</td>\n",
       "      <td>&lt;br&gt;&lt;br&gt;Corredor interviniente CABA y PBA : Ju...</td>\n",
       "      <td>Departamento</td>\n",
       "      <td>departamento recoleta</td>\n",
       "      <td>br br corredor interviniente caba y pba juan p...</td>\n",
       "      <td>Recoleta</td>\n",
       "      <td>Recoleta</td>\n",
       "      <td>345.30</td>\n",
       "      <td>299.30</td>\n",
       "      <td>70.00</td>\n",
       "      <td>64.00</td>\n",
       "    </tr>\n",
       "    <tr>\n",
       "      <th>121957</th>\n",
       "      <td>kEVQxU5Mw3p5L8BVuRdP6Q==</td>\n",
       "      <td>2020-12-04</td>\n",
       "      <td>9999-12-31</td>\n",
       "      <td>-34.587736</td>\n",
       "      <td>-58.417551</td>\n",
       "      <td>5.0</td>\n",
       "      <td>3.0</td>\n",
       "      <td>2.0</td>\n",
       "      <td>568.0</td>\n",
       "      <td>452.0</td>\n",
       "      <td>...</td>\n",
       "      <td>Casona señorial declarada Patrimonio Histórico...</td>\n",
       "      <td>Local comercial</td>\n",
       "      <td>casa palermo</td>\n",
       "      <td>casona senorial declarada patrimonio historico...</td>\n",
       "      <td>Palermo</td>\n",
       "      <td>Palermo</td>\n",
       "      <td>559.90</td>\n",
       "      <td>449.40</td>\n",
       "      <td>170.00</td>\n",
       "      <td>151.00</td>\n",
       "    </tr>\n",
       "    <tr>\n",
       "      <th>121958</th>\n",
       "      <td>Adcee8H5XBFNsAXmRe4Psg==</td>\n",
       "      <td>2020-12-04</td>\n",
       "      <td>2020-12-09</td>\n",
       "      <td>-34.641483</td>\n",
       "      <td>-58.420296</td>\n",
       "      <td>5.0</td>\n",
       "      <td>4.0</td>\n",
       "      <td>2.0</td>\n",
       "      <td>106.0</td>\n",
       "      <td>90.0</td>\n",
       "      <td>...</td>\n",
       "      <td>Corredor Responsable: Martin Macagno - CUCICBA...</td>\n",
       "      <td>PH</td>\n",
       "      <td>ph venta pompeya 5amb con patio y terraza</td>\n",
       "      <td>corredor responsable martin macagno cucicba 62...</td>\n",
       "      <td>Nueva Pompeya</td>\n",
       "      <td>Pompeya</td>\n",
       "      <td>290.92</td>\n",
       "      <td>170.00</td>\n",
       "      <td>106.24</td>\n",
       "      <td>82.64</td>\n",
       "    </tr>\n",
       "    <tr>\n",
       "      <th>121964</th>\n",
       "      <td>e2OtfURn342BXVvLFVmu1Q==</td>\n",
       "      <td>2020-12-04</td>\n",
       "      <td>2021-08-03</td>\n",
       "      <td>-34.586271</td>\n",
       "      <td>-58.394474</td>\n",
       "      <td>6.0</td>\n",
       "      <td>4.0</td>\n",
       "      <td>4.0</td>\n",
       "      <td>250.0</td>\n",
       "      <td>250.0</td>\n",
       "      <td>...</td>\n",
       "      <td>Corredor Responsable: Pamela Suárez - CPI 5334...</td>\n",
       "      <td>Otro</td>\n",
       "      <td>venta depto 6 ambientes 2 cocheras fijas recoleta</td>\n",
       "      <td>corredor responsable pamela suarez cpi 5334con...</td>\n",
       "      <td>Recoleta</td>\n",
       "      <td>Recoleta</td>\n",
       "      <td>361.87</td>\n",
       "      <td>339.10</td>\n",
       "      <td>251.13</td>\n",
       "      <td>250.90</td>\n",
       "    </tr>\n",
       "  </tbody>\n",
       "</table>\n",
       "<p>3819 rows × 22 columns</p>\n",
       "</div>"
      ],
      "text/plain": [
       "                              id  start_date    end_date        lat  \\\n",
       "102     PemU7aTq7eOemVs2VhELog==  2021-03-21  2021-08-08 -34.583765   \n",
       "162     9a8rX1nJeJQvLQnThubSgA==  2021-03-21  2021-03-23 -34.604538   \n",
       "301     uwMVSyXStSbBGCECdHTLRg==  2021-03-21  2021-06-05 -34.634389   \n",
       "318     zUCi4fvmZB/BC32qhmdDag==  2020-06-09  2020-06-17 -34.578064   \n",
       "330     xD39tzWmELkh4+9xepoh/g==  2020-06-09  2021-04-09 -34.632771   \n",
       "...                          ...         ...         ...        ...   \n",
       "121936  qvQt6l7JzZCIt62s6UseYQ==  2020-12-04  2021-01-02 -34.610644   \n",
       "121942  BHYBAC9cJaTbCILCLCusuA==  2020-12-04  2021-02-17 -34.591076   \n",
       "121957  kEVQxU5Mw3p5L8BVuRdP6Q==  2020-12-04  9999-12-31 -34.587736   \n",
       "121958  Adcee8H5XBFNsAXmRe4Psg==  2020-12-04  2020-12-09 -34.641483   \n",
       "121964  e2OtfURn342BXVvLFVmu1Q==  2020-12-04  2021-08-03 -34.586271   \n",
       "\n",
       "              lon  rooms  bedrooms  bathrooms  surface_total  surface_covered  \\\n",
       "102    -58.438449    4.0       2.0        1.0           59.0             51.0   \n",
       "162    -58.424956    1.0       NaN        1.0           93.0             55.0   \n",
       "301    -58.439524    7.0       3.0        5.0          251.0            188.0   \n",
       "318    -58.426533    3.0       0.0        2.0          300.0            300.0   \n",
       "330    -58.461178    3.0       NaN        3.0          270.0            250.0   \n",
       "...           ...    ...       ...        ...            ...              ...   \n",
       "121936 -58.387501    4.0       3.0        2.0          256.0            108.0   \n",
       "121942 -58.398509    4.0       3.0        1.0           61.0             55.0   \n",
       "121957 -58.417551    5.0       3.0        2.0          568.0            452.0   \n",
       "121958 -58.420296    5.0       4.0        2.0          106.0             90.0   \n",
       "121964 -58.394474    6.0       4.0        4.0          250.0            250.0   \n",
       "\n",
       "        ...                                        description  \\\n",
       "102     ...  Corredor Responsable: MAURO MARVISI - CPI 1762...   \n",
       "162     ...               Departamento monoambiente al frente.   \n",
       "301     ...  EXTRAORDINARIO DUPLEX EN ALTURA FRENTE AL PARQ...   \n",
       "318     ...  INMOBILIARIA VENDE FONDO DE COMERCIO SALON DE ...   \n",
       "330     ...  Excelente piso de 4 ambientes 250 m2 cubiertos...   \n",
       "...     ...                                                ...   \n",
       "121936  ...  Corredor Responsable: Maria Badino  - CUCICBA ...   \n",
       "121942  ...  <br><br>Corredor interviniente CABA y PBA : Ju...   \n",
       "121957  ...  Casona señorial declarada Patrimonio Histórico...   \n",
       "121958  ...  Corredor Responsable: Martin Macagno - CUCICBA...   \n",
       "121964  ...  Corredor Responsable: Pamela Suárez - CPI 5334...   \n",
       "\n",
       "          property_type                                      title_cleaned  \\\n",
       "102        Departamento        venta dpto tres ambientes palermo hollywood   \n",
       "162        Departamento                         departamento almagro norte   \n",
       "301        Departamento                      departamento parque chacabuco   \n",
       "318     Local comercial  victor hugo 1100 100 u d 20000 fondo de comerc...   \n",
       "330        Departamento  rivera indarte 300 5 u d 590000 departamento e...   \n",
       "...                 ...                                                ...   \n",
       "121936     Departamento      departamento 3 amb 3 e pisos y terraza 256 m2   \n",
       "121942     Departamento                              departamento recoleta   \n",
       "121957  Local comercial                                       casa palermo   \n",
       "121958               PH          ph venta pompeya 5amb con patio y terraza   \n",
       "121964             Otro  venta depto 6 ambientes 2 cocheras fijas recoleta   \n",
       "\n",
       "                                      description_cleaned           l3_norm  \\\n",
       "102     corredor responsable mauro marvisi cpi 1762 cs...           Palermo   \n",
       "162                   departamento monoambiente al frente           Almagro   \n",
       "301     extraordinario duplex en altura frente al parq...  Parque Chacabuco   \n",
       "318     inmobiliaria vende fondo de comercio salon de ...        Villa Luro   \n",
       "330     excelente piso de 4 ambientes 250 m2 cubiertos...         Caballito   \n",
       "...                                                   ...               ...   \n",
       "121936  corredor responsable maria badino cucicba 7586...         Balvanera   \n",
       "121942  br br corredor interviniente caba y pba juan p...          Recoleta   \n",
       "121957  casona senorial declarada patrimonio historico...           Palermo   \n",
       "121958  corredor responsable martin macagno cucicba 62...     Nueva Pompeya   \n",
       "121964  corredor responsable pamela suarez cpi 5334con...          Recoleta   \n",
       "\n",
       "                l4_nuevo p99_surface_total p99_surface_covered  \\\n",
       "102              Palermo            390.00              320.00   \n",
       "162              Almagro             70.00               52.92   \n",
       "301     Parque Chacabuco            249.52              187.18   \n",
       "318           Villa Luro            298.40              298.10   \n",
       "330            Caballito            181.64              140.04   \n",
       "...                  ...               ...                 ...   \n",
       "121936          Congreso            210.83              190.00   \n",
       "121942          Recoleta            345.30              299.30   \n",
       "121957           Palermo            559.90              449.40   \n",
       "121958           Pompeya            290.92              170.00   \n",
       "121964          Recoleta            361.87              339.10   \n",
       "\n",
       "        p01_surface_total  p01_surface_covered  \n",
       "102                 65.00                61.00  \n",
       "162                 18.00                18.00  \n",
       "301                170.14               147.00  \n",
       "318                141.60               111.90  \n",
       "330                 44.00                43.00  \n",
       "...                   ...                  ...  \n",
       "121936              56.00                52.32  \n",
       "121942              70.00                64.00  \n",
       "121957             170.00               151.00  \n",
       "121958             106.24                82.64  \n",
       "121964             251.13               250.90  \n",
       "\n",
       "[3819 rows x 22 columns]"
      ]
     },
     "execution_count": 44,
     "metadata": {},
     "output_type": "execute_result"
    }
   ],
   "source": [
    "# Registros con un outlier en surface_total\n",
    "data[(data['surface_total'] > data['p99_surface_total']) | (data['surface_total'] < data['p01_surface_total'])]"
   ]
  },
  {
   "cell_type": "code",
   "execution_count": 45,
   "metadata": {},
   "outputs": [
    {
     "data": {
      "text/html": [
       "<div>\n",
       "<style scoped>\n",
       "    .dataframe tbody tr th:only-of-type {\n",
       "        vertical-align: middle;\n",
       "    }\n",
       "\n",
       "    .dataframe tbody tr th {\n",
       "        vertical-align: top;\n",
       "    }\n",
       "\n",
       "    .dataframe thead th {\n",
       "        text-align: right;\n",
       "    }\n",
       "</style>\n",
       "<table border=\"1\" class=\"dataframe\">\n",
       "  <thead>\n",
       "    <tr style=\"text-align: right;\">\n",
       "      <th></th>\n",
       "      <th>id</th>\n",
       "      <th>start_date</th>\n",
       "      <th>end_date</th>\n",
       "      <th>lat</th>\n",
       "      <th>lon</th>\n",
       "      <th>rooms</th>\n",
       "      <th>bedrooms</th>\n",
       "      <th>bathrooms</th>\n",
       "      <th>surface_total</th>\n",
       "      <th>surface_covered</th>\n",
       "      <th>...</th>\n",
       "      <th>description</th>\n",
       "      <th>property_type</th>\n",
       "      <th>title_cleaned</th>\n",
       "      <th>description_cleaned</th>\n",
       "      <th>l3_norm</th>\n",
       "      <th>l4_nuevo</th>\n",
       "      <th>p99_surface_total</th>\n",
       "      <th>p99_surface_covered</th>\n",
       "      <th>p01_surface_total</th>\n",
       "      <th>p01_surface_covered</th>\n",
       "    </tr>\n",
       "  </thead>\n",
       "  <tbody>\n",
       "    <tr>\n",
       "      <th>3</th>\n",
       "      <td>+KGGxikZuWylLGEfAS1QQQ==</td>\n",
       "      <td>2020-08-22</td>\n",
       "      <td>2020-09-04</td>\n",
       "      <td>-34.603233</td>\n",
       "      <td>-58.385218</td>\n",
       "      <td>1.0</td>\n",
       "      <td>0.0</td>\n",
       "      <td>1.0</td>\n",
       "      <td>NaN</td>\n",
       "      <td>12.0</td>\n",
       "      <td>...</td>\n",
       "      <td>VENTA DE OFICINA A METROS DEL PALACIO DE TRIBU...</td>\n",
       "      <td>Oficina</td>\n",
       "      <td>oficina san nicolas</td>\n",
       "      <td>venta de oficina a metros del palacio de tribu...</td>\n",
       "      <td>San Nicolas</td>\n",
       "      <td>San Nicolas</td>\n",
       "      <td>240.64</td>\n",
       "      <td>462.68</td>\n",
       "      <td>17.00</td>\n",
       "      <td>16.00</td>\n",
       "    </tr>\n",
       "    <tr>\n",
       "      <th>102</th>\n",
       "      <td>PemU7aTq7eOemVs2VhELog==</td>\n",
       "      <td>2021-03-21</td>\n",
       "      <td>2021-08-08</td>\n",
       "      <td>-34.583765</td>\n",
       "      <td>-58.438449</td>\n",
       "      <td>4.0</td>\n",
       "      <td>2.0</td>\n",
       "      <td>1.0</td>\n",
       "      <td>59.0</td>\n",
       "      <td>51.0</td>\n",
       "      <td>...</td>\n",
       "      <td>Corredor Responsable: MAURO MARVISI - CPI 1762...</td>\n",
       "      <td>Departamento</td>\n",
       "      <td>venta dpto tres ambientes palermo hollywood</td>\n",
       "      <td>corredor responsable mauro marvisi cpi 1762 cs...</td>\n",
       "      <td>Palermo</td>\n",
       "      <td>Palermo</td>\n",
       "      <td>390.00</td>\n",
       "      <td>320.00</td>\n",
       "      <td>65.00</td>\n",
       "      <td>61.00</td>\n",
       "    </tr>\n",
       "    <tr>\n",
       "      <th>162</th>\n",
       "      <td>9a8rX1nJeJQvLQnThubSgA==</td>\n",
       "      <td>2021-03-21</td>\n",
       "      <td>2021-03-23</td>\n",
       "      <td>-34.604538</td>\n",
       "      <td>-58.424956</td>\n",
       "      <td>1.0</td>\n",
       "      <td>NaN</td>\n",
       "      <td>1.0</td>\n",
       "      <td>93.0</td>\n",
       "      <td>55.0</td>\n",
       "      <td>...</td>\n",
       "      <td>Departamento monoambiente al frente.</td>\n",
       "      <td>Departamento</td>\n",
       "      <td>departamento almagro norte</td>\n",
       "      <td>departamento monoambiente al frente</td>\n",
       "      <td>Almagro</td>\n",
       "      <td>Almagro</td>\n",
       "      <td>70.00</td>\n",
       "      <td>52.92</td>\n",
       "      <td>18.00</td>\n",
       "      <td>18.00</td>\n",
       "    </tr>\n",
       "    <tr>\n",
       "      <th>249</th>\n",
       "      <td>asQZI0Zh5PP0G5cd/dBLLg==</td>\n",
       "      <td>2021-03-21</td>\n",
       "      <td>2021-06-05</td>\n",
       "      <td>-34.609406</td>\n",
       "      <td>-58.362788</td>\n",
       "      <td>2.0</td>\n",
       "      <td>1.0</td>\n",
       "      <td>1.0</td>\n",
       "      <td>NaN</td>\n",
       "      <td>34.0</td>\n",
       "      <td>...</td>\n",
       "      <td>Las mejores vistas de Puerto Madero, el barrio...</td>\n",
       "      <td>Departamento</td>\n",
       "      <td>venta departamento puerto madero</td>\n",
       "      <td>las mejores vistas de puerto madero el barrio ...</td>\n",
       "      <td>Puerto Madero</td>\n",
       "      <td>Puerto Madero</td>\n",
       "      <td>154.26</td>\n",
       "      <td>153.00</td>\n",
       "      <td>47.00</td>\n",
       "      <td>42.00</td>\n",
       "    </tr>\n",
       "    <tr>\n",
       "      <th>301</th>\n",
       "      <td>uwMVSyXStSbBGCECdHTLRg==</td>\n",
       "      <td>2021-03-21</td>\n",
       "      <td>2021-06-05</td>\n",
       "      <td>-34.634389</td>\n",
       "      <td>-58.439524</td>\n",
       "      <td>7.0</td>\n",
       "      <td>3.0</td>\n",
       "      <td>5.0</td>\n",
       "      <td>251.0</td>\n",
       "      <td>188.0</td>\n",
       "      <td>...</td>\n",
       "      <td>EXTRAORDINARIO DUPLEX EN ALTURA FRENTE AL PARQ...</td>\n",
       "      <td>Departamento</td>\n",
       "      <td>departamento parque chacabuco</td>\n",
       "      <td>extraordinario duplex en altura frente al parq...</td>\n",
       "      <td>Parque Chacabuco</td>\n",
       "      <td>Parque Chacabuco</td>\n",
       "      <td>249.52</td>\n",
       "      <td>187.18</td>\n",
       "      <td>170.14</td>\n",
       "      <td>147.00</td>\n",
       "    </tr>\n",
       "    <tr>\n",
       "      <th>...</th>\n",
       "      <td>...</td>\n",
       "      <td>...</td>\n",
       "      <td>...</td>\n",
       "      <td>...</td>\n",
       "      <td>...</td>\n",
       "      <td>...</td>\n",
       "      <td>...</td>\n",
       "      <td>...</td>\n",
       "      <td>...</td>\n",
       "      <td>...</td>\n",
       "      <td>...</td>\n",
       "      <td>...</td>\n",
       "      <td>...</td>\n",
       "      <td>...</td>\n",
       "      <td>...</td>\n",
       "      <td>...</td>\n",
       "      <td>...</td>\n",
       "      <td>...</td>\n",
       "      <td>...</td>\n",
       "      <td>...</td>\n",
       "      <td>...</td>\n",
       "    </tr>\n",
       "    <tr>\n",
       "      <th>121910</th>\n",
       "      <td>4MUVmvijBYcyNmJ9XPNJfw==</td>\n",
       "      <td>2020-12-04</td>\n",
       "      <td>2020-12-30</td>\n",
       "      <td>-34.594509</td>\n",
       "      <td>-58.413244</td>\n",
       "      <td>4.0</td>\n",
       "      <td>3.0</td>\n",
       "      <td>1.0</td>\n",
       "      <td>63.0</td>\n",
       "      <td>52.0</td>\n",
       "      <td>...</td>\n",
       "      <td>Luminoso departamento de tres ambientes al fre...</td>\n",
       "      <td>Oficina</td>\n",
       "      <td>4 ambientes billinghurst al 1300 recoleta</td>\n",
       "      <td>luminoso departamento de tres ambientes al fre...</td>\n",
       "      <td>Recoleta</td>\n",
       "      <td>Recoleta</td>\n",
       "      <td>133.58</td>\n",
       "      <td>123.55</td>\n",
       "      <td>58.70</td>\n",
       "      <td>52.90</td>\n",
       "    </tr>\n",
       "    <tr>\n",
       "      <th>121911</th>\n",
       "      <td>YK2Ith6/v1ejgsxOeBy5Yg==</td>\n",
       "      <td>2020-12-04</td>\n",
       "      <td>2020-12-30</td>\n",
       "      <td>-34.594509</td>\n",
       "      <td>-58.413244</td>\n",
       "      <td>4.0</td>\n",
       "      <td>3.0</td>\n",
       "      <td>1.0</td>\n",
       "      <td>63.0</td>\n",
       "      <td>52.0</td>\n",
       "      <td>...</td>\n",
       "      <td>Luminoso departamento de tres ambientes al fre...</td>\n",
       "      <td>Oficina</td>\n",
       "      <td>4 ambientes billinghurst al 1300 recoleta</td>\n",
       "      <td>luminoso departamento de tres ambientes al fre...</td>\n",
       "      <td>Barrio Norte</td>\n",
       "      <td>Barrio Norte</td>\n",
       "      <td>148.00</td>\n",
       "      <td>138.20</td>\n",
       "      <td>63.30</td>\n",
       "      <td>52.48</td>\n",
       "    </tr>\n",
       "    <tr>\n",
       "      <th>121942</th>\n",
       "      <td>BHYBAC9cJaTbCILCLCusuA==</td>\n",
       "      <td>2020-12-04</td>\n",
       "      <td>2021-02-17</td>\n",
       "      <td>-34.591076</td>\n",
       "      <td>-58.398509</td>\n",
       "      <td>4.0</td>\n",
       "      <td>3.0</td>\n",
       "      <td>1.0</td>\n",
       "      <td>61.0</td>\n",
       "      <td>55.0</td>\n",
       "      <td>...</td>\n",
       "      <td>&lt;br&gt;&lt;br&gt;Corredor interviniente CABA y PBA : Ju...</td>\n",
       "      <td>Departamento</td>\n",
       "      <td>departamento recoleta</td>\n",
       "      <td>br br corredor interviniente caba y pba juan p...</td>\n",
       "      <td>Recoleta</td>\n",
       "      <td>Recoleta</td>\n",
       "      <td>345.30</td>\n",
       "      <td>299.30</td>\n",
       "      <td>70.00</td>\n",
       "      <td>64.00</td>\n",
       "    </tr>\n",
       "    <tr>\n",
       "      <th>121957</th>\n",
       "      <td>kEVQxU5Mw3p5L8BVuRdP6Q==</td>\n",
       "      <td>2020-12-04</td>\n",
       "      <td>9999-12-31</td>\n",
       "      <td>-34.587736</td>\n",
       "      <td>-58.417551</td>\n",
       "      <td>5.0</td>\n",
       "      <td>3.0</td>\n",
       "      <td>2.0</td>\n",
       "      <td>568.0</td>\n",
       "      <td>452.0</td>\n",
       "      <td>...</td>\n",
       "      <td>Casona señorial declarada Patrimonio Histórico...</td>\n",
       "      <td>Local comercial</td>\n",
       "      <td>casa palermo</td>\n",
       "      <td>casona senorial declarada patrimonio historico...</td>\n",
       "      <td>Palermo</td>\n",
       "      <td>Palermo</td>\n",
       "      <td>559.90</td>\n",
       "      <td>449.40</td>\n",
       "      <td>170.00</td>\n",
       "      <td>151.00</td>\n",
       "    </tr>\n",
       "    <tr>\n",
       "      <th>121964</th>\n",
       "      <td>e2OtfURn342BXVvLFVmu1Q==</td>\n",
       "      <td>2020-12-04</td>\n",
       "      <td>2021-08-03</td>\n",
       "      <td>-34.586271</td>\n",
       "      <td>-58.394474</td>\n",
       "      <td>6.0</td>\n",
       "      <td>4.0</td>\n",
       "      <td>4.0</td>\n",
       "      <td>250.0</td>\n",
       "      <td>250.0</td>\n",
       "      <td>...</td>\n",
       "      <td>Corredor Responsable: Pamela Suárez - CPI 5334...</td>\n",
       "      <td>Otro</td>\n",
       "      <td>venta depto 6 ambientes 2 cocheras fijas recoleta</td>\n",
       "      <td>corredor responsable pamela suarez cpi 5334con...</td>\n",
       "      <td>Recoleta</td>\n",
       "      <td>Recoleta</td>\n",
       "      <td>361.87</td>\n",
       "      <td>339.10</td>\n",
       "      <td>251.13</td>\n",
       "      <td>250.90</td>\n",
       "    </tr>\n",
       "  </tbody>\n",
       "</table>\n",
       "<p>3826 rows × 22 columns</p>\n",
       "</div>"
      ],
      "text/plain": [
       "                              id  start_date    end_date        lat  \\\n",
       "3       +KGGxikZuWylLGEfAS1QQQ==  2020-08-22  2020-09-04 -34.603233   \n",
       "102     PemU7aTq7eOemVs2VhELog==  2021-03-21  2021-08-08 -34.583765   \n",
       "162     9a8rX1nJeJQvLQnThubSgA==  2021-03-21  2021-03-23 -34.604538   \n",
       "249     asQZI0Zh5PP0G5cd/dBLLg==  2021-03-21  2021-06-05 -34.609406   \n",
       "301     uwMVSyXStSbBGCECdHTLRg==  2021-03-21  2021-06-05 -34.634389   \n",
       "...                          ...         ...         ...        ...   \n",
       "121910  4MUVmvijBYcyNmJ9XPNJfw==  2020-12-04  2020-12-30 -34.594509   \n",
       "121911  YK2Ith6/v1ejgsxOeBy5Yg==  2020-12-04  2020-12-30 -34.594509   \n",
       "121942  BHYBAC9cJaTbCILCLCusuA==  2020-12-04  2021-02-17 -34.591076   \n",
       "121957  kEVQxU5Mw3p5L8BVuRdP6Q==  2020-12-04  9999-12-31 -34.587736   \n",
       "121964  e2OtfURn342BXVvLFVmu1Q==  2020-12-04  2021-08-03 -34.586271   \n",
       "\n",
       "              lon  rooms  bedrooms  bathrooms  surface_total  surface_covered  \\\n",
       "3      -58.385218    1.0       0.0        1.0            NaN             12.0   \n",
       "102    -58.438449    4.0       2.0        1.0           59.0             51.0   \n",
       "162    -58.424956    1.0       NaN        1.0           93.0             55.0   \n",
       "249    -58.362788    2.0       1.0        1.0            NaN             34.0   \n",
       "301    -58.439524    7.0       3.0        5.0          251.0            188.0   \n",
       "...           ...    ...       ...        ...            ...              ...   \n",
       "121910 -58.413244    4.0       3.0        1.0           63.0             52.0   \n",
       "121911 -58.413244    4.0       3.0        1.0           63.0             52.0   \n",
       "121942 -58.398509    4.0       3.0        1.0           61.0             55.0   \n",
       "121957 -58.417551    5.0       3.0        2.0          568.0            452.0   \n",
       "121964 -58.394474    6.0       4.0        4.0          250.0            250.0   \n",
       "\n",
       "        ...                                        description  \\\n",
       "3       ...  VENTA DE OFICINA A METROS DEL PALACIO DE TRIBU...   \n",
       "102     ...  Corredor Responsable: MAURO MARVISI - CPI 1762...   \n",
       "162     ...               Departamento monoambiente al frente.   \n",
       "249     ...  Las mejores vistas de Puerto Madero, el barrio...   \n",
       "301     ...  EXTRAORDINARIO DUPLEX EN ALTURA FRENTE AL PARQ...   \n",
       "...     ...                                                ...   \n",
       "121910  ...  Luminoso departamento de tres ambientes al fre...   \n",
       "121911  ...  Luminoso departamento de tres ambientes al fre...   \n",
       "121942  ...  <br><br>Corredor interviniente CABA y PBA : Ju...   \n",
       "121957  ...  Casona señorial declarada Patrimonio Histórico...   \n",
       "121964  ...  Corredor Responsable: Pamela Suárez - CPI 5334...   \n",
       "\n",
       "          property_type                                      title_cleaned  \\\n",
       "3               Oficina                                oficina san nicolas   \n",
       "102        Departamento        venta dpto tres ambientes palermo hollywood   \n",
       "162        Departamento                         departamento almagro norte   \n",
       "249        Departamento                   venta departamento puerto madero   \n",
       "301        Departamento                      departamento parque chacabuco   \n",
       "...                 ...                                                ...   \n",
       "121910          Oficina          4 ambientes billinghurst al 1300 recoleta   \n",
       "121911          Oficina          4 ambientes billinghurst al 1300 recoleta   \n",
       "121942     Departamento                              departamento recoleta   \n",
       "121957  Local comercial                                       casa palermo   \n",
       "121964             Otro  venta depto 6 ambientes 2 cocheras fijas recoleta   \n",
       "\n",
       "                                      description_cleaned           l3_norm  \\\n",
       "3       venta de oficina a metros del palacio de tribu...       San Nicolas   \n",
       "102     corredor responsable mauro marvisi cpi 1762 cs...           Palermo   \n",
       "162                   departamento monoambiente al frente           Almagro   \n",
       "249     las mejores vistas de puerto madero el barrio ...     Puerto Madero   \n",
       "301     extraordinario duplex en altura frente al parq...  Parque Chacabuco   \n",
       "...                                                   ...               ...   \n",
       "121910  luminoso departamento de tres ambientes al fre...          Recoleta   \n",
       "121911  luminoso departamento de tres ambientes al fre...      Barrio Norte   \n",
       "121942  br br corredor interviniente caba y pba juan p...          Recoleta   \n",
       "121957  casona senorial declarada patrimonio historico...           Palermo   \n",
       "121964  corredor responsable pamela suarez cpi 5334con...          Recoleta   \n",
       "\n",
       "                l4_nuevo p99_surface_total p99_surface_covered  \\\n",
       "3            San Nicolas            240.64              462.68   \n",
       "102              Palermo            390.00              320.00   \n",
       "162              Almagro             70.00               52.92   \n",
       "249        Puerto Madero            154.26              153.00   \n",
       "301     Parque Chacabuco            249.52              187.18   \n",
       "...                  ...               ...                 ...   \n",
       "121910          Recoleta            133.58              123.55   \n",
       "121911      Barrio Norte            148.00              138.20   \n",
       "121942          Recoleta            345.30              299.30   \n",
       "121957           Palermo            559.90              449.40   \n",
       "121964          Recoleta            361.87              339.10   \n",
       "\n",
       "        p01_surface_total  p01_surface_covered  \n",
       "3                   17.00                16.00  \n",
       "102                 65.00                61.00  \n",
       "162                 18.00                18.00  \n",
       "249                 47.00                42.00  \n",
       "301                170.14               147.00  \n",
       "...                   ...                  ...  \n",
       "121910              58.70                52.90  \n",
       "121911              63.30                52.48  \n",
       "121942              70.00                64.00  \n",
       "121957             170.00               151.00  \n",
       "121964             251.13               250.90  \n",
       "\n",
       "[3826 rows x 22 columns]"
      ]
     },
     "execution_count": 45,
     "metadata": {},
     "output_type": "execute_result"
    }
   ],
   "source": [
    "# Registros con un outlier en surface_covered\n",
    "data[(data['surface_covered'] > data['p99_surface_covered']) | (data['surface_covered'] < data['p01_surface_covered'])]"
   ]
  },
  {
   "cell_type": "code",
   "execution_count": 46,
   "metadata": {},
   "outputs": [],
   "source": [
    "#Eliminación de registros con 2 precios outliers\n",
    "data = data[(data['surface_total'] < data['p99_surface_total']) & (data['surface_total'] > data['p01_surface_total']) & (data['surface_covered'] < data['p99_surface_covered']) & (data['surface_covered'] > data['p01_surface_covered'])]"
   ]
  },
  {
   "cell_type": "code",
   "execution_count": 47,
   "metadata": {},
   "outputs": [
    {
     "data": {
      "text/html": [
       "<div>\n",
       "<style scoped>\n",
       "    .dataframe tbody tr th:only-of-type {\n",
       "        vertical-align: middle;\n",
       "    }\n",
       "\n",
       "    .dataframe tbody tr th {\n",
       "        vertical-align: top;\n",
       "    }\n",
       "\n",
       "    .dataframe thead th {\n",
       "        text-align: right;\n",
       "    }\n",
       "</style>\n",
       "<table border=\"1\" class=\"dataframe\">\n",
       "  <thead>\n",
       "    <tr style=\"text-align: right;\">\n",
       "      <th></th>\n",
       "      <th>id</th>\n",
       "      <th>start_date</th>\n",
       "      <th>end_date</th>\n",
       "      <th>lat</th>\n",
       "      <th>lon</th>\n",
       "      <th>rooms</th>\n",
       "      <th>bedrooms</th>\n",
       "      <th>bathrooms</th>\n",
       "      <th>surface_total</th>\n",
       "      <th>surface_covered</th>\n",
       "      <th>...</th>\n",
       "      <th>description</th>\n",
       "      <th>property_type</th>\n",
       "      <th>title_cleaned</th>\n",
       "      <th>description_cleaned</th>\n",
       "      <th>l3_norm</th>\n",
       "      <th>l4_nuevo</th>\n",
       "      <th>p99_surface_total</th>\n",
       "      <th>p99_surface_covered</th>\n",
       "      <th>p01_surface_total</th>\n",
       "      <th>p01_surface_covered</th>\n",
       "    </tr>\n",
       "  </thead>\n",
       "  <tbody>\n",
       "  </tbody>\n",
       "</table>\n",
       "<p>0 rows × 22 columns</p>\n",
       "</div>"
      ],
      "text/plain": [
       "Empty DataFrame\n",
       "Columns: [id, start_date, end_date, lat, lon, rooms, bedrooms, bathrooms, surface_total, surface_covered, price, title, description, property_type, title_cleaned, description_cleaned, l3_norm, l4_nuevo, p99_surface_total, p99_surface_covered, p01_surface_total, p01_surface_covered]\n",
       "Index: []\n",
       "\n",
       "[0 rows x 22 columns]"
      ]
     },
     "execution_count": 47,
     "metadata": {},
     "output_type": "execute_result"
    }
   ],
   "source": [
    "# Registros con un outlier en surface_covered\n",
    "data[(data['surface_covered'] > data['p99_surface_covered']) | (data['surface_covered'] < data['p01_surface_covered'])]"
   ]
  },
  {
   "cell_type": "code",
   "execution_count": 48,
   "metadata": {},
   "outputs": [
    {
     "data": {
      "text/html": [
       "<div>\n",
       "<style scoped>\n",
       "    .dataframe tbody tr th:only-of-type {\n",
       "        vertical-align: middle;\n",
       "    }\n",
       "\n",
       "    .dataframe tbody tr th {\n",
       "        vertical-align: top;\n",
       "    }\n",
       "\n",
       "    .dataframe thead th {\n",
       "        text-align: right;\n",
       "    }\n",
       "</style>\n",
       "<table border=\"1\" class=\"dataframe\">\n",
       "  <thead>\n",
       "    <tr style=\"text-align: right;\">\n",
       "      <th></th>\n",
       "      <th>id</th>\n",
       "      <th>start_date</th>\n",
       "      <th>end_date</th>\n",
       "      <th>lat</th>\n",
       "      <th>lon</th>\n",
       "      <th>rooms</th>\n",
       "      <th>bedrooms</th>\n",
       "      <th>bathrooms</th>\n",
       "      <th>surface_total</th>\n",
       "      <th>surface_covered</th>\n",
       "      <th>...</th>\n",
       "      <th>description</th>\n",
       "      <th>property_type</th>\n",
       "      <th>title_cleaned</th>\n",
       "      <th>description_cleaned</th>\n",
       "      <th>l3_norm</th>\n",
       "      <th>l4_nuevo</th>\n",
       "      <th>p99_surface_total</th>\n",
       "      <th>p99_surface_covered</th>\n",
       "      <th>p01_surface_total</th>\n",
       "      <th>p01_surface_covered</th>\n",
       "    </tr>\n",
       "  </thead>\n",
       "  <tbody>\n",
       "  </tbody>\n",
       "</table>\n",
       "<p>0 rows × 22 columns</p>\n",
       "</div>"
      ],
      "text/plain": [
       "Empty DataFrame\n",
       "Columns: [id, start_date, end_date, lat, lon, rooms, bedrooms, bathrooms, surface_total, surface_covered, price, title, description, property_type, title_cleaned, description_cleaned, l3_norm, l4_nuevo, p99_surface_total, p99_surface_covered, p01_surface_total, p01_surface_covered]\n",
       "Index: []\n",
       "\n",
       "[0 rows x 22 columns]"
      ]
     },
     "execution_count": 48,
     "metadata": {},
     "output_type": "execute_result"
    }
   ],
   "source": [
    "# Registros con un outlier en surface_total\n",
    "data[(data['surface_total'] > data['p99_surface_total']) | (data['surface_total'] < data['p01_surface_total'])]"
   ]
  },
  {
   "cell_type": "code",
   "execution_count": 49,
   "metadata": {},
   "outputs": [],
   "source": [
    "#Paso a NA el registro outlier de surface_total o surface_covered\n",
    "data['surface_total'] = np.where((data['surface_total'] > data['p99_surface_total']) | (data['surface_total'] < data['p01_surface_total']), np.nan, data['surface_total'])\n",
    "data['surface_covered'] = np.where((data['surface_covered'] > data['p99_surface_covered']) | (data['surface_covered'] < data['p01_surface_covered']), np.nan, data['surface_covered'])\n",
    "#Dropeo columnas accesorias\n",
    "data = data.drop(columns= ['p99_surface_total', 'p01_surface_total', 'p99_surface_covered', 'p01_surface_covered'], axis = 1)"
   ]
  },
  {
   "cell_type": "code",
   "execution_count": 50,
   "metadata": {},
   "outputs": [
    {
     "data": {
      "text/plain": [
       "id                         0\n",
       "start_date                 0\n",
       "end_date                   0\n",
       "lat                        0\n",
       "lon                        0\n",
       "rooms                      0\n",
       "bedrooms               14665\n",
       "bathrooms               4959\n",
       "surface_total              0\n",
       "surface_covered            0\n",
       "price                      0\n",
       "title                      0\n",
       "description                0\n",
       "property_type              0\n",
       "title_cleaned              0\n",
       "description_cleaned        0\n",
       "l3_norm                    0\n",
       "l4_nuevo                   0\n",
       "dtype: int64"
      ]
     },
     "execution_count": 50,
     "metadata": {},
     "output_type": "execute_result"
    }
   ],
   "source": [
    "data.isnull().sum()"
   ]
  },
  {
   "cell_type": "code",
   "execution_count": 51,
   "metadata": {},
   "outputs": [
    {
     "data": {
      "text/plain": [
       "(100311, 18)"
      ]
     },
     "execution_count": 51,
     "metadata": {},
     "output_type": "execute_result"
    }
   ],
   "source": [
    "data.shape"
   ]
  },
  {
   "cell_type": "markdown",
   "metadata": {},
   "source": [
    "En caso que los dos valores de 'surface_covered' y 'surface_total' fueran outliers o uno outlier y el otro NaN se borró la fila"
   ]
  },
  {
   "cell_type": "code",
   "execution_count": 52,
   "metadata": {},
   "outputs": [],
   "source": [
    "data = data.dropna(subset=['surface_covered', 'surface_total'], how='all')"
   ]
  },
  {
   "cell_type": "code",
   "execution_count": 53,
   "metadata": {},
   "outputs": [
    {
     "data": {
      "text/plain": [
       "(100311, 18)"
      ]
     },
     "execution_count": 53,
     "metadata": {},
     "output_type": "execute_result"
    }
   ],
   "source": [
    "data.shape"
   ]
  },
  {
   "cell_type": "markdown",
   "metadata": {},
   "source": [
    "6.  Si para una fila uno de los valores de ['rooms', bedrooms'] contiene valor outlier y el otro no es outlier, se le imputó un NaN al dato outlier y se dejó dicho valor para ser imputado luego, si corresponde. En caso que los dos valores fueran outliers o uno outlier y el otro NaN se borró la fila."
   ]
  },
  {
   "cell_type": "code",
   "execution_count": 54,
   "metadata": {},
   "outputs": [
    {
     "data": {
      "text/plain": [
       "property_type  rooms\n",
       "Casa           1.0       75\n",
       "               2.0      322\n",
       "               3.0      488\n",
       "               4.0      856\n",
       "               5.0      751\n",
       "                       ... \n",
       "PH             5.0      687\n",
       "               6.0      141\n",
       "               7.0       24\n",
       "               8.0       13\n",
       "               10.0       3\n",
       "Length: 64, dtype: int64"
      ]
     },
     "execution_count": 54,
     "metadata": {},
     "output_type": "execute_result"
    }
   ],
   "source": [
    "data.groupby(['property_type','rooms']).size()"
   ]
  },
  {
   "cell_type": "code",
   "execution_count": 55,
   "metadata": {},
   "outputs": [
    {
     "data": {
      "text/plain": [
       "property_type    bedrooms\n",
       "Casa              1.0           22\n",
       "                  2.0          231\n",
       "                  3.0          912\n",
       "                  4.0          618\n",
       "                  5.0          141\n",
       "                  6.0           29\n",
       "                  7.0            8\n",
       "                  8.0            1\n",
       "Cochera           0.0          830\n",
       "Departamento     -1.0            1\n",
       "                  1.0        28476\n",
       "                  2.0        21918\n",
       "                  3.0        13356\n",
       "                  4.0         3015\n",
       "                  5.0          474\n",
       "                  6.0           77\n",
       "                  7.0           19\n",
       "                  8.0           12\n",
       "                  9.0            2\n",
       "                  10.0           1\n",
       "Depósito          0.0          329\n",
       "Local comercial   0.0         3472\n",
       "                  1.0           17\n",
       "                  2.0            3\n",
       "                  3.0            2\n",
       "                  8.0            1\n",
       "Lote             -2.0            1\n",
       "                  0.0          637\n",
       "                  1.0            1\n",
       "                  2.0            4\n",
       "                  3.0            5\n",
       "                  4.0            5\n",
       "Oficina           0.0         3300\n",
       "                  1.0          178\n",
       "                  2.0           60\n",
       "                  3.0           47\n",
       "                  4.0           32\n",
       "                  5.0           11\n",
       "                  6.0            8\n",
       "                  7.0            3\n",
       "                  8.0            1\n",
       "                  9.0            1\n",
       "Otro              0.0          403\n",
       "                  1.0            2\n",
       "                  2.0            4\n",
       "                  3.0           34\n",
       "                  4.0            6\n",
       "                  5.0            1\n",
       "PH                1.0         1372\n",
       "                  2.0         2974\n",
       "                  3.0         1951\n",
       "                  4.0          538\n",
       "                  5.0           79\n",
       "                  6.0           12\n",
       "                  7.0            7\n",
       "                  8.0            1\n",
       "                  9.0            1\n",
       "dtype: int64"
      ]
     },
     "execution_count": 55,
     "metadata": {},
     "output_type": "execute_result"
    }
   ],
   "source": [
    "data.groupby(['property_type','bedrooms']).size()"
   ]
  },
  {
   "cell_type": "markdown",
   "metadata": {},
   "source": [
    "7. Se imputan con 1 los registros con valor negativo de bedrooms"
   ]
  },
  {
   "cell_type": "code",
   "execution_count": 56,
   "metadata": {},
   "outputs": [],
   "source": [
    "data['bedrooms'] = np.where(data['bedrooms']<0, 1, data['bedrooms'])"
   ]
  },
  {
   "cell_type": "code",
   "execution_count": 57,
   "metadata": {},
   "outputs": [
    {
     "data": {
      "text/plain": [
       "property_type    bedrooms\n",
       "Casa             1.0            22\n",
       "                 2.0           231\n",
       "                 3.0           912\n",
       "                 4.0           618\n",
       "                 5.0           141\n",
       "                 6.0            29\n",
       "                 7.0             8\n",
       "                 8.0             1\n",
       "Cochera          0.0           830\n",
       "Departamento     1.0         28477\n",
       "                 2.0         21918\n",
       "                 3.0         13356\n",
       "                 4.0          3015\n",
       "                 5.0           474\n",
       "                 6.0            77\n",
       "                 7.0            19\n",
       "                 8.0            12\n",
       "                 9.0             2\n",
       "                 10.0            1\n",
       "Depósito         0.0           329\n",
       "Local comercial  0.0          3472\n",
       "                 1.0            17\n",
       "                 2.0             3\n",
       "                 3.0             2\n",
       "                 8.0             1\n",
       "Lote             0.0           637\n",
       "                 1.0             2\n",
       "                 2.0             4\n",
       "                 3.0             5\n",
       "                 4.0             5\n",
       "Oficina          0.0          3300\n",
       "                 1.0           178\n",
       "                 2.0            60\n",
       "                 3.0            47\n",
       "                 4.0            32\n",
       "                 5.0            11\n",
       "                 6.0             8\n",
       "                 7.0             3\n",
       "                 8.0             1\n",
       "                 9.0             1\n",
       "Otro             0.0           403\n",
       "                 1.0             2\n",
       "                 2.0             4\n",
       "                 3.0            34\n",
       "                 4.0             6\n",
       "                 5.0             1\n",
       "PH               1.0          1372\n",
       "                 2.0          2974\n",
       "                 3.0          1951\n",
       "                 4.0           538\n",
       "                 5.0            79\n",
       "                 6.0            12\n",
       "                 7.0             7\n",
       "                 8.0             1\n",
       "                 9.0             1\n",
       "dtype: int64"
      ]
     },
     "execution_count": 57,
     "metadata": {},
     "output_type": "execute_result"
    }
   ],
   "source": [
    "data.groupby(['property_type','bedrooms']).size()"
   ]
  },
  {
   "cell_type": "markdown",
   "metadata": {},
   "source": [
    "8. Se borraron los valores outliers de price agrupados por barrio, tipo de propiedad y cuartos"
   ]
  },
  {
   "cell_type": "code",
   "execution_count": 58,
   "metadata": {},
   "outputs": [],
   "source": [
    "data_pr = data[['l3_norm', 'property_type', 'price', 'rooms']]\n",
    "data_pr_q99 = data_pr.groupby(['l3_norm', 'property_type', 'rooms']).quantile(.99)\n",
    "data_pr_q99.rename(columns = {'price':'p99_price'}, inplace = True)\n",
    "data_pr_q01 = data_pr.groupby(['l3_norm', 'property_type', 'rooms']).quantile(.01)\n",
    "data_pr_q01.rename(columns = {'price':'p01_price'}, inplace = True)\n",
    "data = data.merge(data_pr_q99, how = \"left\", on = (['l3_norm', 'property_type', 'rooms']))\n",
    "data = data.merge(data_pr_q01, how = \"left\", on = (['l3_norm', 'property_type', 'rooms']))\n",
    "#Eliminamos precios outliers\n",
    "data = data[(data['price']< data['p99_price']) & (data['price'] > data['p01_price'])]"
   ]
  },
  {
   "cell_type": "markdown",
   "metadata": {},
   "source": [
    "9. Se imputó la variable `bathrooms` según el tipo de propiedad y la cantidad de ambientes"
   ]
  },
  {
   "cell_type": "code",
   "execution_count": 59,
   "metadata": {},
   "outputs": [],
   "source": [
    "df = data \n",
    "index_orig= df.index"
   ]
  },
  {
   "cell_type": "code",
   "execution_count": 60,
   "metadata": {
    "scrolled": true
   },
   "outputs": [
    {
     "data": {
      "text/html": [
       "<div>\n",
       "<style scoped>\n",
       "    .dataframe tbody tr th:only-of-type {\n",
       "        vertical-align: middle;\n",
       "    }\n",
       "\n",
       "    .dataframe tbody tr th {\n",
       "        vertical-align: top;\n",
       "    }\n",
       "\n",
       "    .dataframe thead th {\n",
       "        text-align: right;\n",
       "    }\n",
       "</style>\n",
       "<table border=\"1\" class=\"dataframe\">\n",
       "  <thead>\n",
       "    <tr style=\"text-align: right;\">\n",
       "      <th></th>\n",
       "      <th>rooms</th>\n",
       "      <th>property_type</th>\n",
       "      <th>bathrooms_med</th>\n",
       "    </tr>\n",
       "  </thead>\n",
       "  <tbody>\n",
       "    <tr>\n",
       "      <th>0</th>\n",
       "      <td>0.0</td>\n",
       "      <td>Cochera</td>\n",
       "      <td>1.0</td>\n",
       "    </tr>\n",
       "    <tr>\n",
       "      <th>1</th>\n",
       "      <td>0.0</td>\n",
       "      <td>Depósito</td>\n",
       "      <td>3.0</td>\n",
       "    </tr>\n",
       "    <tr>\n",
       "      <th>2</th>\n",
       "      <td>0.0</td>\n",
       "      <td>Local comercial</td>\n",
       "      <td>1.0</td>\n",
       "    </tr>\n",
       "    <tr>\n",
       "      <th>3</th>\n",
       "      <td>0.0</td>\n",
       "      <td>Lote</td>\n",
       "      <td>2.0</td>\n",
       "    </tr>\n",
       "    <tr>\n",
       "      <th>4</th>\n",
       "      <td>0.0</td>\n",
       "      <td>Oficina</td>\n",
       "      <td>2.0</td>\n",
       "    </tr>\n",
       "    <tr>\n",
       "      <th>5</th>\n",
       "      <td>0.0</td>\n",
       "      <td>Otro</td>\n",
       "      <td>2.0</td>\n",
       "    </tr>\n",
       "    <tr>\n",
       "      <th>6</th>\n",
       "      <td>1.0</td>\n",
       "      <td>Casa</td>\n",
       "      <td>1.0</td>\n",
       "    </tr>\n",
       "    <tr>\n",
       "      <th>7</th>\n",
       "      <td>1.0</td>\n",
       "      <td>Departamento</td>\n",
       "      <td>1.0</td>\n",
       "    </tr>\n",
       "    <tr>\n",
       "      <th>8</th>\n",
       "      <td>1.0</td>\n",
       "      <td>Local comercial</td>\n",
       "      <td>1.0</td>\n",
       "    </tr>\n",
       "    <tr>\n",
       "      <th>9</th>\n",
       "      <td>1.0</td>\n",
       "      <td>Lote</td>\n",
       "      <td>1.0</td>\n",
       "    </tr>\n",
       "    <tr>\n",
       "      <th>10</th>\n",
       "      <td>1.0</td>\n",
       "      <td>Oficina</td>\n",
       "      <td>1.0</td>\n",
       "    </tr>\n",
       "    <tr>\n",
       "      <th>11</th>\n",
       "      <td>1.0</td>\n",
       "      <td>PH</td>\n",
       "      <td>1.0</td>\n",
       "    </tr>\n",
       "    <tr>\n",
       "      <th>12</th>\n",
       "      <td>2.0</td>\n",
       "      <td>Casa</td>\n",
       "      <td>1.0</td>\n",
       "    </tr>\n",
       "    <tr>\n",
       "      <th>13</th>\n",
       "      <td>2.0</td>\n",
       "      <td>Departamento</td>\n",
       "      <td>1.0</td>\n",
       "    </tr>\n",
       "    <tr>\n",
       "      <th>14</th>\n",
       "      <td>2.0</td>\n",
       "      <td>Local comercial</td>\n",
       "      <td>1.0</td>\n",
       "    </tr>\n",
       "    <tr>\n",
       "      <th>15</th>\n",
       "      <td>2.0</td>\n",
       "      <td>Oficina</td>\n",
       "      <td>1.0</td>\n",
       "    </tr>\n",
       "    <tr>\n",
       "      <th>16</th>\n",
       "      <td>2.0</td>\n",
       "      <td>PH</td>\n",
       "      <td>1.0</td>\n",
       "    </tr>\n",
       "    <tr>\n",
       "      <th>17</th>\n",
       "      <td>3.0</td>\n",
       "      <td>Casa</td>\n",
       "      <td>2.0</td>\n",
       "    </tr>\n",
       "    <tr>\n",
       "      <th>18</th>\n",
       "      <td>3.0</td>\n",
       "      <td>Departamento</td>\n",
       "      <td>1.0</td>\n",
       "    </tr>\n",
       "    <tr>\n",
       "      <th>19</th>\n",
       "      <td>3.0</td>\n",
       "      <td>Local comercial</td>\n",
       "      <td>2.0</td>\n",
       "    </tr>\n",
       "    <tr>\n",
       "      <th>20</th>\n",
       "      <td>3.0</td>\n",
       "      <td>Oficina</td>\n",
       "      <td>1.0</td>\n",
       "    </tr>\n",
       "    <tr>\n",
       "      <th>21</th>\n",
       "      <td>3.0</td>\n",
       "      <td>PH</td>\n",
       "      <td>1.0</td>\n",
       "    </tr>\n",
       "    <tr>\n",
       "      <th>22</th>\n",
       "      <td>4.0</td>\n",
       "      <td>Casa</td>\n",
       "      <td>2.0</td>\n",
       "    </tr>\n",
       "    <tr>\n",
       "      <th>23</th>\n",
       "      <td>4.0</td>\n",
       "      <td>Departamento</td>\n",
       "      <td>2.0</td>\n",
       "    </tr>\n",
       "    <tr>\n",
       "      <th>24</th>\n",
       "      <td>4.0</td>\n",
       "      <td>Oficina</td>\n",
       "      <td>2.0</td>\n",
       "    </tr>\n",
       "    <tr>\n",
       "      <th>25</th>\n",
       "      <td>4.0</td>\n",
       "      <td>Otro</td>\n",
       "      <td>3.0</td>\n",
       "    </tr>\n",
       "    <tr>\n",
       "      <th>26</th>\n",
       "      <td>4.0</td>\n",
       "      <td>PH</td>\n",
       "      <td>2.0</td>\n",
       "    </tr>\n",
       "    <tr>\n",
       "      <th>27</th>\n",
       "      <td>5.0</td>\n",
       "      <td>Casa</td>\n",
       "      <td>2.0</td>\n",
       "    </tr>\n",
       "    <tr>\n",
       "      <th>28</th>\n",
       "      <td>5.0</td>\n",
       "      <td>Departamento</td>\n",
       "      <td>3.0</td>\n",
       "    </tr>\n",
       "    <tr>\n",
       "      <th>29</th>\n",
       "      <td>5.0</td>\n",
       "      <td>Lote</td>\n",
       "      <td>3.0</td>\n",
       "    </tr>\n",
       "    <tr>\n",
       "      <th>30</th>\n",
       "      <td>5.0</td>\n",
       "      <td>Oficina</td>\n",
       "      <td>2.0</td>\n",
       "    </tr>\n",
       "    <tr>\n",
       "      <th>31</th>\n",
       "      <td>5.0</td>\n",
       "      <td>Otro</td>\n",
       "      <td>2.0</td>\n",
       "    </tr>\n",
       "    <tr>\n",
       "      <th>32</th>\n",
       "      <td>5.0</td>\n",
       "      <td>PH</td>\n",
       "      <td>2.0</td>\n",
       "    </tr>\n",
       "    <tr>\n",
       "      <th>33</th>\n",
       "      <td>6.0</td>\n",
       "      <td>Casa</td>\n",
       "      <td>3.0</td>\n",
       "    </tr>\n",
       "    <tr>\n",
       "      <th>34</th>\n",
       "      <td>6.0</td>\n",
       "      <td>Departamento</td>\n",
       "      <td>3.0</td>\n",
       "    </tr>\n",
       "    <tr>\n",
       "      <th>35</th>\n",
       "      <td>6.0</td>\n",
       "      <td>Oficina</td>\n",
       "      <td>2.0</td>\n",
       "    </tr>\n",
       "    <tr>\n",
       "      <th>36</th>\n",
       "      <td>6.0</td>\n",
       "      <td>PH</td>\n",
       "      <td>2.0</td>\n",
       "    </tr>\n",
       "    <tr>\n",
       "      <th>37</th>\n",
       "      <td>7.0</td>\n",
       "      <td>Casa</td>\n",
       "      <td>3.0</td>\n",
       "    </tr>\n",
       "    <tr>\n",
       "      <th>38</th>\n",
       "      <td>7.0</td>\n",
       "      <td>Departamento</td>\n",
       "      <td>3.0</td>\n",
       "    </tr>\n",
       "    <tr>\n",
       "      <th>39</th>\n",
       "      <td>7.0</td>\n",
       "      <td>Oficina</td>\n",
       "      <td>2.0</td>\n",
       "    </tr>\n",
       "    <tr>\n",
       "      <th>40</th>\n",
       "      <td>7.0</td>\n",
       "      <td>Otro</td>\n",
       "      <td>5.0</td>\n",
       "    </tr>\n",
       "    <tr>\n",
       "      <th>41</th>\n",
       "      <td>7.0</td>\n",
       "      <td>PH</td>\n",
       "      <td>2.0</td>\n",
       "    </tr>\n",
       "    <tr>\n",
       "      <th>42</th>\n",
       "      <td>8.0</td>\n",
       "      <td>Casa</td>\n",
       "      <td>4.0</td>\n",
       "    </tr>\n",
       "    <tr>\n",
       "      <th>43</th>\n",
       "      <td>8.0</td>\n",
       "      <td>Departamento</td>\n",
       "      <td>4.0</td>\n",
       "    </tr>\n",
       "    <tr>\n",
       "      <th>44</th>\n",
       "      <td>8.0</td>\n",
       "      <td>Oficina</td>\n",
       "      <td>2.0</td>\n",
       "    </tr>\n",
       "    <tr>\n",
       "      <th>45</th>\n",
       "      <td>8.0</td>\n",
       "      <td>PH</td>\n",
       "      <td>3.0</td>\n",
       "    </tr>\n",
       "    <tr>\n",
       "      <th>46</th>\n",
       "      <td>9.0</td>\n",
       "      <td>Casa</td>\n",
       "      <td>6.0</td>\n",
       "    </tr>\n",
       "    <tr>\n",
       "      <th>47</th>\n",
       "      <td>9.0</td>\n",
       "      <td>Departamento</td>\n",
       "      <td>3.0</td>\n",
       "    </tr>\n",
       "    <tr>\n",
       "      <th>48</th>\n",
       "      <td>9.0</td>\n",
       "      <td>Oficina</td>\n",
       "      <td>2.0</td>\n",
       "    </tr>\n",
       "    <tr>\n",
       "      <th>49</th>\n",
       "      <td>10.0</td>\n",
       "      <td>Casa</td>\n",
       "      <td>7.0</td>\n",
       "    </tr>\n",
       "    <tr>\n",
       "      <th>50</th>\n",
       "      <td>10.0</td>\n",
       "      <td>Departamento</td>\n",
       "      <td>3.0</td>\n",
       "    </tr>\n",
       "    <tr>\n",
       "      <th>51</th>\n",
       "      <td>10.0</td>\n",
       "      <td>Oficina</td>\n",
       "      <td>3.0</td>\n",
       "    </tr>\n",
       "  </tbody>\n",
       "</table>\n",
       "</div>"
      ],
      "text/plain": [
       "    rooms    property_type  bathrooms_med\n",
       "0     0.0          Cochera            1.0\n",
       "1     0.0         Depósito            3.0\n",
       "2     0.0  Local comercial            1.0\n",
       "3     0.0             Lote            2.0\n",
       "4     0.0          Oficina            2.0\n",
       "5     0.0             Otro            2.0\n",
       "6     1.0             Casa            1.0\n",
       "7     1.0     Departamento            1.0\n",
       "8     1.0  Local comercial            1.0\n",
       "9     1.0             Lote            1.0\n",
       "10    1.0          Oficina            1.0\n",
       "11    1.0               PH            1.0\n",
       "12    2.0             Casa            1.0\n",
       "13    2.0     Departamento            1.0\n",
       "14    2.0  Local comercial            1.0\n",
       "15    2.0          Oficina            1.0\n",
       "16    2.0               PH            1.0\n",
       "17    3.0             Casa            2.0\n",
       "18    3.0     Departamento            1.0\n",
       "19    3.0  Local comercial            2.0\n",
       "20    3.0          Oficina            1.0\n",
       "21    3.0               PH            1.0\n",
       "22    4.0             Casa            2.0\n",
       "23    4.0     Departamento            2.0\n",
       "24    4.0          Oficina            2.0\n",
       "25    4.0             Otro            3.0\n",
       "26    4.0               PH            2.0\n",
       "27    5.0             Casa            2.0\n",
       "28    5.0     Departamento            3.0\n",
       "29    5.0             Lote            3.0\n",
       "30    5.0          Oficina            2.0\n",
       "31    5.0             Otro            2.0\n",
       "32    5.0               PH            2.0\n",
       "33    6.0             Casa            3.0\n",
       "34    6.0     Departamento            3.0\n",
       "35    6.0          Oficina            2.0\n",
       "36    6.0               PH            2.0\n",
       "37    7.0             Casa            3.0\n",
       "38    7.0     Departamento            3.0\n",
       "39    7.0          Oficina            2.0\n",
       "40    7.0             Otro            5.0\n",
       "41    7.0               PH            2.0\n",
       "42    8.0             Casa            4.0\n",
       "43    8.0     Departamento            4.0\n",
       "44    8.0          Oficina            2.0\n",
       "45    8.0               PH            3.0\n",
       "46    9.0             Casa            6.0\n",
       "47    9.0     Departamento            3.0\n",
       "48    9.0          Oficina            2.0\n",
       "49   10.0             Casa            7.0\n",
       "50   10.0     Departamento            3.0\n",
       "51   10.0          Oficina            3.0"
      ]
     },
     "execution_count": 60,
     "metadata": {},
     "output_type": "execute_result"
    }
   ],
   "source": [
    "cols = ['rooms','bathrooms', 'property_type']\n",
    "medxprop = df[cols].groupby(['rooms','property_type']).median()#.rename({'bathrooms':'bathrooms_med'},axis=1).round(0)\n",
    "medxprop = medxprop.rename({'bathrooms':'bathrooms_med'},axis=1).round(0)\n",
    "bath_med = medxprop.reset_index()\n",
    "bath_med"
   ]
  },
  {
   "cell_type": "code",
   "execution_count": 61,
   "metadata": {},
   "outputs": [],
   "source": [
    "df = df.merge(bath_med, 'left', on = ['rooms','property_type'])"
   ]
  },
  {
   "cell_type": "code",
   "execution_count": 62,
   "metadata": {},
   "outputs": [],
   "source": [
    "mask = df['bathrooms'].isna()\n",
    "df.loc[mask, 'bathrooms'] = df.loc[mask,'bathrooms_med']"
   ]
  },
  {
   "cell_type": "code",
   "execution_count": 63,
   "metadata": {},
   "outputs": [
    {
     "data": {
      "text/plain": [
       "False    96022\n",
       "Name: bathrooms, dtype: int64"
      ]
     },
     "execution_count": 63,
     "metadata": {},
     "output_type": "execute_result"
    }
   ],
   "source": [
    "# Verificamos que no hay nulls\n",
    "df['bathrooms'].isna().value_counts()"
   ]
  },
  {
   "cell_type": "code",
   "execution_count": 64,
   "metadata": {},
   "outputs": [],
   "source": [
    "df = df.set_index(index_orig)"
   ]
  },
  {
   "cell_type": "code",
   "execution_count": 65,
   "metadata": {},
   "outputs": [],
   "source": [
    "data = df "
   ]
  },
  {
   "cell_type": "markdown",
   "metadata": {},
   "source": [
    "## Resultados de Pre-procesamiento"
   ]
  },
  {
   "cell_type": "markdown",
   "metadata": {},
   "source": [
    "### Columnas"
   ]
  },
  {
   "cell_type": "markdown",
   "metadata": {},
   "source": [
    "Columnas iniciales: "
   ]
  },
  {
   "cell_type": "code",
   "execution_count": 66,
   "metadata": {},
   "outputs": [
    {
     "data": {
      "text/plain": [
       "Index(['id', 'ad_type', 'start_date', 'end_date', 'created_on', 'lat', 'lon',\n",
       "       'l1', 'l2', 'l3', 'l4', 'l5', 'l6', 'rooms', 'bedrooms', 'bathrooms',\n",
       "       'surface_total', 'surface_covered', 'price', 'price_period', 'title',\n",
       "       'description', 'property_type', 'operation_type'],\n",
       "      dtype='object')"
      ]
     },
     "execution_count": 66,
     "metadata": {},
     "output_type": "execute_result"
    }
   ],
   "source": [
    "raw_df.columns"
   ]
  },
  {
   "cell_type": "markdown",
   "metadata": {},
   "source": [
    "Columnas a exportar por este script:"
   ]
  },
  {
   "cell_type": "code",
   "execution_count": 67,
   "metadata": {},
   "outputs": [
    {
     "data": {
      "text/plain": [
       "Index(['id', 'start_date', 'end_date', 'lat', 'lon', 'rooms', 'bedrooms',\n",
       "       'bathrooms', 'surface_total', 'surface_covered', 'price', 'title',\n",
       "       'description', 'property_type', 'title_cleaned', 'description_cleaned',\n",
       "       'l3_norm', 'l4_nuevo', 'p99_price', 'p01_price', 'bathrooms_med'],\n",
       "      dtype='object')"
      ]
     },
     "execution_count": 67,
     "metadata": {},
     "output_type": "execute_result"
    }
   ],
   "source": [
    "data.columns"
   ]
  },
  {
   "cell_type": "markdown",
   "metadata": {},
   "source": [
    "### Filas"
   ]
  },
  {
   "cell_type": "markdown",
   "metadata": {},
   "source": [
    "#### Imputación de datos faltantes"
   ]
  },
  {
   "cell_type": "markdown",
   "metadata": {},
   "source": [
    "El dataset presentaba una gran cantidad de datos faltantes "
   ]
  },
  {
   "cell_type": "code",
   "execution_count": 68,
   "metadata": {},
   "outputs": [
    {
     "data": {
      "text/plain": [
       "id                      0\n",
       "ad_type                 0\n",
       "start_date              0\n",
       "end_date                0\n",
       "created_on              0\n",
       "lat                 11056\n",
       "lon                 11056\n",
       "l1                      0\n",
       "l2                      0\n",
       "l3                   1620\n",
       "l4                 172802\n",
       "l5                 179798\n",
       "l6                 179798\n",
       "rooms               26665\n",
       "bedrooms            48082\n",
       "bathrooms           23855\n",
       "surface_total       60071\n",
       "surface_covered     61528\n",
       "price                   0\n",
       "price_period        94324\n",
       "title                   0\n",
       "description             0\n",
       "property_type           0\n",
       "operation_type          0\n",
       "dtype: int64"
      ]
     },
     "execution_count": 68,
     "metadata": {},
     "output_type": "execute_result"
    }
   ],
   "source": [
    "raw_df.isnull().sum()"
   ]
  },
  {
   "cell_type": "markdown",
   "metadata": {},
   "source": [
    "Más importante aún, todos los registros del dataset poseían al menos un dato faltante, por lo que no existían registros aptos para utilizar en un algoritmo predictivo."
   ]
  },
  {
   "cell_type": "code",
   "execution_count": 77,
   "metadata": {},
   "outputs": [
    {
     "name": "stdout",
     "output_type": "stream",
     "text": [
      "Fueron 179798 los registros con al menos un dato faltante\n"
     ]
    },
    {
     "data": {
      "text/plain": [
       "179798"
      ]
     },
     "execution_count": 77,
     "metadata": {},
     "output_type": "execute_result"
    }
   ],
   "source": [
    "print(f\"Fueron {len(raw_df.isnull().any(axis=1))} los registros con al menos un dato faltante\")"
   ]
  },
  {
   "cell_type": "code",
   "execution_count": 71,
   "metadata": {},
   "outputs": [
    {
     "name": "stdout",
     "output_type": "stream",
     "text": [
      "Fueron 0 los registros iniciales sin Nan\n"
     ]
    }
   ],
   "source": [
    "print(f\"Fueron {len(raw_df.isnull().any(axis=1)) - len(~raw_df.isnull().any(axis=1))} los registros iniciales sin Nan\")\n"
   ]
  },
  {
   "cell_type": "markdown",
   "metadata": {},
   "source": [
    "El proceso de normalización, imputación y selección inicial de features permitió imputar y recuperar el siguiente número de filas "
   ]
  },
  {
   "cell_type": "code",
   "execution_count": 72,
   "metadata": {},
   "outputs": [
    {
     "data": {
      "text/plain": [
       "96022"
      ]
     },
     "execution_count": 72,
     "metadata": {},
     "output_type": "execute_result"
    }
   ],
   "source": [
    "len(data)"
   ]
  },
  {
   "cell_type": "markdown",
   "metadata": {},
   "source": [
    "#### Registros iniciales y finales"
   ]
  },
  {
   "cell_type": "markdown",
   "metadata": {},
   "source": [
    "Filas iniciales:"
   ]
  },
  {
   "cell_type": "code",
   "execution_count": 73,
   "metadata": {},
   "outputs": [
    {
     "data": {
      "text/plain": [
       "179798"
      ]
     },
     "execution_count": 73,
     "metadata": {},
     "output_type": "execute_result"
    }
   ],
   "source": [
    "len(raw_df)"
   ]
  },
  {
   "cell_type": "markdown",
   "metadata": {},
   "source": [
    "Filas a exportar por este script:"
   ]
  },
  {
   "cell_type": "code",
   "execution_count": 74,
   "metadata": {},
   "outputs": [
    {
     "data": {
      "text/plain": [
       "96022"
      ]
     },
     "execution_count": 74,
     "metadata": {},
     "output_type": "execute_result"
    }
   ],
   "source": [
    "len(data)"
   ]
  },
  {
   "cell_type": "markdown",
   "metadata": {},
   "source": [
    "## Exportación"
   ]
  },
  {
   "cell_type": "markdown",
   "metadata": {},
   "source": [
    "Este csv es recuperado por el script de Feature Engineering para generar variables adicionales "
   ]
  },
  {
   "cell_type": "code",
   "execution_count": 75,
   "metadata": {},
   "outputs": [],
   "source": [
    "data.to_csv('resultados/cabaventa_preproc.csv')"
   ]
  },
  {
   "cell_type": "code",
   "execution_count": 76,
   "metadata": {},
   "outputs": [
    {
     "name": "stdout",
     "output_type": "stream",
     "text": [
      "Time execution is 0:02:24.415968\n"
     ]
    }
   ],
   "source": [
    "import datetime\n",
    "end_time = time.time()\n",
    "elapsed = str(datetime.timedelta(seconds=end_time - start_time))\n",
    "print(f\"Time execution is {elapsed}\")"
   ]
  }
 ],
 "metadata": {
  "interpreter": {
   "hash": "112989f40982219f9c2133127490be09f86560db102a13a350eb86b01002b443"
  },
  "kernelspec": {
   "display_name": "Python 3",
   "language": "python",
   "name": "python3"
  },
  "language_info": {
   "codemirror_mode": {
    "name": "ipython",
    "version": 3
   },
   "file_extension": ".py",
   "mimetype": "text/x-python",
   "name": "python",
   "nbconvert_exporter": "python",
   "pygments_lexer": "ipython3",
   "version": "3.8.3"
  }
 },
 "nbformat": 4,
 "nbformat_minor": 5
}
