{
  "nbformat": 4,
  "nbformat_minor": 0,
  "metadata": {
    "colab": {
      "name": "ver si hay outliers rooms y imputacion de bathrooms.ipynb",
      "provenance": []
    },
    "kernelspec": {
      "name": "python3",
      "display_name": "Python 3"
    },
    "language_info": {
      "name": "python"
    }
  },
  "cells": [
    {
      "cell_type": "code",
      "source": [
        "# ACCION REQUERIDA: renombrá el dataset que vengas usando a df asi te sirven todos los otros codigos --> df_Actual_Name\n",
        "df = df_Actual_Name #--> CAMBIAR\n",
        "\n",
        "# guardo y le borro el indice, porque sino se va a romper cuando haga el merge\n",
        "index_orig= df.index.name\n",
        "\n",
        "df = df.reset_index()"
      ],
      "metadata": {
        "id": "X0ol9_0dV4jX"
      },
      "execution_count": null,
      "outputs": []
    },
    {
      "cell_type": "markdown",
      "source": [
        "Para ver si hay outliers en rooms y bedrooms --> al ser un numero entero, se ve facil con un histograma qeu vaya de a 1 --> si hay mas de 20 habitaciones o algo asi"
      ],
      "metadata": {
        "id": "VAc4ZKUp6zkP"
      }
    },
    {
      "cell_type": "code",
      "execution_count": null,
      "metadata": {
        "id": "Vx2IWk3y6UzW"
      },
      "outputs": [],
      "source": [
        "\n",
        "# Vemos la distribución previa a la imputación\n",
        "v1 = df['rooms']\n",
        "v1min = int(min(v1))\n",
        "v1max = int(max(v1))\n",
        "intervalos = range(v1min,v1max,1)\n",
        "\n",
        "# Graficamos histograma, con los intervalos definidos (rango = 1)\n",
        "sb.displot(v1, color='#2F75B5', bins=intervalos, kde=True)\n",
        "plot.xticks(intervalos)\n",
        "plot.show()"
      ]
    },
    {
      "cell_type": "markdown",
      "source": [
        "imputar bathrooms: yo lo hice para imputar bedrooms por cantidad de ambientes --> le pongo la media para esa cantidad, pero se podria hacer aplicar el promedio para \n",
        "\n",
        "Aclaracion: este procedimiento funciona si:\n",
        "\n",
        "*   No hay nulls en property_type\n",
        "*   NO hay nulls en rooms\n",
        "\n",
        "puesto que depende de ambos para poder imputar, y si estan vacios, esas filas no tendra valor para imputar\n",
        "\n"
      ],
      "metadata": {
        "id": "azkqmxsV7FFR"
      }
    },
    {
      "cell_type": "code",
      "source": [
        "# Veo cuales son los valores medios de 'bathroom\" para cada cantidad de ambientes por cada tipo de propiedad --> y lo guardo en un nuevo df llamado 'bath_med'\n",
        "cols = ['rooms','bathrooms', 'property_type']\n",
        "medxprop = df[cols].groupby(['rooms','property_type']).median('bathrooms').rename({'bathrooms':'bathrooms_med'},axis=1).round(0)\n",
        "\n",
        "bath_med = medxprop.reset_index()\n",
        "\n",
        "bath_med"
      ],
      "metadata": {
        "id": "zVReP_-dCJRQ"
      },
      "execution_count": null,
      "outputs": []
    },
    {
      "cell_type": "code",
      "source": [
        "# agrego una nueva columna al df con esa mediana calculada para luego imputar los nulls en bathrooms con ese dato\n",
        "df = df.merge(bath_med, 'left', on = ['rooms','property_type'])\n",
        "\n"
      ],
      "metadata": {
        "id": "NEYiE36DQX0z"
      },
      "execution_count": null,
      "outputs": []
    },
    {
      "cell_type": "code",
      "source": [
        "# imputamos: le asignamos la mediana x tipo y cant. rooms\n",
        "mask = df['bathrooms'].isna()\n",
        "df.loc[mask, 'bathrooms'] = df.loc[mask,'bathrooms_med']"
      ],
      "metadata": {
        "id": "kiBb1al8RBMi"
      },
      "execution_count": null,
      "outputs": []
    },
    {
      "cell_type": "code",
      "source": [
        "# Verificamos que no hay nulls\n",
        "df['bathrooms'].isna().value_counts()"
      ],
      "metadata": {
        "id": "kpNBregfStIS"
      },
      "execution_count": null,
      "outputs": []
    },
    {
      "cell_type": "code",
      "source": [
        "# le volvemos a poner el indice y lo renombramos al nombre previo:\n",
        "df = df.set_index(index_orig)"
      ],
      "metadata": {
        "id": "PMKaqu5AWnHM"
      },
      "execution_count": null,
      "outputs": []
    },
    {
      "cell_type": "code",
      "source": [
        "# ACCION REQUERIDA: volver al nombre original --> df_Actual_Name\n",
        "df_Actual_Name = df #--> CAMBIAR df_Actual_Name"
      ],
      "metadata": {
        "id": "YWdVT127X-2E"
      },
      "execution_count": null,
      "outputs": []
    }
  ]
}